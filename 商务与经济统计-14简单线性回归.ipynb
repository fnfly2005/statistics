{
 "cells": [
  {
   "cell_type": "code",
   "execution_count": null,
   "metadata": {},
   "outputs": [],
   "source": [
    "import pandas as pd\n",
    "import numpy as np\n",
    "from matplotlib import pyplot as plt"
   ]
  },
  {
   "cell_type": "markdown",
   "metadata": {},
   "source": [
    "# 实践中的统计\n",
    "<center>联盟数据系统</center>\n",
    "\n",
    "在飞速发展的客户关系管理行业中，联盟数据系统（ADS）可为顾客提供交易代理、信贷服务和营销服务等一系列服务  \n",
    "作为营销服务的手段之一，ADS设计了直接向顾客邮寄宣传品的促销活动。公司的分析发展部门运用回归分析方法，建立能度量并预测顾客对促销活动反应的模型  \n",
    "一些回归模型预测了顾客收到促销宣传品后购买商品的概率，另一些回归模型则预测了这些顾客购买商品所花费的金额  \n",
    "在某一项特定的促销活动中，零售连锁店的目标是吸引新顾客  \n",
    "为了预测此项促销活动的效果，ADS的分析师从顾客信息数据库中选取了一个样本，向样本顾客对此项活动反馈的数据收集起来并加以处理 5  \n",
    "样本数据不但包括顾客由于促销活动而购买商品的金额，而且还包括各种各样的、有助于预测销售额的顾客特定变量  \n",
    "顾客特定变量是指：顾客在过去39个月里从相关商店中赊购商品的总金额，该变量对预测顾客购买商品的金额将会起到很大的作用  \n",
    "ADS的分析师建立了购买商品的金额将会起到很大作用。ADS的分析师建立了购买商品总金额与过去从相关商店中赊购商品金额之间关系的估计的回归方程   \n",
    "$$\\hat{Y}=26.7+0.00205x$$\n",
    "式中，$\\hat{Y}$代表购买商品的总金额;x代表过去从相关商店中赊购商品的金额 5  \n",
    "利用这一方程，我们能够预测出：一位在过去39个月里从相关商店中赊购了10000美元的顾客，对于直接向他们邮寄宣传品的反应将是消费47.20美元  \n",
    "为了提高前述方程的预测能力，ADS的分析师建立的最终模型还包含一些其他变量。在下一章里，我们将学习如何把这些额外的变量整合到多元回归模型中  \n",
    "管理决策，经常取决于对两个或多个变量之间关系的分析。例如，一位市场销售经理考虑了广告费用和销售收入之间的关系后，才可能尝试去预测一个给定水平的广告费用，能带来多少销售收入  \n",
    "但是，如果能取得数据，我们就能利用统计方法来建立一个表示变量之间相互关系的方程，我们将这一统计方法称为回归分析  \n",
    "在回归术语中，我们把被预测的变量称为**应变量**，把用来预测应变量指的一个或多个变量称为**自变量**。在统计符号上，y代表应变量,x代表自变量 5  \n",
    "在本章中，我们仅仅讨论最简单类型的回归分析，它只包括一个自变量和一个应变量，二者之间的关系可以用一条直线近似表示。这种回归分析被称为**简单线性回归** 5  \n",
    "# 14.1 简单线性回归模型  \n",
    "管理人员确信，这些连锁店的季度销售收入（用y表示）与学生人数（用x表示）是正相关的  \n",
    "## 14.1.1 回归模型和回归方程\n",
    "在Armand比萨连锁店的例子中，总体是由所有的Armand比萨连锁店组成的。对于总体中的每一个连锁店，都有一个x值（学生人数）和一个对应的y值（季度销售收入）  \n",
    "描述y如何依赖x和误差项的方程称为**回归模型**。下面是用于简单线性回归的回归模型  \n",
    "式中,$\\beta_0$和$\\beta_1$称为模型的参数;$\\varepsilon$是一个随机变量，称为模型的误差项。误差项说明了包含在y里面但不能被x和y之间的线性关系解释的变异性  \n",
    "<hr />\n",
    "\n",
    "**简单线性回归方程**（14-1） 5  \n",
    "$$y=\\beta_0+\\beta_1x+\\varepsilon$$\n",
    "<hr />\n",
    "\n",
    "Armand比萨饼连锁店总体还可以视为由若干个子总体组成的集合，每个子总体都对应一个不同的x值  \n",
    "例如，一个子总体是由8000名学生的校园附近的所有armand比萨饼连锁店组成的。另一个子总体是由有9000名学生的校园附近的所有Armand比萨饼连锁店组成的  \n",
    "每一个子总体都对应一个y值分布。y值的每一个分布都有它自己的平均值或期望值。描述y的期望值E(y)如何依赖于x的方程被称为**回归方程**。对于简单线性回归情形，回归方程如下   \n",
    "<hr />\n",
    "\n",
    "**简单线性回归方程**(14-2) 5  \n",
    "$$E(y)=\\beta_0+\\beta_1x$$\n",
    "<hr />\n",
    "\n",
    "简单线性回归方程的图形是一条直线;$\\beta_0$是回归直线的y轴截距，$\\beta_1$是斜率，对于一个给定的x值，E(y)是y的平均值或期望值  \n",
    "对于简单线性回归方程，它所代表的各种可能的回归线的实例如图14-1所示  \n",
    "![14-1](../syn_pic/statistics_for_business_economics/14-1.png)\n",
    "<center>图14-1 在简单线性回归中的各种可能的回归线</center>\n",
    "\n",
    "## 14.1.2 估计的回归方程  \n",
    "如果总体参数$\\beta_0$和$\\beta_1$的值是已知的，那么对于一个给定的x值，我们能利用式（14-2）计算y的平均值 5  \n",
    "遗憾的是，在实际中参数$\\beta_0$和$\\beta_1$的值常常是未知的，我们必须利用样本数据去估计它们  \n",
    "我们计算样本统计量$b_0$和$b_1$作为总体参数$\\beta_0$和$\\beta_1$的估计量。用样本统计量$b_0$和$b_1$替代回归方程中的未知参数$\\beta_0$和$\\beta_1$，我们得到了**估计的回归方程**  \n",
    "对于简单线性回归情形，估计的回归方程如下  \n",
    "<hr />\n",
    "\n",
    "**估计的简单线性回归方程**（14-3）\n",
    "$$\\hat{y}=b_0+b_1x$$\n",
    "<hr />\n",
    "\n",
    "5  \n",
    "估计的简单线性回归方程的图形，称为估计的回归线;$b_0$是y轴截距，$b_1$是斜率。在下一节，我们将说明如何利用最小二乘法计算估计的回归方程中的$b_0$和$b_1$的值  \n",
    "通常，对于x的一个给定值，$\\hat{y}$是y的平均值E(y)的一个点估计。后面我们将会证明，对于x的一个给定值，y的最优估计仍然由$\\hat{y}$给出  \n",
    "对于x的一个给定值,$\\hat{y}$即是y的平均值E(y)的一个点估计值，也是y的一个个别值的点估计值，所以我们简单地把$\\hat{y}$称为y的估计值  \n",
    "对于简单线性估计回归情形，图14-2给出了一个估计步骤的概要  \n",
    "![14-2](../syn_pic/statistics_for_business_economics/14-2.png)\n",
    "<center>图14-2 简单线性回归的估计步骤 5</center>\n",
    "\n",
    "## 注释\n",
    "1. 我们不能把回归分析看做是在变量之间建立一个因果关系的过程。回归分析只能表明，变量是如何或者是以怎样的程度彼此联系在一起的  \n",
    "    变量之间有关因果关系和相互影响的任何结论，必须建立在人们在应用时对大量信息判断的基础上  \n",
    "2. 对于简单线性回归情形，回归方程是$E(y)x=\\beta_0+\\beta_1x$  \n",
    "    在更高级的回归分析教科书中，通常把回归方程写成$E(y|x)=\\beta_0+\\beta_1x$，这种写法强调了对x的一个给定值，回归方程给出的是y的平均值 5  \n",
    "    \n",
    "# 14.2 最小二乘法  \n",
    "**最小二乘法** 是利用样本数据建立估计的回归方程的一种方法。为了说明最小二乘法，假定由位于大学校园附近的10家Armand比萨饼连锁店组成一个样本，并对这个样本采集有关数据  \n",
    "对于样本中的第i个观测值或第i家连锁店，$x_i$表示学生人数（单位：1000人）,$y_i$表示季度销售收入(单位：1000美元)  \n",
    "样本中10家Armand比萨饼连锁店的$x_i$和$y_i$的数值如表14-1所示  \n",
    "<center>表14-1 10加Armand比萨连锁店的学生人数和季度销售收入数据</center>\n"
   ]
  },
  {
   "cell_type": "code",
   "execution_count": null,
   "metadata": {},
   "outputs": [],
   "source": [
    "'''\n",
    "python\tpandas\tInput/Output\tread_csv() usecols\n",
    "python\tpandas\tInput/Output\tread_csv() index_col\n",
    "'''\n",
    "Armand=pd.read_csv('../pydata-book-master/statistics_for_business_economics/ch14/Armand\\'s.csv',index_col=0,usecols=[0,1,2])\n",
    "Armand"
   ]
  },
  {
   "cell_type": "markdown",
   "metadata": {},
   "source": [
    "图14-3是表14-1中数据的散点图。横轴表示学生人数，纵轴表示季度销售收入。根据横轴上自变量x的值和纵轴上应变量y的值，就可以做出回归分析的**散点图** 5  "
   ]
  },
  {
   "cell_type": "code",
   "execution_count": null,
   "metadata": {},
   "outputs": [],
   "source": [
    "'''\n",
    "python\tpandas\tdataframe\td.plot.scatter() c\n",
    "python\tmatplotlib\tPyplot function overview\tylim()\n",
    "python\tmatplotlib\tPyplot function overview\txlim()\n",
    "python\tmatplotlib\tPyplot function overview\tylabel()\n",
    "'''\n",
    "Armand.plot.scatter(x='Population',y='Sales',c='black')\n",
    "plt.ylim(0,240)\n",
    "plt.xlim(0,30)\n",
    "plt.ylabel('Quarterly sales (1000$)')\n",
    "plt.xlabel('population(1000p)')\n",
    "plt.xticks(np.arange(0,30,2))\n",
    "plt.yticks(np.arange(0,240,20))\n",
    "plt.show()"
   ]
  }
 ],
 "metadata": {
  "kernelspec": {
   "display_name": "Python 3",
   "language": "python",
   "name": "python3"
  },
  "language_info": {
   "codemirror_mode": {
    "name": "ipython",
    "version": 3
   },
   "file_extension": ".py",
   "mimetype": "text/x-python",
   "name": "python",
   "nbconvert_exporter": "python",
   "pygments_lexer": "ipython3",
   "version": "3.7.1"
  },
  "toc": {
   "base_numbering": 1,
   "nav_menu": {},
   "number_sections": false,
   "sideBar": true,
   "skip_h1_title": false,
   "title_cell": "Table of Contents",
   "title_sidebar": "Contents",
   "toc_cell": false,
   "toc_position": {},
   "toc_section_display": true,
   "toc_window_display": false
  }
 },
 "nbformat": 4,
 "nbformat_minor": 2
}
