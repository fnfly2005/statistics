{
 "cells": [
  {
   "cell_type": "code",
   "execution_count": null,
   "metadata": {},
   "outputs": [],
   "source": [
    "import pandas as pd\n",
    "import numpy as np\n",
    "from matplotlib import pyplot as plt"
   ]
  },
  {
   "cell_type": "markdown",
   "metadata": {},
   "source": [
    "# 实践中的统计\n",
    "<center>联盟数据系统</center>\n",
    "\n",
    "在飞速发展的客户关系管理行业中，联盟数据系统（ADS）可为顾客提供交易代理、信贷服务和营销服务等一系列服务  \n",
    "作为营销服务的手段之一，ADS设计了直接向顾客邮寄宣传品的促销活动。公司的分析发展部门运用回归分析方法，建立能度量并预测顾客对促销活动反应的模型  \n",
    "一些回归模型预测了顾客收到促销宣传品后购买商品的概率，另一些回归模型则预测了这些顾客购买商品所花费的金额  \n",
    "在某一项特定的促销活动中，零售连锁店的目标是吸引新顾客  \n",
    "为了预测此项促销活动的效果，ADS的分析师从顾客信息数据库中选取了一个样本，向样本顾客对此项活动反馈的数据收集起来并加以处理 5  \n",
    "样本数据不但包括顾客由于促销活动而购买商品的金额，而且还包括各种各样的、有助于预测销售额的顾客特定变量  \n",
    "顾客特定变量是指：顾客在过去39个月里从相关商店中赊购商品的总金额，该变量对预测顾客购买商品的金额将会起到很大的作用  \n",
    "ADS的分析师建立了购买商品的金额将会起到很大作用。ADS的分析师建立了购买商品总金额与过去从相关商店中赊购商品金额之间关系的估计的回归方程   \n",
    "$$\\hat{Y}=26.7+0.00205x$$\n",
    "式中，$\\hat{Y}$代表购买商品的总金额;x代表过去从相关商店中赊购商品的金额 5  \n",
    "利用这一方程，我们能够预测出：一位在过去39个月里从相关商店中赊购了10000美元的顾客，对于直接向他们邮寄宣传品的反应将是消费47.20美元  \n",
    "为了提高前述方程的预测能力，ADS的分析师建立的最终模型还包含一些其他变量。在下一章里，我们将学习如何把这些额外的变量整合到多元回归模型中  \n",
    "管理决策，经常取决于对两个或多个变量之间关系的分析。例如，一位市场销售经理考虑了广告费用和销售收入之间的关系后，才可能尝试去预测一个给定水平的广告费用，能带来多少销售收入  \n",
    "但是，如果能取得数据，我们就能利用统计方法来建立一个表示变量之间相互关系的方程，我们将这一统计方法称为回归分析  \n",
    "在回归术语中，我们把被预测的变量称为**应变量**，把用来预测应变量指的一个或多个变量称为**自变量**。在统计符号上，y代表应变量,x代表自变量 5  \n",
    "在本章中，我们仅仅讨论最简单类型的回归分析，它只包括一个自变量和一个应变量，二者之间的关系可以用一条直线近似表示。这种回归分析被称为**简单线性回归** 5  \n",
    "# 14.1 简单线性回归模型  \n",
    "管理人员确信，这些连锁店的季度销售收入（用y表示）与学生人数（用x表示）是正相关的  \n",
    "## 14.1.1 回归模型和回归方程\n",
    "在Armand比萨连锁店的例子中，总体是由所有的Armand比萨连锁店组成的。对于总体中的每一个连锁店，都有一个x值（学生人数）和一个对应的y值（季度销售收入）  \n",
    "描述y如何依赖x和误差项的方程称为**回归模型**。下面是用于简单线性回归的回归模型  \n",
    "式中,$\\beta_0$和$\\beta_1$称为模型的参数;$\\varepsilon$是一个随机变量，称为模型的误差项。误差项说明了包含在y里面但不能被x和y之间的线性关系解释的变异性  \n",
    "<hr />\n",
    "\n",
    "**简单线性回归方程**（14-1） 5  \n",
    "$$y=\\beta_0+\\beta_1x+\\varepsilon$$\n",
    "<hr />\n",
    "\n",
    "Armand比萨饼连锁店总体还可以视为由若干个子总体组成的集合，每个子总体都对应一个不同的x值  \n",
    "例如，一个子总体是由8000名学生的校园附近的所有armand比萨饼连锁店组成的。另一个子总体是由有9000名学生的校园附近的所有Armand比萨饼连锁店组成的  \n",
    "每一个子总体都对应一个y值分布。y值的每一个分布都有它自己的平均值或期望值。描述y的期望值E(y)如何依赖于x的方程被称为**回归方程**。对于简单线性回归情形，回归方程如下   \n",
    "<hr />\n",
    "\n",
    "**简单线性回归方程**(14-2) 5  \n",
    "$$E(y)=\\beta_0+\\beta_1x$$\n",
    "<hr />\n",
    "\n",
    "简单线性回归方程的图形是一条直线;$\\beta_0$是回归直线的y轴截距，$\\beta_1$是斜率，对于一个给定的x值，E(y)是y的平均值或期望值  \n",
    "对于简单线性回归方程，它所代表的各种可能的回归线的实例如图14-1所示  \n",
    "![14-1](../syn_pic/statistics_for_business_economics/14-1.png)\n",
    "<center>图14-1 在简单线性回归中的各种可能的回归线</center>\n",
    "\n",
    "## 14.1.2 估计的回归方程  \n",
    "如果总体参数$\\beta_0$和$\\beta_1$的值是已知的，那么对于一个给定的x值，我们能利用式（14-2）计算y的平均值 5  \n",
    "遗憾的是，在实际中参数$\\beta_0$和$\\beta_1$的值常常是未知的，我们必须利用样本数据去估计它们  \n",
    "我们计算样本统计量$b_0$和$b_1$作为总体参数$\\beta_0$和$\\beta_1$的估计量。用样本统计量$b_0$和$b_1$替代回归方程中的未知参数$\\beta_0$和$\\beta_1$，我们得到了**估计的回归方程**  \n",
    "对于简单线性回归情形，估计的回归方程如下  \n",
    "<hr />\n",
    "\n",
    "**估计的简单线性回归方程**（14-3）\n",
    "$$\\hat{y}=b_0+b_1x$$\n",
    "<hr />\n",
    "\n",
    "5  \n",
    "估计的简单线性回归方程的图形，称为估计的回归线;$b_0$是y轴截距，$b_1$是斜率。在下一节，我们将说明如何利用最小二乘法计算估计的回归方程中的$b_0$和$b_1$的值  \n",
    "通常，对于x的一个给定值，$\\hat{y}$是y的平均值E(y)的一个点估计。后面我们将会证明，对于x的一个给定值，y的最优估计仍然由$\\hat{y}$给出  \n",
    "对于x的一个给定值,$\\hat{y}$即是y的平均值E(y)的一个点估计值，也是y的一个个别值的点估计值，所以我们简单地把$\\hat{y}$称为y的估计值  \n",
    "对于简单线性估计回归情形，图14-2给出了一个估计步骤的概要  \n",
    "![14-2](../syn_pic/statistics_for_business_economics/14-2.png)\n",
    "<center>图14-2 简单线性回归的估计步骤 5</center>\n",
    "\n",
    "## 注释\n",
    "1. 我们不能把回归分析看做是在变量之间建立一个因果关系的过程。回归分析只能表明，变量是如何或者是以怎样的程度彼此联系在一起的  \n",
    "    变量之间有关因果关系和相互影响的任何结论，必须建立在人们在应用时对大量信息判断的基础上  \n",
    "2. 对于简单线性回归情形，回归方程是$E(y)x=\\beta_0+\\beta_1x$  \n",
    "    在更高级的回归分析教科书中，通常把回归方程写成$E(y|x)=\\beta_0+\\beta_1x$，这种写法强调了对x的一个给定值，回归方程给出的是y的平均值 5  \n",
    "    \n",
    "# 14.2 最小二乘法  \n",
    "**最小二乘法** 是利用样本数据建立估计的回归方程的一种方法。为了说明最小二乘法，假定由位于大学校园附近的10家Armand比萨饼连锁店组成一个样本，并对这个样本采集有关数据  \n",
    "对于样本中的第i个观测值或第i家连锁店，$x_i$表示学生人数（单位：1000人）,$y_i$表示季度销售收入(单位：1000美元)  \n",
    "样本中10家Armand比萨饼连锁店的$x_i$和$y_i$的数值如表14-1所示  \n",
    "<center>表14-1 10加Armand比萨连锁店的学生人数和季度销售收入数据</center>\n"
   ]
  },
  {
   "cell_type": "code",
   "execution_count": null,
   "metadata": {},
   "outputs": [],
   "source": [
    "'''\n",
    "python\tpandas\tInput/Output\tread_csv() usecols\n",
    "python\tpandas\tInput/Output\tread_csv() index_col\n",
    "'''\n",
    "Armand=pd.read_csv('../pydata-book-master/statistics_for_business_economics/ch14/Armand\\'s.csv',index_col=0,usecols=[0,1,2])\n",
    "Armand"
   ]
  },
  {
   "cell_type": "markdown",
   "metadata": {},
   "source": [
    "图14-3是表14-1中数据的散点图。横轴表示学生人数，纵轴表示季度销售收入。根据横轴上自变量x的值和纵轴上应变量y的值，就可以做出回归分析的**散点图** 5  "
   ]
  },
  {
   "cell_type": "code",
   "execution_count": null,
   "metadata": {},
   "outputs": [],
   "source": [
    "'''\n",
    "python\tpandas\tdataframe\td.plot.scatter() c\n",
    "python\tmatplotlib\tPyplot function overview\tylim()\n",
    "python\tmatplotlib\tPyplot function overview\txlim()\n",
    "python\tmatplotlib\tPyplot function overview\tylabel()\n",
    "python\tmatplotlib\tPyplot function overview\txlabel()\n",
    "python\tmatplotlib\tPyplot function overview\txticks()\n",
    "python\tmatplotlib\tPyplot function overview\tyticks()\n",
    "'''\n",
    "Armand.plot.scatter(x='Population',y='Sales',c='black')\n",
    "plt.ylim(0,240)\n",
    "plt.xlim(0,30)\n",
    "plt.ylabel('Quarterly sales (1000$)')\n",
    "plt.xlabel('population(1000p)')\n",
    "plt.xticks(np.arange(0,30,2))\n",
    "plt.yticks(np.arange(0,240,20))\n",
    "plt.show()"
   ]
  },
  {
   "cell_type": "markdown",
   "metadata": {},
   "source": [
    "散点图使我们能从图形上观察数据，并且能对变量间可能存在的关系得出初步的结论  \n",
    "从图14-3我们能得出一些什么样的初步结论呢？实际上，在x和y之间存在一个正向的线性关系，因此我们选择用简单线性回归模型来表示季度销售收入与学生人数之间的关系  \n",
    "对于第i家连锁店，估计的简单线性回归方程是(14-4)  \n",
    "$$\\hat{y}_i=b_0+b_1x_i$$  \n",
    "5  \n",
    "式中，$\\hat{y}_i$代表第i家连锁店季度销售收入的估计值（1000美元）;$b_0$代表估计的回归直线的y轴截距;$b_1$代表估计的回归直线的斜率；$x_i$代表第i家连锁店的学生人数（1000人）  \n",
    "用$y_i$表示第i家连锁店季度销售收入的观测（实际）值，式(14-4)中$\\hat{y}_i$表示第i家连锁店季度销售收入的估计值，样本中的每一家连锁店都将有一个季度销售收入的观测值$y_i$和一个季度销售收入的估计值$\\hat{y}_i$  \n",
    "为了使估计的回归直线能对样本数据有一个好的拟合，我们希望季度销售收入的观测值与估计值之间的差要小  \n",
    "最小二乘法是利用样本数据，通过使应变量的观测值$y_i$与应变量的估计值$\\hat{y}_i$之间的离差平方和达到最小的方法求得$b_0$和$b_1$的值  \n",
    "最小二乘法准则由式(14-5)给出 5  \n",
    "<hr />\n",
    "\n",
    "**最小二乘法准则**（14-5）  \n",
    "$$min\\Sigma(y_i-\\hat{y}_i)^2$$\n",
    "式中，$y_i$代表对于第i次观测，应变量的观测值;$\\hat{y}_i$代表对于第i次观测，应变量的估计值  \n",
    "<hr />\n",
    "\n",
    "微分学可以证明，使式(14-5)达到最小的$b_0$和$b_1$的值能利用式(14-6)和式(14-7)求得  \n",
    "<hr />\n",
    "\n",
    "**估计的回归方程的斜率和y轴截距**（14-6） 5  \n",
    "$$b_1=\\frac{\\Sigma(x_i-\\bar{x})(y_i-\\bar{y})}{\\Sigma(x_i-\\bar{x})^2}$$\n",
    "(14-7)  \n",
    "$$b_0=\\bar{y}-b_1\\bar{x}$$\n",
    "式中，$x_i$代表对于第i次观测，自变量的观测值;$y_i$代表对于第i次观测，应变量的观测值;$\\bar{x}$代表自变量的样本平均值;$\\bar{y}$代表应变量的样本平均值;n代表总观测次数  \n",
    "<hr />\n",
    "\n",
    "在Armand比萨饼连锁店的例子中，应用最小二乘法估计回归方程的一些必要的计算在表14-2中列出  \n",
    "由于样本是由10家Armand比萨饼连锁店组成，所以我们有观测次数n=10  \n",
    "<center>表14-2 Armand比萨饼连锁店的最小二乘法估计的回归方程的计算 5</center>\n"
   ]
  },
  {
   "cell_type": "code",
   "execution_count": null,
   "metadata": {},
   "outputs": [],
   "source": [
    "Population_bar=Armand.mean()[0]\n",
    "Sales_bar=Armand.mean()[1]\n",
    "Armand['PopulationDiff']=Armand['Population'].sub(Population_bar)\n",
    "Armand['SalesDiff']=Armand['Sales'].sub(Sales_bar)\n",
    "Armand['斜率公式分子行']=Armand['PopulationDiff'].mul(Armand['SalesDiff'])\n",
    "Armand['斜率公式分母行']=Armand['PopulationDiff'].pow(2)\n",
    "Armand"
   ]
  },
  {
   "cell_type": "code",
   "execution_count": null,
   "metadata": {},
   "outputs": [],
   "source": [
    "ArmandB1=Armand.sum()[-2]/Armand.sum()[-1]\n",
    "ArmandB1"
   ]
  },
  {
   "cell_type": "code",
   "execution_count": null,
   "metadata": {
    "scrolled": true
   },
   "outputs": [],
   "source": [
    "ArmandB0=Sales_bar-ArmandB1*Population_bar\n",
    "ArmandB0"
   ]
  },
  {
   "cell_type": "markdown",
   "metadata": {},
   "source": [
    "于是，估计的回归方程是$\\hat{y}=60+5x$  \n",
    "这一方程在散点图上的图形，如图14-4所示 5  "
   ]
  },
  {
   "cell_type": "code",
   "execution_count": null,
   "metadata": {},
   "outputs": [],
   "source": [
    "'''\n",
    "python\tpandas\tseries\tpd.Series()\n",
    "python\tpandas\tseries\ts.apply()\n",
    "'''\n",
    "armand_line=pd.Series(np.arange(0,30,2))\n",
    "Armand.plot.scatter(x='Population',y='Sales',c='black')\n",
    "plt.ylim(0,240)\n",
    "plt.xlim(0,30)\n",
    "plt.ylabel('Quarterly sales (1000$)')\n",
    "plt.xlabel('population(1000p)')\n",
    "plt.xticks(armand_line)\n",
    "plt.yticks(np.arange(0,240,20))\n",
    "plt.plot(armand_line,armand_line.apply(lambda x:5*x+60))\n",
    "plt.show()"
   ]
  },
  {
   "cell_type": "markdown",
   "metadata": {},
   "source": [
    "如果我们相信，应用最小二乘法得到的估计的回归方程能充分地描述两个变量x和y之间的关系，那么对于一个已知的x值，利用估计的回归方程去预测y值将被认为是合理的  \n",
    "在下一节，我们将讨论利用估计的回归方程进行估计和预测合理性的评价方法  \n",
    "## 注释   \n",
    "最小二乘法通过使应变量的观测值$y_i$与应变量的估计值$\\hat{y}_i$之间的离差平法和达到最小的方法，得到了估计的回归方程  \n",
    "最小二乘准则就是选择能与样本数据有最佳拟合方程的准则。在实践中，最小二乘法是应用最广泛的方法 5  \n",
    "# 14.3 判定系数\n",
    "对Armand比萨饼连锁店的例子，我们求出了估计的回归方程是$\\hat{y}=60+5x$，并用这个方程作为学生人数x和季度销售收入y之间线性关系的一个近似  \n",
    "在这一节，我们将说明，**判定系数**为估计的回归方程提供了一个拟合优度的度量  \n",
    "对于样本中的第i次观测值，应变量的观测值$y_i$和应变量的估计值$\\hat{y}_i$之间的离差称为**第i个残差**  \n",
    "于是，对于第i次观测值，它的残差是$y_i-\\hat{y}_i$。这些残差或误差的平方和是一个用最小二乘法来极小化的量。这个量也称为误差平方和，记作SSE  \n",
    "在应用估计的回归方程去估计样本中应变量的值时将产生一个误差，SSE的数值就是对这一误差的度量 5  \n",
    "<hr />\n",
    "\n",
    "**误差平方和**（14-8）  \n",
    "$$SSE=\\Sigma(y_i-\\hat{y}_i)^2$$\n",
    "<hr />\n",
    "\n",
    "对于Armand比萨饼连锁店的例子，我们在表14-3给出了计算误差平方和所需要的计算过程  \n",
    "<center>表14-3 Armand比萨饼连锁店SSE的计算</center>\n"
   ]
  },
  {
   "cell_type": "code",
   "execution_count": null,
   "metadata": {},
   "outputs": [],
   "source": [
    "'''\n",
    "5  \n",
    "'''\n",
    "Armand_lv1=Armand.loc[:,['Population','Sales']]\n",
    "Armand_lv1['predicted']=Armand_lv1['Population'].apply(lambda x:60+5*x)\n",
    "Armand_lv1['error']=Armand_lv1['Sales'].sub(Armand_lv1['predicted'])\n",
    "Armand_lv1['errorSquare']=Armand_lv1['error'].pow(2)\n",
    "Armand_lv1"
   ]
  },
  {
   "cell_type": "code",
   "execution_count": null,
   "metadata": {},
   "outputs": [],
   "source": [
    "Armand_sse=Armand_lv1['errorSquare'].sum()\n",
    "Armand_sse"
   ]
  },
  {
   "cell_type": "markdown",
   "metadata": {},
   "source": [
    "于是，对Armand比萨饼连锁店的例子，SSE=1530度量了用估计的回归方程$\\hat{y}=60+5x$预测季度销售收入所产生的误差  \n",
    "现在假定在不知道学生人数的情况下，要求我们给出季度销售收入的一个估计值。在没有任何相关变量信息的情况下，对任意一个给定的连锁店，我们可以利用样本平均值作为这家连锁店季度销售收入的一个估计值  \n",
    "利用样本平均值估计样本中每一家连锁店的季度销售收入将产生离差，这些离差的平方和我们列在表14-4的最后一列。这些离差对应的平方和称为总的平方和，记作SST  \n",
    "<hr />\n",
    "\n",
    "**总的平方和**（14-9） 5  \n",
    "$$SST=\\Sigma(y_i-\\bar{y})^2$$  \n",
    "<hr />\n",
    "\n",
    "在表14-4中，最后一列底部的和就是Armand比萨连锁店例子的总平方和，它是SST=15730  \n",
    "<center>表14-4 Armand比萨饼连锁店SST的计算</center>\n"
   ]
  },
  {
   "cell_type": "code",
   "execution_count": null,
   "metadata": {},
   "outputs": [],
   "source": [
    "Armand_lv2=Armand.loc[:,['Population','Sales']]\n",
    "Armand_lv2['Deviation']=Armand_lv2['Sales'].sub(Armand_lv2['Sales'].mean())\n",
    "Armand_lv2['DeviationSquare']=Armand_lv2['Deviation'].pow(2)\n",
    "Armand_sst=Armand_lv2['DeviationSquare'].sum()\n",
    "Armand_sst"
   ]
  },
  {
   "cell_type": "markdown",
   "metadata": {},
   "source": [
    "在图14-5中，我们给出了估计的回归线$\\hat{y}=60+5x$和对应于$\\hat{y}=130$的直线的图形 5    \n",
    "<center>图14-5 Armand比萨饼连锁店的估计的回归线与直线$y=\\bar{y}$的离差</center>"
   ]
  },
  {
   "cell_type": "code",
   "execution_count": null,
   "metadata": {
    "scrolled": true
   },
   "outputs": [],
   "source": [
    "armand_line=pd.Series(np.arange(0,30,2))\n",
    "Armand.plot.scatter(x='Population',y='Sales',c='black')\n",
    "plt.ylim(0,240)\n",
    "plt.xlim(0,30)\n",
    "plt.ylabel('Quarterly sales (1000$)')\n",
    "plt.xlabel('population(1000p)')\n",
    "plt.xticks(armand_line)\n",
    "plt.yticks(np.arange(0,240,20))\n",
    "plt.plot(armand_line,armand_line.apply(lambda x:5*x+60))\n",
    "plt.plot(armand_line,[130]*len(armand_line))\n",
    "plt.show()"
   ]
  },
  {
   "cell_type": "markdown",
   "metadata": {},
   "source": [
    "从图上我们注意到，样本点集聚在估计的回归线周围比集聚在直线$\\bar{y}=130$周围更紧密  \n",
    "我们可以把SST看作观测值在直线$\\bar{y}=130$周围集聚程度的度量，而把SSE看作观测值在回归线$\\hat{y}=60+5x$周围集聚程度的度量  \n",
    "为了度量在估计的回归线上的$\\hat{y}$值与直线$\\bar{y}$的偏离有多大，我们需要计算另一个平方和。这个平方和称为回归平方和，记作SSR 5  \n",
    "<hr />\n",
    "\n",
    "**回归平方和**（14-10）  \n",
    "$$SSR=\\Sigma(\\hat{y}_i-\\bar{y})^2$$\n",
    "<hr />\n",
    "\n",
    "从上述讨论中，我们应该预期到SST,SSR和SSE三者之间是有联系的。事实上，这三个平方和之间的关系给出了统计学中最重要的一个结果  \n",
    "式（14-11）表明，总的平方和能被分解成两部分，回归平方和与误差平方和。一次，如果已知这三个平方和中的任意两个，都能很容易地计算出第三个平方和    \n",
    "<hr />\n",
    "\n",
    "**SST，SSR和SSE之间的关系**（14-11）  \n",
    "$$SST=SSR+SSE$$  \n",
    "5  \n",
    "式中，SST代表总的平方和;SSR代表回归平方和;SSE代表误差平方和  \n",
    "<hr />\n"
   ]
  },
  {
   "cell_type": "code",
   "execution_count": null,
   "metadata": {},
   "outputs": [],
   "source": [
    "Armand_ssr=Armand_sst-Armand_sse\n",
    "print('我们得到回归平方和是{:.0f}'.format(Armand_ssr))"
   ]
  },
  {
   "cell_type": "markdown",
   "metadata": {},
   "source": [
    "现在让我们看一下，如何利用这三个平方和SST,SSR和SSE为估计的回归方程给出一个拟合优度的度量  \n",
    "如果应变量的每一个值$y_i$都刚好落在估计的回归线上，那么估计的回归方程将给出一个完全的拟合。在这种情况下，对于每一个观测值，$y_i-\\hat{y}_i$将等于零，从而导致SSE=0   \n",
    "因为SST=SSR+SSE，我们看到对于一个完全拟合，SSR必须等于SST，并且比值SSR/SST必须等于1。比较差的拟合将导致SSE的值比较大 5  \n",
    "因此，当SSR=0，从而SSE=SST，这时候SSE的值最大（即最差的拟合）  \n",
    "比值SSR/SST将在0和1之间取值，我们利用这个比值对估计的回归方程的拟合优度做出评估。这个比值称为判定系数，记作$r^2$  \n",
    "<hr />\n",
    "\n",
    "**判定系数**（14-12）  \n",
    "$$r^2=\\frac{SSR}{SST}$$\n",
    "<hr />\n",
    "\n",
    "对于Armand比萨饼连锁店的例子，判定系数的值是 5  "
   ]
  },
  {
   "cell_type": "code",
   "execution_count": null,
   "metadata": {
    "scrolled": true
   },
   "outputs": [],
   "source": [
    "Armand_rS=Armand_ssr/Armand_sst\n",
    "print('判定系数的值是{:.4f}'.format(Armand_rS))"
   ]
  },
  {
   "cell_type": "markdown",
   "metadata": {},
   "source": [
    "如果我们用一个百分数表示判定系数，我们能把$r^2$理解为总平方和中能被估计的回归方程解释的百分比  \n",
    "对于Armand比萨饼连锁店的例子，在用估计的回归方程去预测季度销售收入时，我们能断定，总平方和中的90.27%能被估计的回归方程$\\hat{y}=60+5x$所解释  \n",
    "换句话说，季度销售收入变异性的90.27%能被学生人数和销售收入之间的线性关系所解释。对于估计的回归方程我们应该对得到这样好的一个拟合效果而感到满意  \n",
    "## 相关系数  \n",
    "在第3章中，作为两变量x和y之间线性关系强度的描述性度量，我们介绍了**相关系数**的概念 5  \n",
    "在3.5节中，我们曾经给出过计算样本相关系数的公式。如果我们已经完成了回归分析，并计算出了判定系数$r^2$，那么我们就能用下面的公式计算样本相关系数  \n",
    "<hr />\n",
    "\n",
    "**样本相关系数**（14-13）  \n",
    "$$r_{xy}=(b_1的符号)\\sqrt{判定系数}=(b_1的符号)\\sqrt{r^2}$$\n",
    "式中，$b_1$代表估计的回归方程$\\hat{y}=b_0+b_1x$的斜率\n",
    "<hr />\n",
    "\n",
    "如果估计的回归方程的斜率为正$(b_1>0)$，那么样本相关系数的符号为正;如果估计的回归方程的斜率为负$(b_1<0)$，那么样本相关系数的符号为负 5  \n",
    "对于Armand比萨饼连锁店的例子，对应于估计的回归方程$\\hat{y}=60+5x$，判定系数的数值是0.9027。因为估计的回归方程斜率是正的，所以由式(14-13)，我们得到的样本相关系数是  "
   ]
  },
  {
   "cell_type": "code",
   "execution_count": null,
   "metadata": {
    "scrolled": false
   },
   "outputs": [],
   "source": [
    "print('我们得到的样本相关系数是{:+.4f}'.format(np.sqrt(Armand_rS)))"
   ]
  },
  {
   "cell_type": "markdown",
   "metadata": {},
   "source": [
    "由于样本相关系数$r_{xy}=+0.9501$，所以我们可以得出结论:x和y之间存在强的正向线性关系  \n",
    "在两变量之间存在一个线性关系的情况下，判定系数和样本相关系数都给出了它们之间线性关系强度的度量  \n",
    "虽然，样本相关系数的适用方位被限制在两变量之间存在线性关系的情况，但判定系数对非线性关系以及有两个或两个以上自变量的相关关系都适用 5  \n",
    "## 注释 \n",
    "1. 在利用最小二乘法求出估计的回归方程和计算判定系数时，我们并没有对模型的误差项$\\varepsilon$做出任何的概率假定，也没有对x和y之间关系的显著性进行统计检验  \n",
    "    $r^2$的数值比较大，只不过意味着最小二乘回归直线比较好地拟合了样本数据，也就是说，观测值比较紧密地围绕在最小二乘回归直线周围  \n",
    "    但是仅仅利用$r^2$，我们不能得出x和y之间的关系在统计上是否显著的结论  \n",
    "2. 在实际问题中，例如在社会科学问题中遇到的典型数据，尽管$r^2$的数值低于0.25，通常也被人为是令人满意的。而在自然科学和生命科学问题中遇到的数据，经常会出现$r^2$的数值大于或等于0.60  \n",
    "    在商务应用中,$r^2$的数值将依据每一个应用独特性质有着非常大的变化 5  \n",
    "    \n",
    "# 14.4 模型的假定\n",
    "在进行回归分析时，我们首先要对描述应变量和自变量之间关系的模型做出一些假定。对于简单线性回归情况，假定回归模型是  \n",
    "$$y=\\beta_0+\\beta_1x+\\varepsilon$$\n",
    "然后利用最小二乘法，分布求出模型参数$\\beta_0$和$\\beta_1$的估计值$b_0$和$b_1$。得到估计的回归方程是  \n",
    "$$\\hat{y}=b_0+b_1x$$\n",
    "我们已经知道，判定系数$r^2$的值是估计的回归方程拟合优度的度量。然而，尽管$r^2$有一个较大的值，但是在假定模型的合理性做出进一步的分析完成之前，我们还不能应用这个估计的回归方程 5  \n",
    "确定假定的模型是否合理的一个重要步骤，是要对变量之间关系的显著性进行检验。回归分析中的显著性检验是以对误差项$\\varepsilon$的下列假定为依据进行的  \n",
    "<hr />\n",
    "\n",
    "**关于回归模型$y=\\beta_0+\\beta_1x+\\varepsilon$误差项$\\varepsilon$的假定**  \n",
    "1. 误差项$\\varepsilon$是一个平均值或期望值为零的随机变量，即$E(\\varepsilon)=0$  \n",
    "    这就意味着：因为$\\beta_0$和$\\beta_1$都是常数，所以有$E(\\beta_0)=\\beta_0$和$E(\\beta_1)=\\beta_1$;于是对于一个给定的x值，y的期望值是（14-14） \n",
    "    $$E(y)=\\beta_0+\\beta_1x$$\n",
    "    5  \n",
    "    正如我们在前面已经指出的那样，称式（14-14）为回归方程  \n",
    "2. 对所有的x值，$\\varepsilon$的方差都是相同的。我们用$\\sigma^2$表示$\\varepsilon$的方差  \n",
    "    这就意味着：y关于回归直线的方差等于$\\sigma^2$，也就是说对所有的x值，y的方差都是相等的  \n",
    "3. $\\varepsilon$的值是相互独立的  \n",
    "    这就意味着：对于一个特定的x值，它所对应的$\\varepsilon$值与任何其他的x值所对应的$\\varepsilon$值不相关 5  \n",
    "    于是，对于一个特定的x值，它所对应的y值与任何其他的x值所对应的y值也不相关  \n",
    "4. 误差项$\\varepsilon$是一个正态分布的随机变量  \n",
    "    这就意味着：因为y是$\\varepsilon$的一个线性函数，所以y也是一个正态分布的随机变量  \n",
    "<hr />\n",
    "\n",
    "图14-6是对模型假定及其含义的一个说明。值得注意的是，从这个图形解释中可以看出，$E(y)$的值是根据被考虑的具体的x值的变化而变化  \n",
    "![14-6](../syn_pic/statistics_for_business_economics/14-6.png)\n",
    "<center>图14-6 回归模型的假定 5</center>\n",
    "\n",
    "注：对于每一个x值，y的分布都有相同的形状  \n",
    "\n",
    "然而，不论x的值怎样变化，$\\varepsilon$和y的概率分布都是正态分布，并且具有相同的方差。在任一特定点上，误差项$\\varepsilon$的具体数值依赖于y的实际值是大于还是小于$E(y)$   \n",
    "现在，我们必须记住，我们还曾经对变量x和y之间关系的形式做过一个假定或假设，即我们假定，两变量x和y之间关系的主要部分是一条表示为$\\beta_0+\\beta_1x$的直线  \n",
    "我们还不能忽略这样一个事实，一些其他形式的模型，例如$y=\\beta_0+\\beta_1x^2+\\varepsilon$，或许可能是描述两变量x和y之间相关关系的一个更好的模型 5  \n",
    "# 14.5 显著性检验\n",
    "在一个简单线性回归方程里，y的平均值或期望值是x的一个线性函数：$E(y)=\\beta_0+\\beta_1x$  \n",
    "如果$\\beta_1$的值是零，$E(y)=\\beta_0+0x=\\beta_0$。在这种情况下，y的平均值或期望值不依赖于x的值，因此我们的结论是，在两变量x和y之间不存在线性关系  \n",
    "换一种说法，如果$\\beta_1$的值不等于零，我们的结论是，在两变量x和y之间存在线性关系  \n",
    "于是，为了检验量变量之间是否存在显著的回归关系，我们必须进行一个假设检验，判定$\\beta_1$的值是否等于零  \n",
    "通常使用的检验方法有两种，这两种方法都需要知道回归模型误差项$\\varepsilon$的方差$\\sigma^2$的估计值 5  \n",
    "## 14.5.1 $\\sigma^2$的估计\n",
    "从回归模型和它的假定中，我们可以得出结论：$\\varepsilon$的方差$\\sigma^2$也是应变量y的值关于回归直线的方差  \n",
    "回想一下，我们曾经将y的值关于估计的回归直线的离差称为残差。所以，残差平方和SSE是实际观测值关于估计的回归直线变异性的度量  \n",
    "我们用SSE除以它自己的自由度，得到均方误差。均方误差给出了$\\sigma^2$的一个估计量  \n",
    "因为$\\hat{y}_i=b_0+b_1x_i$，所以SSE可以写成  \n",
    "$$SSE=\\Sigma(y_i-\\hat{y}_i)^2=\\Sigma(y_i-b_0-b_1x_i)^2$$\n",
    "5  \n",
    "每一个平方和都有一个与之相联系的数，这个数叫做自由度。统计学家已经证明，为了计算SSE，必须估计两个参数($\\beta_0$和$\\beta_1$)，所以SSE的自由度是n-2  \n",
    "于是，用SSE除以n-2，就能计算出均方误差。MSE是$\\sigma^2$的一个无偏估计量。因为MSE的值给出了$\\sigma^2$的一个估计，我们用记号$s^2$表示  \n",
    "<hr />\n",
    "\n",
    "**均方误差（$\\sigma^2$的估计量）**（14-15）  \n",
    "$$s^2=MSE=\\frac{SSE}{n-2}$$\n",
    "<hr />\n",
    "\n",
    "在14.3节Armand比萨饼连锁店的例子中，我们已经得到SSE=1530，于是$\\sigma^2$的一个无偏估计量是 5  "
   ]
  },
  {
   "cell_type": "code",
   "execution_count": null,
   "metadata": {},
   "outputs": [],
   "source": [
    "Armand_mse=Armand_sse/(10-2)\n",
    "print('sigma^2的一个无偏估计量是{:.2f}'.format(Armand_mse))"
   ]
  },
  {
   "cell_type": "markdown",
   "metadata": {},
   "source": [
    "为了估计$\\sigma$，我们计算$s^2$的平方根，所得到的结果s称为**估计的标准误差**  \n",
    "<hr />\n",
    "\n",
    "**估计的标准误差**(14-16)  \n",
    "$$s=\\sqrt{MSE}=\\sqrt{\\frac{SSE}{n-2}}$$\n",
    "<hr />\n",
    "\n",
    "在下面的讨论中，我们利用估计的标准误差，对两变量x和y之间的关系进行显著性检验 5  "
   ]
  },
  {
   "cell_type": "code",
   "execution_count": null,
   "metadata": {},
   "outputs": [],
   "source": [
    "Armand_s=np.sqrt(Armand_mse)\n",
    "print('对于Armand比萨饼连锁店的例子，s={:.3f}'.format(Armand_s))"
   ]
  },
  {
   "cell_type": "markdown",
   "metadata": {},
   "source": [
    "## 14.5.2 t检验\n",
    "对于简单线性回归模型$y=\\beta_0+\\beta_1x+\\varepsilon$，如果x和y之间存在一个线性关系，我们必须有$\\beta_1\\ne0$  \n",
    "t检验的目的是我们能否断定$\\beta_1\\ne0$。我们将利用样本数据去检验下面的关于参数$\\beta_1$的假设  \n",
    "$$H_0:\\beta_1=0$$\n",
    "$$H_a:\\beta_1\\ne0$$\n",
    "$\\beta_1$的最小二乘法估计量$b_1$的抽样分布性质给出了假设检验的基础 5  \n",
    "实际上，最小二乘估计量$b_0$和$b_1$是样本统计量，它们有着自己的抽样分布。$b_1$抽样分布的性质如下  \n",
    "<hr />\n",
    "\n",
    "**$b_1$的抽样分布**  \n",
    "期望值  \n",
    "$$E(b_1)=\\beta_1$$ \n",
    "标准差 （14-17）  \n",
    "$$\\sigma_{b_1}=\\frac{\\sigma}{\\sqrt{\\Sigma(x_i-\\bar{x})^2}}$$\n",
    "分布形式  正态分布  \n",
    "<hr />\n",
    "\n",
    "注意，$b_1$的期望值等于$\\beta_1$，所以$b_1$是$\\beta_1$的无偏估计量 5  \n",
    "因为$\\sigma$的值未知，为了求出$\\sigma_{b_1}$的一个估计$s_{b_1}$，我们用$\\sigma$的估计s代入式（14-17）,于是我们得到下面$\\sigma_{b_1}$的估计  \n",
    "<hr />\n",
    "\n",
    "**$b_1$的估计的标准差** （14-18）  \n",
    "$$s_{b_1}=\\frac{s}{\\sqrt{\\Sigma(x_i-\\bar{x})^2}}$$\n",
    "<hr />\n"
   ]
  },
  {
   "cell_type": "code",
   "execution_count": null,
   "metadata": {},
   "outputs": [],
   "source": [
    "Armand_sb1=Armand_s/np.sqrt(Armand.sum()[-1])\n",
    "print('对于Armand比萨饼连锁店的例子，我们得到b1的估计的标准差为{:.4f}'.format(Armand_sb1))"
   ]
  },
  {
   "cell_type": "markdown",
   "metadata": {},
   "source": [
    "对于两个变量之间是否存在一个显著性关系的t检验的依据是，检验统计量$\\frac{b_1-\\beta_1}{s_{b_1}}$ 5  "
   ]
  }
 ],
 "metadata": {
  "kernelspec": {
   "display_name": "Python 3",
   "language": "python",
   "name": "python3"
  },
  "language_info": {
   "codemirror_mode": {
    "name": "ipython",
    "version": 3
   },
   "file_extension": ".py",
   "mimetype": "text/x-python",
   "name": "python",
   "nbconvert_exporter": "python",
   "pygments_lexer": "ipython3",
   "version": "3.7.6"
  },
  "toc": {
   "base_numbering": 1,
   "nav_menu": {},
   "number_sections": false,
   "sideBar": true,
   "skip_h1_title": false,
   "title_cell": "Table of Contents",
   "title_sidebar": "Contents",
   "toc_cell": false,
   "toc_position": {},
   "toc_section_display": true,
   "toc_window_display": false
  }
 },
 "nbformat": 4,
 "nbformat_minor": 2
}
