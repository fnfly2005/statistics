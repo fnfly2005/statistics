{
 "cells": [
  {
   "cell_type": "code",
   "execution_count": null,
   "metadata": {},
   "outputs": [],
   "source": [
    "import pandas as pd\n",
    "import numpy as np\n",
    "import matplotlib.pyplot as plt\n",
    "from scipy.special import comb\n",
    "from scipy.stats import binom\n",
    "from scipy.stats import poisson\n",
    "from scipy.stats import hypergeom"
   ]
  },
  {
   "cell_type": "markdown",
   "metadata": {},
   "source": [
    "# 实践中的统计\n",
    "花旗银行是花旗集团的一个分支机构，它提供全方位的金融服务，包括支票和储蓄账户、贷款和抵押、保险以及投资服务  \n",
    "花旗银行是美国第一家引进自动提款机（ATM）的金融机构。目前，客户80%的交易是通过ATM完成的  \n",
    "花旗银行信用卡中心向随机到达的客户提供服务。定期研究CBC能力可以分析客户的等待时间，以决定是否需要增加新的ATM  \n",
    "花旗银行收集的数据表明，随机到达的客户人数服从著名的概率分布——泊松分布，利用泊松部分，花旗银行可以计算任意时间段内到达CBC的客户人数的概率，从而决定所需ATM的数目  \n",
    "例如，令x表示1分钟内到达的客户人数。假定到达某一CBC的客户人数平均每分钟2人，下表是在1分钟内到达的客户人数的概率 5  "
   ]
  },
  {
   "cell_type": "code",
   "execution_count": null,
   "metadata": {},
   "outputs": [],
   "source": [
    "pd.DataFrame({'x':[0,1,2,3,4,5],\n",
    "              'probability':[0.1353,0.2707,0.2707,0.1804,0.0902,0.0527]})"
   ]
  },
  {
   "cell_type": "markdown",
   "metadata": {},
   "source": [
    "本章主要介绍离散型概率分布，比如花旗银行使用的分布。除柏松部分之外，我们还要介绍二项分布和超几何分布，并说明如何利用这些分布得到有用的概率信息  \n",
    "在本章中我们通过介绍随机变量和概率分布的概念，继续对概率论进行研究  \n",
    "# 5.1 随机变量\n",
    "在第4章我们定义了试验的概念以及与之相联系的试验结果。随机变量提供了用数值描述试验结果的方法  \n",
    "实际上，随机变量将每个可能出现的试验结果赋予一个数值，随机变量的值取决于试验结果。随机变量根据取值可分为离散型或连续型 5  \n",
    "<hr />\n",
    "\n",
    "**随机变量**  \n",
    "随机变量是对一个试验结果的数值描述  \n",
    "<hr />\n",
    "\n",
    "## 5.1.1 离散型随机变量 \n",
    "可以取有限多个数值或无限可数多个数值（如0，1，2，……）的随机变量称为**离散型随机变量**  \n",
    "例如，考虑一名会计参加注册会计师CPA开始，该考试共有4门课程，令随机变量x为通过CPA考试的课程数，则x是一个离散型随机变量，因为它的取值分别是0，1，2，3或4，是有限个  \n",
    "尽管很多试验结果都可以自然而然地用数值来表示，但有些试验结果却不能  \n",
    "例如在一个调查电视关重能否回忆起最近看到的一则电视广告的信息试验中，有两种可能的试验结果：观众能回忆起信息和观众不能回忆起信息 5  \n",
    "定义离散型随机变量如下：如果观众不能回忆起信息，则令x=0；如果观众能回忆起信息，则令x=1  \n",
    "表5-1给出了其他一些离散型随机变量的例子  \n",
    "<center>表5-1 离散型随机变量的例子</center>\n",
    "\n",
    "|试验|随机变量(x)|随机变量的可能值|\n",
    "|-|-|-|\n",
    "|与5位客户洽谈|下订单的客户数|0，1，2，3，4，5|\n",
    "|检验一批50台收音机的货物|损坏的收银机数|0,1,2,…,49,50|\n",
    "|一家餐馆营业一天|顾客数|0,1,2,3,…|\n",
    "|销售一辆汽车|顾客性别|男性为0，女性为1|\n",
    "\n",
    "## 5.1.2 连续型随机变量  \n",
    "可以在某一区间或多个区间内任意取值的随机变量称为**连续型随机变量**。度量时间、重量、距离、温度时，某试验结果可以用连续型随机变量来描述 5  \n",
    "<center>表5-2 连续型随机变量的例子</center>\n",
    "\n",
    "|试验|随机变量(x)|随机变量的可能值|\n",
    "|-|-|-|\n",
    "|银行开业|两客户到达的时间间隔（单位：分钟）|x≥0|\n",
    "|填充一个饮料罐(最大容量为12.1盎司)|盎司数|0≤x≤12.1|\n",
    "|新建一座图书馆|六个月后工程完成进度|0≤x≤100|\n",
    "|检验一次新的化学反应过程|反应发生的温度（最低150°F,最高212°F）|150≤x≤212|\n",
    "\n",
    "## 注释\n",
    "一种确定随机变量是离散型还是连续型的方法，是把随机变量的值看做一条线段上的点  \n",
    "任意选择随机变量的两个值，假如线段上这两点之间的所有点都可能使随机变量的取值，则该随机变量就是连续型的 5  \n",
    "\n",
    "# 5.2 离散型概率分布\n",
    "随机变量的**概率分布**是描述随机变量取不同值的概率。对于离散型随机变量x，概率分布通过**概率函数**来定义，记作f(x)。概率函数给出了随机变量每一取值的概率  \n",
    "假设我们选择DiCarlo公司一天的经营情况做试验，定义随机变量x为一天中销售的汽车数。从历史数据，我们知道x是一个随机变量，可取值0,1,2,3,4或5。用概率函数符号f(0)表示销售0辆汽车的概率  \n",
    "对随机变量的其他值继续使用这种方法，我们计算f(2),f(3),f(4),f(5)的值如表5-3所示，即DiCarlo公司一天的汽车销售量的概率分布  "
   ]
  },
  {
   "cell_type": "code",
   "execution_count": null,
   "metadata": {},
   "outputs": [],
   "source": [
    "dicarlo=pd.Series([0.18,0.39,0.24,0.14,0.04,0.01])\n",
    "dicarlo"
   ]
  },
  {
   "cell_type": "markdown",
   "metadata": {},
   "source": [
    "定义一个随机变量及其概率分布的最大好处在于，一旦知道概率分布，决策者确定各种感兴趣事件的概率就变得相对简单了 5  \n",
    "任一离散型随机变量的概率函数必须满足式（5-1）式（5-2）两个条件  \n",
    "<hr />\n",
    "\n",
    "**离散型概率函数的性质**  \n",
    "(5-1)$$f(x)\\ge 0$$\n",
    "(5-2)$$\\Sigma{f(x)=1}$$\n",
    "<hr />\n",
    "\n",
    "表5-3满足上面两式，于是，DiCarlo公司的概率函数确实是离散型概率函数  \n",
    "我们也可以用图形来表示概率分布。如下图 5  "
   ]
  },
  {
   "cell_type": "code",
   "execution_count": null,
   "metadata": {
    "scrolled": false
   },
   "outputs": [],
   "source": [
    "'''\n",
    "matplotlib Pyplot function overview plt.bar() width\n",
    "matplotlib Pyplot function overview plt.bar() edgecolor/color\n",
    "pandas series s.plot.bar()\n",
    "matplotlib Pyplot function overview plt.xlim()\n",
    "matplotlib Pyplot function overview plt.ylim()\n",
    "matplotlib Pyplot function overview plt.xticks()\n",
    "matplotlib Pyplot function overview plt.yticks()\n",
    "matplotlib text Text.rotation\n",
    "matplotlib Pyplot function overview plt.xlabel()\n",
    "matplotlib Pyplot function overview plt.ylabel()\n",
    "'''\n",
    "dicarlo.plot.bar(width=0.02,color='black')\n",
    "plt.xlim(-1,6)\n",
    "plt.ylim(0,0.5)\n",
    "plt.xticks(rotation=360)\n",
    "plt.xlabel('x Car sales in a day')\n",
    "plt.ylabel('f(x) probability')\n",
    "plt.title('Figure 5-1 Probability distribution of car sales volume of DiCarlo company in one day')\n",
    "plt.show()"
   ]
  },
  {
   "cell_type": "markdown",
   "metadata": {},
   "source": [
    "除了表和图，还可以用代数表达式给出随机变量x的概率函数f(x)。f(x)常用来描述随机变量x每一取值的概率  \n",
    "由一个公式给出的最简单的离散型概率分布是**离散型均匀概率分布**，式（5-3）定义了它的概率函数  \n",
    "<hr />\n",
    "\n",
    "(5-3)**离散型均匀概率函数**$$f(x)=1/n$$ \n",
    "式中，n代表随机变量取值的个数  \n",
    "<hr />\n",
    "\n",
    "例如，考虑抛一枚骰子的试验，定义随机变量x为骰子面向上的点数。从而，离散型均匀随机变量的概率函数为：$$f(x)=1/6$$5$$x=1,2,3,4,5,6$$  \n",
    "随机变量的可能值及其相对应的概率如下  "
   ]
  },
  {
   "cell_type": "code",
   "execution_count": null,
   "metadata": {},
   "outputs": [],
   "source": [
    "dice =pd.DataFrame({'x':[1,2,3,4,5,6],'f(x)':[1/6,1/6,1/6,1/6,1/6,1/6]})\n",
    "print('dice\\n'+dice.to_string())\n",
    "eg=pd.DataFrame({'x':[1,2,3,4],'f(x)':[1/10,2/10,3/10,4/10]})\n",
    "print('eg\\n'+eg.to_string())"
   ]
  },
  {
   "cell_type": "markdown",
   "metadata": {},
   "source": [
    "作为另一个例子，考虑服从如上离散型概率分布的随机变量x  \n",
    "其概率分布可用下面的公式定义 5  $$f(x)=\\frac{x}{10}$$$$x=1,2,3或4$$  \n",
    "大量离散型概率分布通常是以代数表达式的形式给出。其中三个最重要的分布是：二项分布、柏松分布和超几何概率分布 5  \n",
    "# 5.3 数学期望与方差\n",
    "## 5.3.1 数学期望\n",
    "随机变量的**数学期望**或均值是对随机变量中心位置的一种度量。离散型随机变量x的数学期望的数学表达式如式（5-4）所示  \n",
    "<hr />\n",
    "\n",
    "(5-4)**离散型随机变量的数学期望**$$E(x)=\\mu=\\Sigma{xf(x)}$$\n",
    "<hr />\n",
    "\n",
    "通常采用记号E(x)或$\\mu$表示随机变量的数学期望  \n",
    "式（5-4）表明，计算离散型随机变量的所可能值乘以相应的概率值f(x)，然后再将乘积相加  \n",
    "利用5.2节DiCarlo公司汽车销售量的例子，我们演示一天汽车销售量的数学期望的计算过程，如下表所示。表中xf(x)列的总和式1.50，说明每天汽车销售量的数学期望式1.50辆 5  "
   ]
  },
  {
   "cell_type": "code",
   "execution_count": null,
   "metadata": {},
   "outputs": [],
   "source": [
    "'''\n",
    "数据分析 常用代码 加权平均数\n",
    "pandas series s.name\n",
    "pandas series s.mul()\n",
    "pandas series s.index\n",
    "'''\n",
    "dicarlo.name='f(x)'\n",
    "dfDicarlo = pd.DataFrame(dicarlo)\n",
    "dfDicarlo['x']=dicarlo.index\n",
    "\n",
    "def weightedMean(value,weight):\n",
    "    ''' \n",
    "    计算加权平均数\n",
    "    value:series;\n",
    "    weight:series\n",
    "    return: float\n",
    "    '''\n",
    "    wx = value.mul(weight).sum()\n",
    "    w = weight.sum()\n",
    "    return wx/w\n",
    "\n",
    "dfDicarlo['xf(x)']=dicarlo.mul(dfDicarlo['x'])\n",
    "print(dfDicarlo.to_string())\n",
    "dcl_ex = weightedMean(dfDicarlo['x'],dfDicarlo['f(x)'])\n",
    "print('E(x)={:.1f}'.format(dcl_ex))"
   ]
  },
  {
   "cell_type": "markdown",
   "metadata": {},
   "source": [
    "## 5.3.2 方差\n",
    "虽然数学期望给出了随机变量的均值，我们常常还需要度量随机变量的变异性或分散度  \n",
    "正如我们在第3章描述数据的变异性一样，现在我们用**方差**来描述随机变量的变异性  \n",
    "<hr />\n",
    "\n",
    "(5-5)**离散型随机变量的方差**$$Var(x)=\\sigma^2=\\Sigma{(x-\\mu)^2f(x)}$$\n",
    "<hr />\n",
    "\n",
    "如式（5-5）所示，方差公式的关键式离差$(x-\\mu)$——度量随机变量的某一特定值与数学期望或均值$\\mu$的距离 5  \n",
    "随机变量所有值的离差平方的加权和称为方差，通常用记号Var(x)和$\\sigma^2$来表示随机变量的方差  "
   ]
  },
  {
   "cell_type": "code",
   "execution_count": null,
   "metadata": {},
   "outputs": [],
   "source": [
    "'''\n",
    "数据分析 常用代码 加权方差\n",
    "pandas Index i.to_series()\n",
    "pandas series s.sub()\n",
    "pandas series s.pow()\n",
    "'''\n",
    "dfDicarlo['x-μ']=dicarlo.index.to_series().sub(dcl_ex)\n",
    "dfDicarlo['(x-μ)^2']=dfDicarlo['x-μ'].pow(2)\n",
    "dfDicarlo['(x-μ)^2 f(x)']=dfDicarlo['(x-μ)^2'].mul(dfDicarlo['f(x)'])\n",
    "print(dfDicarlo.to_string())\n",
    "\n",
    "def weightedVar(value,weight):\n",
    "    ''' \n",
    "    计算加权方差\n",
    "    value:series;\n",
    "    weight:series\n",
    "    return: float\n",
    "    '''\n",
    "    mean=weightedMean(value,weight)\n",
    "    div=value.sub(mean)\n",
    "    return div.pow(2).mul(weight).sum()\n",
    "dcl_wv=weightedVar(dfDicarlo['x'],dfDicarlo['f(x)'])\n",
    "\n",
    "print('Var(x)={:.2f}'.format(dcl_wv))"
   ]
  },
  {
   "cell_type": "markdown",
   "metadata": {},
   "source": [
    "上表汇总了DiCarlo公司的一天汽车销售量概率分布的方差的计算过程。定义方差的算术平方根为**标准差**，记作$\\sigma$。于是，一天销售汽车量的标准差是：  "
   ]
  },
  {
   "cell_type": "code",
   "execution_count": null,
   "metadata": {},
   "outputs": [],
   "source": [
    "def weightedStd(value,weight):\n",
    "    ''' \n",
    "    计算加权标准差\n",
    "    value:series;\n",
    "    weight:series\n",
    "    return: float\n",
    "    '''\n",
    "    var=weightedVar(value,weight)\n",
    "    return np.sqrt(var)\n",
    "\n",
    "dcl_std=weightedStd(dfDicarlo['x'],dfDicarlo['f(x)'])\n",
    "print('std(x)={:.3f}'.format(dcl_std))"
   ]
  },
  {
   "cell_type": "markdown",
   "metadata": {},
   "source": [
    "标准差的单位与随机变量的单位相同，所以通常用标准差来描述一个随机变量的变异性 5  \n",
    "# 5.4 二项概率分布\n",
    "二项概率分布是一种离散型概率分布，具有广泛的应用。它与一个称为二项试验的多步骤试验有关  \n",
    "## 5.4.1 二项试验  \n",
    "**二项试验**具有以下四个性质：\n",
    "<hr />\n",
    "\n",
    "**二项试验的性质**  \n",
    "1. 试验由一系列相同的n个试验组成  \n",
    "2. 每次试验有两种可能的结果。我们把其中一个称为成功，另一个称为失败  \n",
    "3. 每次试验成功的概率都是相同的，用p来表示；失败的概率也都相同，用1-p表示 5  \n",
    "4. 试验是相互独立的  \n",
    "<hr />\n",
    "\n",
    "如果一个试验具有性质2、性质3和性质4，我们称该试验是由贝努里过程产生的。另外，如果该试验还具有性质1，则称为二项试验。图5-2给出了一个包括8次试验的二项试验的一种可能结果  \n",
    "![5-2](../syn_pic/statistics_for_business_economics/5-2.png)\n",
    "<center>Figure5-2 一个8次试验的二项试验，一种可能的成功和失败序列</center>\n",
    "\n",
    "在二项试验中，我们感兴趣的是在n次试验中成功出现的次数。如果令x代表n次试验中成功的次数，则x的可能值为0,1,2,3,…,n  \n",
    "由于随机变量取值的个数是有限的，所以x是一个离散型随机变量。与这一随机变量相对应的概率分布称为**二项概率分布** 5  \n",
    "例如，考虑抛5次硬币的试验，每一次都观察硬币着地时正面朝上还是反面朝上。假设我们想要计算5次中正面出现的次数。这个试验具备二项试验的性质吗？感兴趣的随机变量是什么？注意：  \n",
    "1. 试验由5次相同的试验组成，每次试验都是抛一枚硬币  \n",
    "2. 每次试验都有两种可能结果：正面朝上或反面朝上。定义正面朝上为成功，反面朝上为失败  \n",
    "3. 在每次试验中，正面朝上和反面朝上的概率都是一样的，即p=0.5，1-p=0.5  \n",
    "4. 因为任意一次试验的结果都不影响其他次抛掷，所以各次试验或抛掷都是独立的 5  \n",
    "\n",
    "于是，满足二项试验的性质。感兴趣的随机变量是x=抛掷5次硬币正面朝上的次数，这时x的可能取值为0,1,2,3,4或5  \n",
    "考虑另一个例子，一名保险推销员随机选择10个家庭进行访问。每次访问的结果是，如果该户购买了保险则定义为成功，没有购买则定义为失败。根据经验，已知推销员随机选择的家庭购买保险的概率为0.10。检查二项试验的属性，我们看到：  \n",
    "1. 试验由10次相同的试验组成，每次试验是访问一个家庭  \n",
    "2. 每次试验中有两种可能的结果：该家庭购买保险（成功）或不购买保险（失败）  \n",
    "3. 每次访问，家庭是否购买的概率相同，p=0.10,1-p=0.9；  5   \n",
    "4. 由于家庭是随机选择的，所以试验是独立的   \n",
    "\n",
    "由于该试验满足二项试验的四个性质，这是一个二项试验  \n",
    "二项试验的性质3称为平稳性假设，它有时为与性质4（试验的独立性）产生混淆。为了区分它们，再次考虑推销访问家庭推销保险的例子  \n",
    "如果一段时间后，推销员累了并失去热情，例如到第10次访问时，成功的概率下降到0.05。这时，性质3（平稳性）不能满足，从而试验不再是二项试验  \n",
    "在二项试验的应用中，常常用到一个被称为二项概率函数的特殊数学表达式，它用于计算n次试验中x次成功的概率 5  \n",
    "## 5.4.2 马丁服装商店的问题  \n",
    "考虑光顾马丁服装商店的3名顾客购买服装的情况。根据经验，商店经理估计每名顾客购买服装的概率是0.30。在3名顾客中有2名顾客会购买的概率是多少？  \n",
    "根据树形图（见图5-3），我们发现3名顾客中每名顾客各自做出购买决策，从而试验有8种可能的结果。在检查二项检查的4条性质时，我们注意到该试验满足二项试验的性质  \n",
    "![5-3](../syn_pic/statistics_for_business_economics/5-3.png)  \n",
    "n次试验中恰有x次成功的试验结果的个数可用下面的公式计算  \n",
    "<hr />\n",
    "\n",
    "（5-6）**n次试验中恰有x次成功的试验结果的个数**  5  $$\\left(\\begin{matrix}n \\cr x\\end{matrix}\\right)=\\frac{n!}{x!(n-x)!}$$\n",
    "式中,$x!=n\\times(n-1)\\times(n-2)\\times\\cdots\\times2\\times1$  \n",
    "并且定义  0!=1  \n",
    "<hr />\n",
    "\n",
    "现在我们回到马丁服装商店试验，它涉及3名顾客的购买决策。式（5-6）可用来确定“有2人购买”的试验结果的个数，由式（5-6）我们有    "
   ]
  },
  {
   "cell_type": "code",
   "execution_count": null,
   "metadata": {},
   "outputs": [],
   "source": [
    "'''\n",
    "scipy Special functions (scipy.special) comb()\n",
    "'''\n",
    "print('有两次成功的试验结果有{:.0f}个'.format(comb(3,2)))\n",
    "print('有三次成功的试验结果有{:.0f}个'.format(comb(3,3)))"
   ]
  },
  {
   "cell_type": "markdown",
   "metadata": {},
   "source": [
    "我们知道，式(5-6) 可用来确定与x此成功相对应的试验结果的个数。如果我们想要确定n次试验中x次成功的概率，还必须要知道其中每一个试验结果发生的概率  \n",
    "由于二项试验的各个试验是相互独立的，我们可以简单地将各个试验结果发生的概率相乘，就能得到某个由成功和失败所组成的特定试验序列发生的概率  \n",
    "将事件“前两名顾客购买而第3名顾客未购买”记作（S,S,F），则它的概率是 5$$pp(1-p)$$\n",
    "我们可以发现，有两次成功的所有3个试验结果有着完全相同的概率。这一观察结果通常总是成立的。在任何二项试验中，n次试验中x次成功的所有试验序列有相同的概率。在n次试验中有x次成功的每个试验序列的概率如下所示：  \n",
    "<center>(5-7)在n次试验中有x次成功的特定试验结果序列的概率$=p^x(1-p)^{n-x}$</center>\n",
    "\n",
    "集合式（5-6）和（5-7）得到下面的**二项概率函数**  \n",
    "<hr />\n",
    "\n",
    "**二项概率函数**(5-8)$$f(x)=\\left(\\begin{matrix}n \\cr x\\end{matrix}\\right)p^x(1-p)^{n-x}$$\n",
    "式中，x代表成功的次数;p代表一次试验中成功的概率；n代表试验的次数；f(x)代表n次试验中有x次成功的概率;$\\left(\\begin{matrix}n \\cr x\\end{matrix}\\right)$代表$\\frac{n!}{x!(n-x)!}$  \n",
    "5\n",
    "<hr />\n",
    "\n",
    "对于二项概率分布，x是一个离散型随机变量，其取值为x=0,1,2,3,…,n。它的概率函数是f(x)  \n",
    "以马丁服装商店问题为例，我们利用式（5-8）计算“没有顾客购买”的概率，“恰有一名顾客购买”的概率，“恰有两名顾客购买”的概率和“所有3名顾客均购买”的概率  \n",
    "计算结果汇总与表5-6中，它给出发生购物行为的顾客人数的概率分布。图5-4是它的概率分布图  "
   ]
  },
  {
   "cell_type": "code",
   "execution_count": null,
   "metadata": {
    "scrolled": true
   },
   "outputs": [],
   "source": [
    "'''\n",
    "数据分析 常用代码 二项概率函数\n",
    "numpy Mathematical functions np.power()  \n",
    "python More on Defining Functions lambda a, b: a+b  \n",
    "pandas series s.apply()  \n",
    "'''\n",
    "def binoProbFun(x,n,p):\n",
    "    '''\n",
    "    x代表成功的次数；\n",
    "    p代表一次试验中成功的概率；\n",
    "    n代表试验的次数；\n",
    "    返回f(x)代表n次试验中有x次成功的概率\n",
    "    '''\n",
    "    cb = comb(n,x)\n",
    "    return cb*np.power(p,x)*np.power(1-p,n-x)\n",
    "\n",
    "# fuc =lambda x:binoProbFun(x,3,0.3)\n",
    "fuc =lambda x:binom.pmf(x,3,0.3)\n",
    "martin = pd.DataFrame({'x':[0,1,2,3]})\n",
    "martin['f(x)']=martin['x'].apply(fuc)\n",
    "print(martin.to_string())\n",
    "\n",
    "'''\n",
    "5  \n",
    "'''\n",
    "martin['f(x)'].plot.bar(width=0.02,color='gray')\n",
    "plt.xlim(-1,4)\n",
    "plt.ylim(0,0.6)\n",
    "plt.xticks(rotation=360)\n",
    "plt.xlabel('x Number of customers shopping')\n",
    "plt.ylabel('f(x) probability')\n",
    "plt.title('Figure 5-4 Probability distribution of the number of customers')\n",
    "plt.show()"
   ]
  },
  {
   "cell_type": "markdown",
   "metadata": {},
   "source": [
    "二项概率函数可用于任何二项试验  \n",
    "如果我们对马丁试验稍做变动。从而，10名进入商店的顾客中恰好有4人购物的概率是  "
   ]
  },
  {
   "cell_type": "code",
   "execution_count": null,
   "metadata": {},
   "outputs": [],
   "source": [
    "'''\n",
    "scipy Statistical functions (scipy.stats) binom() b.pmf()  \n",
    "'''\n",
    "print('{:.4f}'.format(binoProbFun(4,10,0.3)))\n",
    "print('{:.4f}'.format(binom.pmf(4,10,0.3)))"
   ]
  },
  {
   "cell_type": "markdown",
   "metadata": {},
   "source": [
    "## 5.4.3 二项概率表的使用  \n",
    "对于二项试验，已经编制出了数学用表，用于计算在n次试验中有x次成功的概率。数学用表比式（5-8） 使用起来更加容易和快捷。表5-7是这张概率表的一部分  \n",
    "![5-7](../syn_pic/statistics_for_business_economics/tb5-7.png)  \n",
    "<center>表5-7 从二项概率表选出的部分值 5</center>\n",
    "\n",
    "例:n=10,x=3,p=0.40;f(3)=0.2150  \n",
    "尽管二项概率表使用相对容易，但它不可能列出二项试验可能遇到的所有n和p的值。但是，如今的计算器，利用式(5-8)计算想要的概率并不困难，尤其在试验次数不大时  \n",
    "像Minitab这样的统计软件包和excel这样的电子表格软件包，都有计算二项概率的功能  \n",
    "## 5.4.4 二项分布的数学期望和方差\n",
    "在5.3节我们给出了计算离散型随机变量的数学期望和方差的公式。在随机变量服从二项分布的特定情形下，已知试验次数为n，成功的概率为p，数学期望和方差公式得以简化，具体形式如下    \n",
    "<hr />\n",
    "\n",
    "**二项分布的数学期望与方差** 5   \n",
    "（5-9）\n",
    "$$E(x)=\\mu=np$$\n",
    "（5-10）\n",
    "$$Var(x)=\\sigma^2=np(1-p)$$\n",
    "<hr />"
   ]
  },
  {
   "cell_type": "code",
   "execution_count": null,
   "metadata": {},
   "outputs": [],
   "source": [
    "'''\n",
    "scipy Statistical functions (scipy.stats) binom() b.mean()\n",
    "scipy Statistical functions (scipy.stats) binom() b.var()  \n",
    "scipy Statistical functions (scipy.stats) binom() b.std()  \n",
    "'''\n",
    "custom_value = 1000\n",
    "martin_ex = binom.mean(custom_value,0.3)\n",
    "martin_var = binom.var(custom_value,0.3)\n",
    "martin_std =binom.std(custom_value,0.3)\n",
    "print(\"假设下个月马丁服装商店预计有{:1}名顾客光顾，会购物的期望顾客有{:.0f}人，购物人数的方差{:.0f}和标准差{:.2f}\".format(\n",
    "    custom_value,martin_ex,martin_var,martin_std))"
   ]
  },
  {
   "cell_type": "markdown",
   "metadata": {},
   "source": [
    "## 注释\n",
    "1. 附录A中的二项概率表仅给出了p小于等于0.95的概率值。有些二项概率表给出了p小于等于0.5的概率值，当成功的概率大于p=0.5时，这些表似乎不能使用  \n",
    "2. 某些二项概率表是以累计形式给出的。在使用这些表时，必须做减法方能求得N次试验中有x次成功的概率 5  \n",
    "\n",
    "# 5.5 柏松概率分布\n",
    "本节我们介绍一个常用的离散型随机变量，它主要用于估计某事件在特定时间段或空间中发生的次数。如果满足以下两个性质，则出现次数是一个用柏松概率分布描述的随机变量  \n",
    "<hr />\n",
    "\n",
    "**柏松试验的性质**  \n",
    "1. 在任意两个长度相等的区间上，事件发生的概率是相同的  \n",
    "2. 事件在任一区间上是否发生与事件在其他区间上是否发生是独立的  \n",
    "<hr />\n",
    "\n",
    "**柏松概率函数**由式（5-11）给出：\n",
    "<hr />\n",
    "\n",
    "**柏松概率函数**$$f(x)=\\frac{\\mu^xe^{-\\mu}}{x!}$$\n",
    "式中，f(x)代表事件在一个区间上发生x次的概率;$\\mu$代表事件在一个区间上发生次数的数学期望或均值；e为2.71828。 5  \n",
    "<hr />\n",
    "\n",
    "对柏松概率分布，x是一个离散型随机变量，它表示在一个区间上事件发生的次数。在实际应用中，x的取值最终将变得最足够大，使得f(x) 近似为0，并且对任何较大的x值，f(x)变得微不足道  \n",
    "## 5.5.1 一个事件区间上的例子  \n",
    "我们感兴趣的是工作日早上15分钟内到达某一银行出纳窗口处的汽车数量  \n",
    "如果我们假设任意两个长度相等的时间段内有一辆汽车到达的概率是相同的，并且在任一时间段上是否有汽车到达与其他时间段是否有汽车到达相互独立，那么此时适用柏松概率函数  \n",
    "假定意思假设都成立，并且对历史数据的分析显示，15分钟内平均到达10辆车。这时，采用以下概率函数$$f(x)=\\frac{10^xe^{-10}}{x!}$$  \n",
    "式中，随机变量数x=任意15分钟内到达的汽车数 5   \n",
    "如果管理人员想要知道15分钟内恰有5辆汽车到达的概率，那么令x=5，有：  "
   ]
  },
  {
   "cell_type": "code",
   "execution_count": null,
   "metadata": {},
   "outputs": [],
   "source": [
    "'''\n",
    "scipy Statistical functions (scipy.stats) poisson()\n",
    "scipy Statistical functions (scipy.stats) poisson() p.pmf()\n",
    "'''\n",
    "pos_pmf = poisson.pmf(5,10)\n",
    "print('15分钟内恰有5辆汽车到达的概率={:.4f}'.format(pos_pmf))"
   ]
  },
  {
   "cell_type": "markdown",
   "metadata": {},
   "source": [
    "尽管在$\\mu=10$,x=5处计算概率函数就可以确定这一概率，但通常查柏松概率分布表更为方便。为使用方便，表5-8节选了该表的一部分  \n",
    "<center> 表5-8 柏松概率分布表节选值</center>\n",
    "\n",
    "<center>例:$\\mu=10$,x=5;f(5)=0.0378</center>\n",
    "\n",
    "![tb5-8_5](../syn_pic/statistics_for_business_economics/tb5-8.png)  \n",
    "在上面的例子中，柏松分布的数学期望$\\mu=10$，即15分钟内平均到达10辆车。柏松分布的一个重要性质是 它的数学期望和方差相等  "
   ]
  },
  {
   "cell_type": "code",
   "execution_count": null,
   "metadata": {},
   "outputs": [],
   "source": [
    "'''\n",
    "scipy Statistical functions (scipy.stats) poisson() p.mean()\n",
    "scipy Statistical functions (scipy.stats) poisson() p.var()\n",
    "scipy Statistical functions (scipy.stats) poisson() p.std()\n",
    "'''\n",
    "pos_mean=poisson.mean(10)\n",
    "pos_var = poisson.var(10)\n",
    "pos_std = poisson.std(10)\n",
    "print('15分钟内达到车辆数的数学期望是{:.0f},方差是{:.0f},标准差是{:.2f}'.format(pos_mean,pos_var,pos_std))"
   ]
  },
  {
   "cell_type": "markdown",
   "metadata": {},
   "source": [
    "我们的例子中时间长度是15分钟，这种方法对其他长度的时间段也同样适用。假设我们要计算3分钟内有1两汽车到达的概率。由15分钟内到达车辆的期望数为10可得，于是3分钟内到达车辆的期望数为2/3x3=2  "
   ]
  },
  {
   "cell_type": "code",
   "execution_count": null,
   "metadata": {},
   "outputs": [],
   "source": [
    "p3_mean=3*(10/15)\n",
    "p3_pmf = poisson.pmf(1,p3_mean)\n",
    "print('3分钟内恰有1辆汽车到达的概率={:.4f}'.format(p3_pmf))"
   ]
  },
  {
   "cell_type": "markdown",
   "metadata": {},
   "source": [
    "在前面的例子中，15分钟恰有5辆汽车到达的概率是0.0378。注意，与本例中3分钟内恰有1辆汽车到达的概率是不同的。因此，在不同的时间段计算柏松概率时，我们必须先将平均到达率转换到我们关心的时间段上，然后再计算其概率 5  \n",
    "## 5.5.2 一个长度或距离区间上的例子  \n",
    "下面我们介绍一个非时间区间上应用泊松公布的例子。假定我们关心的是公里在重新整修后一个月内发生重大损坏的问题  \n",
    "我们假设公路上任意两个长度相等的去极端出现一处损坏的概率相等，任意一个区间段上是否出现损坏与另一个区间段上是否出现损坏无关。因此，柏松分布是适用的  \n",
    "假设我们知道，重新整修后一个月内平均每英里有两处受到严重损坏，求在公路某一3英里长的区间段上没有发生严重损坏的概率  "
   ]
  },
  {
   "cell_type": "code",
   "execution_count": null,
   "metadata": {},
   "outputs": [],
   "source": [
    "'''\n",
    "5\n",
    "scipy Statistical functions (scipy.stats) poisson() p.pmf() \n",
    "'''\n",
    "dis_mean=2/1*3\n",
    "dis_pmf=poisson.pmf(0,dis_mean)\n",
    "print('在公路某一3英里长的区间段上没有发生严重损坏的概率={:.4f}'.format(dis_pmf))"
   ]
  },
  {
   "cell_type": "markdown",
   "metadata": {},
   "source": [
    "# 5.6 超几何概率分布\n",
    "**超几何概率分布**与二项概率分布联系密切。这两种概率分布主要有两处不同：超几何分布中的各次试验不是独立的；各次试验中成功的概率不等  \n",
    "对于超几何分布，符号N标识总体容量，r标识总体中具有成功标志的元素个数，N-r表示总体中具有失败标志的元素个数  \n",
    "采用不放回抽样方法，从总体中随机抽取n个元素，**超几何概率函数**用来计算在这n个元素具有成功标志，n-x个元素具有失败标志的概率。下面的超几何概率函数f(x)给出了在n次试验中有x次成功的概率  \n",
    "<hr />\n",
    "\n",
    "**超几何概率函数** (5-12)$$f(x)=\\frac{\\left(\\begin{matrix}r \\cr x\\end{matrix}\\right)\\left(\\begin{matrix}N-r \\cr n-x\\end{matrix}\\right)}{\\left(\\begin{matrix}N \\cr n\\end{matrix}\\right)}$$\n",
    "式中，x代表成功的次数;n代表试验次数;f(x)代表n次试验中x次成功的概率;N代表总体中元素个数;r代表总体中代表成功的元素的个数 5  \n",
    "<hr />\n",
    "\n",
    "注意，$\\left(\\begin{matrix}N \\cr n\\end{matrix}\\right)$表示从一个容量为N的总体中抽取n个元素的抽取方式数；$\\left(\\begin{matrix}r \\cr x\\end{matrix}\\right)$表示从总体的r个具有成功标志的元素中抽取x个元素的抽取方式数；$\\left(\\begin{matrix}N-r \\cr n-x\\end{matrix}\\right)$表示从总体N-r个具有失败标志的元素中抽取n-x个元素的抽取方式数  \n",
    "对于超几何概率分布，x是一个离散型随机变量，当x=0,1,2,3,…,n时，由式(5-12)给出的概率函数f(x)适用的  \n",
    "但是，只有观测到的成功次数小于或等于总体中的成功次数$(x\\le{r})$，并且观测到的失败次数小于或等于总体中的失败次数$(n-x\\le{N-r})$时，x的取值才是有效的 5  \n",
    "如果这两个条件对一个或多个x的值不成立，则f(x)=0表示:x取该值的概率为0  \n",
    "为说明如何利用式（5-12）进行计算，我们考虑下面的质量控制应用  \n",
    "安大略电器公司生产的保险丝每盒有12件。假定一名质检人员从一盒产品中随机抽取3件。若这盒产品中有5件保险丝是次品，则质检员从抽出的3件产品中恰好发现1件次品的概率是多少？  "
   ]
  },
  {
   "cell_type": "code",
   "execution_count": null,
   "metadata": {},
   "outputs": [],
   "source": [
    "'''\n",
    "对应上述公式  h.pmf(x,N,r,n)\n",
    "数据分析 常用代码 超几何概率函数\n",
    "scipy Statistical functions (scipy.stats) hypergeom()\n",
    "scipy Statistical functions (scipy.stats) hypergeom() h.pmf() \n",
    "'''\n",
    "prod_pmf = hypergeom.pmf(1,12,5,3)\n",
    "print('质检员从抽出的3件产品中恰好发现1件次品的概率={:.4f}'.format(prod_pmf))\n",
    "prod_pmf1 = 1-hypergeom.pmf(0,12,5,3)\n",
    "print('质检员从抽出的3件产品中至少发现1件次品的概率={:.4f} 5'.format(prod_pmf1))"
   ]
  },
  {
   "cell_type": "markdown",
   "metadata": {},
   "source": [
    "超几何分布的均值和方差如下$$E(x)=\\mu=n\\left(\\frac{r}{N}\\right)$$(5-13)\n",
    "$$Var(x)=\\sigma^2=n\\left(\\frac{r}{N}\\right)\\left(1-\\frac{r}{N}\\right)\\left(\\frac{N-n}{N-1}\\right)$$(5-14)"
   ]
  },
  {
   "cell_type": "code",
   "execution_count": null,
   "metadata": {},
   "outputs": [],
   "source": [
    "'''\n",
    "scipy Statistical functions (scipy.stats) hypergeom() p.var()\n",
    "scipy Statistical functions (scipy.stats) hypergeom() p.std()\n",
    "scipy Statistical functions (scipy.stats) hypergeom() p.mean()\n",
    "'''\n",
    "prod_mean=hypergeom.mean(12,5,3)\n",
    "prod_var =hypergeom.var(12,5,3)\n",
    "prod_std =hypergeom.std(12,5,3)\n",
    "print('有缺陷的保险丝件数的均值是{:.2f}，方差是{:.2f}，标准差是{:.2f}'.format(prod_mean,prod_var,prod_std))"
   ]
  },
  {
   "cell_type": "markdown",
   "metadata": {},
   "source": [
    "## 注释\n",
    "考虑n次试验的超几何分布，令p=r/N表示首次试验中成功的概率。当总体容量足够大的时候，式(5-14)中的（N-n)/(N-1)趋向于1。因此，当总体容量足够大的时候，超几何分布可以用试验次数为n，成功概率p=r/N的二项分布近似 5  \n",
    "\n",
    "# 小结\n",
    "随机变量是对试验结果的数值描述。随机变量的概率分布描述了随机变量取不同值的概率。对任何离散型随机变量，可以通过概率函数来定义概率分布，记作f(x)  \n",
    "它给出了随机变量取每一个值的概率。一旦定义了概率函数，就可以计算随机变量的数学期望、方差  \n",
    "二项分布可用来确定n次试验中有x次成功的概率，具有如下性质：  \n",
    "1. 试验由一系列相同的n个试验组成  \n",
    "2. 每次试验有两种可能的结果。一个称为成功，另一个称为失败  \n",
    "3. 成功的概率p不随试验的不同而概率。因此，失败的概率也不随试验不同而改变 5  \n",
    "4. 试验是相互独立的  \n",
    "\n",
    "当以上四条性质都满足时，可使用二项概率函数确定n次试验有x次成功的概率。还给出了计算二项分布的均值和方差的公式  \n",
    "柏松分布用于确定事件在一个时间段或空间中发生x次的概率。在应用柏松分布时，必须满足以下假设  \n",
    "1. 在任意两个长度相等的区间上，事件发生的概率是相同的  \n",
    "2. 事件在任一区间上是否发生与事件在其他区间上是否发生是独立 5  \n",
    "\n",
    "在5.6节介绍了第三种离散型概率分布——超几何概率分布。像二项分布一样，它也用于计算n次试验中有x次成功的概率，但与二项分布不同的是，歌词试验成功的概率不同 5 \n",
    "# 关键术语\n",
    "**随机变量**  试验结果的数值描述  \n",
    "**离散型随机变量**  由有限多个取值或无限可数多个取值的随机变量  \n",
    "**连续型随机变量**  在某一区间或多个区间内任意取值的随机变量  \n",
    "**概率分布**  一个概率如何在随机变量的可能取值上分布的描述  \n",
    "**概率函数**  一个记作f(x)函数，该函数给出了离散型随机变量x取特定值的概率 5  \n",
    "**离散型均匀概率分布**  一种概率分布，随机变量取每个值的概率相等  \n",
    "**数学期望**  对随机变量中心位置的一种度量  \n",
    "**方差**  对随机变量的变异性或离散性的一种度量  \n",
    "**标准差**  方差的算术平方根  \n",
    "**二项试验**  具有5.4节中4个性质的试验 5  \n",
    "**二项概率分布**  一种概率分布，给出二项试验中n次试验有x次成功的概率分布  \n",
    "**二项概率函数**  用来计算二项概率的函数  \n",
    "**柏松概率分布**  一种概率分布，给出在一段特定时间或空间中一个事件发生x次的概率  \n",
    "**泊松概率函数**  用来计算柏松概率的函数  \n",
    "**超几何概率分布**  一种概率分布，从具有r个“成功”元素和N-r个“失败”元素的总体中，抽取n次时恰好有x次成功概率 5  \n",
    "**超几何概率函数**  用来计算超几何概率的函数 5 \n",
    "# 重要公式\n",
    "(5-3)离散型均匀概率函数$$f(x)=1/n$$\n",
    "(5-4)离散型随机变量的数学期望$$E(x)=\\mu=\\Sigma{xf(x)}$$\n",
    "(5-5)离散型随机变量的方差$$Var(x)=\\sigma^2=\\Sigma{(x-\\mu)^2f(x)}$$  \n",
    "(5-6)在n次试验中恰有x次成功的试验结果的个数$$\\left(\\begin{matrix}n \\\\ x\\end{matrix}\\right)=\\frac{n!}{x!(n-x)!}$$  \n",
    "(5-8)二项概率函数 5$$f(x)=\\left(\\begin{matrix}n \\\\ x\\end{matrix}\\right)p^x(1-p)^{n-x}$$\n",
    "(5-9)二项分布的数学期望 $$E(x)=\\mu=np$$\n",
    "(5-10)二项分布的方差 $$Var(x)=\\sigma^2=np(1-p)$$\n",
    "(5-11)柏松概率函数 $$f(x)=\\frac{\\mu^xe^{-\\mu}}{x!}$$\n",
    "(5-12)超几何概率函数 $$f(x)=\\frac{\\left(\\begin{matrix} r \\\\ x \\end{matrix}\\right)\\left(\\begin{matrix} N-r \\\\ n-x \\end{matrix}\\right)}{\\left(\\begin{matrix}N \\\\ n\\end{matrix}\\right)}$$\n",
    "(5-13)超几何分布的数学期望 5$$E(x)=\\mu=n\\left(\\frac{r}{N}\\right)$$\n",
    "(5-14)超几何分布的方差 5$$Var(x)=\\sigma^2=n\\left(\\frac{r}{N}\\right)\\left(1-\\frac{r}{N}\\right)\\left(\\frac{N-n}{N-1}\\right)$$"
   ]
  }
 ],
 "metadata": {
  "kernelspec": {
   "display_name": "Python 3",
   "language": "python",
   "name": "python3"
  },
  "language_info": {
   "codemirror_mode": {
    "name": "ipython",
    "version": 3
   },
   "file_extension": ".py",
   "mimetype": "text/x-python",
   "name": "python",
   "nbconvert_exporter": "python",
   "pygments_lexer": "ipython3",
   "version": "3.7.6"
  },
  "toc": {
   "base_numbering": 1,
   "nav_menu": {},
   "number_sections": false,
   "sideBar": true,
   "skip_h1_title": false,
   "title_cell": "Table of Contents",
   "title_sidebar": "Contents",
   "toc_cell": false,
   "toc_position": {},
   "toc_section_display": true,
   "toc_window_display": true
  }
 },
 "nbformat": 4,
 "nbformat_minor": 2
}
