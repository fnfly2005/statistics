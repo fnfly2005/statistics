{
 "cells": [
  {
   "cell_type": "code",
   "execution_count": null,
   "metadata": {},
   "outputs": [],
   "source": [
    "from scipy.stats import uniform\n",
    "from scipy.stats import norm\n",
    "from scipy.stats import expon\n",
    "import numpy as np\n",
    "import matplotlib.pyplot as plt"
   ]
  },
  {
   "cell_type": "markdown",
   "metadata": {},
   "source": [
    "# 实践中的统计\n",
    "保洁公司生产和销售诸如洗涤剂、纸尿布、非处方类的药品、牙膏、肥皂、漱口水和纸巾等产品  \n",
    "作为在决策中应用统计方法的领导者，宝洁公司雇佣具有各种学术背景的人士：工程学、统计学、运筹学和商务  \n",
    "这些人提供的主要定量技术是概率决策和风险分析、高级模拟、质量改进和数量方法（例如，线性规划、回归分析、概率分析）  \n",
    "宝洁公司的工业化学品部想知道扩建其脂肪乙醇生产设备的经济风险和机会，于是求助于宝洁公司概率决策和风险分析领域的专家  \n",
    "经过对问题的模拟分析，他们确定获利能力的关键在于以石油为原料和以椰子为原料的成本差异。未来成本是未知的，但是分析人员能用下列连续型随机变量对他们进行描述 5  \n",
    "x——提取1磅脂肪乙醇所需椰子油的成本;  \n",
    "y——提取1磅脂肪乙醇所需石油原料的成本;  \n",
    "由于盈利能力的关键是这两个随机变量间的差，于是在分析中引入第三个随机变量d=x-y。首先与专家们访谈后确定x和y的概率分布。然后，根据这些信息建立价格差d的概率分布  \n",
    "这个连续型概率分布表明，价格差小于等于0.0655美元的概率是0.9，价格差小于等于0.035美元的概率是0.5。另外，价格差小于等于0.0045美元的概率只有0.10  \n",
    "工业化学品部认为，将原材料价格差的影响量化是达成共识的关键。利用所得到的概率对原材料的价格差进行灵敏度分析。这一分析将为管理层的决策提供充分的依据 5  \n",
    "本章，您将会得到对连续型随机变量极其概率分布的人士，包括统计学中最重要的概率分布——正态分布  \n",
    "第5章我们介绍了离散型随机变量极其概率分布。本章我们转向研究连续型随机变量。我们特别讨论了三种连续型概率分布：均匀概率分布、正态概率分布和指数概率分布  \n",
    "离散型随机变量和连续型随机变量之间最根本的区别在于二者在概率计算上是不同的  \n",
    "对于一个离散型随机变量，概率函数f(x)给出了随机变量x取某个特定值的概率。而对连续型随机变量，与概率函数相对应的是**概率密度函数**，也记作f(x)  \n",
    "不同的是，概率密度函数并没有直接给出概率。但是，给定区间上曲线f（x）下的面积，给出连续型随机变量在该区间取值的概率 5  \n",
    "由于在任一特定点上曲线f(x)下的面积为零，所以连续型随机变量概率的定义意味着它取任一特定值的概率为零。在6.1节，我们以服从均匀分布的连续型随机变量为例来说明这些概率  \n",
    "本章的大部分内容致力于描述和展示正态分布的应用。正态分布式非常重要的分布，它具有广泛的适用性并且在统计推断中被广泛使用  \n",
    "最后，以对指数分布的讨论结束本章。在涉及诸如等待时间和服务时间等因素的应用上，指数分布非常有用 5  \n",
    "# 6.1 均匀概率分布\n",
    "考虑随机变量x表示从芝加哥飞往纽约的某航班的飞行时间。假定飞行时间可以是120-140分钟区间中的任意值。因此x不是离散型随机变量而是一个连续型随机变量  \n",
    "假定有足够多的实际飞行数据可以得出结论：对于较大区间120-140分钟内的任意两个1分钟的子区间，飞行时间在这两个子区间的概率是相同的  \n",
    "由于飞行时间在每个1分钟的子区间内是等可能的，因此我们说，随机变量x有一个**均匀概率分布**。飞行时间是服从均匀分布的随机变量，它的概率密度函数为$$f(x)=\\begin{cases}1/20 &120\\le{x}\\le140  \\\\ 0&其他\\end{cases}$$  \n",
    "图6-1是这一概率密度函数的图形。在一般情形下，如果一个随机变量x服从均匀概率分布，则它的密度函数由下面的公式给出 5  \n",
    "![6-1](../syn_pic/statistics_for_business_economics/6-1.png)\n",
    "<center>图6-1 飞行时间的均匀概率分布</center>\n",
    "\n",
    "<hr />\n",
    "\n",
    "**均匀概率密度函数**（6-1）$$f(x)=\\begin{cases}\\frac{1}{b-a}&a\\le{x}\\le{b}  \\\\ 0&其他\\end{cases}$$\n",
    "<hr />\n",
    "\n",
    "正如前文所提及的那样，对于一个连续型随机变量，我们仅仅按照某一随机变量在一特定区间内取值的可能性来考虑概率  \n",
    "在下一小节，我们说明这一概率可以通过计算在区间[120,130] 上曲线f(x)下的面积来得到（见图6-2）  \n",
    "![6-2](../syn_pic/statistics_for_business_economics/6-2.png)  \n",
    "<center>图6-2 面积是飞行时间在120~130分钟之间的概率 5</center>\n",
    "\n",
    "## 作为一个概率测度的面积\n",
    "我们观察一下图6-2。考虑区间120-130上曲线f(x)下的面积。该区域是长方形，长方形的面积等于宽乘高  \n",
    "一旦确定了概率密度函数f(x)，则x在某一较小值$x_1$和某一较大值$x_2$之间取值的概率可通过计算在区间$[x_1,x_2]$上曲线f(x)下的面积而得到  \n",
    "假定飞行时间服从均匀分布并将面积解释为概率，我们就可以回答许多关于飞行时间的概率问题。例如，飞行时间在128-136分钟间的概率是多少？"
   ]
  },
  {
   "cell_type": "code",
   "execution_count": null,
   "metadata": {},
   "outputs": [],
   "source": [
    "'''\n",
    "scipy Statistical functions (scipy.stats) uniform() \n",
    "scipy Statistical functions (scipy.stats) uniform() u.pdf()  \n",
    "'''\n",
    "def uniformPdf(start,end,loc,scale):\n",
    "    '''\n",
    "    数据分析 常用代码 均匀概率面积\n",
    "    start：统计区间下限\n",
    "    end：统计区间上限\n",
    "    loc: 均匀概率起始值\n",
    "    scale：均匀概率范围\n",
    "    返回：统计区间概率（面积）\n",
    "    '''\n",
    "    return uniform.pdf(loc,loc,scale)*(end-start)\n",
    "\n",
    "\n",
    "ft_pdf=uniformPdf(128,136,120,20)\n",
    "print('我们得到P={:.2f}'.format(ft_pdf))"
   ]
  },
  {
   "cell_type": "markdown",
   "metadata": {},
   "source": [
    "注意，$P(120\\le{x}\\le140)=20\\times1/20=1$，即曲线f(x)下的总面积等于1.所有连续型概率分布都具有这一性质，这与离散型概率函数的概率之和必须等于1的情况类似  \n",
    "对连续型概率密度函数，我们还要求对所有的x值必须满足$f(x)\\ge0$，这与离散型概率函数要求$f(x)\\ge0$是类似的  \n",
    "连续型随机变量和离散型随机变量的处理方法主要存在以下两方面的区别 5  \n",
    "1. 我们不再讨论随机变量取某一特定值的概率。取而代之，我们讨论随机变量在某一给定区间上取值的概率  \n",
    "2. 连续型随机变量在某一给定区间$[x_1,x_2]$上取值的概率被定义为在区间$[x_1,x_2]$上概率密度函数f(x)曲线下的面积  \n",
    "    因为单点是宽度为零的区间，这意味着连续型随机变量取某一特定值的概率为零  \n",
    "    为说明任一单一点概率为0，参考图6-2并且计算某个单一点的概率，比如说，x=125，$P(x=125)=P(125\\le{x}\\le125)=0\\times(1/20)=0$  \n",
    "\n",
    "连续型随机变量的数学期望和方差的计算与离散型随机变量类似 5  \n",
    "对于本节介绍的连续型概率分布，均匀分布的数学期望和方差是$$E(x)=\\frac{a+b}{2}$$\n",
    "$$Var(x)=\\frac{(b-a)^2}{12}$$  \n",
    "式中，a是随机变量可以取的最小值，b是随机变量可以取的最大值  \n",
    "把这些公式用于服从均匀概率分布的从芝加哥到纽约的飞行时间，我们得到  "
   ]
  },
  {
   "cell_type": "code",
   "execution_count": null,
   "metadata": {},
   "outputs": [],
   "source": [
    "'''\n",
    "5 \n",
    "scipy Statistical functions (scipy.stats) uniform() u.mean()\n",
    "scipy Statistical functions (scipy.stats) uniform() u.var()\n",
    "scipy Statistical functions (scipy.stats) uniform() u.std()\n",
    "'''\n",
    "ft_mean=uniform.mean(120,20)\n",
    "ft_var=uniform.var(120,20)\n",
    "ft_std=uniform.std(120,20)\n",
    "print('飞行时间的数学期望是{:.0f}，方差是{:.2f}，标准差是{:.2f}'.format(ft_mean,ft_var,ft_std))"
   ]
  },
  {
   "cell_type": "markdown",
   "metadata": {},
   "source": [
    "## 注释\n",
    "为了更清楚地说明为什么概率密度函数的高度不是概率，考虑一个具有下列均匀概率分布的随机变量$$f(x)=\\begin{cases}2&0\\le{x}\\le0.5 \\\\ 0&其他\\end{cases}$$\n",
    "x值在0和0.5之间的概率密度函数的高度是2。然后，我们知道概率不可能大于1，因此，f(x)并非x的概率  \n",
    "\n",
    "# 6.2 正态概率分布\n",
    "**正态概率分布**是描述连续型随机变量最重要的概率分布  \n",
    "正态分布有着广泛的实际应用，比如，人的身高和体重、考试成绩、科学测量、降雨量以及其他类似的问题，都近似服从正态概率分布。这些应用中，正态分布是对抽样可能得到的结果的描述  \n",
    "## 6.2.1 正态曲线  \n",
    "正态分布的性质或形态可以通过图6-3正态分布的钟型曲线来说明。正态分布钟型曲线的概率密度函数定义如下  \n",
    "![6-3](../syn_pic/statistics_for_business_economics/6-3.png)  \n",
    "<center>图6-3 正态分布的钟型曲线</center>\n",
    "\n",
    "<hr />\n",
    "\n",
    "（6-2）**正态概率密度函数** 5$$f(x)=\\frac{1}{\\sigma\\sqrt{2\\pi}}e^{-(x-\\mu)^2/2\\sigma^2}$$\n",
    "<hr />\n",
    "\n",
    "我们观察到一些正态分布的特征   \n",
    "1. 所有的正态分布构成一个分布族，分布因均值$\\mu$和标准差$\\sigma$两个参数的不同而变化  \n",
    "2. 正态曲线的最高点在均值处，均值也是分布的中位数和众数  \n",
    "3. 分布的均值可以是任意数值：负数、零或正数。图6-4显示了有相同的标准差但有不同均值（10、0和20）的三个正态分布  \n",
    "    ![6-4](../syn_pic/statistics_for_business_economics/6-4.png)\n",
    "    <center>图6-4 有相同的标准差但有不同均值的三个正态分布</center>\n",
    "    \n",
    "4. 正态分布是对称的。均值左边的曲线形状是均值右边的曲线形状的镜像。曲线的尾端向两个方向无限延伸，且理论上永远不会与横轴相交。由于正态分布是对称的，从而它不是偏斜的，偏度为0。 5  \n",
    "5. 标准差决定曲线的宽度和平坦程度。标准差越大则曲线越宽、越平坦，表明数据有更大的变异性。图6-5显示了有相同均值但有不同标准差的两个正态分布  \n",
    "    ![6-5](../syn_pic/statistics_for_business_economics/6-5.png)  \n",
    "    <center>图6-5 有相同的均值但有不同标准差的两个正态分布</center>\n",
    "    \n",
    "6. 正态随机变量的概率由正态曲线下的面积给出。正态分布曲线下的总面积是1。由于分布是对称的，曲线下方均值左侧的面积为0.5  \n",
    "7. 在一些常用区间内取值的百分比是：\n",
    "    + 正态随机变量有68.3%的值在均值加减一个标准差的范围内  \n",
    "    + 正态随机变量有95.4%的值在均值加减两个标准差的范围内 5  \n",
    "    + 正态随机变量有99.7%的值在均值加减三个标准差的范围内  \n",
    "    \n",
    "   图6-6用图形显示了上述3个性质  \n",
    "   ![6-6](../syn_pic/statistics_for_business_economics/6-6.png)\n",
    "    <center>图6-6 正态概率分布曲线下的面积</center>  \n",
    "\n",
    "## 6.2.2 标准正态概率分布  \n",
    "如果一个随机变量服从均值为0、标准差为1的正态分布，则称该随机变量服从**标准正态概率分布**。图6-7是标准正态概率图，它与其他正态分布有相同的形状、不同的是$\\mu=0$和 $\\sigma=1$  \n",
    "![6-7](../syn_pic/statistics_for_business_economics/6-7.png)\n",
    "<center>图6-7 标准正态分布 5</ center>  \n",
    "   \n",
    "由于$\\mu=0$和 $\\sigma=1$，标准正态概率密度函数是式（6-2）的一个更简单的形式  \n",
    "<hr />\n",
    "\n",
    "**标准正态密度函数**$$f(x)=\\frac{1}{\\sqrt{2\\pi}}e^{-x^2/2}$$\n",
    "<hr />\n",
    "\n",
    "与其他连续型随机变量一样，任意一个正态分布的概率可以通过计算概率密度函数曲线下的面积得出  \n",
    "对于标准正态分布，正态曲线下的面积已计算出来并已经编制成表，从而可以用于计算概率  \n",
    "我们需要计算三种类型的概率：1. 标准正态随机变量z小于或等于一给定值的概率；2. z在两个给定值之间的概率；3. z大于或等于一给定值的概率 5  \n",
    "首先，我们说明怎样计算标准正态随机变量z小于或等于1.00的概率;即$P(z\\le1.00)$。这个累积概率是图6-8中z=1.00左边正态曲线下的面积  \n",
    "![6-8](../syn_pic/statistics_for_business_economics/6-8.png)\n",
    "<center>图 6-8</center>"
   ]
  },
  {
   "cell_type": "code",
   "execution_count": null,
   "metadata": {},
   "outputs": [],
   "source": [
    "'''\n",
    "scipy Statistical functions (scipy.stats) norm()\n",
    "scipy Statistical functions (scipy.stats) norm() n.cdf()\n",
    "'''\n",
    "norm_cdf=norm.cdf(1)\n",
    "print('累积概率P（z≤1.00）={:.4f}'.format(norm_cdf))"
   ]
  },
  {
   "cell_type": "markdown",
   "metadata": {},
   "source": [
    "下面我们通过计算z在区间-0.50~1.25的概率，即P(-0.50≤z≤1.25)来说明如何计算第二种类型的概率。图6-9显示了这一面积或概率  \n",
    "![6-9](../syn_pic/statistics_for_business_economics/6-9.png)\n",
    "<center>图 6-9 5</center>"
   ]
  },
  {
   "cell_type": "code",
   "execution_count": null,
   "metadata": {},
   "outputs": [],
   "source": [
    "'''\n",
    "数据分析 常用代码 正态分布区间概率\n",
    "scipy Statistical functions (scipy.stats) norm() n.cdf()  \n",
    "python str s.format() f  \n",
    "'''\n",
    "def norm_diffcdf(start,end,loc=0,scale=1):\n",
    "    '''\n",
    "    start:start z\n",
    "    end: end z\n",
    "    return P\n",
    "    '''\n",
    "    return norm.cdf(end,loc,scale)-norm.cdf(start,loc,scale)\n",
    "\n",
    "norm_diff=norm_diffcdf(-0.5,1.25)\n",
    "print('累积概率P（-0.5≤z≤1.25）={:.4f}'.format(norm_diff))"
   ]
  },
  {
   "cell_type": "markdown",
   "metadata": {},
   "source": [
    "为了说明如何计算第三种类型的概率，假定我们想要计算z值至少为1.58的概率；即P(z≥1.58)。图6-11显示了这一概率  \n",
    "![6-11](../syn_pic/statistics_for_business_economics/6-11.png)"
   ]
  },
  {
   "cell_type": "code",
   "execution_count": null,
   "metadata": {},
   "outputs": [],
   "source": [
    "'''\n",
    "scipy Statistical functions (scipy.stats) norm() n.sf()  \n",
    "'''\n",
    "norm_sf=norm.sf(1.58)\n",
    "print('累积概率P（z≥1.58）={:.4f}'.format(norm_sf))"
   ]
  },
  {
   "cell_type": "markdown",
   "metadata": {},
   "source": [
    "在前面的例子中，我们展示了如何计算给定的z值的概率。在某些情况下，我们给定给一个概率，感兴趣的问题是反过来求相应的z值。假定，我们想要求出z值，使得大于z值的概率为0.10，。图6-12显示了这一情况 5  \n",
    "![6-12](../syn_pic/statistics_for_business_economics/6-12.png)"
   ]
  },
  {
   "cell_type": "code",
   "execution_count": null,
   "metadata": {},
   "outputs": [],
   "source": [
    "'''\n",
    "scipy Statistical functions (scipy.stats) norm() n.ppf()  \n",
    "'''\n",
    "norm_descppf=norm.ppf(1-0.1)\n",
    "print('累积概率P为0.9时，z={:.2f}'.format(norm_descppf))"
   ]
  },
  {
   "cell_type": "markdown",
   "metadata": {},
   "source": [
    "这些例子说明了标准正态分布的累积概率表可以用于求出与标准正态随机变量z值相联系的概率。可以回答两类问题  \n",
    "第一类问题是，指定z的一个或多个值，要求我们利用概率表确定相应的面积或概率。第二类问题是，给出一个面积或概率，要求我们利用概率表确定相应的z值  \n",
    "## 6.2.3 计算任一正态概率分布的概率\n",
    "我们如此深入地讨论标准正态分布的原因在于，所有正态分布的概率都可以利用标准正态分布来计算。用来把具有均值$\\mu$和标准差$\\sigma$的任一正态随机变量x转换为标准正态随机变量z的公式，如下所示  \n",
    "<hr />\n",
    "\n",
    "(6-3)**转换为标准正态随机变量** 5$$z=\\frac{x-\\mu}{\\sigma}$$\n",
    "<hr />\n",
    "\n",
    "换句话说，如果用标准差来度量正态随机变量x与其均值$\\mu$之间的差，我们可以把z解释成正态随机变量x与其均值$\\mu$之差按其标准差度量的倍数  \n",
    "为了说明这一转换怎样能够使我们计算任意正态分布的概率，假定我们有一个$\\mu=10$和$\\sigma=2$的正态分布。随机变量x在10与14之间的概率是多少？  "
   ]
  },
  {
   "cell_type": "code",
   "execution_count": null,
   "metadata": {},
   "outputs": [],
   "source": [
    "'''\n",
    "scipy Statistical functions (scipy.stats) norm() loc/scale\n",
    "'''\n",
    "scalenorm=norm_diffcdf(10,14,10,2)\n",
    "print('累积概率P（10≤x≤14）={:.4f}'.format(scalenorm))"
   ]
  },
  {
   "cell_type": "markdown",
   "metadata": {},
   "source": [
    "## 6.2.4 Grear 轮胎公司的问题\n",
    "现在我们转向正态概率分布的应用。假定Grear轮胎公司刚刚开发了一种新的钢带子午线轮胎，将通过全美连锁折扣商店出售。在最终落实轮胎行驶里程保证政策之前，Grear公司经理需要有关论坛可行驶里程x的概率信息  \n",
    "根据对轮胎的实际道路测试，Grear公司的工程小组已估计出轮胎可行驶理财的均值$\\mu=36500$英里，标准差$\\sigma=5000$英里 5  \n",
    "另外，收集的数据表明正态分布是一个合理的假设。预期轮胎可持续行驶里程超过40000英里的比例有多大？这一问题可以通过计算图6-13深色阴影区域的面积来回答  \n",
    "![6-13](../syn_pic/statistics_for_business_economics/6-13.png)"
   ]
  },
  {
   "cell_type": "code",
   "execution_count": null,
   "metadata": {},
   "outputs": [],
   "source": [
    "'''\n",
    "python str s.format() %\n",
    "'''\n",
    "mileage=40000\n",
    "tire_prop=norm.sf(mileage,36500,5000)\n",
    "print('大约{:.1%}的轮胎行驶里程将超过{}英里'.format(tire_prop,mileage))"
   ]
  },
  {
   "cell_type": "markdown",
   "metadata": {},
   "source": [
    "现在让我们假设Grear公司正在考虑一项质量保证：如果轮胎的行驶里程没有达到质量保证规定的里程，公司将以折扣价提供更换轮胎的服务  \n",
    "如果Grear为了保证轮胎质量，希望符合折扣质量保证条件的轮胎不超过10%，则质量保证里程应为多少英里？图6-14是对这一问题的一个图解 5  \n",
    "![6-14](../syn_pic/statistics_for_business_economics/6-14.png)"
   ]
  },
  {
   "cell_type": "code",
   "execution_count": null,
   "metadata": {},
   "outputs": [],
   "source": [
    "'''\n",
    "scipy Statistical functions (scipy.stats) norm() loc/scale\n",
    "scipy Statistical functions (scipy.stats) norm() n.ppf()\n",
    "'''\n",
    "tire_mileage=norm.ppf(q=0.1,loc=36500,scale=5000)\n",
    "print('质量保证里程应为{:.0f}英里'.format(tire_mileage))"
   ]
  },
  {
   "cell_type": "markdown",
   "metadata": {},
   "source": [
    "我们再一次看到了概率分布在提供决策所需信息方面所起的重要作用。即一旦对某一特定应用问题确定了其概率分布，就可以取得有关问题的概率信息  \n",
    "概率并不直接给出决策建议，但它提供信息。这些信息能帮助决策者更好地了解与问题相关的风险和不确定性。最终，这一信息可以辅助决策者制定一项好的决策 5  \n",
    "# 6.3 二项概率的正态近似  \n",
    "在5.4节我们介绍了离散型二项分布。二项随机变量是n次试验中成功的次数，涉及的概率问题是关于n次试验中有x次成功的概率  \n",
    "当试验次数很大时，用手或计算器计算二项概率函数是很困难的，在np≥5和n(1-p)≥5情况下，正态分布是对二项概率分布的一个简便易行的近似。当使用正态分布近似二项分布时，我们设正态曲线的$\\mu=np,\\sigma=\\sqrt{np(1-p)}$  \n",
    "让我们举例说明二项分布的正态近似。假定历史数据表明，某公司的发票出错率为10%。现抽取100张发票组成一个样本，我们想计算有12张发票有错的概率。一个具有$\\mu=10$，标准差$\\sigma=3$的正态分布如图6-15所示  \n",
    "![6-15](../syn_pic/statistics_for_business_economics/6-15.png)\n",
    "<center>图6-15 n=100,p=0.1的二项概率分布，有12次错误概率的正态近似</center>\n",
    "\n",
    "我们记得，对连续性概率分布，概率是通过计算概率密度函数下的面积得到的。因此，随机变量取任意单个值的概率为0。于是，为了近似有12次成功的二项概率，11.5和12.5是由12加减0.5得到的，我们称0.5为**连续性校正因子** 5  "
   ]
  },
  {
   "cell_type": "code",
   "execution_count": null,
   "metadata": {},
   "outputs": [],
   "source": [
    "'''\n",
    "数据分析 常用代码 二项概率的正态近似概率 \n",
    "numpy Mathematical functions np.sqrt()\n",
    "scipy Statistical functions (scipy.stats) norm() n.pdf()\n",
    "'''\n",
    "def binoApprNorm(x,n,p):\n",
    "    '''\n",
    "    x：需要计算的x值，想要的成功次数\n",
    "    n：二项概率分布的抽取数量\n",
    "    p：根据历史数据得到的数学期望\n",
    "    返回：n次抽取中成功次数恰为x的概率\n",
    "    '''\n",
    "    mu=n*p\n",
    "    sigma=np.sqrt(n*p*(1-p))\n",
    "    return norm.pdf(x,mu,sigma)\n",
    "\n",
    "ban = binoApprNorm(12,100,0.1)\n",
    "print('抽取100张发票中恰有12张发票有错的概率={:.4f}'.format(ban))"
   ]
  },
  {
   "cell_type": "markdown",
   "metadata": {},
   "source": [
    "再举一个例子，假定由100张发票组成一个样本，我们想计算在样本中有不超过13张发票出现错误的概率。图6-16中正态曲线下的面积是对这一概率的近似  \n",
    "![6-16](../syn_pic/statistics_for_business_economics/6-16.png)"
   ]
  },
  {
   "cell_type": "code",
   "execution_count": null,
   "metadata": {},
   "outputs": [],
   "source": [
    "'''\n",
    "数据分析 常用代码 二项概率的正态近似概率 5\n",
    "scipy Statistical functions (scipy.stats) norm() n.cdf()\n",
    "'''\n",
    "def binoApprNorm_cdf(x,n,p):\n",
    "    '''\n",
    "    x：需要计算的x值，想要的至少成功次数\n",
    "    n：二项概率分布的抽取数量\n",
    "    p：根据历史数据得到的数学期望\n",
    "    返回：n次抽取中成功次数恰为x的概率\n",
    "    '''\n",
    "    mu=n*p\n",
    "    sigma=np.sqrt(n*p*(1-p))\n",
    "    return norm.cdf(x,mu,sigma)\n",
    "\n",
    "banc = binoApprNorm_cdf(13,100,0.1)\n",
    "print('抽取100张发票中至少有13张发票有错的概率={:.4f}'.format(banc))"
   ]
  },
  {
   "cell_type": "markdown",
   "metadata": {},
   "source": [
    "# 6.4 指数概率分布\n",
    "对于诸如到达一家洗车房的两辆汽车的时间间隔、装载一辆货车所需的时间、公路上两起重大事故之间的距离等随机变量，可以用**指数概率分布**来描述。指数概率密度函数如下：  \n",
    "<hr />\n",
    "\n",
    "(6-4)**指数概率密度函数**$$f(x)=\\frac{1}{\\mu}e^{-x/\\mu}$$\n",
    "$x\\ge0$  \n",
    "式中，$\\mu$代表期望值或均值\n",
    "<hr />\n",
    "\n",
    "作为指数概率分布的一个例子，假设x表示一辆火车在Schips码头的装货时间，则x服从指数概率分布。如果装货时间的期望值或平均值是15分钟（$\\mu=15$），则x的概率密度函数是$$f(x)=\\frac{1}{15}e^{-x/15}$$\n",
    "图6-17是这一概率密度函数的图形  \n",
    "![6-17](../syn_pic/statistics_for_business_economics/6-17.png)\n",
    "<center>图6-17 Schips码头例子的指数分布 5</center>\n",
    "\n",
    "## 6.4.1 计算指数分布的概率\n",
    "与任意连续型概率分布一样，与某一区间相对应的曲线下面积给出了随机变量在该区间上取值的概率。我们注意到，一辆货车的装货时间在6-18分钟（$6\\le{x}\\le18$）之间的概率是从x=6到x=18的曲线下的面积  \n",
    "为了计算诸如刚才描述的这些指数分布，我们使用下列公式。它给出指数随机变量取值小于或等于某一特定值（用$x_0$表示）的累积概率  \n",
    "<hr />\n",
    "\n",
    "**指数分布：累积概率**$$P(x\\le{x_0})=1-e^{x_0/\\mu}$$\n",
    "<hr />\n"
   ]
  },
  {
   "cell_type": "code",
   "execution_count": null,
   "metadata": {},
   "outputs": [],
   "source": [
    "'''\n",
    "scipy Statistical functions (scipy.stats) expon()\n",
    "scipy Statistical functions (scipy.stats) expon() loc/scale\n",
    "scipy Statistical functions (scipy.stats) expon() e.cdf()\n",
    "'''\n",
    "def exponDiffProp(start,end,mu):\n",
    "    '''\n",
    "    指数概率分布 计算指数分布的概率 计算指数分布的概率 \n",
    "    start：需要计算的起始x变量\n",
    "    end：需要计算的起始x变量\n",
    "    mu：根据历史数据得到的数学期望\n",
    "    返回：在start和endx变量之间的概率\n",
    "    '''    \n",
    "    return expon.cdf(end,scale=mu)-expon.cdf(start,scale=mu)\n",
    "\n",
    "truckLoadProp=exponDiffProp(6,18,15)\n",
    "print('一辆货车的装货时间在6-18分钟之间的概率={:.4f}'.format(truckLoadProp))"
   ]
  },
  {
   "cell_type": "code",
   "execution_count": null,
   "metadata": {},
   "outputs": [],
   "source": [
    "'''\n",
    "5  \n",
    "scipy Statistical functions (scipy.stats) expon() e.var()\n",
    "scipy Statistical functions (scipy.stats) expon() e.mean()\n",
    "scipy Statistical functions (scipy.stats) expon() e.std()\n",
    "'''\n",
    "truck_var=expon.var(scale=15)\n",
    "truck_mean=expon.mean(scale=15)\n",
    "truck_std=expon.std(scale=15)\n",
    "print('指数分布的一个性质是，分布的均值和标准差相等')\n",
    "print('一辆货车时间的均值是{:.0f}，其方差是{:.0f},标准差是{:.0f}'.format(truck_mean,truck_var,truck_std))"
   ]
  },
  {
   "cell_type": "markdown",
   "metadata": {},
   "source": [
    "## 6.4.2 柏松分布与指数分布的关系\n",
    "作为一个离散型概率分布，我们在5.5节介绍了柏松分布，该分布在观察一个事件在一特定事件区间或空间上发生的次数时往往是有用的。我们记得，柏松分布的概率函数是$$f(x)=\\frac{\\mu^xe^{-\\mu}}{x!}$$  \n",
    "式中，$\\mu$是在某一特定区间上一个事件发生次数的期望值或平均值  \n",
    "连续型指数概率分布与离散型柏松分布的关系在于，如果柏松分布给出了一个事件在每个区间出现次数的适当描述，则指数分布给出了一个事件出现两次之间的区间长度的描述  \n",
    "为了说明这种关系，假设在一小时内到达一家洗车房的汽车数用柏松概率分布描述，均值为每小时10辆。则两辆汽车到达洗车房的时间间隔的均值为$\\frac{1小时}{10辆车}=0.1小时/辆$ 5  \n",
    "如果到达服从一个柏松分布，那么两次到达之间的时间一定服从一个指数分布  \n",
    "## 注释\n",
    "正如我们在图6-17中所看到的那样，指数分布是右偏的。确实，指数分布的偏度为2.指数分布是偏度分布的一个实例 5  \n",
    "# 小结\n",
    "本章把对概率分布的讨论推广到连续型随机变量的情况。离散型和连续型概率分布的主要区别在于计算概率的方法不同  \n",
    "我们详细介绍了三种连续型概率分布——均匀分布、正态分布和指数分布  \n",
    "# 关键术语\n",
    "**概率密度函数** 用于计算连续型随机变量概率的函数。用某一区间上概率密度函数曲线下的面积来表示概率  \n",
    "**均匀概率分布** 一种连续型概率分布，其随机变量在等长度的每一区间上取值的概率都相同  \n",
    "**正态概率分布** 一种连续型概率分布，其概率密度函数呈钟形，由均值$\\mu$和标准差$\\sigma$确定  \n",
    "**标准正态概率分布** 均值为0，标准差为1的正态分布  \n",
    "**连续性校正因子** 当用连续型正态概率分布来近似离散型二项概率分布时，从x中加上或减去的数值0.5 5  \n",
    "**指数概率分布** 一种连续型概率分布，用于计算完成一项任务所需时间的概率 5  \n",
    "# 重要公式\n",
    "均匀概率密度函数（6-1）$$f(x)=\\begin{cases}\\frac{1}{b-a}&a\\le{x}\\le{b} \\\\ 0&其他\\end{cases}$$  \n",
    "正态概率密度函数（6-2）$$f(x)=\\frac{1}{\\sigma\\sqrt{2\\pi}}e^{-(x-\\mu)^2/2\\sigma^2}$$\n",
    "标准正态随机变量的变换（6-3）$$z=\\frac{x-\\mu}{\\sigma}$$\n",
    "指数概率密度函数（6-4）$$f(x)=\\frac{1}{\\mu}e^{-x/\\mu},x\\ge0$$\n",
    "指数分布：累计概率（6-5）$$P(x\\le{x_0})=1-e^{-x_0/\\mu}$$\n",
    "# 案例6-1\n",
    "**Specialty玩具公司**  \n",
    "Specialty玩具公司销售各种各样的新款有创意的玩具。Specialty公司发现一种新款玩具颇具市场潜力，于是决定从10月起将其投放市场  \n",
    "为保证商场在10月份使玩具能按期到货，Specialty公司在每年的6月或者7月向制造商下达订单  \n",
    "公司所面临的最重要的问题是决定：应订购多少新玩具，以应付预期的销售需求。如果订购数量太少，可能丧失销售收入；如果订购数量过大，则可能由于低价销售玩具而减少利润  \n",
    "Specialty公司计划下一季度向市场推出一种名为Weather Teddy的新产品  \n",
    "玩具熊中内置一个晴雨表，由五种可供选择的预测天气情况的回答：从“天气真不错，好好玩吧”到“我想今天也许有雨，别忘了带伞”等 5  \n",
    "管理层的成员建议订购的数量分别是15000只、18000只、24000只或28000只。生产管理部门要求你对不同的订购方案，分析库存缺货的概率，估计潜在利润并推荐一种订购方案  \n",
    "每个玩具熊的成本为16美元，Specialty公司希望以24美元的价格出售。如果节日过后仍有存货，Specialty公司将以5美元的价格清仓销售  \n",
    "根据以往销售类似产品的历史资料，Specialty公司的资深销售专家预计，玩具熊的期望需求量为20000只，需求量在10000-30000只的概率为0.95  \n",
    "**管理报告**  \n",
    "准备一份管理报告说明下列问题，并推荐玩具熊的一种订购数量方案  \n",
    "1. 根据资深销售预测专家的预计，用一个正态概率分布来近似需求量的分布。简略说明该分布，给出其均值和标准差 5  \n",
    "2. 计算管理层成员所推荐的订购数量方案的库存缺货概率  \n",
    "3. 对于管理层成员所推荐的订购数量方案，在下面的三种情形下，计算预期利润。最坏的情形：销售量为10000只；最可能出现的情形：销售量为20000只；最好的情形：销售量为30000只  \n",
    "4. Specialty公司的一名经理认为产品的潜在利润很高，因此订购数量满足市场需求的概率应该有70%，库存缺货的概率仅有30%。在这种情形下，玩具熊的订购数量将会是多少，在上述三种情形下，预期利润是多少？  \n",
    "5. 给出你推荐的订购数量方案及利润预测。对你推荐方案的合理性做出解释  "
   ]
  },
  {
   "cell_type": "code",
   "execution_count": null,
   "metadata": {
    "scrolled": false
   },
   "outputs": [],
   "source": [
    "'''\n",
    "问题1 5  \n",
    "numpy Mathematical functions np.maximum()\n",
    "scipy Statistical functions (scipy.stats) norm() n.ppf()\n",
    "scipy Statistical functions (scipy.stats) norm() loc/scale\n",
    "numpy Array creation routines np.linspace() num\n",
    "scipy Statistical functions (scipy.stats) norm() n.pdf()\n",
    "matplotlib axes a.plot()\n",
    "'''\n",
    "spe_max_de=30000\n",
    "spe_min_de=10000\n",
    "mu=20000\n",
    "# 数值方法 经验法则 应用\n",
    "std=np.max([np.abs(spe_max_de-mu),np.abs(spe_min_de-mu)])/2\n",
    "\n",
    "# 正态概率分布 正态分布图  正态分布图\n",
    "fig, ax = plt.subplots(1, 1)\n",
    "x = np.linspace(norm.ppf(0.01,loc=mu,scale=std),\n",
    "                norm.ppf(0.99,loc=mu,scale=std), 100)\n",
    "ax.plot(x, norm.pdf(x,loc=mu,scale=std))\n",
    "plt.show()\n",
    "print('均值={:.0f},标准差={:.0f}'.format(mu,std))"
   ]
  },
  {
   "cell_type": "code",
   "execution_count": null,
   "metadata": {},
   "outputs": [],
   "source": [
    "'''\n",
    "问题2 \n",
    "scipy Statistical functions (scipy.stats) norm() n.sf()\n",
    "'''\n",
    "plan_list=[15000,18000,24000,28000]\n",
    "for i in plan_list:\n",
    "    prop=norm.sf(i,loc=mu,scale=std)\n",
    "    print('订购数量为{:0}只的方案，库存缺货概率为{:.2%}'.format(i,prop))"
   ]
  },
  {
   "cell_type": "code",
   "execution_count": null,
   "metadata": {
    "scrolled": false
   },
   "outputs": [],
   "source": [
    "'''\n",
    "问题3\n",
    "python dict d.items()\n",
    "python str s.format() %\n",
    "python str s.format() ,\n",
    "'''\n",
    "sales={'坏':10000,'可能':20000,'好':30000}\n",
    "\n",
    "def calProfit(order,sale):\n",
    "    cost=order*16\n",
    "    if order>sale:\n",
    "        norm_sales=sale*24\n",
    "        disc_sales=(order-sale)*5\n",
    "    else:\n",
    "        norm_sales=order*24\n",
    "        disc_sales=0\n",
    "    return norm_sales+disc_sales-cost\n",
    "\n",
    "for i in plan_list:    \n",
    "    for k,v in sales.items():\n",
    "        profit=calProfit(i,v)\n",
    "        print('订购数量为{:0}只的方案，在最{:1}的情形下，预期利润是{:,}'.format(i,k,profit))            "
   ]
  },
  {
   "cell_type": "code",
   "execution_count": null,
   "metadata": {},
   "outputs": [],
   "source": [
    "'''\n",
    "问题4\n",
    "numpy Mathematical functions np.around()\n",
    "'''\n",
    "beer_num=np.around(norm.ppf(0.7,loc=mu,scale=std),0)\n",
    "print('在这种情形下，玩具熊的订购数量将会是{:.0f}只'.format(beer_num))\n",
    "\n",
    "def expectedProfit(num):\n",
    "    for k,v in sales.items():\n",
    "        profit=calProfit(num,v)\n",
    "        print('这个方案，在最{:}的情形下，预期利润是{:,.0f}'.format(k,profit)) \n",
    "        \n",
    "expectedProfit(beer_num)"
   ]
  },
  {
   "cell_type": "code",
   "execution_count": null,
   "metadata": {},
   "outputs": [],
   "source": [
    "'''\n",
    "问题5 5\n",
    "数据分析 常用代码 正态分布 加权数学期望\n",
    "'''\n",
    "def weightNorm(start,startweight,end,endweight,loc,scale):\n",
    "    endprop=endweight*norm.cdf(end,loc,scale)\n",
    "    startprop=startweight*norm.cdf(start,loc,scale)\n",
    "    prop=(startprop+endprop)/(startweight+endweight)\n",
    "    return np.around(norm.ppf(prop,loc,scale))\n",
    "\n",
    "best_num=weightNorm(10000,11,30000,8,mu,std)\n",
    "expectedProfit(best_num)"
   ]
  }
 ],
 "metadata": {
  "kernelspec": {
   "display_name": "Python 3",
   "language": "python",
   "name": "python3"
  },
  "language_info": {
   "codemirror_mode": {
    "name": "ipython",
    "version": 3
   },
   "file_extension": ".py",
   "mimetype": "text/x-python",
   "name": "python",
   "nbconvert_exporter": "python",
   "pygments_lexer": "ipython3",
   "version": "3.7.6"
  },
  "toc": {
   "base_numbering": 1,
   "nav_menu": {},
   "number_sections": false,
   "sideBar": true,
   "skip_h1_title": false,
   "title_cell": "Table of Contents",
   "title_sidebar": "Contents",
   "toc_cell": false,
   "toc_position": {},
   "toc_section_display": true,
   "toc_window_display": true
  }
 },
 "nbformat": 4,
 "nbformat_minor": 2
}
