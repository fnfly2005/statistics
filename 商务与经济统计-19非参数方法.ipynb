{
 "cells": [
  {
   "cell_type": "code",
   "execution_count": null,
   "metadata": {},
   "outputs": [],
   "source": [
    "import pandas as pd\n",
    "import numpy as np\n",
    "from scipy.stats import binom,norm\n",
    "import matplotlib.pyplot as plt"
   ]
  },
  {
   "cell_type": "markdown",
   "metadata": {},
   "source": [
    "# 实践中的统计\n",
    "## West Shell Realtors公司  \n",
    "West Shell Realtors公司成立于1958年，刚成立时只有一个办事处和三个营销人员  \n",
    "几年以后，West Shell Realtors公司已经时大辛辛那提地区最大的房地产经纪公司之一，而且在俄亥俄州的西南部、印第安纳州的东南部以及肯塔基州的北部都设有办事处  \n",
    "有关总销售金额、已销售单元个数及每个单元平均售价的统计汇总数据，对于办事处的经理和公司高层领导掌握公司的经营过程和难点所在至关重要  \n",
    "房屋的销售价格、周转率和预计的销售量都是评估和比较办事处选址时需要考虑的数据  \n",
    "公司利用非参数统计方法来帮助确定这两个地区销售模式的不同之处 5  \n",
    "公司从克利夫顿选取了25笔销售业务，从罗斯劳尔选取了18笔销售业务组成样本，然后选择曼-惠特尼-威尔科克森秩和检验法对销售价格的差异进行统计检验  \n",
    "本章我们将学习如何应用诸如曼-惠特尼-威尔科克森检验之类的非参数统计检验，同时，我们还将讨论这些检验的正确解释  \n",
    "到目前为止，本书统计推断提出的方法都是通常所知的**参数方法**  \n",
    "这些方法通常始于假定总体的概率分布服从正态发呢不，基于这个假定，统计学家可以得到用于推断一个或多个总体参数的抽样分布  \n",
    "在本章我们将介绍用于对总体进行推断的**非参数方法**，非参数方法对总体概率分布形式的假定没有要求，因此，非参数方法也被称为**无分布方法** 5  \n",
    "绝大多数参数统计方法要求数量型数据，而非参数方法则允许基于分类型数据进行推断 5  \n",
    "# 19.1 符号检验\n",
    "符号检验是假设检验中一种多用途的非参数方法，其利用p=0.5的二项分布作为抽样分布  \n",
    "## 19.1.1 总体中位数的假设检验\n",
    "如果我们考虑一个总体，其中没有任何一个数值恰好等于中位数。符号检验提供了检验有关中位数假设的非参数方法  \n",
    "以制造商估计每家食品店每周销售额的中位数450美元为依据，Lawler的经理做出销售新薯片产品的决定。在销售该产品3个月后，Lawler的经理要求进行周销售额总体中位数的假设检验  \n",
    "$$H_0:中位数=450$$\n",
    "$$H_a:中位数\\ne450$$\n",
    "表19-1是随机抽取的10家Lawler食品店一周的销售额数据 5  "
   ]
  },
  {
   "cell_type": "code",
   "execution_count": null,
   "metadata": {},
   "outputs": [],
   "source": [
    "d1=pd.DataFrame({'number':[56,19,36,128,12,63,39,84,102,44],\n",
    "             'sales':[485,562,415,860,426,474,662,380,515,721]})\n",
    "d1.head()"
   ]
  },
  {
   "cell_type": "markdown",
   "metadata": {},
   "source": [
    "在符号检验中，我们将每一个样本观测值与总体中位数的假设值进行比较  \n",
    "如果观测值大于假设值，我们用加号表示;如果观测值小于假设值，我们用减号表示;如果观测值恰好等于假设值，则我们应该将它从样本中剔除，并且在一个容量较小的样本中进行分析，只使用被标记位加号或剑豪的观测值  \n",
    "它将样本数据转换位加号或减号，因此，这种非参数方法被命名为符号检验 5  \n",
    "表19-2是10个样本观测值对应的加号或减号数据，注意有7个加号和3个减号  "
   ]
  },
  {
   "cell_type": "code",
   "execution_count": null,
   "metadata": {},
   "outputs": [],
   "source": [
    "d2=d1.copy()\n",
    "d2['sign']=d1['sales'].apply(lambda x:'+' if x>450 else '-')\n",
    "d2.head()"
   ]
  },
  {
   "cell_type": "markdown",
   "metadata": {},
   "source": [
    "加号和减号的分配适合应用二项分布，样本容量n=10是试验的次数，每次试验有两个可能的结果：加号或减号，而且试验是独立的  \n",
    "因此，就二项概率p而言，总体中位数的符号检验的假设  \n",
    "$$H_0:中位数=450$$\n",
    "$$H_a:中位数\\ne450$$\n",
    "5  \n",
    "转化为下面关于二项概率p的假设  \n",
    "$$H_0:p=0.50$$\n",
    "$$H_a:p\\ne0.50$$\n",
    "如果$H_0$没有被拒绝，我们不能得出$p\\ne0.5$的结论，进而我们不能得出总体中位数$\\ne450$的结论  \n",
    "然而，如果$H_0$被拒绝，我们能得出$p\\ne0.5$，进而我们能得出总体中位数$\\ne450$  \n",
    "我们用附录A得到在假设H_0为真条件下加号个数的二项分布概率，这些概率如表19-3所示 5  "
   ]
  },
  {
   "cell_type": "code",
   "execution_count": null,
   "metadata": {},
   "outputs": [],
   "source": [
    "'''\n",
    "python\tscipy\tStatistical functions (scipy.stats)\tbinom() b.pmf()\n",
    "'''\n",
    "d3=pd.DataFrame({'sign_num':np.arange(11)})\n",
    "d3['prop']=d3['sign_num'].apply(lambda x:binom.pmf(x,10,0.5)).round(4)\n",
    "d3"
   ]
  },
  {
   "cell_type": "markdown",
   "metadata": {},
   "source": [
    "图19-1是这个二项概率分布的图形表示  "
   ]
  },
  {
   "cell_type": "code",
   "execution_count": null,
   "metadata": {},
   "outputs": [],
   "source": [
    "'''\n",
    "python\tpandas\tdataframe\td.plot.bar() width\n",
    "'''\n",
    "d3.plot.bar('sign_num','prop',color='k',width=0.1)\n",
    "plt.show()"
   ]
  },
  {
   "cell_type": "markdown",
   "metadata": {},
   "source": [
    "我们使用0.10为检验的显著性水平。由于样本数据中观测到的加号个数为7，位于二项分布的上侧，我们计算加号大于或等于7的概率，既加号个数为7，8，9或10的概率  \n",
    "将表19-3的这些概率相加，我们得到 5  "
   ]
  },
  {
   "cell_type": "code",
   "execution_count": null,
   "metadata": {},
   "outputs": [],
   "source": [
    "'''\n",
    "python\tpandas\tdataframe\tbinom() b.sf()\n",
    "'''\n",
    "Lawler_pvalue=binom.sf(6,10,0.5)*2\n",
    "print('由于p-值={:.4f}>alpha=0.1,所以我们不能拒绝总体中位数为450的假设 '.format(Lawler_pvalue))"
   ]
  },
  {
   "cell_type": "markdown",
   "metadata": {},
   "source": [
    "在本例中，总体中位数的假设检验是一个双侧检验，但是，关于总体中位数的符号检验也有可能是单侧  \n",
    "例如我们所用的假设是上侧检验能，因此，原假设和备择假设可表示为  \n",
    "$$H_0:中位数\\le450$$\n",
    "$$H_a:中位数\\gt450$$\n",
    "相应的p-值等于样本中加号个数大于或等于7的二项概率。如果转换为下侧检验的例子，p-值将是加号个数为小于或等于7的概率 5  \n",
    "我们刚才介绍了使用p=0.5的二项分布的应用。对于较大的样本容量，我们根据二项分布的正态分布近似来计算p-值，这使得计算变得迅速且容易  \n",
    "一年前新建住宅价格的中位数为236000美元。但是，当前经济低迷，使得房地产公司用当前住宅销售的样本数据来确定今年新建住宅总体中位数价格是否比一年前有所下降  \n",
    "新建住宅总体中位数价格的假设检验如下：  \n",
    "$$H_0:中位数\\ge236000美元$$\n",
    "$$H_a:中位数\\lt236000美元$$\n",
    "我们在0.05的显著性水平下进行这一检验 5  \n",
    "由61所新建住宅组成一个随机样本，22所售价高于236000美元，38所住宅的售价低于236000美元，还有1所住宅的售价恰好等于236000美元  \n",
    "在剔除价格等于假设中位数价格236000美元的那所住宅后，符号检验中有22个加号、38个减号，样本容量为60  \n",
    "总体中位数大于或等于236000美元的原假设表示成二项分布的假设是$H_0:p\\ge0.5$\n",
    "如果$H_0$为真，我们期望加号个数为30所住宅。样本结果表明有22个加号，位于二项分布的下侧，则p-值是当p=0.5时，加号个数小于或等于22的概率  \n",
    "我们用二项分布的正态分布近似使计算变得很容易。对这个近似，正态分布的均值和标准差如下所示 5  \n",
    "<hr />\n",
    "\n",
    "**当$H_0:p=0.50$时，加号个数的抽样分布的正态近似**（19-1）\n",
    "$$均值：\\mu=0.50n$$\n",
    "(19-2)\n",
    "$$标准差：\\sigma=\\sqrt{0.25n}$$\n",
    "分布形式：当n＞20时，近似正态分布  \n",
    "<hr />\n",
    "\n",
    "对于n=60和p=0.50，利用（19-1）和式（19-2）,加号个数的抽样分布能被一个正态分布近似，其中 5  "
   ]
  },
  {
   "cell_type": "code",
   "execution_count": null,
   "metadata": {},
   "outputs": [],
   "source": [
    "print('mu={:.0f}'.format(0.50*60))\n",
    "print('std={:.3f}'.format(np.sqrt(0.25*60)))"
   ]
  },
  {
   "cell_type": "markdown",
   "metadata": {},
   "source": [
    "由于二项分布式离散型的，而正态分布是连续型的，因此，用区间（21.5，22.5）上的正态概率来计算22的二项概率。0.5称为连续性校正因子。图19-2是这个p-值的图示  \n",
    "![19-2](../syn_pic/statistics_for_business_economics/19-2.png)\n",
    "<center>图19-2 新建住宅价格中位数的符号检验中p-值的正态分布近似</center>\n",
    "\n",
    "利用正态分布，我们得到p-值如下：  "
   ]
  },
  {
   "cell_type": "code",
   "execution_count": null,
   "metadata": {},
   "outputs": [],
   "source": [
    "'''\n",
    "5\n",
    "python\tscipy\tStatistical functions (scipy.stats)\tnorm() n.cdf()\n",
    "\n",
    "'''\n",
    "Lawler_std=np.sqrt(0.25*60)\n",
    "Lawler_z=(22+0.5-30)/Lawler_std\n",
    "Lawler_p=norm.cdf(22.5,loc=30,scale=Lawler_std)\n",
    "print('z={:.2f},p-value={:.4f}<alpha=0.05，我们拒绝原假设'.format(Lawler_z,Lawler_p))"
   ]
  },
  {
   "cell_type": "markdown",
   "metadata": {},
   "source": [
    "## 注释\n",
    "1. 用来说明总体中位数假设检验的例子涉及周销售额和住宅价格数据，这些变量的概率分布类型通常是非对称的，而且大多数常常是右偏的  \n",
    "    在这种情形下，总体中位数而非总体均值成为中心为止的首选测度。一般地，当总体非对称时，总体中位数的非参数符号检验通常时较合适的统计检验  \n",
    "2. 符号检验的二项抽样分布可以用来计算总体中位数的置信区间估计。然而，这个计算相当复杂而且极少能用手工完成 5  \n",
    "\n",
    "## 19.1.2 匹配样本的假设检验\n",
    "使用数量型数据并且假设匹配观测值之差服从正态分布，则可以使用t分布对两个总体均值之差进行推断  \n",
    "与t分布方法不同（其要求数量型数据，且假定二者之差服从正态分布），符号检验既能分析分类型数据，也能分析数量型数据，并且对二者之差的分布没有假定   \n",
    "阳光海岸农场生产一种名为“柑橘谷”的橙汁。在消费者对这两种品牌偏好的比较中，14名消费者所面对的两种橙汁产品都没有标出品牌，每一名消费者第一次品尝的品牌都是随机选择的  \n",
    "表19-4是参与研究的14名消费者的数据  "
   ]
  },
  {
   "cell_type": "code",
   "execution_count": null,
   "metadata": {},
   "outputs": [],
   "source": [
    "'''\n",
    "5\n",
    "'''\n",
    "def testSign(x):\n",
    "    if x=='hot':\n",
    "        return '-'\n",
    "    elif x=='org':\n",
    "        return '+'\n",
    "    else:\n",
    "        return None\n",
    "    \n",
    "brand=['hot','hot','org','hot','hot','none','hot','hot','hot','none','hot','org','hot','hot']\n",
    "orange=pd.DataFrame({'cus':np.arange(14)+1,\n",
    "             'brand':brand,\n",
    "             'sign':[testSign(i) for i in brand]})\n",
    "orange1=orange.dropna()\n",
    "print('n={:.0f}'.format(len(orange1)))\n",
    "orange1.head()"
   ]
  },
  {
   "cell_type": "markdown",
   "metadata": {},
   "source": [
    "在剔除了对两种品牌的产品无偏好的2名消费者后，n=12名消费者都能表达处对两种品牌之一的偏好，因此数据转换为有2个加号和10个减号的符号检验  \n",
    "我们想要检验对两种品牌的偏好没有差异的假设表示如下:  \n",
    "$$H_0:p=0.50$$\n",
    "$$H_a:p\\ne0.50$$\n",
    "如果$H_0$没有被拒绝，我们不能断定消费者对两种品牌的偏好存在差异。该检验的显著性水平为0.05 5  \n",
    "加号个数的抽样分布服从p=0.50和n=12的二项分布。利用附录A的表A-5我们得到加号个数的二项概率，如表19-5所示    "
   ]
  },
  {
   "cell_type": "code",
   "execution_count": null,
   "metadata": {},
   "outputs": [],
   "source": [
    "d3=pd.DataFrame({'sign_num':np.arange(13)})\n",
    "d3['prop']=d3['sign_num'].apply(lambda x:binom.pmf(x,12,0.5)).round(4)\n",
    "d3"
   ]
  },
  {
   "cell_type": "code",
   "execution_count": null,
   "metadata": {},
   "outputs": [],
   "source": [
    "'''\n",
    "python\tpandas\tseries\ts.value_counts()\n",
    "'''\n",
    "orange1['brand'].value_counts()"
   ]
  },
  {
   "cell_type": "markdown",
   "metadata": {},
   "source": [
    "为计算双侧检验的p-值，我们先计算加号个数小于或等于2的概率然后加倍  "
   ]
  },
  {
   "cell_type": "code",
   "execution_count": null,
   "metadata": {},
   "outputs": [],
   "source": [
    "'''\n",
    "5\n",
    "'''\n",
    "orange_p=binom.cdf(2,12,0.5)*2\n",
    "print('由于p-值={:.4f}<alpha=0.05，所以我们拒绝原假设'.format(orange_p))"
   ]
  },
  {
   "cell_type": "markdown",
   "metadata": {},
   "source": [
    "与符号检验的其他使用情形类似，根据实际情况也可能使用单侧检验。另外，当样本容量变大时，正如本节先前所述，二项分布的正态近似可使计算变得容易  \n",
    "如果匹配数据二者之差不服从正态发呢不且使偏态分布时，匹配样本的符号检验尤其有意义，此时，正德差值记为加号，负德差值记为减号，差值为0将从样本中剔除 5  \n",
    "# 19.2 威尔科克森符号秩检验\n",
    "在第10章，我们介绍了匹配样本实验涉及，n个实验单位中的每一个提供一对观测值，其中一个来自总体1，另一个来自总体2  \n",
    "该实验的参数检验要求数量型数据，而且假定配对观测值之差服从正态分布，则可以利用t分布对两个总体均值之差进行推断  \n",
    "**威尔科克森符号秩检验**是分析匹配样本实验数据的非参数方法。检验使用数量型数据，但不要求假定配对观测值之差服从正态分布，只需要假定配对观测值之差具有对称的分布  \n",
    "即使两个总体的形态形同，关注点是确定两个总体的中位数是否有差异  \n",
    "考虑某个制造企业正在尝试确定两种生产方法完成任务的实际是否存在差异。使用匹配样本涉及，随机选择11个工人2次完成生产任务实际，1次使用方法A，1次使用方法B 5  \n",
    "两种方法的完成任务时间以及完成时间的差异数据如表19-6所示。如果我们假设数据的差异具有对称分布，但不需要正态分布，可以应用威尔科克森符号秩检验  "
   ]
  },
  {
   "cell_type": "code",
   "execution_count": null,
   "metadata": {},
   "outputs": [],
   "source": [
    "MatchedSample=pd.read_csv('../pydata-book-master/statistics_for_business_economics/ch18/MatchedSample.csv')\n",
    "MatchedSample.head()"
   ]
  },
  {
   "cell_type": "markdown",
   "metadata": {},
   "source": [
    "特别地，我们用威尔科克森符号秩检验对两种方法完成时间的中位数之差进行检验，假设如下：  \n",
    "$$H_0:方法A的中位数-方法B的中位数=0$$\n",
    "$$H_a:方法A的中位数-方法B的中位数\\ne0$$\n",
    "我们在显著性水平0.05下进行检验 5  \n",
    "威尔科克森符号秩检验的第一步剔除差为0的工人，然后计算剩下10个工人差的绝对值，如表19-7中的第3列所示  \n",
    "接下来将差的绝对值由低到高进行排序，如表19-7中的第4列所示。工人最小的绝对差0.1的秩被定为1，工人第二小的绝对查0.2的秩被定为2，这种对绝对查的排秩一直继续下去  \n",
    "工人有相同的绝对差的秩被定为平均秩，如第3和第4的平均值为3.5  \n",
    "一旦确定了绝对查的秩，这些秩将被赋予工人原始差的符号。负的符号秩列在第5列，正的符号秩列在第6列  "
   ]
  },
  {
   "cell_type": "code",
   "execution_count": null,
   "metadata": {},
   "outputs": [],
   "source": [
    "'''\n",
    "5\n",
    "python\tpandas\tseries\ts.abs()\n",
    "'''\n",
    "match_df1=pd.DataFrame(MatchedSample['Difference'])\n",
    "match_df2=match_df1.drop(7)\n",
    "match_df2['abs_diff']=match_df2['Difference'].abs()\n",
    "match_df2"
   ]
  },
  {
   "cell_type": "code",
   "execution_count": null,
   "metadata": {},
   "outputs": [],
   "source": [
    "'''\n",
    "python\tpandas\tseries\ts.rank()\n",
    "python\tpandas\tseries\ts.where()\n",
    "\n",
    "'''\n",
    "match_df2['rank']=match_df2['abs_diff'].rank()\n",
    "match_rank=match_df2['Difference'].div(match_df2['abs_diff']).mul(match_df2['rank'])\n",
    "match_df2['-']=match_rank.where(match_rank<0)\n",
    "match_df2['+']=match_rank.where(match_rank>0)\n",
    "match_df2"
   ]
  },
  {
   "cell_type": "code",
   "execution_count": null,
   "metadata": {},
   "outputs": [],
   "source": [
    "match_df2['+'].sum()"
   ]
  },
  {
   "cell_type": "markdown",
   "metadata": {},
   "source": [
    "令$T^+$表示正德符号秩之和，这里$T^+=49.5$。为了进行威尔科克森符号秩检验，我们将用$T^+$作为检验的统计量  \n",
    "如果两个总体中位数相等，并且匹配数据对的个数大于或等于10时，$T^+$的抽样分布近似服从下面的正态分布  \n",
    "<hr />\n",
    "\n",
    "**威尔科克森符号秩检验的$T^+$的抽样分布** 5  \n",
    "均值：（19-3）  \n",
    "$$\\mu_{T^+}=\\frac{n(n+1)}{4}$$\n",
    "标准差：（19-4）  \n",
    "$$\\sigma_{T^+}=\\sqrt{\\frac{n(n+1)(2n+1)}{24}}$$\n",
    "分布形式：当n≥20时，近似正态分布  \n",
    "<hr />\n",
    "\n",
    "在剔除了差为0的观测值后，我们得到n=10个匹配数据。因此，利用式（19-3）和式（19-4），我们有  "
   ]
  },
  {
   "cell_type": "code",
   "execution_count": null,
   "metadata": {},
   "outputs": [],
   "source": [
    "'''\n",
    "5\n",
    "'''\n",
    "matchN=len(match_df2)\n",
    "matchMuT=matchN*(matchN+1)/4\n",
    "matchStdT=np.sqrt(matchN*(matchN+1)*(2*matchN+1)/24)\n",
    "print('muT={:.1f},sigmaT={:.4f}'.format(matchMuT,matchStdT))"
   ]
  },
  {
   "cell_type": "markdown",
   "metadata": {},
   "source": [
    "图19-3是检验统计量$T^+$的抽样分布  \n",
    "![19-3](../syn_pic/statistics_for_business_economics/19-3.png)\n",
    "<center>图19-3 完成生产任务时间例子中的$T^+$的抽样分布</center>\n",
    "\n",
    "对于两种生产方法完成任务时间的中位数相等的假设，我们计算双侧的p-值。由于检验统计量$T^+=49.5$在抽样分布的上侧，我们首先计算上侧概率P  \n",
    "由于正的符号秩之和$T^+$是离散型的，而正态分布式连续型，我们用包含连续性校正因子来得到最好的近似，因此，$T^+=49.5$的离散概率近似为区间（49，50）上的正态概率  \n",
    "$T^+=49.5$的概率近似为 5  "
   ]
  },
  {
   "cell_type": "code",
   "execution_count": null,
   "metadata": {},
   "outputs": [],
   "source": [
    "matchZ=(49-matchMuT)/matchStdT\n",
    "print('检验统计量z={:.2f}'.format(matchZ))"
   ]
  },
  {
   "cell_type": "code",
   "execution_count": null,
   "metadata": {},
   "outputs": [],
   "source": [
    "'''\n",
    "python\tscipy\tStatistical functions (scipy.stats)\tnorm() n.sf()\n",
    "'''\n",
    "matchP=norm.sf(matchZ)*2\n",
    "print('由于p-value={:.4f}<=alpha=0.05，所以我们拒绝原假设'.format(matchP))"
   ]
  },
  {
   "cell_type": "markdown",
   "metadata": {},
   "source": [
    "单侧威尔科克森符号秩检验也有可能。例如，如果最初我们找到统计证据证实方法A完成时间的中位数较长，方法B完成时间的中位数较短，我们将提出下面的上侧假设检验：  \n",
    "$$H_0:方法A的中位数-方法B的中位数\\le0$$\n",
    "$$H_a:方法A的中位数-方法B的中位数\\gt0$$\n",
    "5  \n",
    "最后一点，在19.1阶我们演示了符号检验如何用于总体中位数和匹配样本的假设检验，本节我们说明了对匹配样本使用威尔科克森符号秩检验，然而，威尔科克森符号秩检验也可用于总体中位数的非参数检验  \n",
    "如果假定合适（总体分布对称），威尔科克森符号秩检验是总体中位数的首选非参数检验  \n",
    "但是，如果总体是偏态的，则首选19.1节介绍的符号检验  \n",
    "## 注释\n",
    "1. 一个总体中位数的威尔科克森符号秩检验基于假定总体分布对称。由于这个假定，总体中位数等于总体均值，因此，威尔科克森符号秩检验也可以用于一个对称总体均值的检验  \n",
    "2. 威尔科克森符号秩检验可以用来计算对称总体中位数的置信区间 5  \n",
    "\n",
    "# 19.3 曼-惠特尼-威尔科克森检验  \n",
    "在第10章，我们介绍了利用两个独立样本进行两个总体均值之差的假设检验方法，其中一个样本来自总体1，另一个来自总体2  \n",
    "参数检验要求数量型数据，且假定总体都服从正态分布  \n",
    "在本节我们介绍一种基于两个独立样本的两总体之间差异的非参数方法。非参数方法的优点是它既可以使用顺序型数据也可以使用数量型数据，而且不需要假定总体服从正态分布  \n",
    "在本节我们将这个非参数检验称为**曼-惠特尼-威尔科克森检验**  \n",
    "我们以陈述原假设和备择假设的最一般形式开始MWW检验。假设如下： 5  \n",
    "$$H_0:两个总体相同$$\n",
    "$$H_a:两个总体不相同$$\n",
    "图19-4是总体1比总体2提供较小数值的情形  \n",
    "![19-4](../syn_pic/statistics_for_business_economics/19-4.png)\n",
    "<center>图19-4 两个总体不相同且总体1倾向于提供较小数值的情形</center>\n",
    "\n",
    "首先我们使用小样本秩-顺序数据来说明MWW检验。在本节的稍后部分，我们将介绍基于正态分布的大样本近似，它将简化MWW检验所需的计算量  \n",
    "我们考虑拥有20个电影荧幕放映厅的Showtime电影院员工的工作表现。在回顾员工的表现后，影院经理在影院的年终报告中给所有35名员工从最好（等级1）到最差（等级35）的排序 5  \n",
    "了解到兼职员工是大学生和高中生，地区经理想了解在工作表现方面大学生与高中生相比是否存在显著差异。对于在影院工作的大学生总体和高中生总体，假设陈述如下：  \n",
    "$$H_0:大学生总体和高中生总体的工作表现相同$$\n",
    "$$H_a:大学生总体和高中生总体的工作表现不同$$\n",
    "我们在0.05的显著性水平下进行检验  \n",
    "我们在Showtime电影院工作的学生中选取4名大学生组成一个随机样本，而另一个随机样本由5名高中生组成。如表19-8所示    "
   ]
  },
  {
   "cell_type": "code",
   "execution_count": null,
   "metadata": {},
   "outputs": [],
   "source": [
    "'''\n",
    "5\n",
    "'''\n",
    "showtime=pd.DataFrame({'edu':['college','college','college','college',\n",
    "                     'highSchool','highSchool','highSchool','highSchool','highSchool'],\n",
    "             'rank':[15,3,23,8,18,20,32,9,25]})\n",
    "showtime_df1=showtime.copy()\n",
    "showtime_df1.head()"
   ]
  },
  {
   "cell_type": "markdown",
   "metadata": {},
   "source": [
    "MWW过程的下一步是对混合的样本由低到高进行排序。9个学生的混合样本排秩结果列在表19-9中  "
   ]
  },
  {
   "cell_type": "code",
   "execution_count": null,
   "metadata": {},
   "outputs": [],
   "source": [
    "showtime_df1['Rank']=showtime['rank'].rank()\n",
    "showtime_df1.head()"
   ]
  },
  {
   "cell_type": "markdown",
   "metadata": {},
   "source": [
    "接下来是分别求出每一个样本的秩和，如表19-9所示  \n",
    "MWW过程中可以使用任何一个样本的秩和。然而，在我们的MWW检验的应用中，我们遵循实践中常用方式使用第一个样本，即大学生样本      "
   ]
  },
  {
   "cell_type": "code",
   "execution_count": null,
   "metadata": {},
   "outputs": [],
   "source": [
    "'''\n",
    "5\n",
    "'''\n",
    "showtime_college_sum=showtime_df1[showtime_df1['edu']=='college']['Rank'].sum()\n",
    "showtime_college_sum"
   ]
  },
  {
   "cell_type": "markdown",
   "metadata": {},
   "source": [
    "问：为什么秩和能帮助我们在两个假设之间做出选择  \n",
    "令C表示大学生，H表示高中生，假设9名学生的秩有下面的顺序：4名大学生有4个最低的秩  \n",
    "秩|1|2|3|4|5|6|7|8|9  \n",
    "学生|C|C|C|C|H|H|H|H|H  \n",
    "注意，这个排列或顺序分开了两个样本，所有的大学生都比高中生有较低的秩。有很强的迹象表明两个总体不相同，在这种情形下，大学生的秩和W=10  \n",
    "现在我们考虑4名大学生有4个最高的秩 5  \n",
    "秩|1|2|3|4|5|6|7|8|9  \n",
    "学生|H|H|H|H|H|C|C|C|C  \n",
    "注意，这个排列或顺序也分开了两个样本，所有的大学生都比高中生有较高的秩。它也有很强的迹象表明两个总体不相同，在这种情形下，大学生的秩和W=30  \n",
    "于是我们看到，4名大学生的秩和必定基于10-30。如果两个总体相同，我们期望C和H的顺序交错，因此，秩和W将接近于两个极端值的平均值，即接近20  \n",
    "图19-5是W的精确抽样分布的概率分布图形，表19-10中给出W的可能值以及对应的精确概率  \n",
    "![19-5](../syn_pic/statistics_for_business_economics/19-5.png)\n",
    "<center>图19-5 大学生样本秩和的精确抽样分布 5</center>\n",
    "\n",
    "如同我们用其他抽样分布一样，让我们用表19-10中W的抽样分布计算检验的p-值，表19-9显示4名大学生的秩和为W=14，由于这个W值位于抽样分布的下侧，我们先计算下侧概率P，因此，我们有  "
   ]
  },
  {
   "cell_type": "code",
   "execution_count": null,
   "metadata": {},
   "outputs": [],
   "source": [
    "showtime_college_min=showtime_df1['Rank'].sort_values().iloc[:4].sum()\n",
    "showtime_college_max=showtime_df1['Rank'].sort_values().iloc[-4:].sum()\n",
    "showtime_college_mean=(showtime_college_min+showtime_college_max)/2\n",
    "showtime_college_mean"
   ]
  },
  {
   "cell_type": "markdown",
   "metadata": {},
   "source": [
    "双侧p-值=0.1904，在$\\alpha=0.05$的显著性水平下，由于p-值＞0.05，因此MWW检验的结论是，我们不能拒绝大学生总体与高中生总体是相同的原假设  \n",
    "MWW检验的许多应用涉及较大的样本而非前面出现的例子。对于这些应用，我们使用了基于正态分布的W抽样分布的一个大样本近似  \n",
    "事实上我们注意到，对于如此少的样本容量4和5，图19-5的W抽样分布显示出非常号的正态分布近似 5  \n",
    "我们通过考察第三国民银行的情况来说明应用正态分布近似进行MWW检验。银行的经理监控两个分行的支票账户余额，并想确定两个分行账户余额的总体是否相同  \n",
    "银行经理抽取两个独立的账户余额样本，其中分行1的样本容量为$n_1$=12，分行2的样本容量为$n_2=10$，数据如表19-11所示  "
   ]
  },
  {
   "cell_type": "code",
   "execution_count": null,
   "metadata": {},
   "outputs": [],
   "source": [
    "bank=pd.DataFrame({'bank':['b1']*12+['b2']*10,\n",
    "                   'account':list(np.arange(12)+1)+list(np.arange(10)+1),\n",
    "             'balance':[1095,955,1200,1195,925,950,805,945,875,1055,1025,975,\n",
    "                       885,850,915,950,800,750,865,1000,1050,935]})\n",
    "bank.head()"
   ]
  },
  {
   "cell_type": "markdown",
   "metadata": {},
   "source": [
    "同前面的做法一样，MWW检验的第一步是将混合数据由小到大进行排序，表19-12是混合样本的秩  "
   ]
  },
  {
   "cell_type": "code",
   "execution_count": null,
   "metadata": {},
   "outputs": [],
   "source": [
    "'''\n",
    "5\n",
    "python\tpandas\tdataframe\td.reset_index() drop\n",
    "'''\n",
    "bank_df=bank.copy()\n",
    "bank_df['rank']=bank['balance'].rank()\n",
    "bank_df1=bank_df.sort_values('rank').reset_index(drop=True)\n",
    "bank_df1"
   ]
  }
 ],
 "metadata": {
  "kernelspec": {
   "display_name": "Python 3",
   "language": "python",
   "name": "python3"
  },
  "language_info": {
   "codemirror_mode": {
    "name": "ipython",
    "version": 3
   },
   "file_extension": ".py",
   "mimetype": "text/x-python",
   "name": "python",
   "nbconvert_exporter": "python",
   "pygments_lexer": "ipython3",
   "version": "3.7.6"
  },
  "toc": {
   "base_numbering": 1,
   "nav_menu": {},
   "number_sections": false,
   "sideBar": true,
   "skip_h1_title": false,
   "title_cell": "Table of Contents",
   "title_sidebar": "Contents",
   "toc_cell": false,
   "toc_position": {},
   "toc_section_display": true,
   "toc_window_display": false
  }
 },
 "nbformat": 4,
 "nbformat_minor": 2
}
