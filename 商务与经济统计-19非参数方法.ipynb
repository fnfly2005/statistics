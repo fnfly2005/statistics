{
 "cells": [
  {
   "cell_type": "markdown",
   "metadata": {},
   "source": [
    "# 实践中的统计\n",
    "## West Shell Realtors公司  \n",
    "West Shell Realtors公司成立于1958年，刚成立时只有一个办事处和三个营销人员  \n",
    "几年以后，West Shell Realtors公司已经时大辛辛那提地区最大的房地产经纪公司之一，而且在俄亥俄州的西南部、印第安纳州的东南部以及肯塔基州的北部都设有办事处  \n",
    "有关总销售金额、已销售单元个数及每个单元平均售价的统计汇总数据，对于办事处的经理和公司高层领导掌握公司的经营过程和难点所在至关重要  \n",
    "房屋的销售价格、周转率和预计的销售量都是评估和比较办事处选址时需要考虑的数据  \n",
    "公司利用非参数统计方法来帮助确定这两个地区销售模式的不同之处 5  \n",
    "公司从克利夫顿选取了25笔销售业务，从罗斯劳尔选取了18笔销售业务组成样本，然后选择曼-惠特尼-威尔科克森秩和检验法对销售价格的差异进行统计检验  \n",
    "本章我们将学习如何应用诸如曼-惠特尼-威尔科克森检验之类的非参数统计检验，同时，我们还将讨论这些检验的正确解释  \n",
    "到目前为止，本书统计推断提出的方法都是通常所知的**参数方法**  \n",
    "这些方法通常始于假定总体的概率分布服从正态发呢不，基于这个假定，统计学家可以得到用于推断一个或多个总体参数的抽样分布  \n",
    "在本章我们将介绍用于对总体进行推断的**非参数方法**，非参数方法对总体概率分布形式的假定没有要求，因此，非参数方法也被称为**无分布方法** 5  \n",
    "绝大多数参数统计方法要求数量型数据，而非参数方法则允许基于分类型数据进行推断 5  \n",
    "# 19.1 符号检验\n",
    "符号检验是假设检验中一种多用途的非参数方法，其利用p=0.5的二项分布作为抽样分布  \n",
    "## 19.1.1 总体中位数的假设检验"
   ]
  }
 ],
 "metadata": {
  "kernelspec": {
   "display_name": "Python 3",
   "language": "python",
   "name": "python3"
  },
  "language_info": {
   "codemirror_mode": {
    "name": "ipython",
    "version": 3
   },
   "file_extension": ".py",
   "mimetype": "text/x-python",
   "name": "python",
   "nbconvert_exporter": "python",
   "pygments_lexer": "ipython3",
   "version": "3.7.6"
  },
  "toc": {
   "base_numbering": 1,
   "nav_menu": {},
   "number_sections": false,
   "sideBar": true,
   "skip_h1_title": false,
   "title_cell": "Table of Contents",
   "title_sidebar": "Contents",
   "toc_cell": false,
   "toc_position": {},
   "toc_section_display": true,
   "toc_window_display": false
  }
 },
 "nbformat": 4,
 "nbformat_minor": 2
}
