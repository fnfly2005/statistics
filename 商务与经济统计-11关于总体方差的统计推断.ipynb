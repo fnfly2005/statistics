{
 "cells": [
  {
   "cell_type": "code",
   "execution_count": null,
   "metadata": {},
   "outputs": [],
   "source": [
    "import numpy as np\n",
    "import pandas as pd\n",
    "from scipy.stats import chi2,f,ttest_ind\n",
    "from matplotlib import pyplot as plt"
   ]
  },
  {
   "cell_type": "markdown",
   "metadata": {},
   "source": [
    "# 实践中的统计\n",
    "**美国政府审计总署**  \n",
    "美国政府审计总署（GAO）是联邦政府立法机关一个独立的、非官方的审计机构  \n",
    "在一个案例中，GAO的稽查员们对一个净化全美河流湖泊的内务部计划进行研究。国会要求GAO确定该计划执行的效率。为此，GAO检查了相关记录并走访了几家废物处理厂  \n",
    "GAO审计的目的之一是确认这些工厂的流出物（治理后的污水）达到了一定的标准。另外，他们复查了样本的含氧量、pH值和流出物中悬浮固体的数量  \n",
    "例如，仔细测定流出物的平均pH值。另外，需要复查上报的pH值的方差。关于流出物总体pH值的方差进行如下的假设检验  \n",
    "$$H_0:\\sigma^2=\\sigma_0^2$$\n",
    "$$H_a:\\sigma^2\\ne\\sigma_0^2$$\n",
    "5  \n",
    "在本检验中，$\\sigma_0^2$表示一个运行良好的工厂其pH值所预期的总体方差。对某个特定的工厂，原假设被拒绝了，进一步的分析表明该厂pH值的方差显著小于正常值  \n",
    "稽查员们到这个特定的工厂检查测量设备把那个与该厂的管理员讨论有关的统计数字。稽查员们发现因为操作员不知如何操作而并未使用测量设备  \n",
    "在本章中，你将学会如何对一个和两个总体方差进行统计推断。我们将介绍两种新的分布：$\\chi^2$分布与F分布，这两种分布可以用于对总体方差进行区间估计及假设检验  \n",
    "在前面四章中，我们介绍了总体均值和总体比率的统计推断方法。在本章中我们把讨论扩展到总体方差的统计推断问题  \n",
    "作为一个方差能为重要决策提供信息的案例，考虑灌装液体洗涤剂的生产过程。尽管平均值是所期望的，但是灌装量的方差也是很关键的。抽取一些容器组成的样本没我们可以计算出容器中液体灌装量的样本方差 5  \n",
    "这个数值可以作为灌装审查过程中容器灌装量总体方差的一个估计值。如果样本方差适度，生产过程可以继续。然而，如果样本方差过大。则需要调整灌装机械以减少容器灌装量的方差  \n",
    "在11.1姐我们考虑一个总体方差的统计推断。随后，我们将讨论两个总体的方差进行推断的步骤 5  \n",
    "# 11.1 一个总体方差的统计推断  \n",
    "样本方差(11-1)  \n",
    "$$s^2=\\frac{\\Sigma{(x_i-\\bar{x})^2}}{n-1}$$\n",
    "是总体方差$\\sigma^2$的点估计。在使用样本方差作为总体方差推断的基础时，$(n-1)s^2/\\sigma^2$的抽样分布起到了很大作用，该抽样分布描述如下  \n",
    "<hr />\n",
    "\n",
    "**$(n-1)s^2/\\sigma^2$的抽样分布**(11-2)  \n",
    "从正态总体中任意抽取一个容量为n的简单随机样本，则  \n",
    "$$\\frac{(n-1)s^2}{\\sigma^2}$$\n",
    "的抽样分布服从自由度为n-1的$\\chi^2$分布 5  \n",
    "<hr />\n",
    "\n",
    "图11-1显示了$(n-1)s^2/\\sigma^2$抽样分布的几种可能的形式  \n",
    "![11-1](../syn_pic/statistics_for_business_economics/11-1.png)\n",
    "<center>11-1 $(n-1)s^2/\\sigma^2$的抽样分布（$\\chi^2$分布）的例子</center>\n",
    "\n",
    "因为只要容量为n的简单随机样本取自正态总体，则$(n-1)s^2/\\sigma^2$的抽样分布就服从$\\chi^2$分布，我们可以利用$\\chi^2$分布对一个总体的方差建立区间估计和进行假设检验  \n",
    "## 11.1.1 区间估计\n",
    "为了阐述如何利用$\\chi^2$分布建立总体方差$\\sigma^2$的置信区间估计，假定我们试图估计本章开始时提到的洗涤剂灌装过程的总体方差 5  \n",
    "抽取20个容器组成一个样本，得到灌装量的样本方差$s^2=0.0025$。我们对总体方差进行区间估计  \n",
    "我们用符号$\\chi^2_\\alpha$表示右侧面积或概率为$\\chi$的$\\chi^2$分布的值  \n",
    "例如，对图11-2所示的自由度为19的$\\chi^2$分布，$\\chi^2_{0.025}=32.852$表示有2.5%的$\\chi^2$分布值落在32.852右侧；$\\chi^2_{0.975}=8.907$表示有97.5%的$\\chi^2$分布值落在8.907的右侧  \n",
    "$\\chi^2$分布的面积表或概率表很容易使用。参见表11-1并且证实：自由度为19的$\\chi^2$分布的这些值是正确的  \n",
    "![11-2](../syn_pic/statistics_for_business_economics/11-2.png)\n",
    "<center>11-2 自由度为19的$\\chi^2$分布 5</center>\n",
    "\n",
    "从图11-2中可以看出，有0.95或95%的$\\chi^2$值位于$\\chi^2_{0.975}$与$\\chi^2_{0.025}$之间  \n",
    "这就是说，满足条件$\\chi^2_{0.975}\\le\\chi^2\\le\\chi^2_{0.025}$的$\\chi^2$值的概率为0.95  \n",
    "![tb11-1](../syn_pic/statistics_for_business_economics/tb11-1.png)\n",
    "<center>表11-1 $\\chi^2$分布表节选</center>\n",
    "\n",
    "正如式(11-2)所述，$(n-1)s^2/\\sigma^2$服从$\\chi^2$分布，因此我们可以用$(n-1)s^2/\\sigma^2$代替$\\chi^2$，得到（11-3）  \n",
    "$$\\chi^2_{0.975}\\le\\frac{(n-1)s^2}{\\sigma^2}\\le\\chi^2_{0.025}$$ 5  \n",
    "实际上，由于$(n-1)s^2/\\sigma^2$的所有可能取值落在区间$\\chi^2_{0.975}$到$\\chi^2_{0.025}$的概率为0.95或95%，于是根据式（11-3）可以得到区间估计  \n",
    "现在我们需要对式（11-3）做一些代数运算以获得总体方差$\\sigma^2$的区间估计。由式（11-3）左面的不等式，我们得到 （11-4） \n",
    "$$\\sigma^2\\le\\frac{(n-1)s^2}{\\chi^2_{0.975}}$$\n",
    "对式（11-3）右面的不等式做类似处理，得到（11-5）  \n",
    "$$\\frac{(n-1)s^2}{\\chi^2_{0.025}}\\le\\sigma^2$$  \n",
    "5  \n",
    "综合式（11-4）和式（11-5），我们得到（11-6）  \n",
    "$$\\frac{(n-1)s^2}{\\chi^2_{0.025}}\\le\\sigma^2\\le\\frac{(n-1)s^2}{\\chi^2_{0.975}}$$  \n",
    "因为式(11-3)对于95%的$(n-1)s^2/\\sigma^2$的值成立，所以，式（11-6）给出了总体方差$\\sigma^2$的95%的置信区间估计  \n",
    "让我们回到求灌装量的总体方差的区间估计问题上来，我们记得，由20个容器组成的样本得到的样本方差为$s^2=0.0025$  \n",
    "\n",
    "由于样本容量为20，所以自由度为19。如图11-2所示，我们已经知道$\\chi^2_{0.975}=8.907,\\chi^2_{0.025}=32.852$。将这些数值代入式（11-6），可以得到总体方差的区间估计如下 5  "
   ]
  },
  {
   "cell_type": "code",
   "execution_count": null,
   "metadata": {},
   "outputs": [],
   "source": [
    "'''\n",
    "python scipy Statistical functions (scipy.stats) chi2()\n",
    "python scipy Statistical functions (scipy.stats) chi2() c.isf()\n",
    "'''\n",
    "fill_n=20\n",
    "fill_df=fill_n-1\n",
    "\n",
    "def varCI1(val,df,var):\n",
    "    '''\n",
    "    统计常用代码 一个总体方差的统计推断 置信区间 方差的置信区间\n",
    "    val: 置信水平\n",
    "    df: 自由度\n",
    "    var: 样本方差\n",
    "    '''\n",
    "    chi2l=chi2.isf((1-val)/2,df)\n",
    "    chi2r=chi2.isf((1+val)/2,df)\n",
    "    mol=df*var\n",
    "    print('方差在{:.0%}置信区间下介于{:.4f}和{:.4f}之间'.format(val,mol/chi2l,mol/chi2r))\n",
    "    \n",
    "varCI1(0.95,fill_df,0.0025)"
   ]
  },
  {
   "cell_type": "code",
   "execution_count": null,
   "metadata": {},
   "outputs": [],
   "source": [
    "'''\n",
    "python numpy Mathematical functions np.sqrt()\n",
    "'''\n",
    "\n",
    "def stdCI1(val,df,var):\n",
    "    '''\n",
    "    统计常用代码 一个总体方差的统计推断 置信区间 标准差的置信区间\n",
    "    val: 置信水平\n",
    "    df: 自由度\n",
    "    var: 样本方差\n",
    "    '''\n",
    "    chi2l=chi2.isf((1-val)/2,df)\n",
    "    chi2r=chi2.isf((1+val)/2,df)\n",
    "    mol=df*var\n",
    "    print('标准差在{:.0%}置信区间下介于{:.4f}和{:.4f}之间'.format(val,np.sqrt(mol/chi2l),np.sqrt(mol/chi2r)))\n",
    "    \n",
    "stdCI1(0.95,fill_df,0.0025)"
   ]
  },
  {
   "cell_type": "markdown",
   "metadata": {},
   "source": [
    "以上我们说明了利用$\\chi^2$分布建立总体方差与总体标准差的区间估计的过程。将式（11-6）推广到任意置信系数的一般情形，我们得到关于一个总体方差的区间估计如下  \n",
    "<hr />\n",
    "\n",
    "**一个总体方差的区间估计**（11-7）  \n",
    "$$\\frac{(n-1)s^2}{\\chi^2_{\\alpha/2}}\\le\\sigma^2\\le\\frac{(n-1)s^2}{\\chi^2_{1-\\alpha/2}}$$\n",
    "5  \n",
    "式中，$\\chi^2$值是基于自由度为n-1的$\\chi^2$分布，$1-\\alpha$为置信系数  \n",
    "<hr />\n",
    "\n",
    "## 11.1.2 假设检验\n",
    "用$\\sigma_0^2$标识总体方差的假设值，关于总体方差有以下三种形式的假设检验：  \n",
    "$$H_0:\\sigma^2\\ge\\sigma^2_0$$\n",
    "$$H_a:\\sigma^2\\lt\\sigma^2_0$$\n",
    "<hr />\n",
    "\n",
    "$$H_0:\\sigma^2\\le\\sigma^2_0$$\n",
    "$$H_a:\\sigma^2\\gt\\sigma^2_0$$\n",
    "<hr />\n",
    "\n",
    "$$H_0:\\sigma^2=\\sigma^2_0$$\n",
    "$$H_a:\\sigma^2\\ne\\sigma^2_0$$\n",
    "5  \n",
    "这三种形式与第9章和第10章中我们用于总体均值和比率的单侧和双侧检验的三种形式类似  \n",
    "进行总体方差假设检验的步骤，是用总体方差的假设值$\\sigma_0^2$和样本方差$s^2$来计算检验统计量$\\chi^2$的值。假设总体服从正态分布，则检验的统计量如下  \n",
    "<hr />\n",
    "\n",
    "**一个总体方差假设检验的检验统计量**（11-8）  \n",
    "$$\\chi^2=\\frac{(n-1)s^2}{\\sigma_0^2}$$\n",
    "式中，$\\chi^2$服从自由度为n-1的$\\chi^2$分布 5  \n",
    "<hr />\n",
    "\n",
    "在计算出检验统计量$\\chi^2$的数值之后，可使用p-值法或临界值法来确定原假设是否被拒绝  \n",
    "让我们考虑一下例子，圣路易斯公共汽车公司鼓励其员工遵守时间，以在公众面前树立值得信赖的形象。作为一个规范制度，该公司要求各辆汽车的到站时间变化不大  \n",
    "就到站时间的方差而言，公司规定的标准是到站时间的方差不超过4。利用一下假设检验，可以帮助公司确定到站时间的方差不超过4。利用以下假设检验，可以帮助公司确定到站时间的总体方差是否过大  \n",
    "$$H_0:\\sigma^2\\le4$$\n",
    "$$H_a:\\sigma^2\\gt4$$\n",
    "如果尝试性地假设$H_0$为真，即我们假定到站时间的总体方差满足公司规定的标准。我们在$\\alpha=0.05$的显著性水平下进行假设检验 5  \n",
    "假定在某个市中心车站随机抽取了24辆公共汽车的到站时间组成一个样本，得到样本方差为$s^2=4.9$。假设到站时间的总体分布近似服从正态分布，则检验统计量的数值如下  "
   ]
  },
  {
   "cell_type": "code",
   "execution_count": null,
   "metadata": {},
   "outputs": [],
   "source": [
    "def chisquareTS(var,df,svar):\n",
    "    '''\n",
    "    统计常用代码 一个总体方差的统计推断 假设检验 卡方检验统计量\n",
    "    var：检验方差\n",
    "    df：自由度\n",
    "    svar：样本方差\n",
    "    '''\n",
    "    return df*svar/var\n",
    "\n",
    "bus_TS=chisquareTS(4,23,4.9)\n",
    "print('检验统计量的数值{:.2f}'.format(bus_TS))"
   ]
  },
  {
   "cell_type": "code",
   "execution_count": null,
   "metadata": {},
   "outputs": [],
   "source": [
    "'''\n",
    "python scipy Statistical functions (scipy.stats) chi2() c.sf()\n",
    "'''\n",
    "bus_P=chi2.sf(bus_TS,23)\n",
    "print('P-值={:.2f}>alpha=0.05，所以我们不能拒绝原假设'.format(bus_P))"
   ]
  },
  {
   "cell_type": "markdown",
   "metadata": {},
   "source": [
    "自由度n-1=24-1=23的$\\chi^2$分布如图11-3所示。因为这是上侧检验，所以检验统计量$\\chi^2=28.18$右侧曲线下的面积就是检验的p-值  \n",
    "![11-3](../syn_pic/statistics_for_business_economics/11-3.png)\n",
    "<center>11-3 圣路易斯公共汽车公司例子的$\\chi^2$分布 5</center>\n",
    "\n",
    "同其他假设检验程序一样，也可以使用临界值法得出假设检验的结论  "
   ]
  },
  {
   "cell_type": "code",
   "execution_count": null,
   "metadata": {},
   "outputs": [],
   "source": [
    "'''\n",
    "python scipy Statistical functions (scipy.stats) chi2() c.isf()\n",
    "'''\n",
    "bus_CV=chi2.isf(0.05,23)\n",
    "print('利用计算机软件包，得到临界值={:.3f}'.format(bus_CV))"
   ]
  },
  {
   "cell_type": "markdown",
   "metadata": {},
   "source": [
    "因此，对到站时间例子的拒绝法则如下：如果$\\chi^2\\ge35.172$，则拒绝$H_0$  \n",
    "业务检验统计量的数值$\\chi^2=28.18$，所以我们不拒绝原假设  \n",
    "实践中，上侧检验最常用于总体方差的检验。在涉及到达时间、生产时间、灌装重量、零件尺寸等情形，一般都要求较小的方差，而较大的方差则不可能接受 5  \n",
    "根据这种检验的结构，一旦拒绝原假设，则显示总体方差过大，应该采取纠正措施  \n",
    "同我们对总体均值和总体比率的检验一样，也可以进行其他形式的假设检验  \n",
    "历史上，申请驾驶执照的个人考试分数的方差为$\\sigma^2=100$。该管理处希望新型考题的考分方差保持在原有水平上。为评价新型考题考分的方差，提出下面的双侧假设检验  \n",
    "$$H_0:\\sigma^2=100$$\n",
    "$$H_a:\\sigma^2\\ne100$$\n",
    "拒绝$H_0$表明方差发生了改变，因此为了使新型考题分的方差保持原有水平，则必须修订新型考题中的某些考题。一个由30名驾驶执行的申请者组成的样本将接受这种新型的考试。我们在$\\alpha=0.05$的显著性水平下进行假设检验 5  \n",
    "由30份新型考题的考分组成的样本方差为$s^2=162$，检验统计量$\\chi^2$的数值为：  "
   ]
  },
  {
   "cell_type": "code",
   "execution_count": null,
   "metadata": {},
   "outputs": [],
   "source": [
    "'''\n",
    "统计常用代码 一个总体方差的统计推断 假设检验 卡方检验统计量\n",
    "'''\n",
    "drive_TS=chisquareTS(100,29,162)\n",
    "print('检验统计量的数值为{:.2f}'.format(drive_TS))"
   ]
  },
  {
   "cell_type": "code",
   "execution_count": null,
   "metadata": {},
   "outputs": [],
   "source": [
    "drive_P=chi2.sf(drive_TS,29)*2\n",
    "print('得到双侧检验的P-值={:.2f}，由于p-值小于alpha，故我们拒绝H0'.format(drive_P))"
   ]
  },
  {
   "cell_type": "markdown",
   "metadata": {},
   "source": [
    "表11-2中给出了总体方差假设检验步骤的汇总  \n",
    "<center>表11-2 一个总体方差假设检验的汇总 5</center>\n",
    "\n",
    "|汇总|下侧检验|上侧检验|双侧检验|\n",
    "|:-:|:-:|:-:|:-:|\n",
    "|假设|$$H_0:\\sigma^2\\ge\\sigma^2_0$$$$H_a:\\sigma^2\\lt\\sigma^2_0$$|$$H_0:\\sigma^2\\le\\sigma^2_0$$$$H_a:\\sigma^2\\gt\\sigma^2_0$$|$$H_0:\\sigma^2=\\sigma^2_0$$$$H_a:\\sigma^2\\ne\\sigma^2_0$$|\n",
    "|检验统计量 5|$$\\chi^2=\\frac{(n-1)s^2}{\\sigma^2_0}$$|$$\\chi^2=\\frac{(n-1)s^2}{\\sigma^2_0}$$|$$\\chi^2=\\frac{(n-1)s^2}{\\sigma^2_0}$$|\n",
    "|拒绝法则:p-值法 5|如果p-值$\\le\\alpha$，则拒绝$H_0$|如果p-值$\\le\\alpha$，则拒绝$H_0$|如果p-值$\\le\\alpha$，则拒绝$H_0$|\n",
    "|拒绝法则：临界值法 5|如果$\\chi^2\\le\\chi^2_{(1-\\alpha)}$，则拒绝$H_0$|如果$\\chi^2\\ge\\chi^2_\\alpha$，则拒绝$H_0$|如果$\\chi^2\\le\\chi^2_{(1-\\alpha/2)}$或者$\\chi^2\\ge\\chi^2_{\\alpha/2}$，则拒绝$H_0$|\n",
    "\n",
    "# 11.2 两个总体方差的统计推断\n",
    "在一些统计应用中，我们可能想比较两个不同生产工序生产出来的产品质量的方差，两种不同装配方法所需装配时间的方差，或者两种加热装置温度的方差  \n",
    "在比较两个总体方差时，我们将使用两个独立随机样本收集的数据，其中一个来自总体1，而另一个来自总体2，两个样本方差$s_1^2$和$s_2^2$是推断总体方差$\\sigma_1^2$和$\\sigma_2^2$的基础  \n",
    "当两个正态总体的方差相等$(\\sigma_1^2=\\sigma_2^2)$时，样本方差之比$s_1^2/s_2^2$有以下抽样分布  \n",
    "<hr />\n",
    "\n",
    "**当$\\sigma_1^2=\\sigma_2^2$时,$s_1^2/s_2^2$的抽样分布**  \n",
    "从两个方差相等的正态总体中分别抽取容量$n_1$和$n_2$的两个独立的简单随机样本，则（11-9） 5  \n",
    "$$\\frac{s_1^2}{s_2^2}$$\n",
    "的抽样分布服从分子自由度为$n_1-1$和分母自由度为$n_2-1$的F分布。$s_1^2$为取自总体1的容量为$n_1$的随机样本的样本方差，$s_2^2$为取自总体2的容量为$n_2$的随机样本的样本方差  \n",
    "<hr />\n",
    "\n",
    "图11-4是分子和分母自由度均为20的F分布图形。从这张图上我们能看出，F分布是不对称的，而且F值永远不取负数。任何F分布的形状依赖于分子和分母的自由度  \n",
    "![11-4](../syn_pic/statistics_for_business_economics/11-4.png)\n",
    "<center>11-4 分子和分母自由度都为20的F分布</center>\n",
    "\n",
    "我们将用$F_\\alpha$表示在F分布的上侧面积或概率为$\\alpha$时的F值。例如，如图11-4所示，$F_{0.05}$表示对于分子和分母自由度都为20的F分布，其上侧面积为0.05 5  \n",
    "<center>表11-3 F分布表节选</center>\n",
    "\n",
    "![tb11-3](../syn_pic/statistics_for_business_economics/tb11-3.png)"
   ]
  },
  {
   "cell_type": "code",
   "execution_count": null,
   "metadata": {},
   "outputs": [],
   "source": [
    "'''\n",
    "python scipy Statistical functions (scipy.stats) f()\n",
    "python scipy Statistical functions (scipy.stats) f() f.isf()\n",
    "'''\n",
    "pd_tp_f=f.isf(0.05,20,20)\n",
    "print('我们计算出F005={:.2f}'.format(pd_tp_f))"
   ]
  },
  {
   "cell_type": "markdown",
   "metadata": {},
   "source": [
    "下面我们介绍如何用F分布进行两个总体方差的假设检验。我们以检验两个总体方差相等开始，所做的假设如下  \n",
    "$$H_0:\\sigma_1^2=\\sigma_2^2$$\n",
    "$$H_a:\\sigma_1^2=\\sigma_2^2$$\n",
    "我们尝试性地假设总体方差相等。如果$H_0$被拒绝，我们将得出两个总体方差不相等的结论 5  \n",
    "进行这个假设检验的步骤是：首先需要两个独立的随机样本，且一个样本来自一个总体，然后计算两个样本方差  \n",
    "我们将提供较大的样本方差的总体记为总体1，因此，对应总体1的样本容量为$n_1$，样本方差为$s_1^2$；对应总体2的样本容量为$n_2$，样本方差为$s_2^2$  \n",
    "在假设两个总体都服从正态分布的基础上，样本方差之比可以得到如下的F检验统计量  \n",
    "<hr />\n",
    "\n",
    "**总体方差$\\sigma_1^2=\\sigma_2^2$的假设检验的检验统计量**（11-10）\n",
    "$$F=\\frac{s_1^2}{s_2^2}$$\n",
    "将样本方差较大的总体记为总体1，则检验统计量服从分子自由度为$n_1-1$，分母自由度为$n_2-1$的F分布 5  \n",
    "<hr />\n",
    "\n",
    "因为进行检验的统计量F的分子是较大的样本方差$s_1^2$，因此检验统计量的数值将出现在F分布的上侧。如果我们不用这种方式构造检验统计量，可能需要用到下侧面积或概率  \n",
    "Dullus县城学校想更新明年校车服务的合同，必须从Milbank公司和GulfPark公司这两个公共汽车公司中选择一个。我们将用到达时间或运送时间的方差作为衡量公共汽车公司服务质量的基本标准。对应的假设如下：  \n",
    "$$H_0:\\sigma_1^2=\\sigma_2^2$$\n",
    "$$H_a:\\sigma_1^2\\ne\\sigma_2^2$$\n",
    "如果$H_0$被拒绝，则说明两个公司的服务质量不相同。我们在$\\alpha=0.10$的显著性水平下，进行假设检验  \n",
    "选择Mibank公司的26次到达时间组成一个样本，得到样本方差为$s_1^2=48$；选择Gulf Park公司的16次到达时间组成另一个样本，得到样本方差为$s_2^2=20$ 5  \n",
    "由于Mibank公司的样本方差较大，我们将Mibank视为总体1。利用式（11-10），检验统计量的数值为  "
   ]
  },
  {
   "cell_type": "code",
   "execution_count": null,
   "metadata": {},
   "outputs": [],
   "source": [
    "schoolBus_fts=48/20\n",
    "print('检验统计量的数值为{:.2f}'.format(schoolBus_fts))"
   ]
  },
  {
   "cell_type": "code",
   "execution_count": null,
   "metadata": {},
   "outputs": [],
   "source": [
    "'''\n",
    "python scipy Statistical functions (scipy.stats) f() f.sf()\n",
    "'''\n",
    "dfn=26-1\n",
    "dfd=16-1\n",
    "schoolBus_P=f.sf(schoolBus_fts,dfn,dfd)*2\n",
    "print('由于p-值={:.2f}小于alpha=0.10，因此原假设被拒绝'.format(schoolBus_P))"
   ]
  },
  {
   "cell_type": "markdown",
   "metadata": {},
   "source": [
    "这个结果导致我们得出两个公共汽车公司到达时间的方差是不同的结论。因此Dullus学习的管理者就可以优先考虑服务更好或方差较小的Gulf Park公司  \n",
    "在显著性水平$\\alpha=0.10$下，用临界值法进行双侧假设检验。我们用分布每一侧的面积$\\alpha/2=0.05$来选择临界值 5  "
   ]
  },
  {
   "cell_type": "code",
   "execution_count": null,
   "metadata": {
    "scrolled": false
   },
   "outputs": [],
   "source": [
    "schoolBus_Z=f.isf(0.1/2,25,15)\n",
    "print('我们看到F_0.05={:.2f}'.format(schoolBus_Z))"
   ]
  },
  {
   "cell_type": "markdown",
   "metadata": {},
   "source": [
    "因此，尽管我们使用的是双侧检验，拒绝法则可称述如下：如果F≥2.28，则拒绝$H_0$  \n",
    "因为F=2.4>2.28，所以我们拒绝$H_0$  \n",
    "涉及两个总体方差的单侧检验也是能做到的。在这种情形下，我们用F分布来确定一个总体的方差是否显著大于另一个总体的方差。关于两个总体方差的单侧假设检验可以永远写成上侧检验的形式:  \n",
    "$$H_0:\\sigma_1^2\\le\\sigma_2^2$$\n",
    "$$H_a:\\sigma_1^2\\gt\\sigma_2^2$$\n",
    "5  \n",
    "假设检验的这种形式永远在F分布的上侧讨论p-值和临界值。因此，只需要上侧的F值，简化了计算和查F分布表  \n",
    "让我们通过民意调查的例子来说明使用F分布进行两个总体方差的单侧检验。由31名男性和41名女性组成的样本将用于研究他们对政治问题的态度  \n",
    "在前边给出的单侧假设检验的形式中，用总体1代表女性，用总体2代表男性，假设检验将表示如下  \n",
    "$$H_0:\\sigma^2_{women}\\le\\sigma^2_{men}$$\n",
    "$$H_a:\\sigma^2_{women}\\gt\\sigma^2_{men}$$\n",
    "如果$H_0$被拒绝，研究者就能得到他所需要的统计支持，从而做出女性对政治问题的态度具有较大方差的结论 5  \n",
    "我们使用显著性水平$\\alpha=0.05$来进行假设检验。调查结果表明，女性的样本方差$s_1^2=120$，男性的样本方差$s_1^2=80$。则检验的统计量是  "
   ]
  },
  {
   "cell_type": "code",
   "execution_count": null,
   "metadata": {},
   "outputs": [],
   "source": [
    "poll_fts=120/80\n",
    "poll_fts"
   ]
  },
  {
   "cell_type": "code",
   "execution_count": null,
   "metadata": {},
   "outputs": [],
   "source": [
    "poll_P=f.sf(poll_fts,40,30)\n",
    "print('p-值={:.4f}＞alpha=0.05，不能拒绝H_0'.format(poll_P))"
   ]
  },
  {
   "cell_type": "markdown",
   "metadata": {},
   "source": [
    "表11-4中给出了关于两个总体方差的假设检验的汇总  \n",
    "<center>表11-4 两个总体方差假设检验的汇总 5</center>\n",
    "\n",
    "|汇总|上侧检验|双侧检验|\n",
    "|:-:|:-:|:-:|\n",
    "|假设|$$H_0:\\sigma_1^2\\le\\sigma_2^2$$$$H_a:\\sigma_1^2\\gt\\sigma_2^2$$|$$H_0:\\sigma_1^2=\\sigma_2^2$$$$H_a:\\sigma_1^2\\ne\\sigma_2^2$$注：总体1拥有较大的样本方差\n",
    "|检验统计量 5|$$F=\\frac{s_1^2}{s_2^2}$$|$$F=\\frac{s_1^2}{s_2^2}$$|\n",
    "|拒绝法则：p-值法|如果p-值$\\le\\alpha$，拒绝$H_0$|如果p-值$\\le\\alpha$，拒绝$H_0$|\n",
    "|拒绝法则：临界值法|如果$F\\ge F_\\alpha$，则拒绝$H_0$|如果$F\\ge F_{\\alpha/2}$，则拒绝$H_0$|\n",
    "\n",
    "## 注释\n",
    "研究人员证实了F分布对于正态总体的假定是敏感的，只有当两个总体至少近似正态分布的假定是合理的情况下，才能使用F分布 5  \n",
    "# 小结\n",
    "本章我们介绍了可以用于总体方差推断的统计方法。在这个过程中，我们介绍了两种新的概率分布：$\\chi^2$分布和F分布。$\\chi^2$分布可以作为一个正态总体方差的区间估计和假设检验的基础  \n",
    "我们阐述了在两个总体方差的假设检验中F分布的运用  \n",
    "特别地，我们说明了，从两个方差相等($\\sigma^2_1=\\sigma^2_2$)的正态总体分布选取容量为$n_1$和$n_2$的两个独立的简单随机样本，其样本方差之比$s^2_1/s^2_2$的抽样分布服从分子自由度为$n_1-1$和分母自由度为$n_2-1$的F分布 5  \n",
    "# 重要公式  \n",
    "一个总体方差的区间估计（11-7）  \n",
    "$$\\frac{(n-1)s^2}{\\chi^2_{\\alpha/2}}\\le\\sigma^2\\le\\frac{(n-1)s^2}{\\chi^2_{(1-\\alpha/2)}}$$\n",
    "一个总体方差假设检验的检验统计量（11-8）\n",
    "$$\\chi^2=\\frac{(n-1)s^2}{\\sigma^2_0}$$\n",
    "总体方差$\\sigma^2_1=\\sigma^2_2$的假设检验的检验统计量 （11-10）5  \n",
    "$$F=\\frac{s^2_1}{s^2_2}$$\n",
    "5  \n",
    "# 案例11-1\n",
    "**空军训练计划**  \n",
    "空军电子学引导性教程采用一种个性化教学系统，每位学生观看讲座录像，然后给以程式化的教材。人们关心的问题是学生完成训练计划的进度不同  \n",
    "建议的替代系统是使用计算机辅助教学  \n",
    "为了比较建议和当前的教学方法，刚入学的122名学生被随机地安排到这两种教学系统中。61名学生使用当前程式化教材，而另外61名学生使用建议的计算机辅助方法  \n",
    "**管理报告**  \n",
    "1. 利用适当的描述统计学方法汇总每种方法的训练时间数据。根据样本资料，你能观察到有何相似之处或差异  \n",
    "    + 相似：都是近似正态分布  \n",
    "    + 差异：当前教材标准差较高 5  \n",
    "2. 利用第10章的方法评价两种方法总体均值之间的差异，讨论你的结论  \n",
    "    + 采用假设检验判断这两种方法是否有差异，假设程式化教材为1，计算机辅助方法为2，原假设和备择假设如下：\n",
    "        $$H_0:\\mu_1-\\mu_2=0$$\n",
    "        $$H_a:\\mu_1-\\mu_2\\ne0$$\n",
    "    + 我们在$\\alpha=0.10$的显著性水平下检验发现，不能认为两种该方法均值有差异  \n",
    "3. 计算每一种训练方法的标准差与方差，进行两种训练方法总体方差相等的假设检验，讨论你的结论 5  \n",
    "    + 原假设和备择假设如下：\n",
    "        $$H_0:\\sigma^2_1=\\sigma^2_2$$\n",
    "        $$H_a:\\sigma^2_1\\ne\\sigma^2_2$$\n",
    "    + 我们在$\\alpha=0.05$的显著性水平下检验发现，两种方法的方差是不相等的\n",
    "4. 关于两种方法之间的差异，你能得到什么结论？你有何建议？请做出解释  \n",
    "    由于这两种方法的方差是不相等的，且人们关心的问题是学生完成训练计划的进度不同，所以我们应该采用时间方差较小的那个方法 5  \n",
    "5. 对于想来要使用哪种训练计划，在做出最终决定之前，你是否还需要其他数据或者检验  \n",
    "    + 由于我们发现在样本集中计算机辅助方法的方差较程式化教材小，可以用假设检验进行验证，原假设和备择假设如下：  \n",
    "        $$H_0:\\sigma^2_1\\le\\sigma^2_2$$\n",
    "        $$H_a:\\sigma^2_1\\gt\\sigma^2_2$$\n",
    "    + 我们在$\\alpha=0.05$的显著性水平下检验发现，计算机辅助方法的方差小于程式化教材，应该采用计算机辅助方法"
   ]
  },
  {
   "cell_type": "code",
   "execution_count": null,
   "metadata": {
    "scrolled": true
   },
   "outputs": [],
   "source": [
    "'''\n",
    "读取 5\n",
    "'''\n",
    "traindata=pd.read_csv('../pydata-book-master/statistics_for_business_economics/ch11/Training.csv')\n",
    "traindata.head()"
   ]
  },
  {
   "cell_type": "code",
   "execution_count": null,
   "metadata": {
    "scrolled": false
   },
   "outputs": [],
   "source": [
    "'''\n",
    "需求1 \n",
    "\n",
    "python pandas dataframe d.plot.hist()\n",
    "python matplotlib axes a.hist()\n",
    "python matplotlib patches Patch() edgecolor/color\n",
    "python matplotlib Artist set_alpha()\n",
    "matplotlib Pyplot function overview plt.show()\n",
    "'''\n",
    "\n",
    "print(traindata.describe().to_string())\n",
    "traindata.plot.hist(edgecolor='black',alpha=0.3,color=['black','blue'])\n",
    "plt.show()"
   ]
  },
  {
   "cell_type": "code",
   "execution_count": null,
   "metadata": {},
   "outputs": [],
   "source": [
    "'''\n",
    "需求 2\n",
    "'''\n",
    "tech_z,tech_p=ttest_ind(traindata['Current'],traindata['Proposed'])\n",
    "print('由于P-值={:.2f}>alpha=0.10，故不能拒绝原假设H_0'.format(tech_p))"
   ]
  },
  {
   "cell_type": "code",
   "execution_count": null,
   "metadata": {},
   "outputs": [],
   "source": [
    "'''\n",
    "需求3.1\n",
    "python pandas dataframe d.std()\n",
    "python pandas dataframe d.var()\n",
    "'''\n",
    "train_std=traindata.std()\n",
    "train_var=traindata.var()\n",
    "print('标准差'+'\\n'+train_std.round(2).to_string())\n",
    "print('-'*20)\n",
    "print('方差'+'\\n'+train_var.round(2).to_string())"
   ]
  },
  {
   "cell_type": "code",
   "execution_count": null,
   "metadata": {},
   "outputs": [],
   "source": [
    "'''\n",
    "需求3.2 \n",
    "python scipy Statistical functions (scipy.stats) f() f.sf()\n",
    "'''\n",
    "train_ts=train_var[0]/train_var[1]\n",
    "train_p=f.sf(train_ts,60,60)*2\n",
    "print('由于p-值={:.4f}小于alpha=0.05，故拒绝原假设'.format(train_p))"
   ]
  },
  {
   "cell_type": "code",
   "execution_count": null,
   "metadata": {},
   "outputs": [],
   "source": [
    "'''\n",
    "需求5 5\n",
    "'''\n",
    "train_p2=f.sf(train_ts,60,60)\n",
    "print('由于p-值={:.4f}小于alpha=0.05，故拒绝原假设'.format(train_p2))"
   ]
  },
  {
   "cell_type": "markdown",
   "metadata": {},
   "source": [
    "# 实操案例\n",
    "## 一个总体方差的统计推断\n",
    "**区间估计**  \n",
    "+ 用于估计用户正常情况下行为数据方差的区间范围,从而来做异常检测  \n",
    "+ 用于估计产品正常情况下数据方差的区间范围,从而来做异常检测  \n",
    "+ 用于估计员工正常情况下业绩方差的区间范围,从而来做异常检测  \n",
    "\n",
    "**假设检验**  \n",
    "用于检验产品服务样本数据方差是否小于标准值，从而来做服务质量检测 5+5  \n",
    "## 两个总体方差的统计推断\n",
    "用于检验某两个特定群体的用户行为数据方差是否有差异  \n",
    "用于检验某两个特定分类的产品数据方差是否有差异  \n",
    "用于评估某两个特定技术的样本质量数据方差是否有差异 5  "
   ]
  }
 ],
 "metadata": {
  "kernelspec": {
   "display_name": "Python 3",
   "language": "python",
   "name": "python3"
  },
  "language_info": {
   "codemirror_mode": {
    "name": "ipython",
    "version": 3
   },
   "file_extension": ".py",
   "mimetype": "text/x-python",
   "name": "python",
   "nbconvert_exporter": "python",
   "pygments_lexer": "ipython3",
   "version": "3.7.6"
  },
  "toc": {
   "base_numbering": 1,
   "nav_menu": {},
   "number_sections": false,
   "sideBar": true,
   "skip_h1_title": false,
   "title_cell": "Table of Contents",
   "title_sidebar": "Contents",
   "toc_cell": false,
   "toc_position": {
    "height": "calc(100% - 180px)",
    "left": "10px",
    "top": "150px",
    "width": "191.6px"
   },
   "toc_section_display": true,
   "toc_window_display": true
  }
 },
 "nbformat": 4,
 "nbformat_minor": 4
}
