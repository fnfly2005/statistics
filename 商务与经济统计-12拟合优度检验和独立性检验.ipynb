{
 "cells": [
  {
   "cell_type": "code",
   "execution_count": null,
   "metadata": {},
   "outputs": [],
   "source": [
    "import pandas as pd\n",
    "import numpy as np\n",
    "from scipy.stats import chi2,chi2_contingency,poisson,chisquare,norm"
   ]
  },
  {
   "cell_type": "markdown",
   "metadata": {},
   "source": [
    "# 实践中的统计\n",
    "**联合劝募协会**  \n",
    "大罗切斯特地区的联合劝募协会是一个非营利组织，该组织致力于满足社区最重要的人文关怀需求，从而通过提高它所服务的7个县全部居民的生活质量  \n",
    "每年春季，联合劝募协会/红十字会举行募捐活动，所得资金用于超过200个服务机构所提供的数百个服务项目  \n",
    "因为有大量的志愿者参与，大罗切斯特地区的联合劝募协会能够保持较低的运作成本：每筹集1美元花费8美分  \n",
    "为了进一步了解社区的慈善关哪，大罗切斯特地区的联合劝募协会决定进行一项调查。问卷经过预调查、修订之后，分发给440个人，得到了323份完整有效的问卷  \n",
    "从搜集到的数据得到各种描述性统计量，包括频数分布和交叉分组表。分析该数据的一个重要部分是列联表和独立性$\\chi^2$检验。这些统计检验的一个用途是确定行政开支关观念是否于职业独立 5  \n",
    "独立性检验的假设为以下内容  \n",
    "$H_0:$联合劝募协会行政开支观念与调查对象的职业独立  \n",
    "$H_a:$联合劝募协会行政开支观念与调查对象的职业不独立  \n",
    "调查中，两个问题为统计检验提供了数据。一个问题得到了有关行政开支占基金比例看法的数据（10%以下、11%-20%及21%以上），另一个问题是调查对象的职业  \n",
    "在5%的显著性水平下进行的$\\chi^2$检验，得到独立性假设被拒绝，因此可以断定联合劝募协会的行政开支观念的确与调查对象的职业有关 5  \n",
    "实际的行政开支小于9%，但是有35%的调查对象认为行政开支超过21%。因此，很多人有不准确的行政开支观念  \n",
    "在这一群体中，生产线工人、办事员、售货员和专业技术人员比群体中其他人员有更不准确的行政开支观念  \n",
    "社区观念的研究帮助罗切斯特地区的联合劝募协会调整项目和筹集资金活动。在本章你将学会如何进行如上所述的独立性统计检验  \n",
    "在第11章中我们介绍了$\\chi^2$分布如何用于一个总体方差的估计与假设检验。本章我们将介绍另外两种基于$\\chi^2$分布的假设检验方法  \n",
    "在12.1节中，我们介绍多项总体的拟合优度检验。稍后我们用列联表讨论独立性检验，最后介绍柏松分布和正态分布的拟合优度检验 5  \n",
    "# 12.1 拟合优度检验：多项总体\n",
    "在本节，我们考虑这种情形：总体中的每一个个体被分配到若干个组或类中的一个且仅一个的情况。这一的总体称为**多项总体**  \n",
    "多项分布可以视为二项分布在三个及三个以上类别情形的推广。在每个多项试验中有且仅有一个结果发生。每次试验被假定为独立的，而且每次试验中的概率都不变  \n",
    "作为例子，考虑Scott市场调查公司进行的市场份额研究。在过去的一年中，公司A的市场份额稳定在30%，公司B稳定在50%，公司C稳定在20%  \n",
    "最近公司C开发了一种“新型改进”产品，以取代当前市场商该公司所售产品。Scott市场调查公司受雇于公司C，目的是判断新产品是否使市场份额发生了变化  \n",
    "在本例中，我们关注的总体使一个多项总体：每一个顾客按照他所购买公司A、公司B还是公司C的产品来进行分类。于是，我们得到一个具有三个类别的多项总体。我们使用下列记号来表示比例 5  \n",
    "$P_A$——公司A的市场份额  \n",
    "$P_B$——公司B的市场份额  \n",
    "$P_C$——公司C的市场份额  \n",
    "Scott市场调查公司将进行抽样调查，以计算各个公司的销售比例，然后进行假设检验，以确定新产品是否导致市场份额发生变化  \n",
    "假定公司C新产品没有改变市场份额，则原假设和备择假设检验如下：  \n",
    "$$H_0:P_A=0.30,P_B=0.50,P_C=0.20$$\n",
    "$$H_a:总体比例不是P_A=0.30,P_B=0.50,P_C=0.20$$\n",
    "5  \n",
    "如果样本结果导致$H_0$被拒绝，则Scott市场调查公司有证据表明，新产品的引进影响了市场份额  \n",
    "让我们假定市场调查公司对200名顾客进行了调查，询问每个人对于公司A、公司B及公司C产品的购买偏好。200份答卷的汇总结果如下  \n",
    "<hr/>\n",
    "\n",
    "<center>观察频数</center>\n",
    "\n",
    "|公司A的产品|公司B的产品|公司C的产品|\n",
    "|-:|-:|-:|\n",
    "|48|98|54|\n",
    "\n",
    "<hr/>\n",
    "\n",
    "现在我们进行**拟合优度检验**，来确定200名顾客购买偏好与原假设是否相符。拟合优度检验基于样本的观察结果与原假设为真条件下的期望结果的比较  \n",
    "因此，下一步就要在假设$p_A=0.30,p_B=0.50,p_C=0.20$成立的条件下，计算200名顾客期望的购买偏好，由此得到期望结果 5  \n",
    "<center>期望频数</center>\n",
    "\n",
    "|公司A的产品|公司B的产品|公司C的产品|\n",
    "|-:|-:|-:|\n",
    "|200x0.30=60|200x0.50=100|200x0.20=40|\n",
    "\n",
    "于是，我们看到每个类别的期望频数使样本容量200与每个类别假设的比例的乘积  \n",
    "现在，拟合优度检验重点关注观察频数与期望频数之差。观察频数与期望频数之差较大将会引起对假设的比例或市场份额的正确性产生怀疑  \n",
    "观察频数与期望频数之差的大小可以用以下检验统计量来衡量  \n",
    "<hr />\n",
    "\n",
    "**拟合优度的检验统计量**（12-1） 5  \n",
    "$$\\chi^2=\\sum_{i=1}^{k}{\\frac{(f_i-e_i)^2}{e_i}}$$\n",
    "式中，$f_i$代表第i类的观察频数；$e_i$代表第i类的期望频数;k代表类别个数  \n",
    "注：当所有类别的期望频数都大于或等于5时，检验统计量服从自由度为k-1的$\\chi^2$分布  \n",
    "<hr />\n",
    "\n",
    "让我们继续Scott市场调查的例子，并用样本数据来检验假设：多项总体比例$p_A=0.30,p_B=0.50及p_C=0.20$保持不变  \n",
    "我们在$\\alpha=0.05$的显著性水平下，用观察频数和期望频数来计算检验统计量的数值 5  \n",
    "由于期望频数都大于或等于5，在表12-1中给出了$\\chi^2$检验统计量的计算结果  \n",
    "注释：  \n",
    "+ 观察频数（$f_i$）\n",
    "+ 期望频数（$e_i$）\n",
    "+ 差（$f_i-e_i$）\n",
    "+ 差的平方$(f_i-e_i)^2$\n",
    "+ 差的平方除以期望频数$(f_i-e_i)^2/e_i$\n",
    "\n",
    "<center>表12-1 Scott市场调查公司的市场份额研究$\\chi^2$检验统计量的计算 5</center>"
   ]
  },
  {
   "cell_type": "code",
   "execution_count": null,
   "metadata": {},
   "outputs": [],
   "source": [
    "'''\n",
    "python pandas series s.mul()\n",
    "python pandas series s.pow()\n",
    "\n",
    "'''\n",
    "scott=pd.DataFrame({'category':['公司A','公司B','公司C'],\n",
    "             'rate':[0.30,0.50,0.20],              \n",
    "             'observation':[48,98,54]})\n",
    "scott_count=scott['observation'].sum()\n",
    "scott['Expected']=scott['rate'].mul(scott_count)\n",
    "scott['diff']=scott['observation'].sub(scott['Expected'])\n",
    "scott['diff2']=scott['diff'].pow(2)\n",
    "scott['chi']=scott['diff2'].div(scott['Expected'])\n",
    "print(scott.round(2).to_string())\n",
    "scott_ts=scott['chi'].sum()\n",
    "print('检验统计量的计算结果是{:.2f}'.format(scott_ts))"
   ]
  },
  {
   "cell_type": "markdown",
   "metadata": {},
   "source": [
    "如果观察频数和期望频数之间的差很大，我们将拒绝原假设，这是因为观察频数和期望之间大的差异将使检验统计量的数值变大  \n",
    "因此，拟合优度检验总是上侧检验，我们可以用检验统计量的上侧面积和p-值法来确定原假设是否被拒绝  "
   ]
  },
  {
   "cell_type": "code",
   "execution_count": null,
   "metadata": {},
   "outputs": [],
   "source": [
    "'''\n",
    "python scipy Statistical functions (scipy.stats) chi2() c.sf()\n",
    "'''\n",
    "scott_df=len(scott)-1\n",
    "scott_p=chi2.sf(scott_ts,scott_df)\n",
    "print('p-值={:.4f},小于alpha=0.05，我们拒绝H_0'.format(scott_p))"
   ]
  },
  {
   "cell_type": "markdown",
   "metadata": {},
   "source": [
    "除了p-值法，我们还可以使用临界值法得到相同的结论。由于$\\alpha=0.05$和自由度为2  "
   ]
  },
  {
   "cell_type": "code",
   "execution_count": null,
   "metadata": {},
   "outputs": [],
   "source": [
    "'''\n",
    "python scipy Statistical functions (scipy.stats) chi2() c.isf() \n",
    "5\n",
    "'''\n",
    "scott_cv=chi2.isf(0.05,scott_df)\n",
    "print('由于临界值={:.3f}，检验统计量={:.2f}且大于临界值，则拒绝H_0'.format(scott_cv,scott_ts))"
   ]
  },
  {
   "cell_type": "markdown",
   "metadata": {},
   "source": [
    "虽然我们没有做出检验结果的进一步结论，但是我们可以通过非正式地比较观察频数和期望频数，得到市场份额结构发生变化的原因  \n",
    "我们发现C公司的观察频数54比期望频数40大得多，因为期望频数基于当前市场份额，观察频数较大则表明新产品将对公司C的市场份额有正的影响  \n",
    "比较其他公司的观察频数和期望频数，表明公司C份额的增加对公司A的影响比对公司B的影响还大  \n",
    "对假设的多项总体分布进行拟合优度检验的一般步骤总结如下  \n",
    "<hr />\n",
    "\n",
    "**多项分布的拟合优度检验小结**  \n",
    "1. 建立原假设和备择假设  \n",
    "    $H_0$:总体服从k类中每类都有指定的概率的多项分布 5  \n",
    "    $H_a$:总体不服从k类中每类都有指定的概率的多项分布  \n",
    "2. 选择一个随机样本，并记录每个类别的观察频数$f_i$  \n",
    "3. 假定原假设为真，由此确定每个类别的期望频数$e_i$，$e_i$等于样本容量与各类概率的乘积  \n",
    "4. 计算检验统计量的数值  \n",
    "    $$\\chi^2=\\sum_{i=1}^{k}{\\frac{(f_i-e_i)^2}{e_i}}$$\n",
    "5. 拒绝法则： 5  \n",
    "    p-值法： 如果p-值$\\le\\alpha$，则拒绝$H_0$  \n",
    "    临界值法：如果$\\chi^2\\ge\\chi^2_\\alpha$，则拒绝$H_0$   \n",
    "    式中，$\\alpha$是检验的显著性水平，$\\chi^2_\\alpha$是自由度为k-1时，$\\chi^2$分布的上侧面积为$\\alpha$的$\\chi^2$值 5  \n",
    "\n",
    "# 12.2 独立性检验\n",
    "$\\chi^2$分布的另一个重要应用是根据样本数据检验两个变量的独立性  \n",
    "Alber生产三种类型的啤酒：淡啤酒、普通啤酒和黑啤酒。在以此对三种啤酒市场份额的分析中，公司市场研究小组提出了一个问题：男性与女性饮酒者对于三种啤酒的偏好是否存在差异  \n",
    "独立性检验重点讨论啤酒的偏好是否与饮酒者的性别独立的问题。这个独立性检验的假设为：  \n",
    "$H_0$:啤酒偏好于饮酒者性别独立  \n",
    "$H_a$:啤酒偏好于饮酒者性别不独立 5  \n",
    "表12-2可以用于描述上述问题。在确定了所有男性与女性饮酒者总体之后，可以抽取一个样本，并对样本中的每个人询问其对于Alber啤酒的偏好  \n",
    "样本中每个人将被分类到表中6个单元格之一。因为我们已经列出了所有可能的啤酒偏好与性别的组合，换句话说，列出了所有可能的组合，所以称表12-2为一个**列联表**。独立性检验使用列联表格式，因此有时被称为列联表检验  \n",
    "<center>表12-2 啤酒偏好与饮酒者性别的列联表</center>\n",
    "\n",
    "![tb12-2](../syn_pic/statistics_for_business_economics/tb12-2.png)\n",
    "假定已经抽取了150名饮酒者组成的一个随机样本。在品尝了每一种啤酒之后，让样本中每个人陈述其偏好或第一选择，表12-3中的交叉分组表汇总了该项研究的结果  \n",
    "表12-3中的数据是6类观察频数。在啤酒偏好与饮酒者性别独立的假设下，如果我们能确定期望频数，则我们就可以利用$\\chi^2$分布来确定观察频数和期望频数之间是否存在显著差异 5  "
   ]
  },
  {
   "cell_type": "code",
   "execution_count": null,
   "metadata": {},
   "outputs": [],
   "source": [
    "'''\n",
    "python pandas Input/Output pd.read_csv() index_col\n",
    "python pandas dataframe d.tail()\n",
    "'''\n",
    "beer_pre=pd.read_csv('../pydata-book-master/statistics_for_business_economics/ch12/BeerPreference.csv',\n",
    "                     index_col=0)\n",
    "beer_pre.tail()"
   ]
  },
  {
   "cell_type": "code",
   "execution_count": null,
   "metadata": {},
   "outputs": [],
   "source": [
    "'''\n",
    "python pandas General functions pd.crosstab() margins \n",
    "'''\n",
    "beer_pre_cros=pd.crosstab(beer_pre['Gender'],beer_pre['Preference'],margins=True)\n",
    "beer_pre_cros"
   ]
  },
  {
   "cell_type": "markdown",
   "metadata": {},
   "source": [
    "<center>表12-3 男性与女性饮酒者啤酒偏好的样本资料(观察频数)</center>\n",
    "\n",
    "![tb12-3](../syn_pic/statistics_for_business_economics/tb12-3.png)\n",
    "列联表中单元格的期望频数依据下列推理。首先，我们假定啤酒偏好与饮酒者性别独立的原假设为真。然后，我们注意到在150名饮酒者的整个样本中，共有50名偏好淡啤酒，70名偏好普通啤酒，30名偏好黑啤酒  \n",
    "用比例来表示，我们得到50/150=1/3的饮酒者偏好淡啤酒。如果独立性假设为真，我们认为这些比例对男性和女性饮酒者一定都适用 5  \n",
    "对于70名女性饮酒者应用同样的比例可以得到表12-4所示的期望频数  \n",
    "<center>表12-4 在啤酒偏好与饮酒者性别独立时的期望频数</center>\n",
    "\n",
    "![tb12-4](../syn_pic/statistics_for_business_economics/tb12-4.png)"
   ]
  },
  {
   "cell_type": "code",
   "execution_count": null,
   "metadata": {},
   "outputs": [],
   "source": [
    "'''\n",
    "python pandas dataframe d.iloc[]\n",
    "python pandas dataframe d.mul()\n",
    "python pandas dataframe d.copy()\n",
    "'''\n",
    "gender=beer_pre_cros.iloc[:2,3]\n",
    "preference=beer_pre_cros.iloc[2,:3].div(beer_pre_cros.iloc[2,3])\n",
    "beer_pre_cros_1=beer_pre_cros.iloc[:2,:3].copy()\n",
    "for i in beer_pre_cros_1:\n",
    "    beer_pre_cros_1[i]=gender\n",
    "\n",
    "beer_pre_cros_e=beer_pre_cros_1.mul(preference)\n",
    "beer_pre_cros_e"
   ]
  },
  {
   "cell_type": "markdown",
   "metadata": {},
   "source": [
    "令$e_{ij}$表示列联表中位于第i行和第j列的类别的期望频数。将这个表达式进行推广，可以得到以下计算独立性检验的列联表中期望频数的公式    \n",
    "<hr />\n",
    "\n",
    "**在独立性假设下，列联表的期望频数**（12-2） 5  \n",
    "$$e_{ij}=\\frac{第i行之和\\times第j列之和}{样本容量}$$\n",
    "<hr />\n",
    "\n",
    "对于偏好黑啤酒的男性饮酒者使用上述公式，我们得到期望频数$e_{13}$，如表12-4所示。利用式（12-2）可以确认表12-4中的其他期望频数  \n",
    "将表12-3中的观察频数与12-4中的期望频数进行比较的检验方法与12.1节介绍的拟合优度检验类似。特别地，基于观察频数和期望频数计算$\\chi^2$数值的公式如下  \n",
    "<hr />\n",
    "\n",
    "**独立性检验统计量**（12-3）  \n",
    "$$\\chi^2=\\sum_{i}{\\sum_{j}{\\frac{(f_{ij}-e_{ij})^2}{e_{ij}}}}$$\n",
    "5  \n",
    "式中，$f_{ij}$代表列联表中位于第i行和第j列类别的观察频数；$e_{ij}$代表列联表中位于第i行和第j列类别的期望频数  \n",
    "注：对于n行和m列的列联表，检验统计量服从$\\chi^2$分布，自由度为$(n-1)\\times(m-1)$，其中所有类别的期望频数都大于或等于5  \n",
    "<hr />\n",
    "\n",
    "式（12-3）中的双重求和标识列联表中所有单元格都参与计算  \n",
    "观察表12-4中的期望频数，我们看到每个类别的期望频数都大于或等于5。因此，我们可以进行$\\chi^2$检验统计量的计算。判断啤酒偏好是否与饮酒者性别独立所需的$\\chi^2$检验统计量的计算结构列在表12-5中  \n",
    "<center>表12-5 确定啤酒偏好是否与饮酒者性别独立时的$\\chi^2$检验统计量的计算 5</center>\n",
    "\n",
    "![tb12-5](../syn_pic/statistics_for_business_economics/tb12-5.png)"
   ]
  },
  {
   "cell_type": "code",
   "execution_count": null,
   "metadata": {},
   "outputs": [],
   "source": [
    "beer_pre_cros_f=beer_pre_cros.iloc[:2,:3]\n",
    "beer_pre_cros_f"
   ]
  },
  {
   "cell_type": "code",
   "execution_count": null,
   "metadata": {},
   "outputs": [],
   "source": [
    "'''\n",
    "python pandas dataframe d.unstack()\n",
    "python pandas series s.name\n",
    "'''\n",
    "beer_pre_cros_e_un=beer_pre_cros_e.unstack()\n",
    "beer_pre_cros_e_un.name='expect'\n",
    "beer_pre_cros_f_un=beer_pre_cros_f.unstack()\n",
    "beer_pre_cros_f_un.name='observation'\n",
    "beer_pre_df=pd.DataFrame([beer_pre_cros_e_un,beer_pre_cros_f_un])\n",
    "beer_pre_df"
   ]
  },
  {
   "cell_type": "code",
   "execution_count": null,
   "metadata": {
    "scrolled": true
   },
   "outputs": [],
   "source": [
    "'''\n",
    "python pandas dataframe d.pivot_table()\n",
    "python pandas dataframe d.reset_index()\n",
    "python pandas dataframe d.set_index()\n",
    "'''\n",
    "bp=beer_pre_df.pivot_table(columns=['expect','observation']).reset_index().set_index(['Gender','Preference'])\n",
    "bp"
   ]
  },
  {
   "cell_type": "code",
   "execution_count": null,
   "metadata": {},
   "outputs": [],
   "source": [
    "'''\n",
    "检验统计量计算 5\n",
    "'''\n",
    "bp['diff']=bp['observation'].sub(bp['expect'])\n",
    "bp['diff2']=bp['diff'].pow(2)\n",
    "bp['project']=bp['diff2'].div(bp['expect'])\n",
    "bp_ts=bp['project'].sum()\n",
    "bp_num=bp['observation'].sum()\n",
    "print('我们看到{:.0f}个样本下，检验统计量的数值chi2={:.2f}'.format(bp_num,bp_ts))"
   ]
  },
  {
   "cell_type": "code",
   "execution_count": null,
   "metadata": {},
   "outputs": [],
   "source": [
    "'''\n",
    "p-值计算 \n",
    "python scipy Statistical functions (scipy.stats) chi2() c.sf()\n",
    "'''\n",
    "bp_df=(2-1)*(3-1)\n",
    "bp_p=chi2.sf(bp_ts,bp_df)\n",
    "print('由于p-值={:.4f}小于alpha=0.05，故我们拒绝独立性原假设H_0'.format(bp_p))  "
   ]
  },
  {
   "cell_type": "code",
   "execution_count": null,
   "metadata": {},
   "outputs": [],
   "source": [
    "'''\n",
    "软件方法\n",
    "python scipy Statistical functions (scipy.stats) chi2_contingency()\n",
    "'''\n",
    "chi2_contingency(beer_pre_cros_f)"
   ]
  },
  {
   "cell_type": "markdown",
   "metadata": {},
   "source": [
    "尽管我们没有得出检验结果的进一步结论，但是我们可以同非正式地比较观察频数与期望频数，得到产生啤酒偏好与饮酒者性别是否独立的原因  \n",
    "参考表12-3和表12-4，我们看到男性饮酒者对于普通啤酒与黑啤酒的观察频数高于期望频数，而女性饮酒者仅对淡啤酒的观察频数高于期望频数  \n",
    "我们总结独立性列联表检验的步骤如下 5  \n",
    "<hr />\n",
    "\n",
    "**独立性检验小结**  \n",
    "1. 建立原假设与备择假设  \n",
    "    $H_0$:列变量与行变量独立  \n",
    "    $H_a$:列变量与行变量不独立  \n",
    "2. 选择一个随机样本，并记录列联表中每个单元格的观察频数  \n",
    "3. 利用式（12-2）计算每个单元格的期望频数  \n",
    "4. 利用式（12-3）计算检验统计量的数值 5  \n",
    "5. 拒绝法则  \n",
    "    p-值法：如果p-值$\\le\\alpha$，则拒绝$H_0$  \n",
    "    临界值法：如果$\\chi^2\\ge\\chi^2_\\alpha$，则拒绝$H_0$  \n",
    "\n",
    "式中，$\\alpha$是显著性水平；对于n行和m列的列联表，$\\chi^2_\\alpha$是自由度为$(n-1)\\times(m-1)$时，$\\chi^2$分布的上侧面积为$\\alpha$的$\\chi^2$值  \n",
    "<hr />\n",
    "\n",
    "## 注释  \n",
    "本章的$\\chi^2$检验的检验统计量要求每一个类别的期望频数至少为5。当某一个类别的期望频数小于5时，通常是将相邻的类合并起来，以使得每一个类别的期望频数都大于或等于5 5  \n",
    "# 12.3 拟合优度检验：柏松分布与正态分布  \n",
    "在12.1节中，我们介绍了多项总体的拟合优度检验。一般地，拟合优度检验可用于任何假设的概率分布。在本节，我们阐述在假设总体服从柏松分布和正态分布时的拟合优度检验方法  \n",
    "## 12.3.1 柏松分布\n",
    "在假设总体分布服从柏松分布的情形下，我们来阐述拟合优度检验。作为例子，我们考虑佛罗里达州塔拉哈西的Dubek食品市场的顾客光临情况  \n",
    "在考察了结账通道的运行情况后，该咨询公司提出一项员工配置规划的建议。该配置规划基于对等候队列的数学分析，仅当在一段特定时间内顾客到达人数服从柏松分布时才适用  \n",
    "因此，在这项员工配置规划投入实施之前，必须搜集顾客到达商店情况的数据，并且进行统计检验以判断：顾客到达人数服从柏松分布的假设是否合理  \n",
    "我们用5分钟时间段内进入商店的顾客人数来规定到达情况。因此，对Dubek食品市场的研究，下列原假设与备择假设是合适的 5  \n",
    "$H_0$:5分钟时间段内进入商店的顾客人数服从柏松分布  \n",
    "$H_a$:5分钟时间段内进入商店的顾客人数不服从柏松分布  \n",
    "如果一个顾客到达商店的样本表明，$H_0$不能被拒绝，则Dubek就将实施咨询公司的员工配置规划  \n",
    "为检验工作日上午顾客到达人数是否服从柏松分布的假设，一名Dubek食品市场的雇员随机选取了3周每个工作日上午的128个5分钟时间段组成了一个样本  \n",
    "对于样本中的每个5分钟时间段，该雇员记录了进入商店的顾客人数。这些数据汇总在表12-6中 5    "
   ]
  },
  {
   "cell_type": "code",
   "execution_count": null,
   "metadata": {},
   "outputs": [],
   "source": [
    "df_dubek=pd.DataFrame({'arrivals':np.arange(11),'observation':[2,8,10,12,18,22,22,16,12,6,0]})\n",
    "df_dubek"
   ]
  },
  {
   "cell_type": "markdown",
   "metadata": {},
   "source": [
    "表12-6给出了10个类别的观察频数。现在我们要用拟合优度检验来判断128个时间段组成的样本是否支持柏松分布的假设  \n",
    "为了进行拟合优度检验，在假定顾客到达人数服从柏松分布为真时，我们需要考虑10个类别中每一个类别的期望频数  \n",
    "我们在第5章中首次引入的柏松概率函数为(12-4)  \n",
    "$$f(x)=\\frac{\\mu^xe^{-\\mu}}{x!}$$ \n",
    "5  \n",
    "式中，$\\mu$表示在5分钟时间段内平均到达的顾客人数或期望到达的顾客人数，x是一个随机变量，表示在一个5分钟时间段内所到达的顾客人数：f(x)表示在一个5分钟时间段内有x位顾客到达的概率  \n",
    "在利用式(12-4)计算柏松概率之前，我们必须得到$\\mu$的估计值，即5分钟时间段内到达顾客的平均数。表12-6中的数据给出了样本均值的估计值  "
   ]
  },
  {
   "cell_type": "code",
   "execution_count": null,
   "metadata": {},
   "outputs": [],
   "source": [
    "'''\n",
    "python\tpandas\tseries\ts.sum()\n",
    "'''\n",
    "sdo=df_dubek['observation']\n",
    "acd=df_dubek['arrivals'].mul(sdo).sum()\n",
    "mean_dubek=acd/sdo.sum()\n",
    "print('每5分钟时间段平均达到顾客数为{:.0f}'.format(mean_dubek))"
   ]
  },
  {
   "cell_type": "markdown",
   "metadata": {},
   "source": [
    "以这个数值作为柏松分布的均值，则Dubek食品市场的柏松概率函数的估计为(12-5)  \n",
    "$$f(x)=\\frac{5^xe^{-5}}{x!}$$\n",
    "5  \n",
    "对于不同的x值，这一概率函数可以用来估算每一类到达顾客人数的概率。这些概率可以在附录A的表A-7中查到，并在表12-7中给出  "
   ]
  },
  {
   "cell_type": "code",
   "execution_count": null,
   "metadata": {},
   "outputs": [],
   "source": [
    "'''\n",
    "python\tpandas\tseries\ts.apply()\n",
    "python\tscipy\tStatistical functions (scipy.stats)\tpoisson() p.pmf()\n",
    "'''\n",
    "df_dubek['poisson_prop']=df_dubek['arrivals'].apply(lambda x:poisson.pmf(x, mean_dubek))\n",
    "df_dubek['except']=df_dubek['poisson_prop'].mul(sdo.sum())\n",
    "df_dubek"
   ]
  },
  {
   "cell_type": "markdown",
   "metadata": {},
   "source": [
    "在我们使用通常的$\\chi^2$计算方法比较观察频数与期望频数之前，应该注意在表12-7中，有四个类别的期望频数小于5。这种情况不满足使用$\\chi^2$分布的要求  \n",
    "但是，期望频数小于5并不会产生障碍，因为我们可以通过合并相邻的类别来满足期望频数“至少为5”的要求。这里，我们把0和1合并成一类，9和10或10以上合并成一类。表12-8列出了类别合并后的期望频数和观察频数  "
   ]
  },
  {
   "cell_type": "code",
   "execution_count": null,
   "metadata": {},
   "outputs": [],
   "source": [
    "'''\n",
    "5  \n",
    "python\tpandas\tseries\ts.add()\n",
    "'''\n",
    "df_dubek_mage=df_dubek.copy().drop([0,10])\n",
    "df_dubek_mage.iloc[0]=df_dubek.iloc[1].add(df_dubek.iloc[0])\n",
    "df_dubek_mage.iloc[-1]=df_dubek.iloc[-1].add(df_dubek.iloc[-2])\n",
    "df_dubek_mage.iloc[-1,0]=9\n",
    "df_dubek_mage"
   ]
  },
  {
   "cell_type": "markdown",
   "metadata": {},
   "source": [
    "与 12.1节中一样，拟合优度检验主要考虑观察频数和期望频数之差$(f_i-e_i)$。于是，我们利用表12-8所列的观察频数与期望频数来计算$\\chi^2$检验统计量  \n",
    "$$\\chi^2=\\sum_{i=1}^{k}{\\frac{(f_i-e_i)^2}{e_i}}$$"
   ]
  },
  {
   "cell_type": "code",
   "execution_count": null,
   "metadata": {},
   "outputs": [],
   "source": [
    "df_dubek_mage['dif']=df_dubek_mage['observation'].sub(df_dubek_mage['except'])\n",
    "df_dubek_mage['dif2']=df_dubek_mage['dif'].pow(2)\n",
    "df_dubek_mage['target']=df_dubek_mage['dif2'].div(df_dubek_mage['except'])\n",
    "dubek_ts=df_dubek_mage['target'].sum()\n",
    "print('检验统计量的值为{:.2f}'.format(dubek_ts))"
   ]
  },
  {
   "cell_type": "markdown",
   "metadata": {},
   "source": [
    "一般地，拟合优度检验的$\\chi^2$分布有k-p-1个自由度，其中k是类别个数，p是由样本数据估计的总体参数个数  \n",
    "对于我们考察的柏松分布的拟合优度检验，表12-9显示有9个类别。因为我们利用样本数据来估计柏松分布的均值，所以p=1。因此，自由度为k-p-1=k-2=9-2=7 5  \n",
    "假定我们在0.05的显著性水平下，检验顾客到达人数的概率分布服从柏松分布的原假设。为了检验这个假设，我们需要根据自由度为7的$\\chi^2$分布确定$\\chi^2=10.96$的上侧面积，从而确定p-值  "
   ]
  },
  {
   "cell_type": "code",
   "execution_count": null,
   "metadata": {},
   "outputs": [],
   "source": [
    "dubek_p=chi2.sf(dubek_ts,df=7)\n",
    "print('由于p-值={:.4f}，大于alpha=0.05，所以我们不能拒绝H_0'.format(dubek_p))"
   ]
  },
  {
   "cell_type": "code",
   "execution_count": null,
   "metadata": {},
   "outputs": [],
   "source": [
    "'''\n",
    "方法2 \n",
    "python\tscipy\tStatistical functions (scipy.stats)\tchisquare()\n",
    "'''\n",
    "chisquare(df_dubek_mage['observation'],df_dubek_mage['except'],1)"
   ]
  },
  {
   "cell_type": "markdown",
   "metadata": {},
   "source": [
    "<hr />\n",
    "\n",
    "**柏松分布拟合优度检验小结**  \n",
    "1. 建立原假设和备择假设\n",
    "    $H_0$:总体服从柏松概率分布  \n",
    "    $H_a$:总体不服从柏松概率分布 5  \n",
    "2. 抽取一个随机样本，并且  \n",
    "    a. 对于柏松随机变量的每个值记录观察频数$f_i$  \n",
    "    b. 计算发生次数的平均值$\\mu$  \n",
    "3. 对于柏松随机变量的每个值计算发生次数的期望频数$e_i$，即样本容量与柏松随机变量取每个值的概率的乘积  \n",
    "    如果对于某些取值，期望频数小于5，则将相邻的数值合并，同时减少类别个数  \n",
    "4. 计算检验统计量 5  \n",
    "    $$\\chi^2=\\sum_{i=1}^{k}{\\frac{(f_i-e_i)^2}{e_i}}$$\n",
    "5. 拒绝法则  \n",
    "    p-值法：如果p-值$\\le\\alpha$，则拒绝$H_0$  \n",
    "    临界值法：如果$\\chi^2\\ge\\chi^2$，则拒绝$H_0$  \n",
    "    \n",
    "式中，$\\alpha$是显著性水平，$\\chi^2_\\alpha$是自由度为k-2时，$\\chi^2$分布的上侧面积为$\\alpha$的$\\chi^2$值  \n",
    "<hr />\n",
    "\n",
    "## 12.3.2 正态分布  \n",
    "正态分布拟合优度检验也是以$chi^2$分布的应用为依据，它同我们讨论过的柏松分布的方法类似。具体地，在总体服从正态分布的假设下，将样本数据的若干类别的观察频数同期望频数进行比较  \n",
    "因为正态分布是连续型的，我们必须修正定义类别的方式以及计算期望频数的方法。让我们通过考察表12-10中Chemline公司求职者的测验数据，来阐述正态分布的拟合优度检验 5  "
   ]
  },
  {
   "cell_type": "code",
   "execution_count": null,
   "metadata": {},
   "outputs": [],
   "source": [
    "'''\n",
    "python\tpandas\tdataframe\td.dropna() axis\n",
    "'''\n",
    "chemline=pd.read_csv('../pydata-book-master/statistics_for_business_economics/ch12/Chemline.csv')\n",
    "chemline=chemline.dropna(axis=1)\n",
    "chemline.head()"
   ]
  },
  {
   "cell_type": "markdown",
   "metadata": {},
   "source": [
    "Chemline公司每年为其遍布美国的4家工厂招聘大约400名新雇员。人事部主管想知道测验分数总体是否呈正态分布。如果呈正态分布，则可以根据这个分布评估具体测验分数，即可以迅速判断出最高的20%的分数、后面的40%的分数，等等  \n",
    "因此，我们试图检验测验分数总体服从正态分布的原假设  \n",
    "首先，我们利用表12-10中的数据估计原假设中要考虑的正态分布的均值和标准差。我们用样本均值$\\bar{x}$和样本标准差s作为正态分布均值和标准差的点估计。计算结果如下  \n",
    "$$\\bar{x}=\\frac{\\Sigma{x_i}}{n}$$\n",
    "5  "
   ]
  },
  {
   "cell_type": "code",
   "execution_count": null,
   "metadata": {},
   "outputs": [],
   "source": [
    "chemline_mean=chemline.mean()[0]\n",
    "chemline_std=chemline.std()[0]\n",
    "print('样本均值为{:.2f}，样本标准差为{:.2f}'.format(chemline_mean,chemline_std))"
   ]
  },
  {
   "cell_type": "markdown",
   "metadata": {},
   "source": [
    "利用这些数值，我们提出关于求职者测验分数分布的假设如下  \n",
    "$H_0$:测验分数总体服从均值为68.42和标准差为10.41的正态分布  \n",
    "$H_a$:测验分数总体不服从均值为68.42和标准差为10.41的正态分布   \n",
    "假设的正态分布如图12-2所示 5  \n",
    "![12-2](../syn_pic/statistics_for_business_economics/12-2.png)\n",
    "<center>图12-2 Chemline公司求职者测验分数假设的正态分布</center>\n",
    "\n",
    "现在让我们考虑正态分布拟合优度检验的类别定义方法。但是对于像正态分布这样的连续型概率分布，必须采取不同的方法来定义类别。我们需要利用测验分数的区间来定义类别  \n",
    "回想一下前面关于每个区间或类别中期望频数至少为5的经验法则，我们定义测验分数的类别时，也必须使每一类的期望频数至少为5。由于延保容量为50，一种方法是将正态分布划分为10个等概率区间（见图12-3）  \n",
    "![12-3](../syn_pic/statistics_for_business_economics/12-3.png)\n",
    "<center>图12-3 Chemline公司例子的10个等概率区间的正态分布</center>\n",
    "\n",
    "注：每个区间的概率为0.1  5  \n",
    "我们进一步考察计算类别边界的方法。当假定为正态概率分布时，标准正态概率表可以用于确定这些边界。用这种方法处理整个正态分布，得到下列测验分数值    "
   ]
  },
  {
   "cell_type": "code",
   "execution_count": null,
   "metadata": {},
   "outputs": [],
   "source": [
    "'''\n",
    "python\tnumpy\tArray creation routines\tnp.arange() step\n",
    "'''\n",
    "chemline_normp=pd.Series(np.arange(10,100,10))\n",
    "chemline_normz=chemline_normp.apply(lambda x:norm.ppf(x/100,chemline_mean,chemline_std))\n",
    "chemline_normz"
   ]
  },
  {
   "cell_type": "markdown",
   "metadata": {},
   "source": [
    "这些区间的边界点或分界值已标准在图12-3中  \n",
    "现在测试分数的类别或区间已定义好了，而且已经知道每一类的期望频数为5。然后，我们可以回答表12-10的样本数据，并且确定这些类别中的观察频数。由此得出表12-11的结果  \n",
    "<center>表12-11 Chemline公司求职者测验分数的观察频数和期望频数 5</center>\n"
   ]
  },
  {
   "cell_type": "code",
   "execution_count": null,
   "metadata": {},
   "outputs": [],
   "source": [
    "'''\n",
    "python\tnumpy\tMathematical functions\tnp.around()\n",
    "python\tpandas\tseries\ts.max()\n",
    "'''\n",
    "chemline_score=chemline['Score']\n",
    "chemline_list=[0]\n",
    "for i in chemline_normz:\n",
    "    chemline_list.append(np.around(i,2))\n",
    "\n",
    "chemline_max=chemline_score.max()+1\n",
    "chemline_list.append(chemline_max)\n",
    "chemline_list"
   ]
  },
  {
   "cell_type": "code",
   "execution_count": null,
   "metadata": {
    "scrolled": true
   },
   "outputs": [],
   "source": [
    "'''\n",
    "python\tpandas\tseries\ts.sort_index()\n",
    "'''\n",
    "chemline_cut=pd.cut(chemline_score,chemline_list)\n",
    "chemline_f=pd.DataFrame(chemline_cut.value_counts().sort_index())\n",
    "chemline_f['except']=5\n",
    "chemline_f"
   ]
  },
  {
   "cell_type": "markdown",
   "metadata": {},
   "source": [
    "利用表12-11中的结果，拟合优度检验的计算过程与前面完全一样。即我们通过计算$\\chi^2$的数值来比较观察频数与期望频数  \n",
    "检验统计量$\\chi^2$的必要计算结果列在表12-2中，我们得到检验统计量的数值为$\\chi^2=7.2$  \n",
    "<center>表12-12 Chemline公司求职者例子的$\\chi^2$统计量的计算 5</center>\n",
    "\n",
    "![tb12-12](../syn_pic/statistics_for_business_economics/tb12-12.png)\n",
    "为了确定$\\chi^2$的数值7.2是否大到足以拒绝$H_0$，我们需要查适当的$\\chi^2$分布表  \n",
    "利用拟合优度检验中计算自由度的法则，我们得到自由度为k-p-1=10-2-1=7,这里k=10个类别以及由样本估计的p=2个参数（均值与标准差）  "
   ]
  },
  {
   "cell_type": "code",
   "execution_count": null,
   "metadata": {},
   "outputs": [],
   "source": [
    "'''\n",
    "python\tscipy\tStatistical functions (scipy.stats)\tchisquare()\n",
    "'''\n",
    "chisquare(chemline_f['Score'],chemline_f['except'],2)"
   ]
  },
  {
   "cell_type": "code",
   "execution_count": null,
   "metadata": {},
   "outputs": [],
   "source": [
    "'''\n",
    "求p值 5\n",
    "'''\n",
    "chemline_p=chi2.sf(7.2,7)"
   ]
  },
  {
   "cell_type": "markdown",
   "metadata": {},
   "source": [
    "假设，我们在0.10的显著性水平下，检验测验分数服从正态分布的原假设。由于p-值$\\gt\\alpha=0.10$，因此，Chemline公司求职者测验分数服从正态分布的假设不能被拒绝。正态分布的拟合优度检验的步骤总结如下  \n",
    "<hr />\n",
    "\n",
    "**正态分布拟合优度检验小结**  \n",
    "1. 建立原假设和备择假设  \n",
    "    $H_0$:总体服从正态概率分布  \n",
    "    $H_a$:总体不服从正态概率分布  \n",
    "2. 抽取一个随机样本，并且 5  \n",
    "    a. 计算样本均值和样本标准差\n",
    "    b. 确定取值区间使得每个区间中的期望频数至少为5，使用等概率区间是很好的方法  \n",
    "    c. 对于每个确定好的区间记录观察频数$f_i$的数据值  \n",
    "3. 对于步骤2(b)中确定的每个区间，计算发生次数的期望频数$e_i$，即样本容量与正态随机变量落入每个区间的概率的乘积  \n",
    "4. 计算检验统计量 5  \n",
    "    $$\\chi^2=\\sum_{i=1}^{k}{\\frac{(f_i-e_i)^2}{e_i}}$$  \n",
    "5. 拒绝法则  \n",
    "    p-值法：如果p-值$\\le\\alpha$，则拒绝$H_0$  \n",
    "    临界值法：如果$\\chi^2\\ge\\chi^2_\\alpha$，则拒绝$H_0$  \n",
    "\n",
    "式中，$\\alpha$是显著性水平，$\\chi^2_\\alpha$是自由度为k-3时，$\\chi^2$分布上侧面积为$\\alpha$的$\\chi^2$值 5  \n",
    "<hr />\n",
    "\n",
    "# 小结\n",
    "本章我们介绍了拟合优度检验与独立性检验，二者都是以使用$\\chi^2$分布为依据  \n",
    "拟合优度检验的目的是判断假设的概率分布是否能用做指定的研究总体的模型。我们阐述了多项、柏松分布和正态分布的拟合优度检验  \n",
    "两个随机变量的独立性检验是多项总体拟合优度检验所使用方法的推广。列联表用于确定观察频数和期望频数，然后计算$\\chi^2$的数值 5  \n",
    "# 关键术语\n",
    "**多项总体** 每一个个体被分配到且只能被分配到几个类别中一个类别的总体。多项分布将二项分布由两个类别推广到三个或三个以上的类别  \n",
    "**拟合优度检验** 一种用于判断是否拒绝总体服从假设的概率分布的统计检验方法  \n",
    "**列联表** 在独立性检验中，用于汇总观察频数与期望频数的表格 5  \n",
    "# 重要公式\n",
    "拟合优度的检验统计量（12-1）  \n",
    "$$\\chi^2=\\sum_{i=1}^{k}{\\frac{(f_i-e_i)^2}{e_i}}$$\n",
    "在独立性假设下，列联表的期望频数（12-2）\n",
    "$$e_{ij}=\\frac{第i行之和\\times第j列之和}{样本容量}$$ \n",
    "独立性的检验统计量（12-3） 5  \n",
    "$$\\chi^2=\\sum_{i}\\sum_{j}{\\frac{(f_{ij}-e_{ij})^2}{e_{ij}}}$$\n",
    "# 案例12-1\n",
    "**两党议程变更**  \n",
    "在Zogby International为Democrat and Chronicle 报进行的一次研究中，对700多位纽约人进行了民意测验，以判断纽约州政府是否正常运作  \n",
    "假定，对居住的纽约州西部地区的100名个人进行了一次跟进调查。每位受访者的党派（民主党、独立党、共和党），以及他们对下面三个问题的回答被记录下来  \n",
    "1. 因为每天的州预算都滞后，州议员是否应该减薪？  \n",
    "    是___  否___  \n",
    "2. 是否应该对说客加以更多的限制？ 5  \n",
    "    是___  否___  \n",
    "3. 是否应该对州议员需要服务的任期固定一个年限？  \n",
    "    是___  否___  \n",
    "\n",
    "回答用1代表“是”，用2代表“否”  \n",
    "**管理报告**  \n",
    "1. 利用描述统计汇总该研究中的数据。对调查中三个问题中的每一个问题，其回答（是与否）与党派之间的独立性，你有何初步结论？  \n",
    "    从条件概率上，初步结论是，三个问题的回答与党派之间不独立  \n",
    "2. 对于问题1，在$\\alpha=0.05$的显著性水平下，检验其回答（是与否）与党派的独立性 5  \n",
    "    不独立  \n",
    "3. 对于问题2，在$\\alpha=0.05$的显著性水平下，检验其回答（是与否）与党派的独立性  \n",
    "    独立  \n",
    "4. 对于问题3，在$\\alpha=0.05$的显著性水平下，检验其回答（是与否）与党派的独立性  \n",
    "    独立  \n",
    "5. 跨越所有的政治界限，改革的建议是否得到了选民的广泛支持？请解释  \n",
    "    虽然我们没有做出检验结果的进一步结论，但是我们可以通过非正式地比较观察频数和期望频数，得到改革的建议得到了选民广泛支持的结论  "
   ]
  },
  {
   "cell_type": "code",
   "execution_count": null,
   "metadata": {},
   "outputs": [],
   "source": [
    "'''\n",
    "读取 5\n",
    "python\tpandas\tInput/Output\tpd.read_csv() index_col\n",
    "\n",
    "'''\n",
    "NYReform=pd.read_csv('../pydata-book-master/statistics_for_business_economics/ch12/NYReform.csv',index_col=0)\n",
    "NYReform.tail()"
   ]
  },
  {
   "cell_type": "code",
   "execution_count": null,
   "metadata": {},
   "outputs": [],
   "source": [
    "'''\n",
    "需求1.1\n",
    "python\tpandas\tseries\ts.to_string()\n",
    "'''\n",
    "for i in NYReform:\n",
    "    print(i)\n",
    "    print(NYReform[i].value_counts().to_string())\n",
    "    print('-'*10)"
   ]
  },
  {
   "cell_type": "code",
   "execution_count": null,
   "metadata": {},
   "outputs": [],
   "source": [
    "'''\n",
    "需求1.2\n",
    "python\tpandas\tGeneral functions\tpd.crosstab() margins\n",
    "python\tpandas\tdataframe\td.columns\n",
    "python\tpandas\tdataframe\td.div() axis\n",
    "python\tpandas\tdataframe\td.round()\n",
    "python\tpandas\tdataframe\td.to_string()\n",
    "'''\n",
    "for i in NYReform:\n",
    "    if i=='Party':\n",
    "        continue    \n",
    "    cstb=pd.crosstab(NYReform['Party'],NYReform[i],margins=True)\n",
    "    cstb.columns=['是','否','All']\n",
    "    print(i)\n",
    "    print(cstb.to_string())\n",
    "    cb=cstb.div(cstb.loc[:,'All'],axis=0).round(2)\n",
    "    print(cb.to_string())\n",
    "    print('-'*10)"
   ]
  },
  {
   "cell_type": "code",
   "execution_count": null,
   "metadata": {},
   "outputs": [],
   "source": [
    "'''\n",
    "需求2\n",
    "python\tscipy\tStatistical functions (scipy.stats)\tchi2_contingency()\n",
    "'''\n",
    "cs_pc=pd.crosstab(NYReform['Party'],NYReform['Pay Cut?'])\n",
    "pc_p=chi2_contingency(cs_pc)[1]\n",
    "print('由于p-值={:.4f}小于alpha=0.05,我们拒绝H_0,原假设不独立'.format(pc_p))"
   ]
  },
  {
   "cell_type": "code",
   "execution_count": null,
   "metadata": {},
   "outputs": [],
   "source": [
    "'''\n",
    "需求3\n",
    "'''\n",
    "cs_pc=pd.crosstab(NYReform['Party'],NYReform['Lobbyists?'])\n",
    "pc_p=chi2_contingency(cs_pc)[1]\n",
    "print('由于p-值={:.4f}大于alpha=0.05,不能拒绝H_0,原假设独立'.format(pc_p))"
   ]
  },
  {
   "cell_type": "code",
   "execution_count": null,
   "metadata": {},
   "outputs": [],
   "source": [
    "'''\n",
    "需求4 5\n",
    "'''\n",
    "cs_pc=pd.crosstab(NYReform['Party'],NYReform['Term Limits?'])\n",
    "pc_p=chi2_contingency(cs_pc)[1]\n",
    "print('由于p-值={:.4f}大于alpha=0.05,不能拒绝H_0,原假设独立'.format(pc_p))"
   ]
  },
  {
   "cell_type": "code",
   "execution_count": null,
   "metadata": {
    "scrolled": true
   },
   "outputs": [],
   "source": [
    "'''\n",
    "需求5 5\n",
    "'''\n",
    "d5=pd.DataFrame({'category':['Pay Cut?','Lobbyists?','Term Limits?'],            \n",
    "             'observation':[NYReform['Pay Cut?'].value_counts()[1],\n",
    "                            NYReform['Lobbyists?'].value_counts()[1],\n",
    "                            NYReform['Term Limits?'].value_counts()[1]]})\n",
    "d5['except']=[50,50,50]\n",
    "d5"
   ]
  },
  {
   "cell_type": "code",
   "execution_count": null,
   "metadata": {},
   "outputs": [],
   "source": [
    "'''\n",
    "python\tscipy\tStatistical functions (scipy.stats)\tchisquare()\n",
    "'''\n",
    "d5_p=chisquare(d5['observation'],d5['except'])[1]\n",
    "print('由于p-值={:.4f},小于alpha=0.01，所以我们拒绝H0'.format(d5_p))"
   ]
  },
  {
   "cell_type": "markdown",
   "metadata": {},
   "source": [
    "# 实操案例\n",
    "## 拟合优度检验:多项总体分布\n",
    "+ 目标职位抽样公司类型分布的年度变化  \n",
    "+ 目标职位抽样JD内容分布的年度变化  \n",
    "+ 目标公司抽样职位分布的年度变化  \n",
    "+ 目标行业抽样职位分布的年度变化  \n",
    "+ 上游浏览用户随机抽样的用户基本特征分布的时间序列变化 5  \n",
    "## 独立性检验\n",
    "+ 随机抽样，用户基本特征与是否转化的独立性检验\n",
    "+ 随机抽样，用户行为特征与是否转化的独立性检验\n",
    "+ 随机抽样，用户兴趣特征与是否转化的独立性检验 5\n",
    "\n",
    "## 拟合优度检验:柏松分布与正态分布\n",
    "+ 柏松分布：某段时间内并发人数是否服从柏松分布\n",
    "+ 正态分布：某IP粉丝数值特征是否服从正态分布 5  "
   ]
  }
 ],
 "metadata": {
  "kernelspec": {
   "display_name": "Python 3",
   "language": "python",
   "name": "python3"
  },
  "language_info": {
   "codemirror_mode": {
    "name": "ipython",
    "version": 3
   },
   "file_extension": ".py",
   "mimetype": "text/x-python",
   "name": "python",
   "nbconvert_exporter": "python",
   "pygments_lexer": "ipython3",
   "version": "3.7.1"
  },
  "toc": {
   "base_numbering": 1,
   "nav_menu": {},
   "number_sections": false,
   "sideBar": true,
   "skip_h1_title": false,
   "title_cell": "Table of Contents",
   "title_sidebar": "Contents",
   "toc_cell": false,
   "toc_position": {},
   "toc_section_display": true,
   "toc_window_display": true
  }
 },
 "nbformat": 4,
 "nbformat_minor": 2
}
