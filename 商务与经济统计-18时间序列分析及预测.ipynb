{
 "cells": [
  {
   "cell_type": "code",
   "execution_count": null,
   "metadata": {},
   "outputs": [],
   "source": [
    "import pandas as pd\n",
    "import numpy as np\n",
    "from matplotlib import pyplot as plt"
   ]
  },
  {
   "cell_type": "markdown",
   "metadata": {},
   "source": [
    "# 实践中的统计\n",
    "## 内华达州职业健康诊所  \n",
    "在26个月里，它的月营业额从57000美元一直增长到超过3000000美元，直到主要门诊大楼被大火烧毁  \n",
    "为了估计收入损失，诊所利用一种预测方法来推测在7个月的停业期间可能实现的营业增长。火灾前营业额的是数据将会成为预测模型的基础，该模型具有线性趋势和季节成分，这些成分将在本章中加以讨论  \n",
    "假设我们要提供公司的一种产品在来年的季度销售预测。生产计划、原材料的采购、库存策略和销售定额都将受到我们提供的季度预测的影响  \n",
    "预测方法可以分为定性和定量两种方法。定性方法通常包括利用专家判断来进行预测  \n",
    "当以下条件同时满足时，可以使用定量预测方法：  \n",
    "1. 被预测变量过去的信息可用\n",
    "2. 这些信息可以被量化\n",
    "3. 过去的模式将会持续到未来的假定合理\n",
    "\n",
    "5  \n",
    "如果历史数据局限于被预测变量的过去值，这种预测方法被称为时间序列方法，历史数据被称为时间序列。这种预测仅仅依赖于变量的过去值和过去的预测误差  \n",
    "因果预测方法的依据是假定我们正在预测的变量与其他一个或几个变量存在一个因果关系。因此，如果我们能确定相关的自变量或解释变量的一个合适的集合，也许就能建立用于推测或预测时间序列估计的回归方程  \n",
    "通过将时间视为自变量，时间序列视为应变量，回归分析也可以用于时间序列方法。为了区分回归分析在这两种情形下的应用，我们用术语截面回归和时间序列回归表述 5  \n",
    "# 18.1 时间序列的模式\n",
    "**时间序列** 是一个变量在连续时点或连续时期上策略的观测值的序列。数据的模式是了解时间序列过去行为的重要因素  \n",
    "为了确定数据中的基本模式，有效的第一步是绘制**时间序列图**。时间序列图是时间和时间序列变量之间关系的图形表述：时间位于横轴，时间序列值位于纵轴  \n",
    "## 18.1.1 水平模式\n",
    "当数据围绕着一个不变的均值上下波动时，则存在**水平模式**。为了说明时间序列具有水平模式，考虑表18-1中12周的数据。图18-1是这些数据的时间序列图  "
   ]
  },
  {
   "cell_type": "code",
   "execution_count": null,
   "metadata": {},
   "outputs": [],
   "source": [
    "'''\n",
    "5\n",
    "python\tpandas\tseries\tpd.Series() index\n",
    "python\tpandas\tseries\tpd.Series() name\n",
    "\n",
    "'''\n",
    "gas_sale=pd.Series(data=[17,21,19,23,18,16,20,18,22,20,15,22],\n",
    "                   index=pd.Index(np.arange(1,13),name='week'),\n",
    "                   name='sales')\n",
    "gas_sale.head()"
   ]
  },
  {
   "cell_type": "code",
   "execution_count": null,
   "metadata": {},
   "outputs": [],
   "source": [
    "gas_sale.plot()\n",
    "plt.scatter(gas_sale.index,gas_sale)\n",
    "plt.xticks(np.arange(0,13))\n",
    "plt.ylim(0,25)\n",
    "plt.xlim(0,12.1)\n",
    "plt.show()"
   ]
  },
  {
   "cell_type": "markdown",
   "metadata": {},
   "source": [
    "术语**平稳时间序列**是指统计性质与时间独立的时间序列。特别地，其含义为  \n",
    "1. 过程产生的数据有一个不变的均值  \n",
    "2. 时间序列的变异性随着时间的推移保持不变 5  \n",
    "\n",
    "平稳时间序列的时间序列图总是显示出水平模式，但仅仅观测到水平模式就得出时间序列是平稳的结论，并没有足够的证据  \n",
    "经营环境的改变常常导致具有水平模式的时间序列移动到一个新的水平。例如，假设汽油经销商与佛蒙特州警方签署了一份合同，给佛蒙特州南部的警车加油。由于这个新合同，经销商希望看到从第13周开始周销售量有大幅度的增加  \n",
    "表18-2给出了汽油销售量的原始时间序列以及签署了新合同后10周的销售量数据。图18-2是想要的时间序列图    "
   ]
  },
  {
   "cell_type": "code",
   "execution_count": null,
   "metadata": {},
   "outputs": [],
   "source": [
    "'''\n",
    "5\n",
    "python\tpandas\tseries\ts.tail()\n",
    "'''\n",
    "gas_sale_lv2=pd.Series(data=[17,21,19,23,18,16,20,18,22,20,15,22,31,34,31,33,28,32,30,29,34,33],\n",
    "                   index=pd.Index(np.arange(1,23),name='week'),\n",
    "                   name='sales')\n",
    "gas_sale_lv2.tail()"
   ]
  },
  {
   "cell_type": "code",
   "execution_count": null,
   "metadata": {},
   "outputs": [],
   "source": [
    "gas_sale_lv2.plot(figsize=(10,7))\n",
    "plt.scatter(gas_sale_lv2.index,gas_sale_lv2)\n",
    "plt.xticks(np.arange(0,25))\n",
    "plt.ylim(0,40)\n",
    "plt.xlim(0,24)\n",
    "plt.show()"
   ]
  },
  {
   "cell_type": "markdown",
   "metadata": {},
   "source": [
    "## 18.1.2 趋势模式\n",
    "尽管时间序列的数据通常呈现随机起伏的状态，但在一段较长的时间内，它仍然呈现出逐步的改变或移动到相对较高或较低的值。如果时间序列图显示出这里形态特征，我们则称存在**趋势模式**  \n",
    "趋势通常是长期因素影响的结果，例如人口总数的增加或减少、人口总体特征、工艺和顾客偏爱的变化等  \n",
    "为了说明具有趋势模式的时间序列，我们考虑某制造商过去10年自行车销售量的时间序列，如表18-3和图18-3所示 5  "
   ]
  },
  {
   "cell_type": "code",
   "execution_count": null,
   "metadata": {},
   "outputs": [],
   "source": [
    "bic=pd.read_csv('../pydata-book-master/statistics_for_business_economics/ch17/Bicycle.csv')\n",
    "bic_sale=bic.set_index('Year')['Sales']\n",
    "bic_sale.head()"
   ]
  },
  {
   "cell_type": "code",
   "execution_count": null,
   "metadata": {},
   "outputs": [],
   "source": [
    "bic_sale.plot()\n",
    "plt.scatter(bic_sale.index,bic_sale)\n",
    "plt.xticks(np.arange(0,13))\n",
    "plt.ylim(20,34)\n",
    "plt.xlim(0,12)\n",
    "plt.show()"
   ]
  },
  {
   "cell_type": "markdown",
   "metadata": {},
   "source": [
    "自行车销售时间序列的趋势呈现线性且随着时间推移而增长，但有时趋势能用其他类型的模式更好地描述 5  \n",
    "例如，表18-4是从10年前公司的胆固醇药物获得FDA批准后的销售收入数据，图18-4是相应的时间序列图。时间序列以非线性的方式增长，即每年收入的变化率不是以一个固定的数值来增加  \n",
    "事实上，当收入呈现指数形式的增长，环比变化率从一个时期到下一个时期相对稳定时，这样的指数关系是合适的  "
   ]
  },
  {
   "cell_type": "code",
   "execution_count": null,
   "metadata": {},
   "outputs": [],
   "source": [
    "cho=pd.read_csv('../pydata-book-master/statistics_for_business_economics/ch17/Cholesterol.csv')\n",
    "cho_sale=cho.set_index('Year')['Revenue']\n",
    "cho_sale.head()"
   ]
  },
  {
   "cell_type": "code",
   "execution_count": null,
   "metadata": {},
   "outputs": [],
   "source": [
    "'''\n",
    "5\n",
    "'''\n",
    "cho_sale.plot()\n",
    "plt.scatter(cho_sale.index,cho_sale)\n",
    "plt.xticks(np.arange(0,11))\n",
    "plt.ylim(0,120)\n",
    "plt.xlim(0,10.1)\n",
    "plt.show()"
   ]
  },
  {
   "cell_type": "markdown",
   "metadata": {},
   "source": [
    "## 18.1.3 季节模式\n",
    "时间序列的趋势是通过分析历史数据多年的移动来识别的。毫无疑问，**季节模式**是指，在超过一年的时期内，由于受季节的影响，时间序列图呈现重复模式  \n",
    "尽管我们通常认为时间序列的季节变动是在一年内出现，但在小于一年的时期内时间序列数据也可能呈现季节模式  \n",
    "表18-5是时间序列，图18-5是相应的时间序列图。时间序列图没有显示销售量有长期趋势  "
   ]
  },
  {
   "cell_type": "code",
   "execution_count": null,
   "metadata": {},
   "outputs": [],
   "source": [
    "umb=pd.read_csv('../pydata-book-master/statistics_for_business_economics/ch17/Umbrella.csv')\n",
    "umb.head(10)"
   ]
  },
  {
   "cell_type": "code",
   "execution_count": null,
   "metadata": {},
   "outputs": [],
   "source": [
    "'''\n",
    "5\n",
    "python\tpandas\tdataframe\td.fillna() method\n",
    "python\tpandas\tdataframe\td.astype()\n",
    "'''\n",
    "umb_lv1=umb.fillna(method='ffill').astype(int)\n",
    "umb_lv1['year_Q']=umb_lv1['Year'].astype(str) + 'Q' +umb_lv1['Quarter'].astype(str) \n",
    "umb_lv1.head()"
   ]
  },
  {
   "cell_type": "code",
   "execution_count": null,
   "metadata": {
    "scrolled": true
   },
   "outputs": [],
   "source": [
    "umb_lv1.plot('year_Q','Sales',figsize=(10,7))\n",
    "plt.scatter(umb_lv1['year_Q'],umb_lv1['Sales'])\n",
    "plt.ylim(0,180)\n",
    "plt.xlim(0,len(umb_lv1['year_Q']))\n",
    "plt.xticks(np.arange(0,len(umb_lv1['year_Q'])+1),umb_lv1['year_Q'])\n",
    "plt.show()"
   ]
  },
  {
   "cell_type": "markdown",
   "metadata": {},
   "source": [
    "因此，我们得出结论：存在季度的季节模式 5  \n",
    "## 18.1.4 趋势与季节模式\n",
    "有时时间序列同时包含趋势模式和季节模式。例如，表18-6的数据是某制造商过去4年的电视机销售量，图18-6是相应的时间序列图  "
   ]
  },
  {
   "cell_type": "code",
   "execution_count": null,
   "metadata": {},
   "outputs": [],
   "source": [
    "'''\n",
    "python\tpandas\tdataframe\td.tail()\n",
    "'''\n",
    "tv_sale=pd.read_csv('../pydata-book-master/statistics_for_business_economics/ch17/TVSales.csv')\n",
    "tv_sale.columns=['Year','Quarter','Sales']\n",
    "tv_sale.tail()"
   ]
  },
  {
   "cell_type": "code",
   "execution_count": null,
   "metadata": {},
   "outputs": [],
   "source": [
    "tv_sale['year_Q']=tv_sale['Year'].astype(str) + 'Q' +tv_sale['Quarter'].astype(str) \n",
    "\n",
    "tv_sale.head()\n"
   ]
  },
  {
   "cell_type": "code",
   "execution_count": null,
   "metadata": {},
   "outputs": [],
   "source": [
    "'''\n",
    "5\n",
    "'''\n",
    "tv_sale.plot('year_Q','Sales',figsize=(10,7))\n",
    "plt.scatter(tv_sale['year_Q'],tv_sale['Sales'])\n",
    "plt.ylim(0,9)\n",
    "plt.xlim(0,len(tv_sale['year_Q']))\n",
    "plt.xticks(np.arange(0,len(tv_sale['year_Q'])+1),tv_sale['year_Q'])\n",
    "plt.show()"
   ]
  },
  {
   "cell_type": "markdown",
   "metadata": {},
   "source": [
    "## 18.1.5 循环模式\n",
    "如果时间序列图显示出持续时间超过一年的趋势线的上下交替的点序列，则存在**循环模式**  \n",
    "许多经济事件序列存在循环行为，其观测值围绕着趋势线有规则地上下波动。通常，时间序列的循环成分归因于多年的经济周期  \n",
    "经济周期的预测，如果不是不可能，也是极为困难的。因此，循环影响常常与长期趋势影响合并，称为趋势循环影响 5  \n",
    "## 18.1.6 选择预测方法  \n",
    "时间序列的基本模式是选择预测方法的重要因素。因此，当试图确定使用怎样的预测方法时，第一项工作应该是绘制时间序列图 5  \n",
    "# 18.2 预测精度\n",
    "本节我们首先对表18-1汽油销售量的时间序列用所有预测方法中最简单的一种方法进行预测，即用最近一周的销售量作为下一周的预测值  \n",
    "用这种方法得到的预测值列在表18-7预测值一列中。由于其简单，故该方法常常被称为朴素预测法  "
   ]
  },
  {
   "cell_type": "code",
   "execution_count": null,
   "metadata": {
    "scrolled": true
   },
   "outputs": [],
   "source": [
    "gas_sales=pd.read_csv('../pydata-book-master/statistics_for_business_economics/ch17/Gasoline.csv')\n",
    "gas_sales.head()"
   ]
  },
  {
   "cell_type": "code",
   "execution_count": null,
   "metadata": {},
   "outputs": [],
   "source": [
    "gas_sales_lv1=gas_sales.set_index('Week')\n",
    "gas_sales_lv1.head()"
   ]
  },
  {
   "cell_type": "code",
   "execution_count": null,
   "metadata": {},
   "outputs": [],
   "source": [
    "'''\n",
    "5\n",
    "'''\n",
    "gas_sales_lv2=gas_sales.set_index(gas_sales['Week']+1)['Sales']\n",
    "\n",
    "gas_sales_lv2.name='Estimate'\n",
    "gas_sales_lv2.head()"
   ]
  },
  {
   "cell_type": "code",
   "execution_count": null,
   "metadata": {},
   "outputs": [],
   "source": [
    "'''\n",
    "python\tpandas\tseries\ts.join()\n",
    "\n",
    "'''\n",
    "gas_sales_df=gas_sales_lv1.join(gas_sales_lv2)\n",
    "gas_sales_df.head()"
   ]
  },
  {
   "cell_type": "code",
   "execution_count": null,
   "metadata": {},
   "outputs": [],
   "source": [
    "'''\n",
    "\n",
    "python\tpandas\tseries\ts.sub()\n",
    "\n",
    "'''\n",
    "gas_sales_df['error']=gas_sales_df['Sales'].sub(gas_sales_df['Estimate'])\n",
    "gas_sales_df.head()"
   ]
  },
  {
   "cell_type": "code",
   "execution_count": null,
   "metadata": {},
   "outputs": [],
   "source": [
    "'''\n",
    "python\tpandas\tseries\ts.abs()\n",
    "'''\n",
    "gas_sales_df['error_abs']=gas_sales_df['error'].abs()\n",
    "gas_sales_df.head()"
   ]
  },
  {
   "cell_type": "code",
   "execution_count": null,
   "metadata": {},
   "outputs": [],
   "source": [
    "gas_sales_df['error_sqr']=gas_sales_df['error'].pow(2)\n",
    "gas_sales_df.head()"
   ]
  },
  {
   "cell_type": "code",
   "execution_count": null,
   "metadata": {},
   "outputs": [],
   "source": [
    "'''\n",
    "5\n",
    "'''\n",
    "gas_sales_df['error_perc']=gas_sales_df['error'].div(gas_sales_df['Sales']).mul(100).round(2)\n",
    "gas_sales_df.head()"
   ]
  },
  {
   "cell_type": "code",
   "execution_count": null,
   "metadata": {},
   "outputs": [],
   "source": [
    "gas_sales_df['error_perc_abs']=gas_sales_df['error_perc'].abs()\n",
    "gas_sales_df.head()"
   ]
  },
  {
   "cell_type": "markdown",
   "metadata": {},
   "source": [
    "对于已知数据，通过选择最佳精度的方法，我们希望增加获得未来时期更好预测的可能性  \n",
    "与测量预测精度相关的重要概念是**预测误差**，其定义为  \n",
    "<center>预测值=实际值-预测值</center>\n",
    "\n",
    "例如，由于经销商第2周实际售出21千加仑汽油，而用第1周销售量得到的预测值是17千加仑，因此第2周的预测误差为 5  "
   ]
  },
  {
   "cell_type": "code",
   "execution_count": null,
   "metadata": {},
   "outputs": [],
   "source": [
    "print('第2周的预测误差={:.0f}'.format(gas_sales_df.loc[2,'error']))"
   ]
  },
  {
   "cell_type": "markdown",
   "metadata": {},
   "source": [
    "因此，误差可正可负，取决于预测值是太低还是太高。表18-7中预测误差一列是朴素预测法预测误差的完整汇总  \n",
    "一个简单的预测精度的测度是预测误差的均值或平均数。由表18-7可知，"
   ]
  },
  {
   "cell_type": "code",
   "execution_count": null,
   "metadata": {},
   "outputs": [],
   "source": [
    "'''\n",
    "5\n",
    "'''\n",
    "error_sum=gas_sales_df['error'].sum()\n",
    "error_mean=gas_sales_df['error'].mean()\n",
    "print('汽油销售量时间序列预测误差之和为{:.0f},因此，预测误差的均值为{:.2f}'.format(error_sum,error_mean))"
   ]
  },
  {
   "cell_type": "markdown",
   "metadata": {},
   "source": [
    "由于正的和负的预测误差相互抵消，平均误差应该很小，因此，平均误差不是预测精度的常用测度  \n",
    "**平均绝对误差**是避免正负预测误差相互抵消的一种预测精度的测度，记为MAE。正如其名，MAE是预测误差绝对值的平均数  \n",
    "由表18-7可知，预测误差绝对值之和为41，因此  "
   ]
  },
  {
   "cell_type": "code",
   "execution_count": null,
   "metadata": {},
   "outputs": [],
   "source": [
    "print('MAE=预测误差绝对值的平均数={:.2f}'.format(gas_sales_df['error_abs'].mean()))"
   ]
  },
  {
   "cell_type": "markdown",
   "metadata": {},
   "source": [
    "避免正负预测误差相互抵消的另一种测量方法是计算预测误差平方的平均数。这种预测精度的测度称为**均方误差**，记为MSE 5    "
   ]
  },
  {
   "cell_type": "code",
   "execution_count": null,
   "metadata": {},
   "outputs": [],
   "source": [
    "error_sqrsum=gas_sales_df['error_sqr'].sum()\n",
    "error_sqrmean=gas_sales_df['error_sqr'].mean()\n",
    "print('由表18-7可知，误差平方和为{:.0f}，因此MSE=预测误差平方和的平均数={:.2f}'.format(error_sqrsum,\n",
    "                                                             error_sqrmean))"
   ]
  },
  {
   "cell_type": "markdown",
   "metadata": {},
   "source": [
    "MAE和MSE的大小依赖于数据的测量尺度。因此，对不同时间间隔进行比较是困难的，例如对预测月汽油销售量的方法和预测周销售量的方法进行比较，或对不同的时间序列进行比较都是困难的  \n",
    "为了对这些情况进行比较，我们需要考虑相对的或百分数误差的测度。**平均绝对百分数误差**记为MAPE，就是这样一种测度    "
   ]
  },
  {
   "cell_type": "code",
   "execution_count": null,
   "metadata": {},
   "outputs": [],
   "source": [
    "print('第2周的百分数误差={:.2f}%'.format(gas_sales_df.loc[2,'error_perc']))"
   ]
  },
  {
   "cell_type": "markdown",
   "metadata": {},
   "source": [
    "百分数误差的完整汇总列在表18-7百分数误差一列中。我们还给出了百分数误差的绝对值 5  "
   ]
  },
  {
   "cell_type": "code",
   "execution_count": null,
   "metadata": {},
   "outputs": [],
   "source": [
    "error_perc_abssum=gas_sales_df['error_perc_abs'].sum()\n",
    "error_perc_absmean=gas_sales_df['error_perc_abs'].mean()\n",
    "print('由表18-7可知，百分数误差的绝对值之和为{:.2f},因此MAPE=百分数预测误差的绝对值的平均数={:.2f}%'\\\n",
    "      .format(error_perc_abssum,error_perc_absmean))"
   ]
  },
  {
   "cell_type": "markdown",
   "metadata": {},
   "source": [
    "总之，用朴素预测法，我们得到如下预测精度的测度：  \n",
    "MAE=3.73  \n",
    "MSE=16.27  \n",
    "MAPE=19.24%  \n",
    "这些预测精度的测度简单地度量了预测方法任何能很好地预测时间序列的历史数值  \n",
    "但是，如果我们选择一种适用于历史数据的预测方法，而且我们相信历史模式可以持续到未来，那么我们应该得到最终将被证明是好的结果 5  \n",
    "在结束本节之前，我们考虑表18-1汽油销售量时间序列的另一种预测方法。假设我们用所有可得到的历史数据的平均值作为下一期的预测值    \n",
    "用这种方法得到的汽油时间序列的预测值在表18-8的预测值一列中 "
   ]
  },
  {
   "cell_type": "code",
   "execution_count": null,
   "metadata": {},
   "outputs": [],
   "source": [
    "gas_sales_copy1=gas_sales_lv1.join(gas_sales_lv2).copy()\n",
    "gas_sales_copy1.columns=['Sales','simple_estimate']\n",
    "gas_sales_copy1.head()"
   ]
  },
  {
   "cell_type": "code",
   "execution_count": null,
   "metadata": {},
   "outputs": [],
   "source": [
    "gas_sales_copy1['num']=np.arange(0,len(gas_sales_copy1))\n",
    "gas_sales_copy1.head()"
   ]
  },
  {
   "cell_type": "code",
   "execution_count": null,
   "metadata": {},
   "outputs": [],
   "source": [
    "'''\n",
    "5\n",
    "python\tpandas\tseries\ts.cumsum()\n",
    "'''\n",
    "gas_sales_copy1['cumsum']=gas_sales_copy1['simple_estimate'].cumsum()\n",
    "gas_sales_copy1.head()"
   ]
  },
  {
   "cell_type": "code",
   "execution_count": null,
   "metadata": {},
   "outputs": [],
   "source": [
    "gas_sales_copy1['cummean']=gas_sales_copy1['cumsum'].div(gas_sales_copy1['num']).round(2)\n",
    "gas_sales_copy1.head()"
   ]
  },
  {
   "cell_type": "code",
   "execution_count": null,
   "metadata": {},
   "outputs": [],
   "source": [
    "gas=gas_sales_copy1.loc[:,['Sales','cummean']].copy()\n",
    "gas.columns=['Sales','Estimate']\n",
    "gas.head()"
   ]
  },
  {
   "cell_type": "code",
   "execution_count": null,
   "metadata": {},
   "outputs": [],
   "source": [
    "def simplePredictionMethod(X,y):\n",
    "    '''\n",
    "    统计常用代码\t时间序列分析及预测\t朴素预测法\t朴素预测法\n",
    "    '''\n",
    "    df=pd.DataFrame([X,y]).T\n",
    "    df['error']=X.sub(y)\n",
    "    df['error_abs']=df['error'].abs()\n",
    "    df['error_sqr']=df['error'].pow(2).round(2)\n",
    "    df['error_perc']=df['error'].div(X).mul(100).round(2)\n",
    "    df['error_perc_abs']=df['error_perc'].abs()\n",
    "    return df\n",
    "\n",
    "gas_df=simplePredictionMethod(gas['Sales'],gas['Estimate'])\n",
    "gas_df"
   ]
  },
  {
   "cell_type": "code",
   "execution_count": null,
   "metadata": {},
   "outputs": [],
   "source": [
    "gas_df.sum()"
   ]
  },
  {
   "cell_type": "code",
   "execution_count": null,
   "metadata": {},
   "outputs": [],
   "source": [
    "'''\n",
    "5  \n",
    "'''\n",
    "gas_df_mean=gas_df.mean().round(2)\n",
    "gas_df_mean"
   ]
  },
  {
   "cell_type": "markdown",
   "metadata": {},
   "source": [
    "现在我们通过比较每一种方法的MAE、MSE和MAPE的值，来比较本节介绍的两种预测方法的精度  \n",
    "对每一种测度，过去数值平均数法都比用最近一期观测值作为下一期预测值的方法提供了更准确的预测。一般地，如果时间序列基本上是平稳的，所有历史数据平均值法将永远提供最好的结果    "
   ]
  },
  {
   "cell_type": "code",
   "execution_count": null,
   "metadata": {},
   "outputs": [],
   "source": [
    "'''\n",
    "python\tpandas\tIndex\tpd.Index() name\n",
    "5\n",
    "'''\n",
    "gas_mae=gas_df_mean['error_abs']\n",
    "gas_mse=gas_df_mean['error_sqr']\n",
    "gas_mape=gas_df_mean['error_perc_abs']\n",
    "gas_sample_mae=round(gas_sales_df['error_abs'].mean(),2)\n",
    "gas_sample_mse=round(error_sqrmean,2)\n",
    "gas_sample_mape=round(error_perc_absmean,2)\n",
    "pd.DataFrame({'朴素预测法':[gas_sample_mae,gas_sample_mse,gas_sample_mape],\n",
    "             '过去数值平均数法':[gas_mae,gas_mse,gas_mape]},index=pd.Index(['MAE','MSE','MAPE'],name='评估指标'))"
   ]
  },
  {
   "cell_type": "markdown",
   "metadata": {},
   "source": [
    "假设基本的时间序列是不平稳的  \n",
    "当这种移动到新水平的情况出现时，用所有历史数据的平均值法调整到时间序列的新水平需要用很长时间。在这种青霞，简单的朴素方法对水平的改变调整迅速，因为它用最近一期的观测值作为预测值  \n",
    "在比较不同的预测方法时，预测精度的测度是一个重要因素。同时历史预测精度不是唯一的考虑因素，时间序列在未来有可能改变的情形尤其如此  \n",
    "预测方法快速适应水平改变的能力是重要的考虑因素，尤其是对于短期预测情形 5  \n",
    "# 18.3 移动平均法和指数平滑法  \n",
    "本节我们将讨论适合于有水平模式的时间序列的3种预测方法：移动平均法、加权移动平均法和指数平滑法  \n",
    "这些方法能很好地适应水平模式的时间序列水平的改变，比如我们看到的汽油销售量的扩展时间序列。但是，当有明显的趋势、循环或季节影响时，这些方法未经过修正是不适用的  \n",
    "由于每一种方法的目的是为了“消除”时机序列的随机波动，因此它们都被称为平滑方法。这些方法易于使用，通常对短期预测，例如下一个时期的预测，可以提供较高的精度水平  \n",
    "## 18.3.1 移动平均法\n",
    "**移动平均法**使用时间序列中最近k期数据值的平均数作为下一个时期的预测值。在数学上，k阶移动平均预测如下：  \n",
    "<hr />\n",
    "\n",
    "**k阶移动平均预测**（18-1） 5  \n",
    "$$F_{t+1}=\\frac{Y_t+Y_{t-1}+\\dots+Y_{t-k+1}}{k}$$\n",
    "式中，$F_{t+1}$是时间序列t+1期的预测值;$Y_t$是时间序列t期的实际值  \n",
    "<hr />\n",
    "\n",
    "术语移动的含义：每次使用时间序列一个新的观测值，用它代替公式中最旧的观测值，并且计算出一个新的平均数  \n",
    "图18-1的时间序列图表明汽油销售量时间序列具有水平模式。因此，本节的平滑方法是适用的  \n",
    "于是，较小的k值将更快速追踪时间序列的移动，而较大的k值将随着时间的推移更有效地消除随机波动。因此，以对时间序列台式的了解为依据的管理判断，是有助于选择一个合适的k值 5  "
   ]
  }
 ],
 "metadata": {
  "kernelspec": {
   "display_name": "Python 3",
   "language": "python",
   "name": "python3"
  },
  "language_info": {
   "codemirror_mode": {
    "name": "ipython",
    "version": 3
   },
   "file_extension": ".py",
   "mimetype": "text/x-python",
   "name": "python",
   "nbconvert_exporter": "python",
   "pygments_lexer": "ipython3",
   "version": "3.7.6"
  },
  "toc": {
   "base_numbering": 1,
   "nav_menu": {},
   "number_sections": false,
   "sideBar": true,
   "skip_h1_title": false,
   "title_cell": "Table of Contents",
   "title_sidebar": "Contents",
   "toc_cell": false,
   "toc_position": {},
   "toc_section_display": true,
   "toc_window_display": false
  }
 },
 "nbformat": 4,
 "nbformat_minor": 4
}
