{
 "cells": [
  {
   "cell_type": "code",
   "execution_count": null,
   "metadata": {},
   "outputs": [],
   "source": [
    "import pandas as pd\n",
    "import numpy as np\n",
    "from matplotlib import pyplot as plt"
   ]
  },
  {
   "cell_type": "markdown",
   "metadata": {},
   "source": [
    "# 实践中的统计\n",
    "## 内华达州职业健康诊所  \n",
    "在26个月里，它的月营业额从57000美元一直增长到超过3000000美元，直到主要门诊大楼被大火烧毁  \n",
    "为了估计收入损失，诊所利用一种预测方法来推测在7个月的停业期间可能实现的营业增长。火灾前营业额的是数据将会成为预测模型的基础，该模型具有线性趋势和季节成分，这些成分将在本章中加以讨论  \n",
    "假设我们要提供公司的一种产品在来年的季度销售预测。生产计划、原材料的采购、库存策略和销售定额都将受到我们提供的季度预测的影响  \n",
    "预测方法可以分为定性和定量两种方法。定性方法通常包括利用专家判断来进行预测  \n",
    "当以下条件同时满足时，可以使用定量预测方法：  \n",
    "1. 被预测变量过去的信息可用\n",
    "2. 这些信息可以被量化\n",
    "3. 过去的模式将会持续到未来的假定合理\n",
    "\n",
    "5  \n",
    "如果历史数据局限于被预测变量的过去值，这种预测方法被称为时间序列方法，历史数据被称为时间序列。这种预测仅仅依赖于变量的过去值和过去的预测误差  \n",
    "因果预测方法的依据是假定我们正在预测的变量与其他一个或几个变量存在一个因果关系。因此，如果我们能确定相关的自变量或解释变量的一个合适的集合，也许就能建立用于推测或预测时间序列估计的回归方程  \n",
    "通过将时间视为自变量，时间序列视为应变量，回归分析也可以用于时间序列方法。为了区分回归分析在这两种情形下的应用，我们用术语截面回归和时间序列回归表述 5  \n",
    "# 18.1 时间序列的模式\n",
    "**时间序列** 是一个变量在连续时点或连续时期上策略的观测值的序列。数据的模式是了解时间序列过去行为的重要因素  \n",
    "为了确定数据中的基本模式，有效的第一步是绘制**时间序列图**。时间序列图是时间和时间序列变量之间关系的图形表述：时间位于横轴，时间序列值位于纵轴  \n",
    "## 18.1.1 水平模式\n",
    "当数据围绕着一个不变的均值上下波动时，则存在**水平模式**。为了说明时间序列具有水平模式，考虑表18-1中12周的数据。图18-1是这些数据的时间序列图  "
   ]
  },
  {
   "cell_type": "code",
   "execution_count": null,
   "metadata": {},
   "outputs": [],
   "source": [
    "'''\n",
    "5\n",
    "python\tpandas\tseries\tpd.Series() index\n",
    "python\tpandas\tseries\tpd.Series() name\n",
    "\n",
    "'''\n",
    "gas_sale=pd.Series(data=[17,21,19,23,18,16,20,18,22,20,15,22],\n",
    "                   index=pd.Index(np.arange(1,13),name='week'),\n",
    "                   name='sales')\n",
    "gas_sale.head()"
   ]
  },
  {
   "cell_type": "code",
   "execution_count": null,
   "metadata": {},
   "outputs": [],
   "source": [
    "gas_sale.plot()\n",
    "plt.scatter(gas_sale.index,gas_sale)\n",
    "plt.xticks(np.arange(0,13))\n",
    "plt.ylim(0,25)\n",
    "plt.xlim(0,12.1)\n",
    "plt.show()"
   ]
  },
  {
   "cell_type": "markdown",
   "metadata": {},
   "source": [
    "术语**平稳时间序列**是指统计性质与时间独立的时间序列。特别地，其含义为  \n",
    "1. 过程产生的数据有一个不变的均值  \n",
    "2. 时间序列的变异性随着时间的推移保持不变 5  \n",
    "\n",
    "平稳时间序列的时间序列图总是显示出水平模式，但仅仅观测到水平模式就得出时间序列是平稳的结论，并没有足够的证据  \n",
    "经营环境的改变常常导致具有水平模式的时间序列移动到一个新的水平。例如，假设汽油经销商与佛蒙特州警方签署了一份合同，给佛蒙特州南部的警车加油。由于这个新合同，经销商希望看到从第13周开始周销售量有大幅度的增加  \n",
    "表18-2给出了汽油销售量的原始时间序列以及签署了新合同后10周的销售量数据。图18-2是想要的时间序列图    "
   ]
  },
  {
   "cell_type": "code",
   "execution_count": null,
   "metadata": {},
   "outputs": [],
   "source": [
    "'''\n",
    "5\n",
    "python\tpandas\tseries\ts.tail()\n",
    "'''\n",
    "gas_sale_lv2=pd.Series(data=[17,21,19,23,18,16,20,18,22,20,15,22,31,34,31,33,28,32,30,29,34,33],\n",
    "                   index=pd.Index(np.arange(1,23),name='week'),\n",
    "                   name='sales')\n",
    "gas_sale_lv2.tail()"
   ]
  },
  {
   "cell_type": "code",
   "execution_count": null,
   "metadata": {},
   "outputs": [],
   "source": [
    "gas_sale_lv2.plot(figsize=(10,7))\n",
    "plt.scatter(gas_sale_lv2.index,gas_sale_lv2)\n",
    "plt.xticks(np.arange(0,25))\n",
    "plt.ylim(0,40)\n",
    "plt.xlim(0,24)\n",
    "plt.show()"
   ]
  },
  {
   "cell_type": "markdown",
   "metadata": {},
   "source": [
    "## 18.1.2 趋势模式\n",
    "尽管时间序列的数据通常呈现随机起伏的状态，但在一段较长的时间内，它仍然呈现出逐步的改变或移动到相对较高或较低的值。如果时间序列图显示出这里形态特征，我们则称存在**趋势模式**  \n",
    "趋势通常是长期因素影响的结果，例如人口总数的增加或减少、人口总体特征、工艺和顾客偏爱的变化等  \n",
    "为了说明具有趋势模式的时间序列，我们考虑某制造商过去10年自行车销售量的时间序列，如表18-3和图18-3所示 5  "
   ]
  },
  {
   "cell_type": "code",
   "execution_count": null,
   "metadata": {},
   "outputs": [],
   "source": [
    "bic=pd.read_csv('../pydata-book-master/statistics_for_business_economics/ch17/Bicycle.csv')\n",
    "bic_sale=bic.set_index('Year')['Sales']\n",
    "bic_sale.head()"
   ]
  },
  {
   "cell_type": "code",
   "execution_count": null,
   "metadata": {},
   "outputs": [],
   "source": [
    "bic_sale.plot()\n",
    "plt.scatter(bic_sale.index,bic_sale)\n",
    "plt.xticks(np.arange(0,13))\n",
    "plt.ylim(20,34)\n",
    "plt.xlim(0,12)\n",
    "plt.show()"
   ]
  },
  {
   "cell_type": "markdown",
   "metadata": {},
   "source": [
    "自行车销售时间序列的趋势呈现线性且随着时间推移而增长，但有时趋势能用其他类型的模式更好地描述 5  \n",
    "例如，表18-4是从10年前公司的胆固醇药物获得FDA批准后的销售收入数据，图18-4是相应的时间序列图。时间序列以非线性的方式增长，即每年收入的变化率不是以一个固定的数值来增加  \n",
    "事实上，当收入呈现指数形式的增长，环比变化率从一个时期到下一个时期相对稳定时，这样的指数关系是合适的  "
   ]
  },
  {
   "cell_type": "code",
   "execution_count": null,
   "metadata": {},
   "outputs": [],
   "source": [
    "cho=pd.read_csv('../pydata-book-master/statistics_for_business_economics/ch17/Cholesterol.csv')\n",
    "cho_sale=cho.set_index('Year')['Revenue']\n",
    "cho_sale.head()"
   ]
  },
  {
   "cell_type": "code",
   "execution_count": null,
   "metadata": {},
   "outputs": [],
   "source": [
    "'''\n",
    "5\n",
    "'''\n",
    "cho_sale.plot()\n",
    "plt.scatter(cho_sale.index,cho_sale)\n",
    "plt.xticks(np.arange(0,11))\n",
    "plt.ylim(0,120)\n",
    "plt.xlim(0,10.1)\n",
    "plt.show()"
   ]
  },
  {
   "cell_type": "markdown",
   "metadata": {},
   "source": [
    "## 18.1.3 季节模式\n",
    "时间序列的趋势是通过分析历史数据多年的移动来识别的。毫无疑问，**季节模式**是指，在超过一年的时期内，由于受季节的影响，时间序列图呈现重复模式  \n",
    "尽管我们通常认为时间序列的季节变动是在一年内出现，但在小于一年的时期内时间序列数据也可能呈现季节模式  \n",
    "表18-5是时间序列，图18-5是相应的时间序列图。时间序列图没有显示销售量有长期趋势  "
   ]
  },
  {
   "cell_type": "code",
   "execution_count": null,
   "metadata": {},
   "outputs": [],
   "source": [
    "umb=pd.read_csv('../pydata-book-master/statistics_for_business_economics/ch17/Umbrella.csv')\n",
    "umb.head(10)"
   ]
  },
  {
   "cell_type": "code",
   "execution_count": null,
   "metadata": {},
   "outputs": [],
   "source": [
    "'''\n",
    "5\n",
    "python\tpandas\tdataframe\td.fillna() method\n",
    "python\tpandas\tdataframe\td.astype()\n",
    "'''\n",
    "umb_lv1=umb.fillna(method='ffill').astype(int)\n",
    "umb_lv1['year_Q']=umb_lv1['Year'].astype(str) + 'Q' +umb_lv1['Quarter'].astype(str) \n",
    "umb_lv1.head()"
   ]
  },
  {
   "cell_type": "code",
   "execution_count": null,
   "metadata": {
    "scrolled": true
   },
   "outputs": [],
   "source": [
    "umb_lv1.plot('year_Q','Sales',figsize=(10,7))\n",
    "plt.scatter(umb_lv1['year_Q'],umb_lv1['Sales'])\n",
    "plt.ylim(0,180)\n",
    "plt.xlim(0,len(umb_lv1['year_Q']))\n",
    "plt.xticks(np.arange(0,len(umb_lv1['year_Q'])+1),umb_lv1['year_Q'])\n",
    "plt.show()"
   ]
  },
  {
   "cell_type": "markdown",
   "metadata": {},
   "source": [
    "因此，我们得出结论：存在季度的季节模式 5  \n",
    "## 18.1.4 趋势与季节模式\n",
    "有时时间序列同时包含趋势模式和季节模式。例如，表18-6的数据是某制造商过去4年的电视机销售量，图18-6是相应的时间序列图  "
   ]
  },
  {
   "cell_type": "code",
   "execution_count": null,
   "metadata": {},
   "outputs": [],
   "source": [
    "'''\n",
    "python\tpandas\tdataframe\td.tail()\n",
    "'''\n",
    "tv_sale=pd.read_csv('../pydata-book-master/statistics_for_business_economics/ch17/TVSales.csv')\n",
    "tv_sale.columns=['Year','Quarter','Sales']\n",
    "tv_sale.tail()"
   ]
  },
  {
   "cell_type": "code",
   "execution_count": null,
   "metadata": {},
   "outputs": [],
   "source": [
    "tv_sale['year_Q']=tv_sale['Year'].astype(str) + 'Q' +tv_sale['Quarter'].astype(str) \n",
    "\n",
    "tv_sale.head()\n"
   ]
  },
  {
   "cell_type": "code",
   "execution_count": null,
   "metadata": {},
   "outputs": [],
   "source": [
    "'''\n",
    "5\n",
    "'''\n",
    "tv_sale.plot('year_Q','Sales',figsize=(10,7))\n",
    "plt.scatter(tv_sale['year_Q'],tv_sale['Sales'])\n",
    "plt.ylim(0,9)\n",
    "plt.xlim(0,len(tv_sale['year_Q']))\n",
    "plt.xticks(np.arange(0,len(tv_sale['year_Q'])+1),tv_sale['year_Q'])\n",
    "plt.show()"
   ]
  }
 ],
 "metadata": {
  "kernelspec": {
   "display_name": "Python 3",
   "language": "python",
   "name": "python3"
  },
  "language_info": {
   "codemirror_mode": {
    "name": "ipython",
    "version": 3
   },
   "file_extension": ".py",
   "mimetype": "text/x-python",
   "name": "python",
   "nbconvert_exporter": "python",
   "pygments_lexer": "ipython3",
   "version": "3.7.1"
  },
  "toc": {
   "base_numbering": 1,
   "nav_menu": {},
   "number_sections": false,
   "sideBar": true,
   "skip_h1_title": false,
   "title_cell": "Table of Contents",
   "title_sidebar": "Contents",
   "toc_cell": false,
   "toc_position": {},
   "toc_section_display": true,
   "toc_window_display": false
  }
 },
 "nbformat": 4,
 "nbformat_minor": 4
}
