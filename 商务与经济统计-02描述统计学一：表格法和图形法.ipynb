{
 "cells": [
  {
   "cell_type": "code",
   "execution_count": null,
   "metadata": {},
   "outputs": [],
   "source": [
    "import pandas as pd\n",
    "import numpy as np\n",
    "from matplotlib import pyplot as plt"
   ]
  },
  {
   "cell_type": "markdown",
   "metadata": {},
   "source": [
    "# 实践中的统计\n",
    "高露洁-棕榄公司除了最著名的品牌高露洁、棕榄、Ajax和Fab外，同时还兼营Mennen、希尔斯科学食品和希尔斯处方食品等产品  \n",
    "高露洁-棕榄公司在加用洗衣粉产品的质量保证计划中使用统计学方法  \n",
    "为了控制洗衣粉密度过大这个问题，需要对洗衣粉密度的可接受范围加以限制  \n",
    "在一周内采集了150个洗衣服密度的样本，得到的密度频数分布和直方图如下所示"
   ]
  },
  {
   "cell_type": "code",
   "execution_count": null,
   "metadata": {},
   "outputs": [],
   "source": [
    "'''\n",
    "5 直方图\n",
    "pandas series pd.Series() name \n",
    "pandas Index pd.Index() name  \n",
    "pandas series s.plot.bar()  \n",
    "matplotlib Pyplot function overview plt.bar() edgecolor/color  \n",
    "matplotlib Pyplot function overview plt.ylabel()  \n",
    "matplotlib Pyplot function overview plt.show()  \n",
    "'''\n",
    "i1=pd.Index([0.30,0.32,0.34,0.36,0.38,0.40],name='density')\n",
    "l1 = [30,75,32,9,3,1]\n",
    "s1 = pd.Series(l1,index=i1,name='frequency')\n",
    "\n",
    "s1.plot.bar(width=1,color='gray',edgecolor='black')\n",
    "plt.xticks(rotation=360)\n",
    "plt.title('Histogram of density data')\n",
    "plt.ylabel('frequency')\n",
    "plt.show()\n",
    "\n",
    "s1"
   ]
  },
  {
   "cell_type": "markdown",
   "metadata": {},
   "source": [
    "本章我们将学习有关描述统计的表格法和图形法，包括频数分布、条形图、直方图、茎叶显示、交叉分组表等内容  \n",
    "本章介绍的是通常用于汇总分类型数据和数量型数据的表格法和图形法    \n",
    "现代统计软件包提供了汇总数据和编制图表的强大功能  \n",
    "## 2.1 分类型数据汇总\n",
    "### 2.1.1 频数分布\n",
    "我们从频数分布的定义开始，讨论如何使用表格法和图形法汇总分类型数据  \n",
    "假设表2-1的数据是在只选择5种软饮料的情况下，50次购买软饮料的样本数据  "
   ]
  },
  {
   "cell_type": "code",
   "execution_count": null,
   "metadata": {},
   "outputs": [],
   "source": [
    "# numpy Random sampling (numpy.random) np.random.randint() low/high\n",
    "l2=['可口可乐','健怡可乐','百事可乐','胡椒博士','雪碧']\n",
    "sampler = np.random.randint(low=0,high=len(l2),size=50)\n",
    "s2=pd.Series([l2[i] for i in sampler],name='频数')\n",
    "d2 = pd.DataFrame(s2.value_counts())\n",
    "d2.index.name='软饮料'\n",
    "d2.loc['总计']=d2.sum()\n",
    "print (\"表2-2 购买软饮料的频数分布\")\n",
    "d2"
   ]
  },
  {
   "cell_type": "markdown",
   "metadata": {},
   "source": [
    "为了编制这些数据的频数分布，我们计算表2-1中每一种软饮料的出现次数，这些数字汇总在表2-2的频数分布  \n",
    "这个频数分布汇总说明了50次购买软饮料的样本中，5中软饮料是如何分配的，提供了比原始数据更多的内涵，还揭示了这5种销量最高的软饮料受欢迎程度的信息 5  \n",
    "### 2.1.2 相对频数分布和百分数频数分布\n",
    "频数分布表明了在几个互不重叠的组别中每一组的项目个数（即频数），然而我们往往对每一组项目所占的比例或百分比更感兴趣，一组的相对频数是属于改组的项目个数的比例  \n",
    "相对频数（2-1）$$ 组的相对频数 = \\frac{ 组频数 }{ n }$$  \n",
    "组的百分数频数是相对频数乘以100  \n",
    "__相对频数分布__ 是各组相对频数数据的表格汇总，__百分数频数分布__ 是各组百分数频数数据的表格汇总，表2-3是软饮料数据的相对频数分布和百分数频数分布  "
   ]
  },
  {
   "cell_type": "code",
   "execution_count": null,
   "metadata": {
    "scrolled": true
   },
   "outputs": [],
   "source": [
    "'''\n",
    "数据分析 常用代码 百分数频数分布\n",
    "pandas series s.mul()\n",
    "'''\n",
    "d3 = d2.div(d2.loc['总计'])\n",
    "d3.columns=['相对频数']\n",
    "d3['百分数频数']=d3['相对频数'].mul(100)\n",
    "print('表2-3 购买软饮料的相对频数和百分频数分布 5')\n",
    "d3"
   ]
  },
  {
   "cell_type": "markdown",
   "metadata": {},
   "source": [
    "### 2.1.3 条形图和饼形图\n",
    "条形图是一种图像方法，用来描绘已汇总的分类学数据的频数分布、相对频数分布或百分数频数分布，图2-1是50次购买软饮料情况的频数分布的条形图，注意图形如何显示最受欢迎的品牌    "
   ]
  },
  {
   "cell_type": "code",
   "execution_count": null,
   "metadata": {},
   "outputs": [],
   "source": [
    "'''\n",
    "数据分析 常用代码 条形图 \n",
    "pandas Indexing and Selecting Data series[]\n",
    "pandas Index i.map()  \n",
    "matplotlib Pyplot function overview plt.xticks() \n",
    "matplotlib text Text.rotation\n",
    "'''\n",
    "dict1={'雪碧':'Sprite', '胡椒博士':'Dr Pepper', '健怡可乐':'Diet Coke', '可口可乐':'Coca Cola', '百事可乐':'Pepsi Cola'}\n",
    "s3 =d2['频数'][:5]\n",
    "s3.index=s3.index.map(dict1)\n",
    "s3.name='frequency'\n",
    "s3.index.name='Soft drink'\n",
    "s3.plot.bar(color='gray',edgecolor='black')\n",
    "plt.xticks(rotation=360)\n",
    "plt.title('Figure 2-1 Bar chart for purchasing soft drinks')\n",
    "plt.ylabel('frequency')\n",
    "plt.show()"
   ]
  },
  {
   "cell_type": "markdown",
   "metadata": {},
   "source": [
    "饼形图（pie chart）是另一种描绘分类型数据的相对频数和百分数频数分布的图形方法，得到了图2-2中饼形图，显示每个扇形部分的数值可以是频数、相对频数或百分数频数  \n",
    "注释：\n",
    "1. 在一个频数分布中，组数通常与在数据中发现的类型数相同，就像本节中购买软饮料数据的情况一样  \n",
    "2. 在任何频数分布中，频数的总和总是等于观测值的数目 5  "
   ]
  },
  {
   "cell_type": "code",
   "execution_count": null,
   "metadata": {
    "scrolled": true
   },
   "outputs": [],
   "source": [
    "'''\n",
    "饼形图 \n",
    "pandas series s.plot.pie() \n",
    "matplotlib Pyplot function overview plt.pie() autopct\n",
    "matplotlib Pyplot function overview plt.title() \n",
    "python str %f\n",
    "'''\n",
    "s3.plot.pie(autopct='%.0f%%')\n",
    "plt.ylabel(ylabel='')\n",
    "plt.title('Figure 2-2 Pie chart for soft drinks')\n",
    "plt.show()"
   ]
  },
  {
   "cell_type": "markdown",
   "metadata": {},
   "source": [
    "## 2.2 数量型数据汇总\n",
    "### 2.2.1 频数分布\n",
    "频数分布是表示在几个互不重叠的组中每一组所包含的项目个数（或频数）的表格汇总，这个定义也适用于数量型数据  \n",
    "考虑表2-4的数量型数据，样本数是一家名叫sac的小型会计师事务所对20位客户完成年末审计所需的时间  \n",
    "对于数量型数据，确定频数分布的分组时，三个必要的步骤是：\n",
    "1. 确定互不重叠组的组数\n",
    "2. 确定每组的组宽\n",
    "3. 确定组限   \n",
    "\n",
    "**组数** 组是通过对数据规定范围而形成的，这个规定的范围用于对数据进行分组，作为一般性原则，建议使用5-20组 5  \n",
    "分组的目的是用足够多的组来揭示自然的分组和数据的变异性，而不是有这多的组却只包含很少的数据项，表2-4的数据项相对较少(n=20)，我们决定选择编制5组的频数分布  \n",
    "**组宽** 编制数量型数据频数分布的第二步是选择组宽，作为一般性原则，建议每组的宽度相同（可以减少使用者不适当的诠释机会）  \n",
    "一旦确定了期望的组数，我们就可以用下面的表达式来确定近似的组宽  \n",
    "$$ 近似组宽=\\frac{最大数据值-最小数据值}{组数} $$(2-2)  \n",
    "由式（2-2）给出的近似组宽，可以根据编制频数分布的人的偏好取整为更方便的值 5  \n",
    "在实践中，组数和近似组宽要通过反复试验确定  \n",
    "**组限** 选择组限必须使每个数据项属于且只属于一组，对于数量型数据，组限对确定每个数据值的归属很有必要  \n",
    "对于表2-4的审计实际数据，我们对第一组选择10天为下组限和14天为上组限，该组在表2-5只能给记为10-14  \n",
    "一旦确定了组数、组宽和组限，计算属于每一组的数据值的个数，我们可以得到频数分布。利用表2-5这个频数分布，我们可以观察到：\n",
    "1. 最频繁发生的审计时间在15-19天这一组，在20个审计时间中有8个属于这一组 5  \n",
    "2. 只有一次审计需要30天或更多时间  \n",
    "\n",
    "根据人们观察频数分布的兴趣，可能得到其他结论，而直接观察原始的未经组织的数据，是无法获得这种深刻理解的  \n",
    "**组中值** 我们想知道数量型数据频数分布的组中值，组中值是下组限和上组限的中间值  "
   ]
  },
  {
   "cell_type": "code",
   "execution_count": null,
   "metadata": {
    "scrolled": false
   },
   "outputs": [],
   "source": [
    "'''\n",
    "数据分析 常用代码 频数分布 数量型\n",
    "numpy Mathematical functions np.maximum()\n",
    "numpy Mathematical functions np.minimum()\n",
    "numpy Mathematical functions np.ceil() \n",
    "numpy Array creation routines np.arange() step\n",
    "pandas Pandas arrays Categorical.value_counts()\n",
    "numpy Indexing basic slice\n",
    "'''\n",
    "l3=[12,14,19,18,15,15,18,17,20,27,22,23,22,21,33,28,14,18,16,13]\n",
    "print ('表2-4 年末审计时间（单位：天）')\n",
    "print(l3)\n",
    "w1=np.ceil((np.max(l3)-np.min(l3))/5)\n",
    "print('我们决定以%.0f天作为频数分布的组宽' % (w1))\n",
    "a1=np.arange(start=9,stop=35,step=w1)\n",
    "c1=pd.cut(x=l3,bins=a1)\n",
    "s4=c1.value_counts()\n",
    "l4 = a1[:-1]+np.ceil(w1/2)\n",
    "print(s4)\n",
    "print(s4.sum())\n",
    "print('组中值 %s' % (l4))"
   ]
  },
  {
   "cell_type": "markdown",
   "metadata": {},
   "source": [
    "### 2.2.2 相对频数分布和百分数频数分布\n",
    "我们以分类型数据同样的方式来定义数量型数据的相对频数和百分数频数分布 5  \n",
    "通过使用表2-6，我们还能够得到其他解释和理解，有0.40或40%审计需要15-19天时间，只有0.05或5%的审计需要30天或更多时间"
   ]
  },
  {
   "cell_type": "code",
   "execution_count": null,
   "metadata": {
    "scrolled": true
   },
   "outputs": [],
   "source": [
    "'''\n",
    "数据分析 常用代码 百分数频数分布\n",
    "pandas series s.div()  \n",
    "pandas Index i.name\n",
    "pandas dataframe d.sum()\n",
    "'''\n",
    "d4=pd.DataFrame(s4.div(s4.sum()),columns=['Relative frequency'])\n",
    "d4['Percentage frequency']=d4['Relative frequency'].mul(100)\n",
    "d4.index.name='Audit time (days)'\n",
    "print('表2-6 审计时间数据的相对频数和百分数频数分布')\n",
    "print(d4)\n",
    "print(d4.sum())"
   ]
  },
  {
   "cell_type": "markdown",
   "metadata": {},
   "source": [
    "### 2.2.3 打点图  \n",
    "**打点图**(dot plot) 是一种最简单的数据图形汇总方式，图2-3是表2-4审计数据的打点图    "
   ]
  },
  {
   "cell_type": "code",
   "execution_count": null,
   "metadata": {
    "scrolled": true
   },
   "outputs": [],
   "source": [
    "'''\n",
    "数据分析 常用代码 打点图\n",
    "pandas GroupBy g.rank() method\n",
    "pandas dataframe d.plot.scatter()  \n",
    "matplotlib Pyplot function overview plt.xticks()  \n",
    "matplotlib Pyplot function overview plt.yticks() \n",
    "numpy Array creation routines np.arange() step  \n",
    "matplotlib Pyplot function overview plt.show()\n",
    "'''\n",
    "d5 = pd.DataFrame(l3,columns=['value'])\n",
    "d5['frequency']=d5.groupby(l3).rank(method='first')\n",
    "d5.plot.scatter(x='value',y='frequency')\n",
    "plt.yticks([1,2,3])\n",
    "plt.xticks(np.arange(start=10,stop=36,step=5))\n",
    "plt.show()\n",
    "\n",
    "'''\n",
    "数据分析 常用代码 直方图 5\n",
    "pandas series s.plot.bar()\n",
    "matplotlib Pyplot function overview plt.bar() width\n",
    "matplotlib Pyplot function overview plt.bar() edgecolor/color  \n",
    "matplotlib text Text.rotation  \n",
    "matplotlib Pyplot function overview plt.xlabel()\n",
    "matplotlib Pyplot function overview plt.ylabel()\n",
    "'''\n",
    "s4.plot.bar(width=1,color='gray',edgecolor='black')\n",
    "plt.xticks(rotation=360)\n",
    "plt.ylabel('frequency')\n",
    "plt.xlabel('audit time')\n",
    "plt.title('Figure 2-4 Histogram of audit time data')\n",
    "plt.show()"
   ]
  },
  {
   "cell_type": "markdown",
   "metadata": {},
   "source": [
    "### 2.2.4 直方图\n",
    "**直方图**(histogram)是一种常用的数量型数据的图像描述方式，由先前已汇总的频数分布、相对频数分布或百分数频数分布等资料可绘制直方图   \n",
    "图2-4是审计时间数据的直方图，正如2-4所示，直方图邻近的长方形是互相连接的，在审计时间数据的直方图中消除了组间的间隔  \n",
    "直方图的一个最重要的应用是提供了分布形态的信息，图2-5是四个根据相对频数分布绘制的直方图  \n",
    "图2-5a显示一个数据集的直方图有一定程度的左偏，考试成绩是这种直方图的典型应用，因为么有成绩在100%之上，大多数成绩又常常在70%之上   \n",
    "图2-5b显示一个数据集的直方图有一定程度的右偏，像房屋架构的数据可能是这种直方图的例子，少数昂贵的住宅造成右尾偏斜 5  \n",
    "图2-5c是一个对称的直方图，SAT的分数、人的身高和体重等数据得到的直方图是大致对称的  \n",
    "图2-5d显示直方图严重右偏，在商务与经济应用中得到的数据，常常使直方图右偏，例如：房屋价格、工资、销售量等数据  "
   ]
  },
  {
   "cell_type": "code",
   "execution_count": null,
   "metadata": {},
   "outputs": [],
   "source": [
    "'''\n",
    "数据分析 常用代码 矩阵图\n",
    "matplotlib Pyplot function overview plt.subplots() figsize\n",
    "matplotlib axes a.bar() width\n",
    "matplotlib axes a.bar() edgecolor/color \n",
    "matplotlib axes a.set_xlabel()\n",
    "matplotlib axes a.set_xticks()\n",
    "matplotlib figure f.suptitle()\n",
    "'''\n",
    "fig,axes =plt.subplots(nrows=2,ncols=2,figsize=(7, 7))\n",
    "sl1=[[pd.Series([0.03,0.04,0.07,0.13,0.21,0.3,0.19]),\n",
    "      pd.Series([0.2,0.3,0.21,0.13,0.07,0.04,0.02])],\n",
    "     [pd.Series([0.03,0.13,0.18,0.25,0.18,0.13,0.03]),\n",
    "      pd.Series([0.13,0.37,0.2,0.14,0.05,0.04,0.01,0.04,0.01])]]\n",
    "l5=[['a) Moderate left deviation',    \n",
    "'b) Moderate right deviation'],\n",
    "  ['c) Symmetric',      \n",
    "  'd) Extreme right deviation']]\n",
    "for i in range(2):\n",
    "    for j in range(2):\n",
    "        axes[i][j].bar(sl1[i][j].index,sl1[i][j],width=1,color='gray',edgecolor='black')\n",
    "        axes[i][j].set_xlabel(xlabel=l5[i][j])\n",
    "        axes[i][j].set_xticks(ticks=[])\n",
    "fig.suptitle('Figure 2-5 Histogram showing different skewness levels')\n",
    "plt.show()"
   ]
  },
  {
   "cell_type": "markdown",
   "metadata": {},
   "source": [
    "### 2.2.5 累积分布\n",
    "对频数分布略加变化，可得到数值型数据的另一种表格汇总方式——**累积频数分布**，表2-7前两列给出了审计时间数据的累积频数分布  \n",
    "为了解释累积频数是如何确定的，考虑“小于或等于24”这一组，这一组的累积频数只是数据值小于或等于24的所有组的频数之和 5  \n",
    "另外，表2-7的累积频数分布表明，有4次审计在14之内完成，有19次审计在29天之内完成  \n",
    "最后我们注意到，**累积相对频数分布**和**累积百分数频数分布**分别表示数据值小于或等于每一组上组限的数据项的比例和百分数  \n",
    "累积相对频数和累积百分数频数分布显示，有0.85或85%的审计在24天之内完成，有0.95或95%的审计在29天之内完成，等等  "
   ]
  },
  {
   "cell_type": "code",
   "execution_count": null,
   "metadata": {},
   "outputs": [],
   "source": [
    "'''\n",
    "数据分析 常用代码 累积频数分布\n",
    "numpy The N-dimensional array (ndarray) ndarray.astype() \n",
    "pandas General functions pd.cut() labels\n",
    "pandas Pandas arrays Categorical.value_counts() \n",
    "python Built-in Functions str() \n",
    "pandas series s.cumsum()\n",
    "pandas dataframe pd.DataFrame() columns \n",
    "\n",
    "'''\n",
    "a2=a1[1:].astype('int')\n",
    "label_list=['<='+str(i) for i in a2]\n",
    "s5=pd.cut(x=l3,bins=a1,labels=label_list).value_counts()\n",
    "s5.index.name='Audit time'\n",
    "s6=s5.cumsum()\n",
    "d6=pd.DataFrame(s6,columns=['Cumulative frequency'])\n",
    "s7=s6.div(s6[-1])\n",
    "d6['cumulative relative frequency']=s7\n",
    "d6['Cumulative percentage frequency']=s7.mul(100)\n",
    "print('表2-7 审计时间数据的累积频数、累积相对频数和累积百分数频数的分布')\n",
    "d6"
   ]
  },
  {
   "cell_type": "markdown",
   "metadata": {},
   "source": [
    "### 2.2.6 累积曲线\n",
    "累积分布的图形表示称为累积曲线（ogive），在横轴上显示数据值，在纵轴上显示累积频数或累积相对频数，抑或累积百分数频数，图2-6是表2-7审计时间数据的累积频数曲线 5  \n",
    "通过标出对应于每一组累积频数的点，可以得到累积曲线\n",
    "### 注释\n",
    "1. 条形图和直方图本质上是同一事物，它们都是频数分布数据的图形表示  \n",
    "    有些离散的数量型数据，各纵条之间有间隔是合适的，对于连续的数量型数据，各纵条之间有间隔是不合适的  \n",
    "2. 对于数量型数据，适当的组限值依赖于数据的精度水平  \n",
    "3. 开口组是指只有一个下组限或一个上组限的组，开口组经常出现在分布的最上端，有时开口组也出现在分布的最下端，偶尔也在两端出现 5  \n",
    "4. 累积频数分布的最后一个数据项总是等于观测值的总数，累积相对频数分布的最后一个数据项总是等于1.00，累积百分数频数分布的最后一个数据项总是等于100  "
   ]
  },
  {
   "cell_type": "code",
   "execution_count": null,
   "metadata": {
    "scrolled": true
   },
   "outputs": [],
   "source": [
    "'''\n",
    "数据分析 常用代码 累积曲线\n",
    "pandas series s.values\n",
    "numpy Array manipulation routines np.insert()  \n",
    "matplotlib Pyplot function overview plt.plot()\n",
    "matplotlib lines marker\n",
    "matplotlib lines color\n",
    "matplotlib Pyplot function overview plt.axis()\n",
    "matplotlib Pyplot function overview plt.xlabel()\n",
    "\n",
    "'''\n",
    "a3=np.insert(arr=a2,obj=0,values=9)\n",
    "a4=np.insert(arr=s6.values,obj=0,values=0)\n",
    "plt.plot(a3,a4,marker='.',color='black')\n",
    "plt.axis([0,36,0,22])\n",
    "plt.xlabel('Audit time')\n",
    "plt.ylabel('Cumulative frequency')\n",
    "plt.show()"
   ]
  },
  {
   "cell_type": "markdown",
   "metadata": {},
   "source": [
    "## 2.3 探索性数据分析：茎叶显示\n",
    "**探索性数据分析**技术由简单算术和容易画的图形组成，可用于快速地汇总数据，**茎叶显示**技术可同时用于显示数据集的登记顺序和形状  \n",
    "为了说明茎叶显示的使用，考虑表2-8的数据  \n",
    "为了绘制茎叶显示，我们首先把每个数据值的高位数字排在竖线左边，在竖线右边，我们记录每一个数据值的最后一位数字  \n",
    "这样组织数据后，对每一行的数字排出顺序，竖线左边的数字是茎，竖线右边的每个数字是一个叶  \n",
    "尽管茎叶显示可能与直方图提供相同的信息，但它有以下两个主要优点： 5\n",
    "1. 茎叶显示易于用手绘制\n",
    "2. 在一个组内，由于茎叶显示提供了实际的数据值，因此茎叶显示比直方图提供了更多的信息  \n",
    "\n",
    "就像频数分布或直方图没有绝对的组数一样，茎叶显示也没有绝对的行数或茎数  \n",
    "对于超过三位数的数据，也能做出茎叶显示，可以使用叶单位，从而得到原始观测值的一个近似值  "
   ]
  },
  {
   "cell_type": "code",
   "execution_count": null,
   "metadata": {},
   "outputs": [],
   "source": [
    "'''\n",
    "数据分析 常用代码 茎叶图 5\n",
    "python itertools groupby()\n",
    "numpy Random sampling (numpy.random) np.random.randint() low/high\n",
    "python Built-in Functions int()\n",
    "python Built-in Functions str()\n",
    "python str s.join()\n",
    "python Operators // 整除\n",
    "numpy The N-dimensional array (ndarray) ndarray.sort()\n",
    "'''\n",
    "a5 = np.random.randint(low=68,high=141,size=50)\n",
    "from itertools import groupby\n",
    "a5.sort()\n",
    "for k, g in groupby(a5, key=lambda x: int(x) // 10):\n",
    "    lst = [str(int(y) % 10) for y in list(g)]\n",
    "    print (k, '|', ' '.join(lst))"
   ]
  },
  {
   "cell_type": "markdown",
   "metadata": {},
   "source": [
    "## 2.4 交叉分组表和散点图\n",
    "本章迄今为止，我们已集中讨论了利用表格法和图形法对一个变量的数据进行汇总的方法，管理人员和决策者往往还需要有助于理解两个变量之间的关系的表格法和图形法，交叉分组表和散点图是两者这样的方法  \n",
    "### 2.4.1 交叉分组表\n",
    "**交叉分组表**是一种表格汇总两个变量数据的方法，为了说明交叉分组表的使用方法，我们考虑如表2-9的Zagat饭店评论数据  \n",
    "<center>表2-9 300家洛杉矶饭店的质量等级和餐价 5</center>\n",
    "\n",
    "|饭店|质量等级|餐价（美元）|\n",
    "|--|--|--|\n",
    "|1|好|18|\n",
    "|2|很好|22|\n",
    "|3|好|28|\n",
    "|4|优秀|38|\n",
    "|5|很好|33|\n",
    "|6|好|28|\n",
    "|7|很好|19|\n",
    "|8|很好|11|\n",
    "|9|很好|23|\n",
    "\n",
    "这一应用的数据交叉分组表如表2-10所示，在编制交叉分组表时，我们只需要简单地建算出属于交叉分组表中每个单元的饭店数  \n",
    "\n",
    "![2-10](../syn_pic/statistics_for_business_economics/2-10.png)\n",
    "\n",
    "观察表2-10，我们看到，样本中质量等级为很好且餐价在20-29美元的饭店最多（64），质量等级为优秀且餐价在10-19美元之间的饭店只有两家，右边是质量等级变量的频数分布，最后一行是餐价变量的频数分布  \n",
    "用交叉分组表右边栏的行总计数除以饭店总数300，可以得到质量等级变量的相对频数和百分数频数分布，可以看到有28%的饭店的质量等级是好，有50%的饭店质量等级是很好，有22%的质量等级是优秀  \n",
    "\n",
    "|质量等级|相对频数|百分数频数|\n",
    "|--|--|--|\n",
    "|好|0.28|28|\n",
    "|很好|0.50|50|\n",
    "|优秀|0.22|22|\n",
    "|总计|1.00|100|\n",
    "\n",
    "|餐价（美元）|相对频数|百分数频数|\n",
    "|--|--|--|\n",
    "|10-19|0.26|26|\n",
    "|20-29|0.39|39|\n",
    "|30-39|0.25|25|\n",
    "|40-49|0.09|9|\n",
    "|总计|1.00|100|\n",
    "\n",
    "用交叉分组表最后一行的列总计数除以饭店总数300，可以得到餐价变量的相对频数和百分数频数分布   \n",
    "注意，由于数值是经过四舍五入再求和，因此每一列的数值只和不一定精确地等于列合计数 10  \n",
    "从交叉分组表边栏得到频数分布和相对频数分布，可以提供每一个变量单独的信息，但它们不能提供变量间关系的任何信息  \n",
    "**交叉分组表的主要价值在于提供了变量间关系的深刻含义** ，再次查看表2-10交叉分组表，揭示出较高的参加与较高的质量等级相联系，而较低的餐价对应于较低的质量等级   \n",
    "**把交叉分组表中的项目换成行百分数或列百分数，对变量间的关系提供了更深入的了解**，如表2-11所示，我们不断地看到较昂贵的餐价与质量较高、等级较高的饭店相联系  \n",
    "![2-11](../syn_pic/statistics_for_business_economics/2-11.png)\n",
    "交叉分组表广泛地用于考察两个变量间的关系，在实践中，许多统计研究的最终报告包括大量的交叉分组表 5  "
   ]
  },
  {
   "cell_type": "code",
   "execution_count": null,
   "metadata": {},
   "outputs": [],
   "source": [
    "'''\n",
    "数据分析 常用代码 交叉分组表\n",
    "数据分析 常用代码 数据生产\n",
    "pandas General functions pd.crosstab() margins\n",
    "'''\n",
    "lx = np.array(['A','B','C'])\n",
    "num=np.random.randint(low=0,high=len(lx),size=30)\n",
    "d7= pd.DataFrame({'x':lx[num],\n",
    "                    'y':np.random.randint(low=1,high=3,size=30)})\n",
    "d8=pd.crosstab(d7.x,d7.y,margins=True)\n",
    "d8"
   ]
  },
  {
   "cell_type": "code",
   "execution_count": null,
   "metadata": {
    "scrolled": true
   },
   "outputs": [],
   "source": [
    "'''\n",
    "数据分析 常用代码 交叉分组百分比\n",
    "pandas dataframe d.mul()\n",
    "pandas dataframe d.round()\n",
    "'''\n",
    "d8_1 = pd.crosstab(d7.x,d7.y)\n",
    "d8_1.div(d8_1.sum()).mul(100).round(decimals=1)"
   ]
  },
  {
   "cell_type": "markdown",
   "metadata": {},
   "source": [
    "### 2.4.2 辛普森悖论\n",
    "我们常常合并或综合两个或两个以上的交叉分组表中的数据，生成一个汇总交叉分组表，以显示两个变量的相关性  \n",
    "在这种情况下，我们通过汇总的交叉分组表得出两个变量相关性的结论必须非常小心，这样因为一句综合数据得到的结论与依据未综合数据得到的结论可能截然相反，这一现象被称为**辛普森悖论**  \n",
    "我们考虑一个分析两位法官在两个不同的法庭上判决的例子：以两个变量：判决（维持或推翻）和法庭类型（民事庭或市政庭）为依据，对每位法官构建交叉分组表    \n",
    "![2-1](../syn_pic/statistics_for_business_economics/2-1.png)  \n",
    "观察列百分数，我们看到勒基特有86%的判决维持原判，肯德尔有88%的判决维持原判，我们可以认为肯德尔做得比较好，但是问题随之出现 5  \n",
    "下面未综合的交叉分组表是勒基特和肯德尔在两类法庭审理的案件  \n",
    "![2-2](../syn_pic/statistics_for_business_economics/2-2.png)\n",
    "这个结果与我们综合两个法庭数据得到的结论相矛盾，因此，对最初的综合交叉分组表，我们看到法庭类型是一个隐藏的变量，当评价两位法官的记录时，它是不可忽视的变量  \n",
    "由于辛普森悖论的可能性，应该认识到，根据为综合还是综合交叉分组表数据得出的结论或解释有可能截然相反  \n",
    "特别地，当交叉分组表包括综合数据时，您应该审查是否存在可能影响结论的隐藏变量，使得分开的或未综合交叉分组表提供不同的、可能更好的见解和结论 5  \n",
    "### 2.4.3 散点图和趋势线\n",
    "**散点图** 是对两个数量变量间关系的图形表示，**趋势线**是显示相关性近似程度的一条直线  \n",
    "表2-12中给出了10周销售额的样本数据（单位：100美元），图2-7是表2-12数据的散点图和趋势线，广告次数和销售额之间存在正相关关系，但所有的点并不在一条直线上，所以这种关系是不完全的  \n",
    "在图2-8中给出了一些一般的散点图模式和它们所显示的关系类型  \n",
    "![2-8](../syn_pic/statistics_for_business_economics/2-8.png)"
   ]
  },
  {
   "cell_type": "code",
   "execution_count": null,
   "metadata": {
    "scrolled": true
   },
   "outputs": [],
   "source": [
    "'''\n",
    "数据分析 常用代码 散点图 5\n",
    "数据分析 常用代码 直线\n",
    "numpy Random sampling (numpy.random) np.random.rand()\n",
    "pandas dataframe d.plot.scatter() c\n",
    "matplotlib Pyplot function overview plt.ylim()\n",
    "matplotlib Pyplot function overview plt.xlim()\n",
    "pandas dataframe d.head()  \n",
    "'''\n",
    "\n",
    "ax=np.random.randint(low=1,high=6,size=20)\n",
    "d9=pd.DataFrame({'Advertising frequency x':ax,\n",
    "              'Sales (US $100) y':(ax*4.95+36.15+(np.random.rand(20)-0.5)*10)})\n",
    "d9.plot.scatter(x='Advertising frequency x',y='Sales (US $100) y',c='black')\n",
    "ax1=np.arange(1,6)\n",
    "plt.plot(ax1,(ax1*4.95+36.15),color='black')\n",
    "plt.ylim(35,65)\n",
    "plt.xlim(0,6)\n",
    "plt.show()\n",
    "d9.head(10)"
   ]
  },
  {
   "cell_type": "markdown",
   "metadata": {},
   "source": [
    "## 小结\n",
    "对于一个数据集，即使它的规模适中，对其原始形式直接解释往往也很困难，表格法和图形法提供了组织和汇总数据的方法，使人们能够揭示出数据的特征模式，并能更容易地解释数据  \n",
    "频数分布、相对频数分布、百分数频数分布、条形图和饼形图是用表格和图形汇总分类型数据的方法  \n",
    "频数分布、相对频数分布、百分数频数分布、直方图、累积频数分布、累积相对频数分布、累积百分数频数分布和累积曲线是汇总数量型数据的方法  \n",
    "茎叶显示作为一种探索性数据分析技术，可以用来汇总数量型数据  \n",
    "交叉分组表是用表格汇总两个变量数据的方法 5  \n",
    "散点图是显示两个数量变量之间关系的图形方法  \n",
    "![2-9](../syn_pic/statistics_for_business_economics/2-9.png)\n",
    "\n",
    "## 关键术语\n",
    "+ 分类型数据： 用来识别相似项目类型的标记或名称\n",
    "+ 数量型数据： 表示大小或多少的数值\n",
    "+ 频数分布： 一种数据的表格汇总方法，表示在几个互不重叠的组别中，每一组数据至的个数（频数）\n",
    "+ 相对频数分布：一种数据的表格汇总方法，表示在几个互不重叠的组别中，每一组数据值的个数所占的比例\n",
    "+ 百分数频数分布：一种数据的表格汇总方法，表示在几个互不重叠的组别中，每一组数据值的个数所占的百分数 5\n",
    "+ 条形图：一种图形方法，用来描述已被汇总成频数分布、相对频数分布或百分数频数分布的品质型数据\n",
    "+ 饼形图：一种汇总数据的图形方法，该方法的依据是将一个圆细分为若干个扇形，使得每一组的相对频数与一个扇形相对应\n",
    "+ 组中值：下组限和上组限的中间值  \n",
    "+ 打点图：用横轴上每个数据值上方的点的个数来汇总数据的一种图形方法\n",
    "+ 直方图：一种描述数量型数据的频数分布、相对频数分布或百分数频数分布的图形方法，组宽放置在横轴上，频数、相对频数或百分数频数放置在纵轴上 5\n",
    "+ 累积频数分布：一种数量型数据的表格汇总方式，表示小于或等于每一组上组限的数据值的个数\n",
    "+ 累积相对频数分布：一种数量型数据的表格汇总方式，表示小于或等于每一组上组限的数据值的比例  \n",
    "+ 累积百分数频数分布：一种数量型数据的表格汇总方式，表示小于或等于每一组上组限的数据值的百分数  \n",
    "+ 累积曲线：累积分布的图形 \n",
    "+ 探索性数据分析：用简单的算术和易画的图形来快速汇总数据的方法 5\n",
    "+ 茎叶显示：一种能同时为数量型数据排序和提供分布形状的探索性数据分析技术\n",
    "+ 交叉分组表：一种对两个变量的数据进行的表格汇总，其中一个变量组用行来描述，另一个变量组用列来描述\n",
    "+ 辛普森悖论：从两个或两个以上单独的交叉分组表得到的几轮可能与将数据综合成一个单一的交叉分组表得到的结论截然相反  \n",
    "+ 散点图：两个数量变量之间关系的图形表示，其中一个变量用横轴表示，另一个变量用纵轴表示  \n",
    "+ 趋势线：表示两个变量之间近似关系的一条直线\n",
    "\n",
    "## 重要公式\n",
    "相对频数（2-1）$$ 组的相对频数 = \\frac{ 组频数 }{ n }$$  \n",
    "近似组宽（2-2）$$ 近似组宽=\\frac{最大数据值-最小数据值}{组数} $$\n",
    "\n",
    "## 案例2-1\n",
    "Pelican商店举办了一项促销活动，向其他National Clothing商店的顾客赠送优惠券，在促销活动期间的某一天，Pelican商店抽取了100名持信用卡交易的顾客组成一个样本搜集到的数据。如表2-16所示：\n",
    "1. 主要变量的百分数频数分布\n",
    "2. 条形图或饼形图，以显示顾客使用各种付款方式的购物数量\n",
    "3. 顾客类型（普通或促销）与净销售额的交叉分组表，对相似性与差异性发表评论  \n",
    "4. 探索净销售额与顾客年龄关系的散点图"
   ]
  },
  {
   "cell_type": "code",
   "execution_count": null,
   "metadata": {
    "scrolled": true
   },
   "outputs": [],
   "source": [
    "'''\n",
    "pandas Input/Output pd.read_csv()\n",
    "pandas dataframe d.iloc[]\n",
    "pandas dataframe d.to_string()\n",
    "'''\n",
    "d10 = pd.read_csv('../pydata-book-master/statistics_for_business_economics/ch02/PelicanStores.csv')\n",
    "d11 = d10.iloc[:,1:8]\n",
    "d11.index=d10.iloc[:,0]\n",
    "print(d11.head(10).to_string())\n",
    "d11.describe()"
   ]
  },
  {
   "cell_type": "code",
   "execution_count": null,
   "metadata": {
    "scrolled": false
   },
   "outputs": [],
   "source": [
    "'''\n",
    "数据分析 常用代码 频数分布 分类型\n",
    "数据分析 常用代码 频数分布 数量型\n",
    "pandas Indexing and Selecting Data Dataframe[colname]\n",
    "pandas series s.to_string()\n",
    "pandas series s.max()\n",
    "pandas series s.min()\n",
    "numpy Mathematical functions np.around()\n",
    "numpy Array creation routines np.arange() step\n",
    "pandas series s.sort_index()\n",
    "'''\n",
    "scl=['Type of Customer','Method of Payment','Gender','Marital Status']\n",
    "ROWNUM=10\n",
    "for s in scl:\n",
    "    print(s +'\\n'+'-'*ROWNUM+'\\n'+ d11[s].value_counts().to_string()+'\\n'+'*'*ROWNUM)\n",
    "\n",
    "def freGro(s,group_number):\n",
    "    '''\n",
    "        s: 需要分组的数据，series\n",
    "        group_number：需要的组数，int\n",
    "        返回：面元分割完的明细，Categorical\n",
    "    '''\n",
    "    group_width=np.around((s.max()+s.min())/group_number,0)\n",
    "    group_list=np.arange(start=0,stop=group_width*group_number+1,step=group_width)    \n",
    "    return pd.cut(s,bins=group_list)\n",
    "\n",
    "def printDis(d,col,group_number):\n",
    "    '''\n",
    "        d: 需要分组的数据，dataframe\n",
    "        col: 需要分组的列名，string\n",
    "        group_number：需要的组数，int\n",
    "        输出：格式化的频数分布\n",
    "    '''\n",
    "    s = freGro(d[col],group_number)\n",
    "    st = s.value_counts().sort_index().to_string()\n",
    "    print(col + '\\n' + '-' * ROWNUM + '\\n' + st + '\\n' + '*' * ROWNUM)\n",
    "\n",
    "printDis(d11,'Items',8)\n",
    "printDis(d11,'Net Sales',6)\n",
    "printDis(d11,'Age',10)"
   ]
  },
  {
   "cell_type": "code",
   "execution_count": null,
   "metadata": {
    "scrolled": true
   },
   "outputs": [],
   "source": [
    "'''\n",
    "pandas series s.plot.pie() \n",
    "matplotlib Pyplot function overview plt.pie() autopct\n",
    "matplotlib Pyplot function overview plt.ylabel()\n",
    "matplotlib Pyplot function overview plt.show()\n",
    "matplotlib Pyplot function overview plt.figure()\n",
    "pandas series s.plot.bar()\n",
    "matplotlib Pyplot function overview plt.xticks()\n",
    "matplotlib text Text.rotation\n",
    "'''\n",
    "smp=d11['Method of Payment'].value_counts()\n",
    "smp.plot.pie(autopct='%.0f%%')\n",
    "plt.ylabel(ylabel='')\n",
    "plt.title('Method of Payment')\n",
    "plt.show()\n",
    "plt.figure(figsize=(7,5))\n",
    "smp.plot.bar()\n",
    "plt.title('Method of Payment')\n",
    "plt.ylabel(ylabel='frequency')\n",
    "plt.xticks(rotation=360)\n",
    "plt.show()"
   ]
  },
  {
   "cell_type": "code",
   "execution_count": null,
   "metadata": {
    "scrolled": false
   },
   "outputs": [],
   "source": [
    "'''\n",
    "数据分析 常用代码 交叉分组表\n",
    "数据分析 常用代码 交叉分组百分比\n",
    "pandas General functions pd.crosstab()\n",
    "pandas dataframe d.to_string()\n",
    "pandas dataframe d.div()\n",
    "pandas dataframe d.round()\n",
    "pandas dataframe d.cumsum()\n",
    "'''\n",
    "d12=pd.crosstab(freGro(d11['Net Sales'],6),d11['Type of Customer'])\n",
    "print(d12.to_string())\n",
    "print('*'*50)\n",
    "d13=d12.div(d12.sum()).mul(100).round(0)\n",
    "print(d13.to_string())\n",
    "d13.cumsum()"
   ]
  },
  {
   "cell_type": "markdown",
   "metadata": {},
   "source": [
    "__数据分析 分析方法 相似性分析__  \n",
    "无论促销类型还是常规类型的顾客，净销售额越高，顾客数量越少  \n",
    " \n",
    "__数据分析 交叉表 差异性分析__  \n",
    "常规类型的顾客中净销售额在50以下占到其整体的50%  \n",
    "促销类型的顾客中净销售额在50以下占到其整体的34%  \n",
    "结论：促销类型的顾客净销售额较常规类型的顾客更高  "
   ]
  },
  {
   "cell_type": "code",
   "execution_count": null,
   "metadata": {},
   "outputs": [],
   "source": [
    "'''\n",
    "趋势线拟合方案：\n",
    "1. numpy np.polyfit()\n",
    "2. statsmodels 拟合\n",
    "statsmodels api import statsmodels.api as sm\n",
    "statsmodels OLS sm.OLS\n",
    "statsmodels OLS ols.fit()\n",
    "statsmodels RegressionResults RegressionResults.params\n",
    "'''\n",
    "import statsmodels.api as sm\n",
    "ols=sm.OLS(endog=d11['Net Sales'],exog=d11['Age'])\n",
    "model=ols.fit()\n",
    "k = model.params\n",
    "k"
   ]
  },
  {
   "cell_type": "code",
   "execution_count": null,
   "metadata": {},
   "outputs": [],
   "source": [
    "'''\n",
    "pandas dataframe d.plot.scatter()  \n",
    "pandas series s.mul()  \n",
    "\n",
    "'''\n",
    "age=d11['Age'].sort_values()\n",
    "d11.plot.scatter('Age','Net Sales')\n",
    "plt.plot(age,age.mul(k[0]))\n",
    "plt.show()"
   ]
  }
 ],
 "metadata": {
  "kernelspec": {
   "display_name": "Python 3",
   "language": "python",
   "name": "python3"
  },
  "language_info": {
   "codemirror_mode": {
    "name": "ipython",
    "version": 3
   },
   "file_extension": ".py",
   "mimetype": "text/x-python",
   "name": "python",
   "nbconvert_exporter": "python",
   "pygments_lexer": "ipython3",
   "version": "3.7.6"
  },
  "toc": {
   "base_numbering": 1,
   "nav_menu": {},
   "number_sections": false,
   "sideBar": true,
   "skip_h1_title": false,
   "title_cell": "Table of Contents",
   "title_sidebar": "Contents",
   "toc_cell": false,
   "toc_position": {},
   "toc_section_display": true,
   "toc_window_display": true
  }
 },
 "nbformat": 4,
 "nbformat_minor": 2
}
