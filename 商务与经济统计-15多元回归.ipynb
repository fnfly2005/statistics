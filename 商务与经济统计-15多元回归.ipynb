{
 "cells": [
  {
   "cell_type": "code",
   "execution_count": null,
   "metadata": {},
   "outputs": [],
   "source": [
    "import pandas as pd\n",
    "import numpy as np\n",
    "import matplotlib.pyplot as plt\n",
    "from scipy.stats import linregress\n",
    "from sklearn import linear_model\n",
    "import statsmodels.formula.api as smf\n",
    "import statsmodels.api as sm"
   ]
  },
  {
   "cell_type": "markdown",
   "metadata": {},
   "source": [
    "# 实践中的统计\n",
    "## dunnhumby\n",
    "dunnhumby公司将经过证实的与生俱来的能力与宏大的目标结合起来，以寻找客户购买什么样的商品以及为什么购买这些商品的线索和模式  \n",
    "该公司将这些见解变成可操作的策略，这些策略创造了急剧的增长和可持续的忠诚度，最终提高了品牌价值和客户的认知度  \n",
    "在欧洲、亚洲和美洲，dunnhumby雇佣的员工超过950人，该公司为一些声望很高的著名公司提供服务，如克罗格、乐购、可口可乐、通用磨坊、金佰利、百事、宝洁和家得宝  \n",
    "公司的研究工作始于收集消费者的统计数据。这些数据来自于客户的奖励或优惠卡购买记录，以及电子销售点的交易和传统的市场研究  \n",
    "数据的分析常常要将数以十亿计的数据点转换成有关消费者行为、喜好和生活方式的详细见解。这种见解有利于制订更有效的营销方案，包括定价、促销、广告、产品分类决策的战略建议  \n",
    "研究人员使用被称为logistic回归的多元回归技术帮助他们分析以客户为基础的数据。使用logistic回归，建立一个估计的多元回归方程，该方程的形式如下所示 5  \n",
    "$$\\hat{y}=b_0+b_1x_1+b_2x_2+b_3x_3+\\dots+b_px_p$$\n",
    "应变量$\\hat{y}$是客户是属于一个特定的客户群体的概率估计  \n",
    "自变量$x_1,x_2,x_3,\\dots,x_p$是客户实际购买行为的度量，可能包括购买的具体物品、购买物品的数量、购买物品的金额、周几购买、一天的什么时候购买，等等  \n",
    "分析有助于确认出与预测客户群体最相关的自变量，对客户总体提供了更好的了解。分析的重点在于了解顾客对商品开发，市场营销、直接营销方案等问题的态度，而这些问题与公司服务的客户群有极大的相关性  \n",
    "在本章中，我们将介绍多元回归的概念，并且说明如何将第14章介绍的简单线性回归的概念扩展到多元回归的情形 5  \n",
    "让我们回想一下，被回归方程预测的或者解释的变量称为应变量，用来预测或者解释应变量的变量称为自变量  \n",
    "在本章中，我们将通过考虑两个或两个以上自变量的情形，来继续我们回归分析的学习。这一研究领域称为**多元回归分析** 5  \n",
    "# 15.1 多元回归模型\n",
    "多元回归分析是研究应变量y如何依赖两个或两个以上自变量的问题。在一般情形下，我们将用p表示自变量的数目  \n",
    "## 15.1.1 回归模型和回归方程  \n",
    "我们在第14章介绍的回归模型和回归方程的概念对多元回归情形同样适用。描述应变量y如何依赖于自变量$x_1,x_2,\\dots,x_p$和一个误差项的方程称为**多元回归模型**  \n",
    "我们首先假设多元回归模型的形式如下  \n",
    "<hr />\n",
    "\n",
    "**多元回归模型**（15-1）\n",
    "$$y=\\beta_0+\\beta_1x_1+\\beta_2x_2+\\dots+\\beta_px_p+\\varepsilon$$\n",
    "<hr />\n",
    "\n",
    "在多元回归模型中，$\\beta_0,\\beta_1,\\beta_2,\\dots,\\beta_p$是参数，误差项$\\varepsilon$是随机变量 5  \n",
    "误差项说明了包含在y里面但不能被p个自变量的线性关系解释的变异性  \n",
    "假定之一是$\\varepsilon$的平均值或期望值是零。由于这一假定，y的平均值或期望值E(y)等于$\\beta_0+\\beta_1x_1+\\beta_2x_2+\\dots+\\beta_px_p$  \n",
    "描述y的平均值如何依赖于$x_1,x_2,\\dots,x_p$的方程称为**多元回归方程**  \n",
    "<hr />\n",
    "\n",
    "**多元回归方程**（15-2）  \n",
    "$$E(y)=\\beta_0+\\beta_1x_1+\\beta_2x_2+\\dots+\\beta_px_p$$\n",
    "<hr />\n",
    "\n",
    "5  \n",
    "## 15.1.2 估计的多元回归方程  \n",
    "如果参数$\\beta_0,\\beta_1,\\beta_2,\\dots,\\beta_p$的值是已知的，在给定$x_1,x_2,\\dots,x_p$的值时，我们能利用式（15-2）计算y的平均值  \n",
    "我们利用一个简单随机样本计算样本统计量$b_0,b_1,b_2,\\dots,b_p$，将它们作为未知参数$\\beta_0+\\beta_1x_1+\\beta_2x_2+\\dots+\\beta_px_p$的点估计量  \n",
    "利用这些样本统计量我们得到了下面的**估计的多元回归方程**  \n",
    "<hr />\n",
    "\n",
    "**估计的多元回归方程**(15-3)  \n",
    "$$\\hat{y}=b_0+b_1x_1+b_2x_2+\\dots+b_px_p$$\n",
    "式中，$b_0,b_1,b_2,\\dots,b_p$是$\\beta_0+\\beta_1x_1+\\beta_2x_2+\\dots+\\beta_px_p$的估计值;$\\hat{y}$代表应变量的估计值 5  \n",
    "<hr />\n",
    "\n",
    "对于多元回归情形，估计步骤如图15-1所示  \n",
    "![15-1](../syn_pic/statistics_for_business_economics/15-1.png)\n",
    "<center>图15-1 多元线性回归模型的估计步骤 5</center>\n",
    "\n",
    "# 15.2 最小二乘法\n",
    "现在我们利用同样的方法来建立估计的多元回归方程。我们再次叙述最小二乘准则如下  \n",
    "<hr />\n",
    "\n",
    "**最小二乘准则**（15-4）  \n",
    "$$min\\Sigma(y_i-\\hat{y}_i)^2$$\n",
    "式中，$y_i$代表对于第i次观测，应变量的观测值;$\\hat{y}_i$代表对于第i次观测，应变量的估计值  \n",
    "<hr />\n",
    "\n",
    "我们能利用估计的多元回归方程  \n",
    "$$\\hat{y}=b_0+b_1x_1+b_2x_2+\\dots+b_px_p$$\n",
    "计算应变量的估计值 5  \n",
    "正如式（15-4）所显示的那样，最小二乘法是利用样本数据，通过使残差的平方和达到最小的方法求得$b_0,b_1,b_2,\\dots,b_p$的值  \n",
    "对于样本容量相对比较小的数据集，我们能利用这些公式通过手算就能计算出$b_0$和$b_1$  \n",
    "可是在多元回归情形，计算回归系数$b_0,b_1,b_2,\\dots,b_p$的公式将涉及矩阵代数的知识，这已经超出了本书的范围  \n",
    "重点将是如何解释计算机软件包的输出，而不是如何进行多元回归的计算  \n",
    "## 15.2.1 例子：Butler运输公司  \n",
    "作为多元回归分析的一个说明，我们将考虑Butler运输公司所面临的一个问题，它是一家位于南加利福尼亚地区的独立运输公司 5  \n",
    "为了制定最佳的工作计划表，公司的管理人员希望估计他们的司机每天行驶的时间  \n",
    "由10项运输任务组成的简单随机样本提供的数据如表15-1所示，散点图如图15-2所示  "
   ]
  },
  {
   "cell_type": "code",
   "execution_count": null,
   "metadata": {},
   "outputs": [],
   "source": [
    "but=pd.read_csv('../pydata-book-master/statistics_for_business_economics/ch15/Butler.csv')\n",
    "but"
   ]
  },
  {
   "cell_type": "code",
   "execution_count": null,
   "metadata": {},
   "outputs": [],
   "source": [
    "'''\n",
    "python\tmatplotlib\tfigure\tFigure.figsize\n",
    "'''\n",
    "but.plot.scatter('Miles','Time',figsize=(6,6))\n",
    "plt.ylim(3,11)\n",
    "plt.xlim(40,110)\n",
    "plt.show()"
   ]
  },
  {
   "cell_type": "markdown",
   "metadata": {},
   "source": [
    "对这个散点图仔细观察后，管理人员假设，能利用简单线性回归模型$y=\\beta_0+\\beta_1x_1+\\varepsilon$来描述每天行驶的时间(y)与每天运送货物的行驶里程($x_1$)之间的关系 5  \n",
    "我们利用最小二乘法估计未知参数$\\beta_0$和$\\beta_1$，建立估计的回归方程为（15-5）  \n",
    "$$\\hat{y}=b_0+b_1x_1$$\n",
    "在图15-3中，我们给出了利用表15-1中的数据进行简单线性回归得到的Minitab计算机输出。估计的回归方程是  "
   ]
  },
  {
   "cell_type": "code",
   "execution_count": null,
   "metadata": {},
   "outputs": [],
   "source": [
    "'''\n",
    "python\tscipy\tStatistical functions (scipy.stats)\tlinregress()\n",
    "'''\n",
    "but_slo,but_int,but_rva,but_pva,but_std=linregress(but['Miles'],but['Time'])\n",
    "print('y={:.2f}+{:.4f}x'.format(but_int,but_slo))"
   ]
  },
  {
   "cell_type": "code",
   "execution_count": null,
   "metadata": {},
   "outputs": [],
   "source": [
    "print('p-值={:.3f}比alpha=0.05小，拒绝原假设beta_1=0'.format(but_pva))"
   ]
  },
  {
   "cell_type": "markdown",
   "metadata": {},
   "source": [
    "于是我们能断定，每天行驶的时间与每天运送货物的行驶里程之间存在一个显著的关系 5  "
   ]
  },
  {
   "cell_type": "code",
   "execution_count": null,
   "metadata": {},
   "outputs": [],
   "source": [
    "print('判定系数r_sqr={:.1%}'.format(np.power(but_rva,2)))"
   ]
  },
  {
   "cell_type": "code",
   "execution_count": null,
   "metadata": {},
   "outputs": [],
   "source": [
    "flam='Time~Miles'\n",
    "lrm=smf.ols(flam,but)\n",
    "lrm_md=lrm.fit()\n",
    "lrm_md.ssr"
   ]
  },
  {
   "cell_type": "markdown",
   "metadata": {},
   "source": [
    "因为判定系数$R^2=66.4$%,所以我们可以看出，运输车每天行驶时间变异性的66.4%能被运送货物的行驶里程的线性影响解释。这一结果还算不错，但是管理人员或许希望考虑增加第二个自变量解释应变量中剩余的变异性  \n",
    "在视图确认另一个自变量时，管理人员觉得运送货物的次数也可能影响到行驶的总时间。估计的回归方程是（15-6）  "
   ]
  },
  {
   "cell_type": "code",
   "execution_count": null,
   "metadata": {},
   "outputs": [],
   "source": [
    "'''\n",
    "5\n",
    "python sklearn Classical linear regressors linear_model.LinearRegression()\n",
    "python sklearn Classical linear regressors LinearRegression.coef_\n",
    "python sklearn Classical linear regressors LinearRegression.intercept_\n",
    "python sklearn Classical linear regressors LinearRegression.fit()\n",
    "'''\n",
    "lr=linear_model.LinearRegression()\n",
    "lr.fit(but.loc[:,['Miles','Deliveries']],but['Time'])\n",
    "print('y = {:.3f} + {:.4f}x1 + {:.3f}x2'.format(lr.intercept_,lr.coef_[0],lr.coef_[1]))"
   ]
  },
  {
   "cell_type": "code",
   "execution_count": null,
   "metadata": {},
   "outputs": [],
   "source": [
    "'''\n",
    "python sklearn Classical linear regressors LinearRegression.score()\n",
    "'''\n",
    "lr.score(but.loc[:,['Miles','Deliveries']],but['Time'])"
   ]
  },
  {
   "cell_type": "markdown",
   "metadata": {},
   "source": [
    "在下一节，我们将讨论如何利用多元判定系数来度量，我们得到的这个估计的回归方程对观测数据是一个好的拟合  \n",
    "在此之前，让我们先仔细地考察一下式（15-6）中的两个估计值$b_1=0.0611$和$b_2=0.923$  \n",
    "## 15.2.2 关于回归系数解释的注释  \n",
    "现在我们得到了两个估计的回归方程，一个估计的回归方程是仅用每天运送货物的行驶里程作为自变量，另一个估计的回归方程包含了用运送货物的次数作为第二个自变量,可以对两个估计的回归方程之间的关系作出一些解释  \n",
    "在这两种情形下，$b_1$的值是不同的。在简单线性回归情形，我们把$b_1$看做当自变量变化一个单位时，应变量y变化程度的一个估计 5  \n",
    "在多元回归情形，这一解释应稍微做些修改。也就是说，在多元回归分析情形，我们对每一个回归系数有以下解释：当所有其他自变量都保持不变时，$b_1$可以看做对应的自变量$x_i$变化一个单位时，应变量y变化程度的一个估计  \n",
    "在包括两个自变量的Butler运输公司的例子中，$b_1=0.0611$。于是，当运送货物的次数保持不变时，对应于运送货物行驶的里程每增加1英里，运送货物车辆期望增加的行驶时间的估计值是0.0611小时 5  \n",
    "# 15.3 多元判定系数\n",
    "在简单线性回归情形中，我们已经说明了总的平方和能被分解为两部分：回归平方和及误差平方和。同样的方法也能应用到多元回归的情形  \n",
    "<hr />\n",
    "\n",
    "**SST,SSR和SSE之间的关系**（15-7）  \n",
    "$$SST=SSR+SSE$$\n",
    "式中，$SST=\\Sigma(y_i-\\bar{y})^2$代表总的平方和；$SSR=\\Sigma(\\hat{y}_i-\\bar{y})^2$代表回归平方和;$SSE=\\Sigma(y_i-\\hat{y}_i)^2$代表误差平方和  \n",
    "<hr />\n",
    "\n",
    "由于这个三个平方和的计算非常困难，因此我们依靠计算机软件包得到这三个平方和的数值  "
   ]
  },
  {
   "cell_type": "code",
   "execution_count": null,
   "metadata": {
    "scrolled": false
   },
   "outputs": [],
   "source": [
    "'''\n",
    "5\n",
    "python\tpatsy\tformula\t~\n",
    "python\tstatsmodels\tANOVA\tsmf.ols()\n",
    "python\tstatsmodels\tANOVA\tModels.fit()\n",
    "python\tstatsmodels\tLinear Regression\tRegressionResults() summary()\n",
    "'''\n",
    "fla='Time ~ Miles + Deliveries'\n",
    "lrs=smf.ols(fla,but)\n",
    "lrmd=lrs.fit()\n",
    "lrmd.summary()"
   ]
  },
  {
   "cell_type": "code",
   "execution_count": null,
   "metadata": {},
   "outputs": [],
   "source": [
    "'''\n",
    "python\tstatsmodels\tANOVA\tstats.anova_lm()\n",
    "'''\n",
    "sm.stats.anova_lm(lrmd)"
   ]
  },
  {
   "cell_type": "code",
   "execution_count": null,
   "metadata": {},
   "outputs": [],
   "source": [
    "'''\n",
    "RegressionResults\n",
    "'''\n",
    "but_sst=(but['Time']-but['Time'].mean()).pow(2).sum()\n",
    "print('15-4 SSE={:.3f}'.format(lrmd.ssr))\n",
    "print('15-4 SST={:.3f}'.format(but_sst))\n",
    "print('15-4 SSR={:.3f}'.format(but_sst-lrmd.ssr))"
   ]
  },
  {
   "cell_type": "code",
   "execution_count": null,
   "metadata": {},
   "outputs": [],
   "source": [
    "'''\n",
    "5\n",
    "'''\n",
    "print('15-3 SSE={:.3f}'.format(lrm_md.ssr))\n",
    "print('15-3 SST={:.3f}'.format(but_sst))\n",
    "print('15-3 SSR={:.3f}'.format(but_sst-lrm_md.ssr))"
   ]
  },
  {
   "cell_type": "markdown",
   "metadata": {},
   "source": [
    "在这两种情形下，SST的值是相同的，因为它不依赖于$\\hat{y}$  \n",
    "但是当第二个自变量进入模型后，SSR增加而SSE减少。这就意味着，估计的多元回归方程对观测数据给出了一个更好的拟合  \n",
    "在第14章力，我们利用判定系数$r^2=SSR/SST$来度量估计的回归方程的拟合优度。我们将同样的概念应用到多元回归的情形  \n",
    "术语**多元判定系数**表示的是对估计的多元回归方程拟合优度的度量。我们用$R^2$表示多元判定系数，它的计算公式如下  \n",
    "<hr />\n",
    "\n",
    "**多元判定系数**(15-8)  \n",
    "$$R^2=\\frac{SSR}{SST}$$\n",
    "5  \n",
    "<hr />\n"
   ]
  }
 ],
 "metadata": {
  "kernelspec": {
   "display_name": "Python 3",
   "language": "python",
   "name": "python3"
  },
  "language_info": {
   "codemirror_mode": {
    "name": "ipython",
    "version": 3
   },
   "file_extension": ".py",
   "mimetype": "text/x-python",
   "name": "python",
   "nbconvert_exporter": "python",
   "pygments_lexer": "ipython3",
   "version": "3.7.6"
  },
  "toc": {
   "base_numbering": 1,
   "nav_menu": {},
   "number_sections": false,
   "sideBar": true,
   "skip_h1_title": false,
   "title_cell": "Table of Contents",
   "title_sidebar": "Contents",
   "toc_cell": false,
   "toc_position": {},
   "toc_section_display": true,
   "toc_window_display": false
  }
 },
 "nbformat": 4,
 "nbformat_minor": 4
}
