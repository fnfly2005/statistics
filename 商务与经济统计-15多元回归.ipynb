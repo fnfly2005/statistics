{
 "cells": [
  {
   "cell_type": "code",
   "execution_count": null,
   "metadata": {},
   "outputs": [],
   "source": [
    "import pandas as pd\n",
    "import numpy as np\n",
    "import matplotlib.pyplot as plt\n",
    "from scipy.stats import linregress,f,t\n",
    "from sklearn import linear_model\n",
    "import statsmodels.formula.api as smf\n",
    "import statsmodels.api as sm\n",
    "from io import StringIO"
   ]
  },
  {
   "cell_type": "markdown",
   "metadata": {},
   "source": [
    "# 实践中的统计\n",
    "## dunnhumby\n",
    "dunnhumby公司将经过证实的与生俱来的能力与宏大的目标结合起来，以寻找客户购买什么样的商品以及为什么购买这些商品的线索和模式  \n",
    "该公司将这些见解变成可操作的策略，这些策略创造了急剧的增长和可持续的忠诚度，最终提高了品牌价值和客户的认知度  \n",
    "在欧洲、亚洲和美洲，dunnhumby雇佣的员工超过950人，该公司为一些声望很高的著名公司提供服务，如克罗格、乐购、可口可乐、通用磨坊、金佰利、百事、宝洁和家得宝  \n",
    "公司的研究工作始于收集消费者的统计数据。这些数据来自于客户的奖励或优惠卡购买记录，以及电子销售点的交易和传统的市场研究  \n",
    "数据的分析常常要将数以十亿计的数据点转换成有关消费者行为、喜好和生活方式的详细见解。这种见解有利于制订更有效的营销方案，包括定价、促销、广告、产品分类决策的战略建议  \n",
    "研究人员使用被称为logistic回归的多元回归技术帮助他们分析以客户为基础的数据。使用logistic回归，建立一个估计的多元回归方程，该方程的形式如下所示 5  \n",
    "$$\\hat{y}=b_0+b_1x_1+b_2x_2+b_3x_3+\\dots+b_px_p$$\n",
    "应变量$\\hat{y}$是客户是属于一个特定的客户群体的概率估计  \n",
    "自变量$x_1,x_2,x_3,\\dots,x_p$是客户实际购买行为的度量，可能包括购买的具体物品、购买物品的数量、购买物品的金额、周几购买、一天的什么时候购买，等等  \n",
    "分析有助于确认出与预测客户群体最相关的自变量，对客户总体提供了更好的了解。分析的重点在于了解顾客对商品开发，市场营销、直接营销方案等问题的态度，而这些问题与公司服务的客户群有极大的相关性  \n",
    "在本章中，我们将介绍多元回归的概念，并且说明如何将第14章介绍的简单线性回归的概念扩展到多元回归的情形 5  \n",
    "让我们回想一下，被回归方程预测的或者解释的变量称为应变量，用来预测或者解释应变量的变量称为自变量  \n",
    "在本章中，我们将通过考虑两个或两个以上自变量的情形，来继续我们回归分析的学习。这一研究领域称为**多元回归分析** 5  \n",
    "# 15.1 多元回归模型\n",
    "多元回归分析是研究应变量y如何依赖两个或两个以上自变量的问题。在一般情形下，我们将用p表示自变量的数目  \n",
    "## 15.1.1 回归模型和回归方程  \n",
    "我们在第14章介绍的回归模型和回归方程的概念对多元回归情形同样适用。描述应变量y如何依赖于自变量$x_1,x_2,\\dots,x_p$和一个误差项的方程称为**多元回归模型**  \n",
    "我们首先假设多元回归模型的形式如下  \n",
    "<hr />\n",
    "\n",
    "**多元回归模型**（15-1）\n",
    "$$y=\\beta_0+\\beta_1x_1+\\beta_2x_2+\\dots+\\beta_px_p+\\varepsilon$$\n",
    "<hr />\n",
    "\n",
    "在多元回归模型中，$\\beta_0,\\beta_1,\\beta_2,\\dots,\\beta_p$是参数，误差项$\\varepsilon$是随机变量 5  \n",
    "误差项说明了包含在y里面但不能被p个自变量的线性关系解释的变异性  \n",
    "假定之一是$\\varepsilon$的平均值或期望值是零。由于这一假定，y的平均值或期望值E(y)等于$\\beta_0+\\beta_1x_1+\\beta_2x_2+\\dots+\\beta_px_p$  \n",
    "描述y的平均值如何依赖于$x_1,x_2,\\dots,x_p$的方程称为**多元回归方程**  \n",
    "<hr />\n",
    "\n",
    "**多元回归方程**（15-2）  \n",
    "$$E(y)=\\beta_0+\\beta_1x_1+\\beta_2x_2+\\dots+\\beta_px_p$$\n",
    "<hr />\n",
    "\n",
    "5  \n",
    "## 15.1.2 估计的多元回归方程  \n",
    "如果参数$\\beta_0,\\beta_1,\\beta_2,\\dots,\\beta_p$的值是已知的，在给定$x_1,x_2,\\dots,x_p$的值时，我们能利用式（15-2）计算y的平均值  \n",
    "我们利用一个简单随机样本计算样本统计量$b_0,b_1,b_2,\\dots,b_p$，将它们作为未知参数$\\beta_0+\\beta_1x_1+\\beta_2x_2+\\dots+\\beta_px_p$的点估计量  \n",
    "利用这些样本统计量我们得到了下面的**估计的多元回归方程**  \n",
    "<hr />\n",
    "\n",
    "**估计的多元回归方程**(15-3)  \n",
    "$$\\hat{y}=b_0+b_1x_1+b_2x_2+\\dots+b_px_p$$\n",
    "式中，$b_0,b_1,b_2,\\dots,b_p$是$\\beta_0+\\beta_1x_1+\\beta_2x_2+\\dots+\\beta_px_p$的估计值;$\\hat{y}$代表应变量的估计值 5  \n",
    "<hr />\n",
    "\n",
    "对于多元回归情形，估计步骤如图15-1所示  \n",
    "![15-1](../syn_pic/statistics_for_business_economics/15-1.png)\n",
    "<center>图15-1 多元线性回归模型的估计步骤 5</center>\n",
    "\n",
    "# 15.2 最小二乘法\n",
    "现在我们利用同样的方法来建立估计的多元回归方程。我们再次叙述最小二乘准则如下  \n",
    "<hr />\n",
    "\n",
    "**最小二乘准则**（15-4）  \n",
    "$$min\\Sigma(y_i-\\hat{y}_i)^2$$\n",
    "式中，$y_i$代表对于第i次观测，应变量的观测值;$\\hat{y}_i$代表对于第i次观测，应变量的估计值  \n",
    "<hr />\n",
    "\n",
    "我们能利用估计的多元回归方程  \n",
    "$$\\hat{y}=b_0+b_1x_1+b_2x_2+\\dots+b_px_p$$\n",
    "计算应变量的估计值 5  \n",
    "正如式（15-4）所显示的那样，最小二乘法是利用样本数据，通过使残差的平方和达到最小的方法求得$b_0,b_1,b_2,\\dots,b_p$的值  \n",
    "对于样本容量相对比较小的数据集，我们能利用这些公式通过手算就能计算出$b_0$和$b_1$  \n",
    "可是在多元回归情形，计算回归系数$b_0,b_1,b_2,\\dots,b_p$的公式将涉及矩阵代数的知识，这已经超出了本书的范围  \n",
    "重点将是如何解释计算机软件包的输出，而不是如何进行多元回归的计算  \n",
    "## 15.2.1 例子：Butler运输公司  \n",
    "作为多元回归分析的一个说明，我们将考虑Butler运输公司所面临的一个问题，它是一家位于南加利福尼亚地区的独立运输公司 5  \n",
    "为了制定最佳的工作计划表，公司的管理人员希望估计他们的司机每天行驶的时间  \n",
    "由10项运输任务组成的简单随机样本提供的数据如表15-1所示，散点图如图15-2所示  "
   ]
  },
  {
   "cell_type": "code",
   "execution_count": null,
   "metadata": {},
   "outputs": [],
   "source": [
    "but=pd.read_csv('../pydata-book-master/statistics_for_business_economics/ch15/Butler.csv')\n",
    "but"
   ]
  },
  {
   "cell_type": "code",
   "execution_count": null,
   "metadata": {},
   "outputs": [],
   "source": [
    "'''\n",
    "python\tmatplotlib\tfigure\tFigure.figsize\n",
    "'''\n",
    "but.plot.scatter('Miles','Time',figsize=(6,6))\n",
    "plt.ylim(3,11)\n",
    "plt.xlim(40,110)\n",
    "plt.show()"
   ]
  },
  {
   "cell_type": "markdown",
   "metadata": {},
   "source": [
    "对这个散点图仔细观察后，管理人员假设，能利用简单线性回归模型$y=\\beta_0+\\beta_1x_1+\\varepsilon$来描述每天行驶的时间(y)与每天运送货物的行驶里程($x_1$)之间的关系 5  \n",
    "我们利用最小二乘法估计未知参数$\\beta_0$和$\\beta_1$，建立估计的回归方程为（15-5）  \n",
    "$$\\hat{y}=b_0+b_1x_1$$\n",
    "在图15-3中，我们给出了利用表15-1中的数据进行简单线性回归得到的Minitab计算机输出。估计的回归方程是  "
   ]
  },
  {
   "cell_type": "code",
   "execution_count": null,
   "metadata": {},
   "outputs": [],
   "source": [
    "'''\n",
    "python\tscipy\tStatistical functions (scipy.stats)\tlinregress()\n",
    "'''\n",
    "but_slo,but_int,but_rva,but_pva,but_std=linregress(but['Miles'],but['Time'])\n",
    "print('y={:.2f}+{:.4f}x'.format(but_int,but_slo))"
   ]
  },
  {
   "cell_type": "code",
   "execution_count": null,
   "metadata": {},
   "outputs": [],
   "source": [
    "print('p-值={:.3f}比alpha=0.05小，拒绝原假设beta_1=0'.format(but_pva))"
   ]
  },
  {
   "cell_type": "markdown",
   "metadata": {},
   "source": [
    "于是我们能断定，每天行驶的时间与每天运送货物的行驶里程之间存在一个显著的关系 5  "
   ]
  },
  {
   "cell_type": "code",
   "execution_count": null,
   "metadata": {},
   "outputs": [],
   "source": [
    "print('判定系数r_sqr={:.1%}'.format(np.power(but_rva,2)))"
   ]
  },
  {
   "cell_type": "code",
   "execution_count": null,
   "metadata": {},
   "outputs": [],
   "source": [
    "flam='Time~Miles'\n",
    "lrm=smf.ols(flam,but)\n",
    "lrm_md=lrm.fit()\n",
    "lrm_md.ssr"
   ]
  },
  {
   "cell_type": "markdown",
   "metadata": {},
   "source": [
    "因为判定系数$R^2=66.4$%,所以我们可以看出，运输车每天行驶时间变异性的66.4%能被运送货物的行驶里程的线性影响解释。这一结果还算不错，但是管理人员或许希望考虑增加第二个自变量解释应变量中剩余的变异性  \n",
    "在视图确认另一个自变量时，管理人员觉得运送货物的次数也可能影响到行驶的总时间。估计的回归方程是（15-6）  "
   ]
  },
  {
   "cell_type": "code",
   "execution_count": null,
   "metadata": {},
   "outputs": [],
   "source": [
    "'''\n",
    "5\n",
    "python sklearn Classical linear regressors linear_model.LinearRegression()\n",
    "python sklearn Classical linear regressors LinearRegression.coef_\n",
    "python sklearn Classical linear regressors LinearRegression.intercept_\n",
    "python sklearn Classical linear regressors LinearRegression.fit()\n",
    "'''\n",
    "lr=linear_model.LinearRegression()\n",
    "lr.fit(but.loc[:,['Miles','Deliveries']],but['Time'])\n",
    "print('y = {:.3f} + {:.4f}x1 + {:.3f}x2'.format(lr.intercept_,lr.coef_[0],lr.coef_[1]))"
   ]
  },
  {
   "cell_type": "code",
   "execution_count": null,
   "metadata": {},
   "outputs": [],
   "source": [
    "'''\n",
    "python sklearn Classical linear regressors LinearRegression.score()\n",
    "'''\n",
    "lr.score(but.loc[:,['Miles','Deliveries']],but['Time'])"
   ]
  },
  {
   "cell_type": "markdown",
   "metadata": {},
   "source": [
    "在下一节，我们将讨论如何利用多元判定系数来度量，我们得到的这个估计的回归方程对观测数据是一个好的拟合  \n",
    "在此之前，让我们先仔细地考察一下式（15-6）中的两个估计值$b_1=0.0611$和$b_2=0.923$  \n",
    "## 15.2.2 关于回归系数解释的注释  \n",
    "现在我们得到了两个估计的回归方程，一个估计的回归方程是仅用每天运送货物的行驶里程作为自变量，另一个估计的回归方程包含了用运送货物的次数作为第二个自变量,可以对两个估计的回归方程之间的关系作出一些解释  \n",
    "在这两种情形下，$b_1$的值是不同的。在简单线性回归情形，我们把$b_1$看做当自变量变化一个单位时，应变量y变化程度的一个估计 5  \n",
    "在多元回归情形，这一解释应稍微做些修改。也就是说，在多元回归分析情形，我们对每一个回归系数有以下解释：当所有其他自变量都保持不变时，$b_1$可以看做对应的自变量$x_i$变化一个单位时，应变量y变化程度的一个估计  \n",
    "在包括两个自变量的Butler运输公司的例子中，$b_1=0.0611$。于是，当运送货物的次数保持不变时，对应于运送货物行驶的里程每增加1英里，运送货物车辆期望增加的行驶时间的估计值是0.0611小时 5  \n",
    "# 15.3 多元判定系数\n",
    "在简单线性回归情形中，我们已经说明了总的平方和能被分解为两部分：回归平方和及误差平方和。同样的方法也能应用到多元回归的情形  \n",
    "<hr />\n",
    "\n",
    "**SST,SSR和SSE之间的关系**（15-7）  \n",
    "$$SST=SSR+SSE$$\n",
    "式中，$SST=\\Sigma(y_i-\\bar{y})^2$代表总的平方和；$SSR=\\Sigma(\\hat{y}_i-\\bar{y})^2$代表回归平方和;$SSE=\\Sigma(y_i-\\hat{y}_i)^2$代表误差平方和  \n",
    "<hr />\n",
    "\n",
    "由于这个三个平方和的计算非常困难，因此我们依靠计算机软件包得到这三个平方和的数值  "
   ]
  },
  {
   "cell_type": "code",
   "execution_count": null,
   "metadata": {
    "scrolled": false
   },
   "outputs": [],
   "source": [
    "'''\n",
    "5\n",
    "python\tpatsy\tformula\t~\n",
    "python\tstatsmodels\tANOVA\tsmf.ols()\n",
    "python\tstatsmodels\tANOVA\tModels.fit()\n",
    "python\tstatsmodels\tLinear Regression\tRegressionResults() summary()\n",
    "'''\n",
    "fla='Time ~ Miles + Deliveries'\n",
    "lrs=smf.ols(fla,but)\n",
    "lrmd=lrs.fit()\n",
    "lrmd.summary()"
   ]
  },
  {
   "cell_type": "code",
   "execution_count": null,
   "metadata": {},
   "outputs": [],
   "source": [
    "'''\n",
    "python\tstatsmodels\tANOVA\tstats.anova_lm()\n",
    "'''\n",
    "sm.stats.anova_lm(lrmd)"
   ]
  },
  {
   "cell_type": "code",
   "execution_count": null,
   "metadata": {
    "scrolled": true
   },
   "outputs": [],
   "source": [
    "'''\n",
    "RegressionResults\n",
    "'''\n",
    "but_sst=(but['Time']-but['Time'].mean()).pow(2).sum()\n",
    "print('15-4 SSE={:.3f}'.format(lrmd.ssr))\n",
    "print('15-4 SST={:.3f}'.format(but_sst))\n",
    "print('15-4 SSR={:.3f}'.format(but_sst-lrmd.ssr))"
   ]
  },
  {
   "cell_type": "code",
   "execution_count": null,
   "metadata": {},
   "outputs": [],
   "source": [
    "'''\n",
    "5\n",
    "'''\n",
    "print('15-3 SSE={:.3f}'.format(lrm_md.ssr))\n",
    "print('15-3 SST={:.3f}'.format(but_sst))\n",
    "print('15-3 SSR={:.3f}'.format(but_sst-lrm_md.ssr))"
   ]
  },
  {
   "cell_type": "markdown",
   "metadata": {},
   "source": [
    "在这两种情形下，SST的值是相同的，因为它不依赖于$\\hat{y}$  \n",
    "但是当第二个自变量进入模型后，SSR增加而SSE减少。这就意味着，估计的多元回归方程对观测数据给出了一个更好的拟合  \n",
    "在第14章里，我们利用判定系数$r^2=SSR/SST$来度量估计的回归方程的拟合优度。我们将同样的概念应用到多元回归的情形  \n",
    "术语**多元判定系数**表示的是对估计的多元回归方程拟合优度的度量。我们用$R^2$表示多元判定系数，它的计算公式如下  \n",
    "<hr />\n",
    "\n",
    "**多元判定系数**(15-8)  \n",
    "$$R^2=\\frac{SSR}{SST}$$\n",
    "5  \n",
    "<hr />\n",
    "\n",
    "我们能把多元判定系数$R^2$理解为应变量y中的变异性能被估计的多元回归方程解释的比例  \n",
    "对于由两个自变量的Butler运输公司的例子，因为SSR=21.601,SST=23.900，故而我们有  "
   ]
  },
  {
   "cell_type": "code",
   "execution_count": null,
   "metadata": {},
   "outputs": [],
   "source": [
    "butRsq=(but_sst-lrmd.ssr)/but_sst\n",
    "print('R-sq={:.3f}'.format(butRsq))"
   ]
  },
  {
   "cell_type": "markdown",
   "metadata": {},
   "source": [
    "所以，在运输车辆行驶时间y中变异性的90.4%，能用运送货物的行驶里程和运送货物的次数作自变量的估计的多元回归方程解释  \n",
    "对于仅有一个自变量，即每天运送货物的行驶里程（$x_1$)估计的多元回归方程，图15-3给出了R-sq的值是66.4%。在一般情形下，$R^2$总是随着新的自变量不断进入模型而增加 5  \n",
    "由于增加自变量将影响到应变量中的变异性被估计的回归方程解释的百分比，为了避免高估这一影响，许多分析学家提出用自变量的数目去修正$R^2$的值  \n",
    "用n表示观测值的数目，p表示自变量的数目，**修正多元判定系数**的计算公式如下  \n",
    "<hr />\n",
    "\n",
    "**修正多元判定系数**(15-9)  \n",
    "$$R^2_a=1-(1-R^2)\\frac{n-1}{n-p-1}$$\n",
    "<hr />\n",
    "\n",
    "对于Butler运输公司的例子，n=10,p=2，我们有  "
   ]
  },
  {
   "cell_type": "code",
   "execution_count": null,
   "metadata": {},
   "outputs": [],
   "source": [
    "'''\n",
    "5\n",
    "'''\n",
    "butAdjRsq=1-(1-butRsq)*(len(but)-1)/(len(but)-1-(len(but.columns)-2))\n",
    "print('R-sqa={:.2f}'.format(butAdjRsq))"
   ]
  },
  {
   "cell_type": "markdown",
   "metadata": {},
   "source": [
    "于是，对于有两个自变量的多元判定系数进行修正后，我们得到的修正多元判定系数是0.88  \n",
    "## 注释\n",
    "如果$R^2$的数值比较小，而模型所包含的自变量的数目比较大时，修正多元判定系数可能取负值；在这种情形下，Minitab将把修正多元判定系数的数值调整为0 5  \n",
    "# 15.4 模型的假定\n",
    "在15.1节中，我们引入了式(15-10)形式的多元回归模型  \n",
    "<hr />\n",
    "\n",
    "**多元回归模型**（15-10）\n",
    "$$y=\\beta_0+\\beta_1x_1+\\beta_2x_2+\\dots+\\beta_px_p+\\varepsilon$$\n",
    "<hr />\n",
    "\n",
    "在多元回归模型中，关于误差项$\\varepsilon$的假定与简单线性回归模型的假定相似  \n",
    "<hr />\n",
    "\n",
    "**关于多元回归模型$y=\\beta_0+\\beta_1x_1+\\beta_2x_2+\\dots+\\beta_px_p+\\varepsilon$的误差项$\\varepsilon$的假定**  \n",
    "1. 误差项$\\varepsilon$是一个平均值或期望值为零的随机变量，即$E(\\varepsilon)=0$ 5  \n",
    "    这就意味着：对于给定的$x_1,x_2,\\dots,x_p$的值，y的期望值或平均值是（15-11）  \n",
    "    $$E(y)=\\beta_0+\\beta_1x_1+\\beta_2x_2+\\dots+\\beta_px_p$$\n",
    "    式（15-11）就是我们在15.1节中极少的多元回归方程。在这个方程中，E(y)表示对于给定的$x_1,x_2,\\dots,x_p$的值,y的所有可能出现的值的期望值或平均值  \n",
    "2. 对于自变量$x_1,x_2,\\dots,x_p$所有的值，$\\varepsilon$的方差都是相同的。我们用$\\sigma^2$表示$\\varepsilon$的方差  \n",
    "    这就意味着：对于自变量$x_1,x_2,\\dots,x_p$所有的值，y关于回归线的方差也都等于$\\sigma^2$ 5  \n",
    "3. $\\varepsilon$的值是相互独立的  \n",
    "    这就意味着：对于自变量$x_1,x_2,\\dots,x_p$的一组特定的值，它所对于的误差项$\\varepsilon$的值与自变量$x_1,x_2,\\dots,x_p$的任意一组其他值所对应的误差项$\\varepsilon$的值不相关  \n",
    "4. 误差项$\\varepsilon$是一个服从正态分布的随机变量，它表示了y的值和由$\\beta_0+\\beta_1x_1+\\beta_2x_2+\\dots+\\beta_px_p$给出的y的期望值之间的离差  \n",
    "    这就意味着：因为$\\beta_0,\\beta_1,\\beta_2,\\dots,\\beta_p$是常数，对于给定的$x_1,x_2,\\dots,x_p$的值，应变量y也是一个服从正态分布的随机变量  \n",
    "\n",
    "<hr />\n",
    "\n",
    "为了对由式（15-11）给出的关系式的形式由更深入的了解，我们考虑下面含有两个自变量的多元回归方程 5  \n",
    "$$E(y)=\\beta_0+\\beta_1x_1+\\beta_2x_2$$\n",
    "这个方程的图形是三维空间的一个平面。图15-5给出了这一一个图形的例子  \n",
    "![15-5](../syn_pic/statistics_for_business_economics/15-5.png)\n",
    "<center>图15-5 具有两个自变量的多元回归分析问题的回归方程图形</center>\n",
    "\n",
    "注意，在图中，当$x_1=x_1^*$,$x_2=x_2^*$时，$\\varepsilon$是y的实际观测值和y的期望值E(y)之间的差 5  \n",
    "在回归分析中，我们经常用术语响应变量代替术语应变量。此外，因为多元回归方程生成一个平面或是一个曲面，所以我们把它的图形称为响应曲面 5  \n",
    "# 15.5 显著性检验  \n",
    "在简单线性回归情形时，我们应用t检验和F检验进行显著性检验。在简单线性回归情形时，这两个检验给出了同样的结论；也就是说，如果原假设被拒绝，我们的结论时$\\beta_1\\ne0$  \n",
    "而在多元回归情形中，进行t检验和F检验的目的是不同的  \n",
    "1. F检验用于确定在应变量和所有自变量之间是否存在一个显著性的关系;我们把F检验称为总体的显著性检验  \n",
    "2. 如果F检验已经表明了模型总体的显著性，那么t检验用于确定每一个单个的自变量是不是显著的自变量  \n",
    "    对模型中每一个单个的自变量，都要单独地进行t检验;我们把每一个这样的t检验都称为单个的显著性检验 5  \n",
    "\n",
    "在以下内容中，我们将对F检验和t检验加以解释，并将这两个检验应用于Butler运输公司的例子  \n",
    "## 15.5.1 F检验  \n",
    "在15.4节中定义的多元回归模型是  \n",
    "$$y=\\beta_0+\\beta_1x_1+\\beta_2x_2+\\dots+\\beta_px_p+\\varepsilon$$\n",
    "F检验的假设与多元回归模型的参数有关  \n",
    "$$H_0：\\beta_1=\\beta_2=\\dots=\\beta_p=0$$\n",
    "$$H_a：至少有一个参数不等于零$$  \n",
    "5  \n",
    "如果原假设$H_0$被拒绝，那么我们就有足够的统计证据断定，至少有一个参数不等于零，并且应变量y和所有自变量$x_1,x_2,\\dots,x_p$之间的关系在总体上是显著的  \n",
    "在叙述F检验的步骤之前，我们需要回忆一下均方的概念。均方是一个平方和除以它所对应的自由度  \n",
    "在多元回归情形，总的平方和有n-1个自由度，回归平方和(SSR)有p个自由度，误差平方和有n-p-1个自由度  \n",
    "因此，回归的均方（MSR）是SSR/p，误差的均方(MSE)是SSE/（n-p-1）(15-12)  \n",
    "$$MSR=\\frac{SSR}{p}$$\n",
    "和(15-13) 5  \n",
    "$$MSE=\\frac{SSE}{n-p-1}$$\n",
    "根据在第14章中讨论的结果，MSE给出了误差项$\\varepsilon$的方差$\\sigma^2$的一个无偏估计量  \n",
    "如果原假设$H_0：\\beta_1=\\beta_2=\\dots=\\beta_p=0$，MSR也给出了方差$\\sigma^2$的一个无偏估计量，并且MSR/MSE的值将接近于1  \n",
    "为了确定需要多么大的MSR/MSE的值就能拒绝$H_0$，我们利用这样一个事实:如果$H_0$成立并且有关多元回归模型的假定都成立，那么MSR/MSE的抽样分布式一个分子的自由度为p，分母的自由度为n-p-1的F分布  \n",
    "对于多元回归情形，显著性F检验的步骤如下 5  \n",
    "<hr />\n",
    "\n",
    "**总体显著性的F检验**  \n",
    "$$H_0：\\beta_1=\\beta_2=\\dots=\\beta_p=0$$\n",
    "$$H_a：至少有一个参数不等于零$$ \n",
    "检验的统计量$F=\\frac{MSR}{MSE}$（15-14）  \n",
    "拒绝法则  \n",
    "p-值法：如果p-值$\\le\\alpha$，则拒绝$H_0$  \n",
    "临界值法：如果F$\\ge F_{\\alpha}$，则拒绝$H_0$ 5  \n",
    "\n",
    "式中，$F_{\\alpha}$式分子的自由度为p，分母的自由度为n-p-1时，使F分布的上侧面积为$\\alpha$的F值  \n",
    "<hr />\n",
    "\n",
    "让我们将F检验应用于Butler运输公司的多元回归问题。因为有两个自变量，所以我们把检验的假设写成如下形式  \n",
    "$$H_0：\\beta_1=\\beta_2=0$$\n",
    "$$H_a：\\beta_1,\\beta_2中至少有一个参数不等于零$$ \n",
    "利用式(15-14)，我们得到检验的统计量  "
   ]
  },
  {
   "cell_type": "code",
   "execution_count": null,
   "metadata": {},
   "outputs": [],
   "source": [
    "'''\n",
    "5\n",
    "python\tstatsmodels\tLinear Regression\tRegressionResults.mse_resid\n",
    "python\tstatsmodels\tLinear Regression\tRegressionResults.mse_model\n",
    "'''\n",
    "but_mse=lrmd.mse_resid\n",
    "but_msr=lrmd.mse_model\n",
    "but_f=but_msr/but_mse\n",
    "but_f"
   ]
  },
  {
   "cell_type": "markdown",
   "metadata": {},
   "source": [
    "对于$\\alpha=0.01$的显著性水平，因为p-值小于0.01，所以应该拒绝$H_0$  "
   ]
  },
  {
   "cell_type": "code",
   "execution_count": null,
   "metadata": {},
   "outputs": [],
   "source": [
    "'''\n",
    "python\tstatsmodels\tLinear Regression\tRegressionResults.nobs\n",
    "'''\n",
    "f.sf(but_f,2,lrmd.nobs-2-1)"
   ]
  },
  {
   "cell_type": "code",
   "execution_count": null,
   "metadata": {},
   "outputs": [],
   "source": [
    "'''\n",
    "python\tscipy\tStatistical functions (scipy.stats)\tf() f.isf()\n",
    "'''\n",
    "but_f=f.isf(0.01,2,lrmd.nobs-2-1)\n",
    "print('因为32.88>{:.2f},所以我们拒绝原假设'.format(but_f))"
   ]
  },
  {
   "cell_type": "markdown",
   "metadata": {},
   "source": [
    "前面已经提到，均方误差MSE给出了误差项$\\varepsilon$的方差$\\Sigma^2$的一个无偏估计量  \n",
    "就是在14.5节中所定义的那样，我们把这个标准差称为估计的标准误差，并用s表示 5    "
   ]
  },
  {
   "cell_type": "code",
   "execution_count": null,
   "metadata": {},
   "outputs": [],
   "source": [
    "but_s=np.sqrt(lrmd.mse_resid)\n",
    "print('我们有s={:.3f}'.format(but_s))"
   ]
  },
  {
   "cell_type": "markdown",
   "metadata": {},
   "source": [
    "表15-3是一般的方差分析表（ANOVA）,它给出了多元回归模型F检验的结果  \n",
    "<center>表15-3 具有p个自变量的多元回归模型的方差分析表</center>\n",
    "\n",
    "![tb15-3](../syn_pic/statistics_for_business_economics/tb15-3.png)  \n",
    "## 15.5.2 t检验  \n",
    "如果F检验显示了多元回归关系在总体上是显著的，那么t检验就能帮助我们确定每一个单个参数的显著性问题。对于单个参数的显著性检验，t检验的步骤如下  \n",
    "<hr />\n",
    "\n",
    "**单个参数的显著性的t检验**  \n",
    "对于任一个参数$\\beta_i$ 5  \n",
    "$$H_0:\\beta_i=0$$\n",
    "$$H_a:\\beta_i\\ne0$$\n",
    "检验的统计量（15-15）  \n",
    "$$t=\\frac{b_i}{s_{b_i}}$$\n",
    "拒绝法则  \n",
    "p-值法：如果p-值$\\le\\alpha$，则拒绝$H_0$  \n",
    "临界值法：如果$t\\le-t_{\\alpha/2}$或者$t\\ge-t_{\\alpha/2}$，则拒绝$H_0$  \n",
    "式中，$t_{\\alpha/2}$是自由度为n-p-1时，使t分布的上侧面积为$\\alpha/2$的t值 5  \n",
    "<hr />\n",
    "\n",
    "在检验统计量的公式里，$s_{b_i}$是$b_i$标准差的估计,$s_{b_i}$的值由计算机软件包提供  \n",
    "让我们将t检验用于Butler运输公司的多元回归问题。$b_1,b_2,s_{b_1}和s_{b_2}$的值如下  "
   ]
  },
  {
   "cell_type": "code",
   "execution_count": null,
   "metadata": {},
   "outputs": [],
   "source": [
    "'''\n",
    "python\tstatsmodels\tLinear Regression\tRegressionResults.bse\n",
    "'''\n",
    "but_sb1=lrmd.bse['Miles']\n",
    "but_sb1"
   ]
  },
  {
   "cell_type": "code",
   "execution_count": null,
   "metadata": {},
   "outputs": [],
   "source": [
    "but_sb2=lrmd.bse['Deliveries']\n",
    "but_sb2"
   ]
  },
  {
   "cell_type": "code",
   "execution_count": null,
   "metadata": {},
   "outputs": [],
   "source": [
    "'''\n",
    "5\n",
    "'''\n",
    "but_b1=lrmd.params['Miles']\n",
    "but_b2=lrmd.params['Deliveries']\n",
    "but_b1"
   ]
  },
  {
   "cell_type": "markdown",
   "metadata": {},
   "source": [
    "对于参数$\\beta_1和\\beta_2$的假设检验，我们利用式（15-15）,就能得到检验的统计量  "
   ]
  },
  {
   "cell_type": "code",
   "execution_count": null,
   "metadata": {},
   "outputs": [],
   "source": [
    "but_t1=but_b1/but_sb1\n",
    "but_t2=but_b2/but_sb2"
   ]
  },
  {
   "cell_type": "code",
   "execution_count": null,
   "metadata": {},
   "outputs": [],
   "source": [
    "'''\n",
    "python\tscipy\tStatistical functions (scipy.stats)\tt() t.isf()\n",
    "'''\n",
    "but_t0005=t.isf(0.01/2,lrmd.nobs-2-1)\n",
    "print('由于{:.2f}>{:.3f}，所以我们拒绝beta1=0'.format(but_t1,but_t0005))\n",
    "print('由于{:.2f}>{:.3f}，所以我们拒绝beta1=0'.format(but_t2,but_t0005))"
   ]
  },
  {
   "cell_type": "markdown",
   "metadata": {},
   "source": [
    "对于显著性水平$\\alpha=0.01$，Minitab输出给出的p-值分别如下  "
   ]
  },
  {
   "cell_type": "code",
   "execution_count": null,
   "metadata": {},
   "outputs": [],
   "source": [
    "'''\n",
    "5 \n",
    "python\tstatsmodels\tLinear Regression\tRegressionResults.pvalues\n",
    "'''\n",
    "lrmd.pvalues"
   ]
  },
  {
   "cell_type": "markdown",
   "metadata": {},
   "source": [
    "## 15.5.3 多重共线性  \n",
    "在回归分析中，我们曾经使用自变量这个术语来表示用于预测或者解释应变量值的那些变量。但是这个术语并不意味着，这些自变量本身在某种统计意义上是独立的  \n",
    "相反，在多元回归问题中，大部分自变量在某种程度上是互相关联的  \n",
    "为此我们计算它们的样本相关系数$r_{x_1x_2}$，然后确定这两个变量相关的程度  "
   ]
  },
  {
   "cell_type": "code",
   "execution_count": null,
   "metadata": {},
   "outputs": [],
   "source": [
    "'''\n",
    "python\tpandas\tseries\ts.corr()\n",
    "'''\n",
    "but_corr=but['Miles'].corr(but['Deliveries'])\n",
    "print('样本相关系数计算的结果是r={:.2f}'.format(but_corr))"
   ]
  },
  {
   "cell_type": "markdown",
   "metadata": {},
   "source": [
    "在多元回归分析中，我们把自变量之间的相关性称为**多重共线性** 5  \n",
    "我们不用$x_2$表示运送货物的次数，而用$x_2$表示消耗汽油的加仑数量。因此，从逻辑上我们能认定$x_1$和$x_2$是高度相关的自变量  \n",
    "假定，我们已经建立了估计的回归方程$\\hat{y}=b_0+b_1x_1+b_2x_2$，并且F检验显示了多元回归关系在总体上是显著的  \n",
    "然后，假定我们进行关于$\\beta_1$的t检验来断定$\\beta_1\\ne0$是否成立。如果我们不能拒绝$H_0:\\beta_1=0$，这个结果是否意味着每天运送货物行驶的时间不依赖于行驶里程呢？  \n",
    "不一定。它很可能意味着：由于$x_2$已经在模型里，所以$x_1$对决定y的数值已经不再有显著的贡献了  \n",
    "类似地，通过t检验可能导致我们得出$\\beta_2=0$结论，由于$x_1$已经在模型里，所以我们也不再需要增加更多的有关消耗汽油数量的信息了 5  \n",
    "综上所述，在对单个参数的显著性进行t检验时，由于多重共线性而带来的困难是:当多元回归方程总体显著性的F检验表明有一个显著的关系时，我们可能得出单个参数没有一个是显著地不同于零的结论  \n",
    "只有当自变量之间的相关性非常小的时候，才有可能回避这个问题  \n",
    "为了确定多重共线性是否对模型的估计产生十分严重的后果，统计学家已经提出了一些不同的检验方法  \n",
    "对于任何一个含有两个自变量的多元回归模型，如果它们样本相关系数的绝对值大于0.7，那么依照经验的检验方法，多重共线性有可能成为一个潜在的问题  \n",
    "如果可能的话，我们应尽一切努力避免在模型中包含高度相关的自变量 5  \n",
    "## 注释\n",
    "通常，在对某个问题进行研究时，多重共线性对我们进行的回归分析，或者对计算机输出结果的解释都不会产生影响  \n",
    "但是，当存在严重的多重共线性时，即当两个或两个以上的自变量相互高度相关时如果我们对单个参数进行t检验,并对t检验的结果进行解释时，就可能出现困难  \n",
    "除了本节说明的问题外，严重的多重共线性困难导致最小二乘估计出现错误的符号。\n",
    "也就是说，在模拟研究中，研究者设计了基本的回归模型，接着利用最小二乘法求出参数$\\beta_0,\\beta_1,\\beta_2$等的估计值，但是在高度多重共线性的条件下，最小二乘估计可能与被故参数有一个完全相反的符号 5  \n",
    "# 15.6 应用估计的回归方程进行估计和预测  \n",
    "在多元回归分析中，估计y的平均值和预测y的个别值的步骤，与包含一个自变量的回归分析所进行的那些步骤类似  \n",
    "在两种情形下，我们都利用$\\hat{y}=b_0+b_1x$作为它们的点估计 \n",
    "在多元回归分析中，我们应用同样的步骤，即我们将自变量$x_1,x_2,\\dots,x_p$的给定值代入估计的回归方程里，使用对应的$\\hat{y}$的值作为y的期望值和y的一个个别值的点估计  \n",
    "假定在Butler运输公司的例子里，我们希望利用含有$x_1$(每天运送货物的行驶里程)和$x_2$（运送货物的次数）两个自变量的估计的回归方程去建立两个区间估计：  \n",
    "1. 对于所有的运货汽车，在运送货物行驶100英里和运送货物2次的情形下，这些汽车平均行驶时间的置信区间 5  \n",
    "2. 对于一辆特定的运货汽车，在运送货物行驶100英里和运送货物2次的情形下，这些汽车平均行驶时间的预测区间  "
   ]
  },
  {
   "cell_type": "code",
   "execution_count": null,
   "metadata": {},
   "outputs": [],
   "source": [
    "'''\n",
    "python\tstatsmodels\tLinear Regression\tRegressionResults.predict()\n",
    "'''\n",
    "but_pred_data=pd.DataFrame({'Miles':[50,50,50,100,100,100],'Deliveries':[2,3,4,2,3,4]})\n",
    "lrmd.predict(but_pred_data)"
   ]
  },
  {
   "cell_type": "markdown",
   "metadata": {},
   "source": [
    "因此，在这两种情形下，汽车行驶时间的点估计大约等于7小时  \n",
    "所需公式的推导已经超出了本教科书的范围，但是对于多元回归分析情形，一旦自变量$x_1,x_2,\\dots,x_p$的值被用户设定，计算机软件包往往就能提供这些区间估计  \n",
    "在Butler运输公司的例子中，对于我们所选取的$x_1$和$x_2$的数值，表15-4给出了置信水平为95%的置信区间和预测区间的上下限的数值;这些数值都可以通过使用Minitab得到 5  \n",
    "需要注意的是，y的一个个别值的区间估计要比y的期望值的区间估计有更宽的范围。这一区别只不过反映了这样一个事实:对于给定的$x_1$和$x_2$的数值，我们估计所有运货汽车的平均时间比我们预测一辆特定运货汽车的行驶时间要有更高的精确度  "
   ]
  },
  {
   "cell_type": "code",
   "execution_count": null,
   "metadata": {},
   "outputs": [],
   "source": [
    "'''\n",
    "5\n",
    "python\tstatsmodels\tLinear Regression\tRegressionResults.get_prediction()\n",
    "python\tstatsmodels\tLinear Regression\tPredictionResults()\n",
    "python\tstatsmodels\tLinear Regression\tPredictionResults.summary_frame()\n",
    "'''\n",
    "but_pred=lrmd.get_prediction(but_pred_data)\n",
    "but_pred.summary_frame(0.95)"
   ]
  },
  {
   "cell_type": "markdown",
   "metadata": {},
   "source": [
    "# 15.7 分类自变量\n",
    "至今为止，我们所考虑的例子的自变量但是定量自变量，例如学生人数、运送货物行驶的距离、运送货物的次数等  \n",
    "但是，在许多情形下，我们必须利用**分类自变量**处理问题，例如性别、付款方式、等等  \n",
    "## 15.7.1 约翰逊过滤水股份公司案例\n",
    "约翰逊过滤水股份公司对于遍布南佛罗里达州的过滤水系统提供维修保养服务。为了估计服务时间和服务成本，约翰逊公司的管理人员希望对顾客的每一次维修请求，预测必要的维修时间  \n",
    "由10次维修服务组成一个样本，有关资料数据如表15-5所示  "
   ]
  },
  {
   "cell_type": "code",
   "execution_count": null,
   "metadata": {
    "scrolled": true
   },
   "outputs": [],
   "source": [
    "'''\n",
    "5\n",
    "'''\n",
    "johnson=pd.read_csv('../pydata-book-master/statistics_for_business_economics/ch15/Johnson.csv')\n",
    "johnson.columns=['x1','x2','y']\n",
    "johnson"
   ]
  },
  {
   "cell_type": "markdown",
   "metadata": {},
   "source": [
    "我们用y表示按小时计算的维修时间，$x_1$表示从最近一次维修服务至今的月数，仅仅利用$x_1$进行预测的回归模型是  \n",
    "$$y=\\beta_0+\\beta_1x_1+\\varepsilon$$\n",
    "我们利用Minitab建立了估计的回归方程，得到的输出如图15-7所示。估计的回归方程是（15-16）  "
   ]
  },
  {
   "cell_type": "code",
   "execution_count": null,
   "metadata": {},
   "outputs": [],
   "source": [
    "'''\n",
    "python\tpatsy\tformula\t~\n",
    "5\n",
    "'''\n",
    "js_formula='y ~ x1'\n",
    "js_ols=smf.ols(js_formula,johnson)\n",
    "js_result=js_ols.fit()\n",
    "print('y={:.2f}+{:.3f}x1'.format(js_result.params[0],js_result.params[1]))"
   ]
  },
  {
   "cell_type": "code",
   "execution_count": null,
   "metadata": {
    "scrolled": true
   },
   "outputs": [],
   "source": [
    "js_result.summary()"
   ]
  },
  {
   "cell_type": "markdown",
   "metadata": {},
   "source": [
    "#软件\t标记语言\tLaTeX\t分段函数  \n",
    "在$\\alpha=0.05$的显著性水平下，对于t(或F)检验，p-值为0.016，这就表明维修时间显著地依赖于从最近一次维修服务至今的月数  \n",
    "$R^2=53.4\\%$表明了$x_1$仅仅解释了维修时间变异性的53.4%  \n",
    "为了将故障的维修类型引入回归模型，我们定义下面的变量  \n",
    "$$x_2=\\begin{cases}0&如果维修的故障类型是机械的 \\\\ 1&如果维修的故障类型是电子的\\end{cases}$$\n",
    "5  \n",
    "在回归分析中，$x_2$称为**虚拟变量**或指标变量。利用这个虚拟变量，我们能把多元回归模型写成如下形式  \n",
    "$$y=\\beta_0+\\beta_1x_1+\\beta_2x_2+\\varepsilon$$\n",
    "利用Minitab和表15-5的数据，我们能求出模型参数的估计值。图15-8所示的Minitab输出表名了估计的多元回归方程是  "
   ]
  },
  {
   "cell_type": "code",
   "execution_count": null,
   "metadata": {},
   "outputs": [],
   "source": [
    "'''\n",
    "5\n",
    "python\tpatsy\tformula\tC()\n",
    "'''\n",
    "js_formula2='y ~ x1 + C(x2)'\n",
    "js_ols=smf.ols(js_formula2,johnson)\n",
    "js_result2=js_ols.fit()\n",
    "print('y={:.2f}+{:.3f}x1+{:.2f}x2'.format(js_result2.params[0],js_result2.params[2],js_result2.params[1]))"
   ]
  },
  {
   "cell_type": "code",
   "execution_count": null,
   "metadata": {},
   "outputs": [],
   "source": [
    "js_result2.summary()"
   ]
  },
  {
   "cell_type": "markdown",
   "metadata": {},
   "source": [
    "在$\\alpha=0.05$的显著性水平下，与F检验相联系的p-值为0.001,这就表明回归关系是显著的  \n",
    "在图15-8中，打印输出的t检验部分表明，从最近一次维修服务至今的月数和维修的类型这两个变量在统计上都是显著的  \n",
    "另外$R^2=85.9\\%$和$R_a^2=81.9\\%$表明估计的回归方程很好地解释了维修时间的变异性  \n",
    "于是，对于各种不同类型的维修服务请求，在估计必要的维修时间时，估计的回归方程（15-17）应该是有帮助的 5  \n",
    "## 15.7.2 解释参数  \n",
    "对于约翰逊过滤水公司的例子，多元回归方程是（15-18）  \n",
    "$$E(y)=\\beta_0+\\beta_1x_1+\\beta_2x_2$$\n",
    "当模型中存在一个分类变量时，为了弄清楚如何对参数$\\beta_0,\\beta_1和\\beta_2$做出合理的解释，我们考虑$x_2=0$的情形  \n",
    "在已知故障类型是机械型时，用E(y|机械)表示故障维修时间的平均值或期望值，我们有(15-19)  \n",
    "$$E(y|机械)=\\beta_0+\\beta_1x_1+\\beta_2\\times0=\\beta_0+\\beta_1x_1$$\n",
    "5  \n",
    "类似地，对于电子类型的故障（x_2=1），我们有（15-20）  \n",
    "$$E(y|电子)=\\beta_0+\\beta_1x_1+\\beta_2\\times1=\\beta_0+\\beta_1x_1+\\beta_2$$\n",
    "比较式(15-19)和式(15-20)，我们看到：无论是机械类型的故障还是电子类型的故障，平均维修时间都是$x_1$的线性函数  \n",
    "这两个方程的斜率都是$\\beta_1$，但是y轴截距不同。$\\beta_2$的解释是：它表示电子类型故障的平均维修时间与机械类型故障的平均维修时间之间的差  \n",
    "如果$\\beta_2$是正的，那么电子类型故障的平均维修时间将大于机械类型故障的平均维修时间 5  \n",
    "利用估计的多元回归方程$\\hat{y}=0.93+0.388x_1+1.26x_2$，我们看到：0.93是$\\beta_0$的估计值，1.26是$\\beta_2$的估计值  \n",
    "于是，当$x_2=0$时，有（15-21）  \n",
    "$$\\hat{y}=0.93+0.388x_1$$\n",
    "当$x_1=0$时，有（15-22）  \n",
    "$$\\hat{y}=0.93+0.388x_1+1.26\\times1=2.19+0.388x_1$$\n",
    "实际上，对维修的故障类型引入虚拟变量为我们提供了能用于预测维修时间的两个估计的回归方程，一个方程对应机械类型故障的维修时间，一个方程对应电子类型故障的维修时间  \n",
    "图15-9是根据表15-6的约翰逊过滤水公司的数据画出的散点图。用纵轴表示按小时计算的维修时间(y)，用水平轴表示从最近一次维修服务至今的月数($x_1$) 5  "
   ]
  },
  {
   "cell_type": "code",
   "execution_count": null,
   "metadata": {},
   "outputs": [],
   "source": [
    "johnson.head()"
   ]
  },
  {
   "cell_type": "code",
   "execution_count": null,
   "metadata": {},
   "outputs": [],
   "source": [
    "'''\n",
    "python\tpandas\tseries\ts.apply()\n",
    "'''\n",
    "cl=['red','blue']\n",
    "jcl=johnson['x2'].apply(lambda x:cl[x])"
   ]
  },
  {
   "cell_type": "code",
   "execution_count": null,
   "metadata": {},
   "outputs": [],
   "source": [
    "'''\n",
    "python\tpandas\tdataframe\td.plot.scatter() c\n",
    "5\n",
    "'''\n",
    "johnson.plot.scatter('x1','y',c=jcl,figsize=(7,7))\n",
    "plt.xlim(0,11)\n",
    "plt.xticks(np.arange(0,11,1))\n",
    "plt.ylim(0,6)\n",
    "plt.plot(np.array([0,11]),np.array([2.19,2.19+0.388*11]))\n",
    "plt.plot(np.array([0,11]),np.array([0.93,0.93+0.388*11]))\n",
    "plt.show()"
   ]
  },
  {
   "cell_type": "markdown",
   "metadata": {},
   "source": [
    "## 15.7.3 更复杂的分类变量\n",
    "但是，当一个分类变量超过两个水平时，我们必须在定义虚拟变量和解释虚拟变量两方面谨慎从事  \n",
    "正如我们将要说明的那样，如果一个分类变量有k个水平，那么需要定义k-1个虚拟变量，每一个虚拟变量或者取值为0，或者取值为1  \n",
    "例如，假定复印件制造商组织策划的销售区域是某一个特定州的A,B和C三个地区。管理人员希望，利用回归分析方法帮助他们去预测每周复印机的销售数量  \n",
    "因为，销售地区是一个分类变量，它有A,B,C三个水平，所以我们将需要3-1=2个虚拟变量来表示销售地区。每一个虚拟变量被定义为如下形式  \n",
    "$$x_1=\\begin{cases}1&如果销售地区是B \\\\ 0&其他\\end{cases}$$\n",
    "5  \n",
    "$$x_2=\\begin{cases}1&如果销售地区是C \\\\ 0&其他\\end{cases}$$\n",
    "根据这个定义，我们有$x_1$和$x_2$的值如下 \n",
    "\n",
    "|销售地区|$x_1$|$x_2$|\n",
    "|--|--|--|\n",
    "|A|0|0|\n",
    "|B|1|0|\n",
    "|C|0|1|\n",
    "\n",
    "对应于销售地区A的观测值，虚拟变量被定义为$x_1=0,x_2=0$；对应于销售地区B的观测值，虚拟变量被定义为$x_1=1,x_2=0$；对应于销售地区C的观测值，虚拟变量被定义为$x_1=0,x_2=1$  5   \n",
    "复印机销售数量的期望值E(y)关于虚拟变量的回归方程将被写为  \n",
    "$$E(y)=\\beta_0+\\beta_1x_1+\\beta_2x_2$$\n",
    "我了帮助我们理解参数$\\beta_0,\\beta_1和\\beta_2$的意义，我们考虑回归方程的三种变化  \n",
    "$$E(y|销售地区A)=\\beta_0+\\beta_1\\times0+\\beta_2\\times0=\\beta_0$$\n",
    "$$E(y|销售地区B)=\\beta_0+\\beta_1\\times1+\\beta_2\\times0=\\beta_0+\\beta_1$$\n",
    "$$E(y|销售地区C)=\\beta_0+\\beta_1\\times0+\\beta_2\\times1=\\beta_0+\\beta_2$$\n",
    "5  \n",
    "于是，$\\beta_0$是地区A销售数量的平均值或期望值，$\\beta_1$是地区B销售数量的平均值和地区A销售数量的平均值之间的差，$\\beta_2$是地区C销售数量的平均值和地区A销售数量的平均值之间的差  \n",
    "因为分类变量有三个水平，所以需要2个虚拟变量，但是，指定$x_1=0,x_2=0$表示销售地区A，指定$x_1=1,x_2=0$表示销售地区B，$x_1=0,x_2=1$表示销售地区C却是任意的  \n",
    "重点是要牢记，在多元回归分析中，如果一个分类变量有k个水平，那么需要在多元回归分析中定义k-1个虚拟变量 5  \n",
    "# 15.8 残差分析\n",
    "在第14章中我们曾经指出，在作残差图和识别异常值时，经常要用到标准化残差。对于第i次观测，标准化残差的一般公式如下  \n",
    "<hr />\n",
    "\n",
    "**第i次观测的标准化残差**（15-23）  \n",
    "$$\\frac{y_i-\\hat{y}_i}{s_{y_i-\\hat{y}_i}}$$\n",
    "式中，$s_{y_i-\\hat{y}_i}$代表第i次观测的残差的标准差  \n",
    "<hr />\n",
    "\n",
    "第i次观测的残差的标准差的一般公式定义如下  \n",
    "<hr />\n",
    "\n",
    "**第i次观测的残差的标准差**(15-24) 5  \n",
    "$$s_{y_i-\\hat{y}_i}=s\\sqrt{1-h_i}$$\n",
    "式中，s代表估计的标准误差;$h_i$代表第i次观测的杠杆率  \n",
    "<hr />\n",
    "\n",
    "正如我们在第14章中已经陈述的那样，一次观测的**杠杆率**是通过自变量的观测值与这些观测值的平均值之间的距离有多远确定的  \n",
    "在多元回归情形，对于第i次观测，计算$h_i、s_{y_i-\\hat{y}_i}$和标准化残差，如果用手算是非常复杂的  \n",
    "对于本章前面介绍的Butler运输公司的例子，表15-7列出了预测值、残差和标准化残差 5  "
   ]
  },
  {
   "cell_type": "code",
   "execution_count": null,
   "metadata": {
    "scrolled": true
   },
   "outputs": [],
   "source": [
    "'''\n",
    "python\tstatsmodels\tLinear Regression\tRegressionResults.resid\n",
    "\n",
    "'''\n",
    "lrmd.resid"
   ]
  },
  {
   "cell_type": "code",
   "execution_count": null,
   "metadata": {},
   "outputs": [],
   "source": [
    "'''\n",
    "python\tstatsmodels\tLinear Regression\tRegressionResults.fittedvalues\n",
    "'''\n",
    "lrmd.fittedvalues"
   ]
  },
  {
   "cell_type": "code",
   "execution_count": null,
   "metadata": {
    "scrolled": true
   },
   "outputs": [],
   "source": [
    "'''\n",
    "python\tstatsmodels\tLinear Regression\tOLSResults()\n",
    "python\tstatsmodels\tLinear Regression\tOLSResults.get_influence()\n",
    "python\tstatsmodels\tStatistics stats\tOLSInfluence()\n",
    "python\tstatsmodels\tStatistics stats\tOLSInfluence.summary_table()\n",
    "python\tstatsmodels\tInput-Output iolib\ttable.SimpleTable()\n",
    "'''\n",
    "lrmd_ols=lrmd.get_influence()\n",
    "lrmd_stdcc=lrmd_ols.summary_table()\n",
    "lrmd_stdcc"
   ]
  },
  {
   "cell_type": "markdown",
   "metadata": {},
   "source": [
    "图15-10是Butler运输公司多元回归例子的标准化残差图，在图中所使用的标准化残差和y的预测值$\\hat{y}$，都可以从表15-7中得到  \n",
    "这个标准化残差图并没有表示出任何与众不同的反常情形。同时，所有的标准化残差都介于-2和+2之间。最后，我们的结论是：模型的假定都是合适的 5  "
   ]
  },
  {
   "cell_type": "code",
   "execution_count": null,
   "metadata": {
    "scrolled": true
   },
   "outputs": [],
   "source": [
    "'''\n",
    "python\tstatsmodels\tInput-Output iolib\ttable.SimpleTable.as_csv()\n",
    "python\tpandas\tInput/Output\tread_csv() head\n",
    "python\tpandas\tInput/Output\tread_csv() usecols\n",
    "python\tpandas\tInput/Output\tread_csv() skiprows\n",
    "\n",
    "'''\n",
    "lrmd_string=StringIO(lrmd_stdcc.as_csv())\n",
    "lrmd_std_lv1=pd.read_csv(lrmd_string,header=0,skiprows=[1],usecols=[1,2,4])\n",
    "print(lrmd_std_lv1.dtypes)\n",
    "lrmd_std_lv1.columns=['y','y_hat','stdres']\n",
    "lrmd_std_lv1"
   ]
  },
  {
   "cell_type": "code",
   "execution_count": null,
   "metadata": {
    "scrolled": false
   },
   "outputs": [],
   "source": [
    "'''\n",
    "5\n",
    "'''\n",
    "lrmd_std_lv1.plot.scatter('y','stdres',figsize=(6,6),color='k')\n",
    "plt.ylim(-2.5,2.5)\n",
    "plt.xlim(4,10)\n",
    "plt.plot(np.array([4,10]),np.array([0,0]),linestyle='--',color='k')\n",
    "plt.show()"
   ]
  },
  {
   "cell_type": "markdown",
   "metadata": {},
   "source": [
    "正态概率图也能用来确定误差项$\\varepsilon$的分布是否服从正态分布的假定  \n",
    "## 15.8.1 检测异常值\n",
    "和其他数据相比较，**异常值**时一个与众不同的的观测值;换句话说，异常值与由其他观测值作出的散点图所显示的趋势不相吻合  \n",
    "对于Butler运输公司例子的标准化残差，应用这一规则，我们没有从数据集中检测出任何异常值  \n",
    "一般来说，如果在数据集中存在一个或一个以上的异常值，将导致估计的标准误差s的增加，从而使得第i次观测的残差的标准差$s_{y_i-\\hat{y}_i}$的增加  \n",
    "最后导致的结果时，虽然一个残差可能超乎寻常的大，但由于在式(15-23)中由一个大的分母，从而可能使识别一个观测值为异常值的标准化残差规则失效 5  \n",
    "我们利用一种被称为**学生化删除残差**的标准化残差，就能防止这种情形发生  \n",
    "## 15.8.2 学生化删除残差和异常值 \n",
    "假设从数据集中删除第i次观测值，利用其余的n-1次观测值建立一个新的估计的回归方程。设$s_(i)$表示从数据集中删除了第i次观测值后得到的估计的标准误差  \n",
    "如果我们计算第i次观测值的残差的标准差，用$s_(i)$代替式（15-24）中的s，那么在我们计算第i次观测的标准化残差时，式（15-23）利用了$s_{y_i-\\hat{y}_i}$的修正值，这一得到的标准化残差称为学生化删除残差  \n",
    "如果第i次观测值是一个异常值，那么$s_{(i)}$将小于s。所以，第i次观测的学生化删除残差的绝对值将大于标准化残差的绝对值 5  \n",
    "在这种意义下，学生化删除残差可以检测出标准化不能检测出的异常值  \n",
    "对于Butler运输公司例子，我们利用Minitab可以得到学生化删除残差，结果列在表15-8中  "
   ]
  },
  {
   "cell_type": "code",
   "execution_count": null,
   "metadata": {},
   "outputs": [],
   "source": [
    "'''\n",
    "python\tstatsmodels\tInput-Output iolib\ttable.SimpleTable.as_csv()\n",
    "python\tpandas\tInput/Output\tread_csv() skiprows\n",
    "python\tpandas\tInput/Output\tread_csv() head\n",
    "'''\n",
    "lrmd_string=StringIO(lrmd_stdcc.as_csv())\n",
    "lrmd_std_lv2=pd.read_csv(lrmd_string,header=0,skiprows=[1],usecols=[1,4,7])\n",
    "lrmd_std_lv2.columns=['y','stdres','ext_stdres']\n",
    "lrmd_std_lv2"
   ]
  },
  {
   "cell_type": "markdown",
   "metadata": {},
   "source": [
    "我们能利用t分布来确定，学生化删除残差是否表明存在异常值。回想一下，我们用p表示自变量的个数，用n表示观测值的个数  \n",
    "如果我们从数据集中删除第i次观测值，那么数据集中余下的观测值还有n-1个;在这种情形下，误差平方和的自由度是(n-1)-p-1 5  \n",
    "对于Butler运输公司的例子，n=10,p=2，删除第i次观测值后，自由度是9-2-1=6。在0.05显著性水平下，有6个自由度t分布的双侧分位数  "
   ]
  },
  {
   "cell_type": "code",
   "execution_count": null,
   "metadata": {},
   "outputs": [],
   "source": [
    "'''\n",
    "python\tscipy\tStatistical functions (scipy.stats)\tt() t.isf()\n",
    "python\tpandas\tseries\ts.abs()\n",
    "'''\n",
    "but_t0025=t.isf(0.05/2,6)\n",
    "lrmd_std_lv2['ext_stdres'].abs()>but_t0025"
   ]
  },
  {
   "cell_type": "markdown",
   "metadata": {},
   "source": [
    "因为在表15-8中，学生化删除残差都没有超过这个界限，所以我们断定：在这个数据集里，不存在异常值  \n",
    "## 15.8.3 有影响的观测值\n",
    "正如我们在标准化残差的讨论中指出的那样，一个观测值的数值很容易就能得到  \n",
    "Minitab不但能够计算出杠杆率的数值，而且还能利用经验法则：$h_i>3(p+1)/n$识别出**有影响的观测值** 5  \n",
    "对于Butler运输公司的例子，自变量的个数是p=2，观测值的个数是n=10，杠杆率的临界值是$3\\times(2+1)/10=0.9$  \n",
    "利用Minitab，我们得到的Butler运输公司例子的杠杆率数值如表15-9所示。因为$h_i$都不超过0.9,所以在这个数据集里，我们没有检测出有影响的观测值  "
   ]
  },
  {
   "cell_type": "code",
   "execution_count": null,
   "metadata": {},
   "outputs": [],
   "source": [
    "'''\n",
    "5\n",
    "'''\n",
    "lrmd_string=StringIO(lrmd_stdcc.as_csv())\n",
    "lrmd_std_lv3=pd.read_csv(lrmd_string,header=0,skiprows=[1],usecols=[1,3,5])\n",
    "lrmd_std_lv3.columns=['y','cook','hat_Leverage']\n",
    "lrmd_std_lv3['hat_Leverage']>0.9"
   ]
  },
  {
   "cell_type": "markdown",
   "metadata": {},
   "source": [
    "## 15.8.4 利用库克距离测度识别有影响的观测值  \n",
    "利用杠杆率识别有影响的观测值时可能出现的一个问题是：一个观测值能被识别出来是一个有高杠杆率的观测值，但是根据得到的估计的回归方程，这个观测值未必是一个有影响的观测值  \n",
    "例如，表15-10是一个由8个观测值组成的数据集和它们对应的杠杆率。因为第8个观测值的杠杆率是0.91>0.75（临界值）,所以这个观测值被识别出来是一个有影响的观测值  \n",
    "<center>表15-10 利用杠杆率的临界值说明潜在问题的数据集</center>\n",
    "\n",
    "![tb15-10](../syn_pic/statistics_for_business_economics/tb15-10.png)"
   ]
  },
  {
   "cell_type": "code",
   "execution_count": null,
   "metadata": {},
   "outputs": [],
   "source": [
    "'''\n",
    "python\tpatsy\tformula\t~\n",
    "python\tstatsmodels\tLinear Regression\tOLSResults.get_influence()\n",
    "python\tstatsmodels\tStatistics stats\tOLSInfluence.summary_table()\n",
    "\n",
    "'''\n",
    "cook_data=pd.DataFrame({'xi':[1,1,2,3,4,4,5,15],\n",
    "             'yi':[18,21,22,21,23,24,26,39]})\n",
    "cook_formla='yi ~ xi'\n",
    "mod=smf.ols(cook_formla,cook_data)\n",
    "fitted_mod=mod.fit()\n",
    "inf_mod=fitted_mod.get_influence()\n",
    "inf_mod.summary_table()"
   ]
  },
  {
   "cell_type": "markdown",
   "metadata": {},
   "source": [
    "图15-11给出了与表15-10的数据集相对应的散点图。我们利用Minitab建立了这些数据的估计的回归方程如下 5  "
   ]
  },
  {
   "cell_type": "code",
   "execution_count": null,
   "metadata": {
    "scrolled": true
   },
   "outputs": [],
   "source": [
    "cook_data.plot.scatter('xi','yi',color='k',figsize=(6,6))\n",
    "plt.xlim(0,16)\n",
    "plt.ylim(0,45)\n",
    "plt.plot(np.array([0,16]),np.array([18.2,1.39*16+18.2]),color='k')\n",
    "plt.show()"
   ]
  },
  {
   "cell_type": "code",
   "execution_count": null,
   "metadata": {},
   "outputs": [],
   "source": [
    "print('y={:.1f}+{:.2f}x'.format(fitted_mod.params[0],fitted_mod.params[1]))"
   ]
  },
  {
   "cell_type": "markdown",
   "metadata": {},
   "source": [
    "图15-11中的直线就是这个方程的图示。现在让我们从数据集中奖观测值删除掉，对剩余的7个观测值拟合一个新的估计的回归方程。这个新的估计的回归方程是 5  \n",
    "$$\\hat{y}=18.1+1.42x$$\n",
    "我们注意到，新的估计的回归方程和利用所有数据建立的估计的回归方程，这两个方程的y轴截距和斜率没有显著的区别  \n",
    "尽管杠杆率准则将第8个观测值识别为一个有影响的观测值，但显然这个观测值对我们的估计结果影响很小。于是在某些情形下，仅仅利用杠杆率来识别有影响的观测值，可能导致错误的结论  \n",
    "**库克距离测度**利用第i次观测值的杠杆率$h_i$和第i次观测值的残差$(y_i-\\hat{y}_i)$来确定这个观测值是不是一个有影响的观测值  \n",
    "<hr />\n",
    "\n",
    "**库克距离测度**（15-25） 5  \n",
    "$$D_i=\\frac{(y_i-\\hat{y}_i)^2}{(p+1)s^2}\\left[\\frac{h_i}{(1-h_i)^2}\\right]$$\n",
    "式中，$D_i$代表第i次观测的库克距离测度;$y_i-\\hat{y}_i$代表第i次观测的残差;$h_i$代表第i次观测的杠杆率;p代表自变量的个数;s代表估计的标准误差  \n",
    "<hr />\n",
    "\n",
    "如果一个观测值的残差和杠杆率比较大，那么库克距离测度也将比较大，从而就能表明这个观测值是一个有影响的观测值  \n",
    "作为经验准则，如果$D_i\\gt1$,那么就表明第i次观测值是一个有影响的观测值，并应对这个观测值做进一步考察  \n",
    "## 注释\n",
    "1. 识别异常值和有影响的观测值的步骤预先向我们提出了警告，某些观测值可能对回归结果产生潜在的影响 5  \n",
    "    我们对每一个异常值和有影响的观测值都要进行仔细检查。如果发现是数据的误差，那么应该对数据误差做出修正，并重新进行回归分析  \n",
    "    一般地，我们不应该将异常值和有影响的观测值从数据集中删除掉，除非有明显的证据表明，它们不是我们正在研究的总体元素，这时候我们就不应该再把它们包括再原始数据集中  \n",
    "2. 为了确定库克距离测度$D_i$的值是否足够大，使得我们能得出第i次观测值是一个有影响的观测值的结论，我们还能将$D_i$的值与分子自由度为p+1、分母自由度为n-p-1的F分布的第50个百分位数做比较  \n",
    "    对应于显著性水平$\\alpha=0.5$的F分布表一定能实现这一检验  \n",
    "    我们给出的经验准则（$D_i\\gt1$）就是根据以下事实：对于相当广泛的各种不同情形，F分布表的值非常接近于1 5  \n",
    "\n",
    "# 15.9 logistic回归\n",
    "在许多回归应用中，应变量仅能够被假定为两个离散值。例如，为了预测人们是否愿意使用某种信用卡，一家银行很想建立一个估计的回归方程  \n",
    "如果银行批准使用某种信用卡要求，则应变量被赋值为y=1；如果银行拒绝使用某种信用卡要求，则应变量被赋值为y=0  \n",
    "利用logistic回归，在被选取出来的自变量的一组特定值已知的条件下，我们能估计银行将批准使用某种信用卡要求的概率  \n",
    "现在让我们考虑logistic回归的一个应用，该应用涉及了Simmons商店正在使用的一种直接邮寄广告的促销手段  \n",
    "因为商家目录的成本昂贵，所以Simmons只愿意将商品目录寄送给那些最有可能使用优惠券并购买200美元或200美元以上商品的顾客 5  \n",
    "管理员认为，在预测收到商品目录的顾客是否将使用优惠券并购买200美元或200美元以上商品时，两个可能会有所帮助的变量是在Simmons商店的年消费支出和顾客是否拥有Simmons信用卡  \n",
    "Simmons进行了一项实验性的研究，随机样本由50名拥有Simmons信用卡的顾客和50名没有Simmons信用卡的其他顾客组成  \n",
    "对被随机抽取出来的100名顾客，Simmons把商品目录送给他们中的每一名顾客。在一个实验周期结束时，Simmons记录下顾客是否使用了优惠券  \n",
    "前10名商品目录接受者的样本数据如表15-11所示  "
   ]
  },
  {
   "cell_type": "code",
   "execution_count": null,
   "metadata": {},
   "outputs": [],
   "source": [
    "'''\n",
    "5\n",
    "'''\n",
    "sim_data=pd.read_csv('../pydata-book-master/statistics_for_business_economics/ch15/Simmons.csv')\n",
    "sim_data.head(10)"
   ]
  }
 ],
 "metadata": {
  "kernelspec": {
   "display_name": "Python 3",
   "language": "python",
   "name": "python3"
  },
  "language_info": {
   "codemirror_mode": {
    "name": "ipython",
    "version": 3
   },
   "file_extension": ".py",
   "mimetype": "text/x-python",
   "name": "python",
   "nbconvert_exporter": "python",
   "pygments_lexer": "ipython3",
   "version": "3.7.6"
  },
  "toc": {
   "base_numbering": 1,
   "nav_menu": {},
   "number_sections": false,
   "sideBar": true,
   "skip_h1_title": false,
   "title_cell": "Table of Contents",
   "title_sidebar": "Contents",
   "toc_cell": false,
   "toc_position": {},
   "toc_section_display": true,
   "toc_window_display": false
  }
 },
 "nbformat": 4,
 "nbformat_minor": 4
}
