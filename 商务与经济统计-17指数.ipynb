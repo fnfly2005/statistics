{
 "cells": [
  {
   "cell_type": "code",
   "execution_count": null,
   "metadata": {},
   "outputs": [],
   "source": [
    "import pandas as pd"
   ]
  },
  {
   "cell_type": "markdown",
   "metadata": {},
   "source": [
    "# 实践中的统计\n",
    "## 美国劳工部，劳工统计局\n",
    "它们包括：消费者价格指数（CPI）、生产者价格指数（PPI）以及各类工人的平均工作时间与收入等资料  \n",
    "2009年3月美国劳工统计局的报告显示，2月的消费者价格指数上涨了0.5%  \n",
    "几天前，劳工统计局的报告显示，经过季节调整后的生产者价格指数2月上涨了0.1%,这是在1月上涨了0.8%和上一年12月下降了1.9%后的上涨  \n",
    "本章我们将介绍各种指数的计算，并对它们加以解释  \n",
    "美国政府每个月都发布各类指数，编制这些指数是为了帮助居民了解当前的商业和经济状况 5  \n",
    "首先，我们通过编制一些简单的指数，使我们对如何计算指数有一个更好的理解 5  \n",
    "# 17.1 价比\n",
    "价格指数最简单的形式，就是一个给定商品项目的报告期单价与基期的单价的简单对比  \n",
    "表17-1是1990-2008年每加仑普通汽油的成本资料，为了方便与其他年份的比较，每加仑汽油的现实成本数据可转化为一个价比，即将每一个时期的单价表示为基期单价的一个百分数  \n",
    "<center>表17-1 普通汽油的成本</center>\n",
    "\n",
    "![tb17-1](../syn_pic/statistics_for_business_economics/tb17-1.png)"
   ]
  }
 ],
 "metadata": {
  "kernelspec": {
   "display_name": "Python 3",
   "language": "python",
   "name": "python3"
  },
  "language_info": {
   "codemirror_mode": {
    "name": "ipython",
    "version": 3
   },
   "file_extension": ".py",
   "mimetype": "text/x-python",
   "name": "python",
   "nbconvert_exporter": "python",
   "pygments_lexer": "ipython3",
   "version": "3.7.1"
  },
  "toc": {
   "base_numbering": 1,
   "nav_menu": {},
   "number_sections": false,
   "sideBar": true,
   "skip_h1_title": false,
   "title_cell": "Table of Contents",
   "title_sidebar": "Contents",
   "toc_cell": false,
   "toc_position": {},
   "toc_section_display": true,
   "toc_window_display": false
  }
 },
 "nbformat": 4,
 "nbformat_minor": 4
}
