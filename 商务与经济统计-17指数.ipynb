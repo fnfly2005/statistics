{
 "cells": [
  {
   "cell_type": "code",
   "execution_count": null,
   "metadata": {},
   "outputs": [],
   "source": [
    "import pandas as pd\n",
    "import numpy as np\n",
    "from matplotlib import pyplot as plt"
   ]
  },
  {
   "cell_type": "markdown",
   "metadata": {},
   "source": [
    "# 实践中的统计\n",
    "## 美国劳工部，劳工统计局\n",
    "它们包括：消费者价格指数（CPI）、生产者价格指数（PPI）以及各类工人的平均工作时间与收入等资料  \n",
    "2009年3月美国劳工统计局的报告显示，2月的消费者价格指数上涨了0.5%  \n",
    "几天前，劳工统计局的报告显示，经过季节调整后的生产者价格指数2月上涨了0.1%,这是在1月上涨了0.8%和上一年12月下降了1.9%后的上涨  \n",
    "本章我们将介绍各种指数的计算，并对它们加以解释  \n",
    "美国政府每个月都发布各类指数，编制这些指数是为了帮助居民了解当前的商业和经济状况 5  \n",
    "首先，我们通过编制一些简单的指数，使我们对如何计算指数有一个更好的理解 5  \n",
    "# 17.1 价比\n",
    "价格指数最简单的形式，就是一个给定商品项目的报告期单价与基期的单价的简单对比  \n",
    "表17-1是1990-2008年每加仑普通汽油的成本资料，为了方便与其他年份的比较，每加仑汽油的现实成本数据可转化为一个价比，即将每一个时期的单价表示为基期单价的一个百分数  \n",
    "<center>表17-1 普通汽油的成本</center>\n",
    "\n",
    "![tb17-1](../syn_pic/statistics_for_business_economics/tb17-1.png)\n",
    "(17-1)\n",
    "$$t期的价比=\\frac{t期的价格}{基期的价格}\\times100$$\n",
    "根据表17-1的资料，以1990年为基期，可以计算出从1990~2008年每加仑普通汽油的价比，将它们列在表17-2中 5  "
   ]
  },
  {
   "cell_type": "code",
   "execution_count": null,
   "metadata": {},
   "outputs": [],
   "source": [
    "gasline=pd.DataFrame({'year':list(np.arange(1990,2009,1)),\n",
    "                     'price':[1.3,1.1,1.09,1.07,1.08,1.11,1.22,1.2,1.03,1.14,1.48,1.42,1.34,1.56,1.85,2.27,2.57,2.8,3.25]})\n",
    "gasline.tail()"
   ]
  },
  {
   "cell_type": "code",
   "execution_count": null,
   "metadata": {},
   "outputs": [],
   "source": [
    "gasline['Price_ratio']=gasline['price'].div(1.3).mul(100).round(1)\n",
    "gasline.head()"
   ]
  },
  {
   "cell_type": "markdown",
   "metadata": {},
   "source": [
    "通过了解价比，任何时期的价格就很容易与基期的价格进行比较。例如，1995年的价比为85.4，表明汽油价格1995年比1990年下降14.6%  \n",
    "就像普通汽油等现象意义，价比在了解和解释经济与商业状况随时间的变动方面很有帮助 5  \n",
    "# 17.2 综合物价指数\n",
    "**综合价格指数**就是为了度量一组商品项目的综合变动这一特殊目的而编制的  \n",
    "以普通汽车运行费用的一组分类商品项目为例，我们考虑综合物价指数的编制  \n",
    "表17-3是1990-2008上述四个项目汽车运行费用的资料  \n",
    "<center>表17-3 汽车运行费用指数的数据</center>\n",
    "\n",
    "![tb17-3](../syn_pic/statistics_for_business_economics/tb17-3.png)\n",
    "未加权综合物价指数是报告期单价之和与基期单价之和的对比。令 5  "
   ]
  },
  {
   "cell_type": "code",
   "execution_count": null,
   "metadata": {},
   "outputs": [],
   "source": [
    "car=pd.DataFrame({'年份':[1990,2008],\n",
    "              '汽油':[1.3,3.25],\n",
    "             '润滑油':[2.1,8.],\n",
    "             '轮胎':[130,140],\n",
    "             '保险费用':[820,1030]})\n",
    "car"
   ]
  },
  {
   "cell_type": "markdown",
   "metadata": {},
   "source": [
    "$P_{it}$——t期第i种商品的单价  \n",
    "$P_{i0}$——基期第i种商品的单价  \n",
    "则未加权t期的综合物价指数$I_t$为  \n",
    "$$I_t=\\frac{\\Sigma P_{it}}{\\Sigma P_{i0}}\\times100$$\n",
    "5  \n",
    "式中，$\\Sigma$是对一组商品项目中的所有项目求和  \n",
    "2008年的普通汽车运行费用的未加权综合物价指数为  "
   ]
  },
  {
   "cell_type": "code",
   "execution_count": null,
   "metadata": {},
   "outputs": [],
   "source": [
    "'''\n",
    "5\n",
    "python\tpandas\tdataframe\td.sum() axis\n",
    "'''\n",
    "car_lv1=car.set_index('年份')\n",
    "car_lv1_sum=car_lv1.sum(axis=1)\n",
    "i_2008=car_lv1_sum.values[1]/car_lv1_sum.values[0]*100\n",
    "print('{:.0f}'.format(i_2008))"
   ]
  },
  {
   "cell_type": "markdown",
   "metadata": {},
   "source": [
    "根据未加权综合物价指数，我们看到普通汽车运行费用的价格从1990年到2008年上涨了24%。但值得注意的是，汽车运行费用的未加权综合指数近似于一个复合物价指数，它受单价高的商品项目的影响严重  \n",
    "当商品项目的使用量不同时，加权综合物价指数给出了一个更好的对比方法  \n",
    "**加权综合物价指数**的原理是对一组商品项目中的每一个项目，依据其重要性进行加权。在大多数情况下，商品的使用量是测量其重要性的最好尺度  \n",
    "表17-4以一辆每年大约行驶15000英里的具有代表性的中型汽车为依据，给出了各项汽车运行费用的年使用量信息  "
   ]
  },
  {
   "cell_type": "code",
   "execution_count": null,
   "metadata": {},
   "outputs": [],
   "source": [
    "'''\n",
    "5\n",
    "python\tpandas\tdataframe\td.unstack()\n",
    "python\tpandas\tseries\ts.reset_index()\n",
    "'''\n",
    "car_lv2=car.set_index('年份').unstack().reset_index()\n",
    "car_lv2.columns=['项目','年份','单价']\n",
    "car_lv2"
   ]
  },
  {
   "cell_type": "code",
   "execution_count": null,
   "metadata": {},
   "outputs": [],
   "source": [
    "'''\n",
    "python\tpandas\tseries\ts.unique()\n",
    "'''\n",
    "car_project=car_lv2['项目'].unique()\n",
    "car_project"
   ]
  },
  {
   "cell_type": "code",
   "execution_count": null,
   "metadata": {},
   "outputs": [],
   "source": [
    "weight=pd.DataFrame({'项目':car_project,\n",
    "             '数量权重':[1000,15,2,1]})\n",
    "weight"
   ]
  },
  {
   "cell_type": "code",
   "execution_count": null,
   "metadata": {},
   "outputs": [],
   "source": [
    "car_lv3=car_lv2.merge(weight,on='项目').sort_values('年份')\n",
    "car_lv3"
   ]
  },
  {
   "cell_type": "markdown",
   "metadata": {},
   "source": [
    "令$Q_i$表示第i个商品项目的使用量，则t期的加权综合物价指数公式为（17-3）  \n",
    "$$I_t=\\frac{\\Sigma P_{it}Q_i}{\\Sigma P_{i0}Q_i}\\times100$$\n",
    "5  \n",
    "式中，$\\Sigma$是对一组中所有商品项目求和  \n",
    "令t=2008，根据表17-4中的数量权数，我们可以得出2008年汽车运行费用的加权综合物价指数为  "
   ]
  },
  {
   "cell_type": "code",
   "execution_count": null,
   "metadata": {},
   "outputs": [],
   "source": [
    "'''\n",
    "python\tpandas\tGroupBy\tg.sum()\n",
    "'''\n",
    "car_lv3_sum=car_lv3['单价'].mul(car_lv3['数量权重']).groupby(car_lv3['年份']).sum()\n",
    "i_2008_lv3=car_lv3_sum[2008]*100/car_lv3_sum[1990]\n",
    "print('{:.0f}'.format(i_2008_lv3))"
   ]
  },
  {
   "cell_type": "markdown",
   "metadata": {},
   "source": [
    "从这个加权综合物价指数中，我们可以得到汽车运行费用的价格从1990年到2008年上涨了94%  \n",
    "一般地，以使用量为权数的加权综合指数是比较适合于编制一组商品项目的价格指数 5  \n",
    "固定权数或数量是被指数设计者指定的，其水平被人为是具有代表性的使用量。一旦$Q_i$得到确立，它们在编制指数的各个时期内保持不变  \n",
    "以基期的使用量为权数是固定权数的加权综合指数的一种特殊情形。在这种情形下，$Q_i=Q_{i0}$，其中下标0表示的是基期。因此式(17-3)变为（17-4）  \n",
    "$$I_t=\\frac{\\Sigma{P_{it}Q_{i0}}}{\\Sigma{P_{i0}Q_{i0}}}\\times100$$\n",
    "每当以基期的使用量为固定的数量权数时，称加权综合指数为**拉斯贝尔指数**  \n",
    "另一个确定数量权数的方法是每个时期修正数量权数。每年计算指数时所用的数量为$Q_{it}$。使用这些数量权数在t期的加权综合物价指数为（17-5） 5  \n",
    "$$I_t=\\frac{\\Sigma{P_{it}Q_{it}}}{\\Sigma{P_{i0}Q_{it}}}\\times100$$\n",
    "注意，对基期（0期）和t期使用相同的数量权数。然而，若权数是以t期而不是以基期的使用量为依据，则加权综合指数称为**派许指数**  \n",
    "以报告期的使用量为权数是其优点，但这种计算综合指数的方法也有两个缺点：一是通常使用量$Q_{it}$必须每年重新缺点，一次，增加了搜集资料的时间和成本;二是每年必须重新计算前一年的指数，以反映新的数量权数的效果  \n",
    "正是由于这些缺点，拉斯贝尔指数的应用更为广泛 5  \n",
    "# 17.3 根据价比计算综合物价指数\n",
    "现在，我们希望说明，如何像17.2节编制物价指数那样，根据一组商品项目价比的信息，直接计算综合物价指数  \n",
    "我们仍以上一节的汽车运行费用指数为例，所需的四种费用的资料列在表17-5中 "
   ]
  },
  {
   "cell_type": "code",
   "execution_count": null,
   "metadata": {},
   "outputs": [],
   "source": [
    "'''\n",
    "python\tpandas\tdataframe\td.T\n",
    "python\tpandas\tdataframe\td.join()\n",
    "'''\n",
    "\n",
    "car_lv4=car.set_index('年份').T\n",
    "car_lv4['价比']=car_lv4[2008].mul(100).div(car_lv4[1990]).round(1)\n",
    "car_lv5=car_lv4.join(weight.set_index('项目'))\n",
    "car_lv5"
   ]
  },
  {
   "cell_type": "markdown",
   "metadata": {},
   "source": [
    "令$w_i$是适用于第i个商品项目价比的权数，则价比加权平均指数的一般形式为：（17-6） 5   \n",
    "$$I_t=\\frac{\\Sigma\\frac{P_{it}}{P_{i0}w_i}}{\\Sigma{w_i}}\\times100$$\n",
    "适当选择式（17-6）中的权数，将使我们能根据价比计算加权综合物价指数。适当选择使用了和基期价格的乘积为权数，即（17-7）  \n",
    "$$w_i=P_{i0}Q_i$$\n",
    "将式（17-7）的权数$w_i$代入式（17-6）中，则加权价比指数可表示为（17-8）  \n",
    "$$I_t=\\frac{\\Sigma\\frac{P_{it}}{P_{i0}P_{i0}Q_i}}{\\Sigma{P_{i0}Q_i}}\\times100$$\n",
    "5  \n",
    "对上式进行化简，可得加权价比指数的一个等价的表达式为  \n",
    "$$I_t=\\frac{\\Sigma{P_{it}Q_i}}{\\Sigma{P_{i0}Q_i}}\\times100$$\n",
    "于是，我们看到：以$w_i=P_{i0}Q_i$为权数的加权价比指数，与17.2节介绍的式（17-3）完全相同的加权综合物价指数  \n",
    "在式（17-7）中使用基期数量（即$Q_i=Q_{i0}$），可以导出拉斯贝尔指数;在式（17-7）中使用报告期数量（即$Q_i=Q_{it}$），可以导出派许指数  \n",
    "利用表17-5中的价比和式（17-6），我们能计算出价比加权平均指数。利用式（17-7）的权数$w_i=P_{i0}Q_i$，得到的计算结果列在表17-6中 5    "
   ]
  },
  {
   "cell_type": "code",
   "execution_count": null,
   "metadata": {},
   "outputs": [],
   "source": [
    "'''\n",
    "5  \n",
    "python\tpandas\tdataframe\td.drop() axis\n",
    "'''\n",
    "car_lv6=car_lv5.drop(2008,axis=1)\n",
    "car_lv6['权数wi']=car_lv6[1990].mul(car_lv6['数量权重'])\n",
    "car_lv6['加权价比']=car_lv6['权数wi'].mul(car_lv6['价比'])\n",
    "car_lv6"
   ]
  },
  {
   "cell_type": "markdown",
   "metadata": {},
   "source": [
    "# 17.4 一些重要的价格指数\n",
    "特别地，我们将考虑消费者价格指数、生产者价格指数和道琼斯平均指数  \n",
    "## 17.4.1 消费者价格指数  \n",
    "**消费者价格指数**,由美国劳工统计局每个月定期公布，是美国生活费用水平的基本度量  \n",
    "消费者价格指数是固定权数的加权综合物价指数。通过对全美城市家庭的定期调查，获得购物篮中每个商品项目的权数  \n",
    "图17-1是1960-2005年45年的消费者价格指数的时间数列，从该图形上可以看出，消费者价格指数反映出20世纪70年代后期到80年代初期是通货膨胀剧烈的时期  \n",
    "![17-1](../syn_pic/statistics_for_business_economics/17-1.png)\n",
    "<center>图17-1 1960-2005年的消费者价格指数（基期1982-1984=100） 5</center>\n",
    "\n",
    "## 17.4.2 生产者价格指数\n",
    "**生产者价格指数**，也是由美国劳工统计局每个月定期公布，它用于度量美国初级市场每个月价格的变动  \n",
    "生产者价格知乎的增长将导致生产者价格的上涨，而这种上涨通过较高的零售价格，最终传递给消费者  \n",
    "生产者价格指数中各个商品项目权数的依据是货物的价值，是根据拉斯贝尔方法计算的加权平均价格指数 5  \n",
    "## 17.4.3 道琼斯平均指数\n",
    "**道琼斯平均指数**是用来反映普通股票价格趋势和波动变化的指数。最著名的道琼斯指数是道琼斯工业平均指数，它是根据30家大公司的普通股票价格计算出来的  \n",
    "它是这些股票价格的总和与一个数相除得到的，这个数因为该指数的公司拆股和股票转换而需要不断地调整修订  \n",
    "道琼斯平均指数还有20种交通运输股票指数和15种公用事业股票指数  \n",
    "![tb17-7](../syn_pic/statistics_for_business_economics/17-7.png)\n",
    "5  \n",
    "# 17.5 根据物价指数缩减一个数列\n",
    "许多随时间变动的商业和经济数列，例如公司销售额、工业销售额和库存等，它们都是以美元计量的。随着时间的推移，这些数列经常呈现出不断增长的模式，这种增长通常解释为与这些活动相关的实物量的增长  \n",
    "如果一个时间数列以美元计量，这样的解释可能会引起误导，因为总金额的变动包含价格和数量两种变动  \n",
    "每当我们对一个时间数列进行调整，以消除价格上涨的影响时，我们说：我们正在缩减时间数列  \n",
    "例如，图17-2是2004~2008年生产工人的小时工资曲线，从图上看到工资有明显的上涨趋势，从每小时15.69美元增加到每小时18.07美元。对小时工资这样的上涨生产工人是否满意？应该根据他们工资的购买力是否增长来回答这个问题  "
   ]
  },
  {
   "cell_type": "code",
   "execution_count": null,
   "metadata": {},
   "outputs": [],
   "source": [
    "'''\n",
    "5\n",
    "python\tpandas\tdataframe\td.plot()\n",
    "python\tmatplotlib\tPyplot function overview\tplt.scatter()\n",
    "python\tmatplotlib\tPyplot function overview\txlim()\n",
    "'''\n",
    "work=pd.DataFrame({'year':range(2004,2009,1),\n",
    "             'salary':[15.69,16.12,16.76,17.45,18.07],\n",
    "                  'CPI':[188.9,195.3,201.6,207.3,215.3]})\n",
    "work.plot('year','salary')\n",
    "plt.scatter(work['year'],work['salary'])\n",
    "plt.xlim(2004,2008)\n",
    "plt.ylim(15.5,18.9)\n",
    "plt.xticks(range(2004,2009,1))\n",
    "plt.title('17-2  salary of worker in per hour')\n",
    "plt.show()"
   ]
  },
  {
   "cell_type": "markdown",
   "metadata": {},
   "source": [
    "表17-8列出了2004-2008年的小时工资率与消费者价格指数 5  "
   ]
  },
  {
   "cell_type": "code",
   "execution_count": null,
   "metadata": {},
   "outputs": [],
   "source": [
    "work_lv1=work.set_index('year')\n",
    "work_lv1"
   ]
  },
  {
   "cell_type": "markdown",
   "metadata": {},
   "source": [
    "每年的小时工资率除以当年相应的消费者价格指数的数值，再乘以100，得到了缩减的数列。表17-9给出了生产工人缩减后的小时工资指数，图17-3现实了检索的或实际的工资曲线    "
   ]
  },
  {
   "cell_type": "code",
   "execution_count": null,
   "metadata": {},
   "outputs": [],
   "source": [
    "'''\n",
    "5\n",
    "'''\n",
    "work_lv1['act_salary']=work_lv1['salary'].div(work_lv1['CPI']).mul(100)\n",
    "work_lv1.plot(y='act_salary')\n",
    "plt.scatter(x=work_lv1.index,y=work_lv1['act_salary'])\n",
    "plt.xticks(np.arange(2004,2009,1))\n",
    "plt.xlim(2004,2008)\n",
    "plt.ylim(7.75,8.5)\n",
    "plt.show()"
   ]
  },
  {
   "cell_type": "markdown",
   "metadata": {},
   "source": [
    "图17-3 生产工人实际的小时工资  "
   ]
  },
  {
   "cell_type": "code",
   "execution_count": null,
   "metadata": {},
   "outputs": [],
   "source": [
    "work_lv1['act_salary'].round(2)"
   ]
  },
  {
   "cell_type": "markdown",
   "metadata": {},
   "source": [
    "一个随着时间推移的数列进行缩减的方法，在计算国内生产总值上有重要应用。显然，如果不用一个价格指数缩减国内生产总值，随着时间的推移，国内生产总值将会随着价格的上涨而增长 5  \n",
    "# 17.6 物价指数：其他注意事项\n",
    "但是为了加深我们对编制物价指数及其用途的了解，还必须考虑一些其他问题  \n",
    "## 17.6.1 商品项目的选择\n",
    "由于同类的商品项目很多，所以不能以这一类中的所有商品项目为依据来编制指数。因此，必须选用一个具有代表性的商品项目的样本  \n",
    "它是通过对用户购买模式的调查，以及良好的判断力来选择进入样本的400种商品项目，但不能用简单的随机抽样来选择  \n",
    "在最初的商品项目选定之后，每当购买模式发生改变时，还必须定期对指数中的商品项目组进行再审查与修订 5  \n",
    "## 17.6.2 基期的选择\n",
    "许多指数都是以某个特定时间为基期，以基期值为100来编制的。然而，对一个指数来说，什么样的基期才是合适的呢？这是一个难以回答的问题，需要根据指数编制者的判断来回答  \n",
    "作为一个普遍的准则，基期不应与报告期离得太远。对大多数人来说，以1945年为基期计算的消费者价格指数是难以理解的，因为人们不熟悉1945年的生活情况 5  \n",
    "## 17.6.3 品质的改变\n",
    "物价指数的目的是测量价格随时间的推移而发生的变动。理想的做法是搜集相同的商品项目在几个不同时期上的价格资料，然后计算指数  \n",
    "一个基本假设是在每一个时期，相同商品项目的价格是确定的。当一种产品因时间推移而发生品质的改变时，就可能出现问题  \n",
    "品质的重大改变也能引起产品价格的上涨。因此在计算指数时，应该删除因品质改变而导致价格上涨的部分  \n",
    "虽然，在编制物价指数时，通常的做法是忽视微小的品质改变，但是重大的品质改变必须考虑，因为随着时间的积累它们可以改变产品的性能  \n",
    "但是，在某些情况下，伴随着品质的重大改变是价格的下降，这个极为典型的情形体现在20世纪90年代和21世纪初的个人电脑案例上 5  \n",
    "# 17.7 物量指数\n",
    "特别地，指数的另一个应用是测定物量随时间的推移而发生的变动。这种类型的指数称为**物量指数**  \n",
    "回顾17.2节中所讨论的加权综合物价指数，为了计算t期的指数，我们需要基期的单价($P_0$)和t期的单价($P_t$)。式（17-3）给出的加权综合物价指数是  \n",
    "$$I_t=\\frac{\\Sigma P_{it}Q_i}{\\Sigma P_{i0}Q_i}\\times100$$\n",
    "分子$\\Sigma P_{it}Q_i$表示t期各个指数项目固定数量的总价值，分母$\\Sigma P_{i0}Q_i$表示基期各个指数项目相同数量的总价值  \n",
    "对每一种商品项目在基期和t期的数量进行测量，分别用$Q_{i0}$和$Q_{it}$表示第i种商品项目在基期和t期的数量。然后，对数量用一个固定的价格、增加值或其他的因素进行加权 5  \n",
    "产品的“增加值”是销售额减去投入的购买成本，则t期的加权综合物量指数的计算公式为（17-9）  \n",
    "$$I_t=\\frac{\\Sigma Q_{it}w_i}{\\Sigma Q_{i0}w_i}\\times100$$\n",
    "在有些物量指数中，使用第i项商品项目基期的价格($P_{i0}$)为权数，在这种情形下，加权综合物量指数为（17-10）  \n",
    "$$I_t=\\frac{\\Sigma Q_{it}P_{i0}}{\\Sigma Q_{i0}P_{i0}}\\times100$$\n",
    "物量指数也可以用物量比的加权形式来计算，这种形式的物量指数公式为（17-11） 5  \n",
    "$$I_t=\\frac{\\Sigma\\frac{Q_{it}}{Q_{i0}}Q_{i0}P_i}{\\Sigma Q_{i0}P_i}\\times100$$\n",
    "这个公式是17.3节中的加权价比指数公式（17-8）的数量表现形式  \n",
    "由美国联邦储备局编制的**工业生产指数**可能是最著名的物量指数，它以2002年为基期，且每个月发布一次 5  \n",
    "# 小结\n",
    "在商业和经济环境中，物价指数和物量指数是价格和数量变动的重要测度  \n",
    "价比是某一商品项目报告期与基期单价之比再乘以100。编制综合物价指数是对一组给定的商品项目或产品的全部价格变动进行综合度量  \n",
    "加权综合物价指数也可以利用指数种商品项目的使用了，对价比进行加权的方法来计算  \n",
    "消费者价格指数和生产者价格指数是两个应用广泛的指数，它们分别以1982-1984年和1982年为基期  \n",
    "道琼斯工业指数是另一个应用管饭的物价指数，它是纽约证券交易所上市的30家大公司的普通股票价格的加权和 5  \n",
    "物价指数经常用于缩减一些随时间推移而变动的经济数列。选择指数种所包含的商品项目、选择指数的基期，以及因品质改变而进行的调整，是编制指数时重要的其他注意事项  \n",
    "物量指数的讨论较为简单扼要，工业生产指数是作为一个重要的物量指数而被提及 5  \n",
    "# 关键术语\n"
   ]
  }
 ],
 "metadata": {
  "kernelspec": {
   "display_name": "Python 3",
   "language": "python",
   "name": "python3"
  },
  "language_info": {
   "codemirror_mode": {
    "name": "ipython",
    "version": 3
   },
   "file_extension": ".py",
   "mimetype": "text/x-python",
   "name": "python",
   "nbconvert_exporter": "python",
   "pygments_lexer": "ipython3",
   "version": "3.7.6"
  },
  "toc": {
   "base_numbering": 1,
   "nav_menu": {},
   "number_sections": false,
   "sideBar": true,
   "skip_h1_title": false,
   "title_cell": "Table of Contents",
   "title_sidebar": "Contents",
   "toc_cell": false,
   "toc_position": {},
   "toc_section_display": true,
   "toc_window_display": false
  }
 },
 "nbformat": 4,
 "nbformat_minor": 4
}
