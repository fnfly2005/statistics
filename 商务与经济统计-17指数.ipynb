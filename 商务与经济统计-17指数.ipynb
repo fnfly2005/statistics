{
 "cells": [
  {
   "cell_type": "code",
   "execution_count": null,
   "metadata": {},
   "outputs": [],
   "source": [
    "import pandas as pd\n",
    "import numpy as np"
   ]
  },
  {
   "cell_type": "markdown",
   "metadata": {},
   "source": [
    "# 实践中的统计\n",
    "## 美国劳工部，劳工统计局\n",
    "它们包括：消费者价格指数（CPI）、生产者价格指数（PPI）以及各类工人的平均工作时间与收入等资料  \n",
    "2009年3月美国劳工统计局的报告显示，2月的消费者价格指数上涨了0.5%  \n",
    "几天前，劳工统计局的报告显示，经过季节调整后的生产者价格指数2月上涨了0.1%,这是在1月上涨了0.8%和上一年12月下降了1.9%后的上涨  \n",
    "本章我们将介绍各种指数的计算，并对它们加以解释  \n",
    "美国政府每个月都发布各类指数，编制这些指数是为了帮助居民了解当前的商业和经济状况 5  \n",
    "首先，我们通过编制一些简单的指数，使我们对如何计算指数有一个更好的理解 5  \n",
    "# 17.1 价比\n",
    "价格指数最简单的形式，就是一个给定商品项目的报告期单价与基期的单价的简单对比  \n",
    "表17-1是1990-2008年每加仑普通汽油的成本资料，为了方便与其他年份的比较，每加仑汽油的现实成本数据可转化为一个价比，即将每一个时期的单价表示为基期单价的一个百分数  \n",
    "<center>表17-1 普通汽油的成本</center>\n",
    "\n",
    "![tb17-1](../syn_pic/statistics_for_business_economics/tb17-1.png)\n",
    "(17-1)\n",
    "$$t期的价比=\\frac{t期的价格}{基期的价格}\\times100$$\n",
    "根据表17-1的资料，以1990年为基期，可以计算出从1990~2008年每加仑普通汽油的价比，将它们列在表17-2中 5  "
   ]
  },
  {
   "cell_type": "code",
   "execution_count": null,
   "metadata": {},
   "outputs": [],
   "source": [
    "gasline=pd.DataFrame({'year':list(np.arange(1990,2009,1)),\n",
    "                     'price':[1.3,1.1,1.09,1.07,1.08,1.11,1.22,1.2,1.03,1.14,1.48,1.42,1.34,1.56,1.85,2.27,2.57,2.8,3.25]})\n",
    "gasline.tail()"
   ]
  },
  {
   "cell_type": "code",
   "execution_count": null,
   "metadata": {},
   "outputs": [],
   "source": [
    "gasline['Price_ratio']=gasline['price'].div(1.3).mul(100).round(1)\n",
    "gasline.head()"
   ]
  },
  {
   "cell_type": "markdown",
   "metadata": {},
   "source": [
    "通过了解价比，任何时期的价格就很容易与基期的价格进行比较。例如，1995年的价比为85.4，表明汽油价格1995年比1990年下降14.6%  \n",
    "就像普通汽油等现象意义，价比在了解和解释经济与商业状况随时间的变动方面很有帮助 5  \n",
    "# 17.2 综合物价指数\n"
   ]
  }
 ],
 "metadata": {
  "kernelspec": {
   "display_name": "Python 3",
   "language": "python",
   "name": "python3"
  },
  "language_info": {
   "codemirror_mode": {
    "name": "ipython",
    "version": 3
   },
   "file_extension": ".py",
   "mimetype": "text/x-python",
   "name": "python",
   "nbconvert_exporter": "python",
   "pygments_lexer": "ipython3",
   "version": "3.7.6"
  },
  "toc": {
   "base_numbering": 1,
   "nav_menu": {},
   "number_sections": false,
   "sideBar": true,
   "skip_h1_title": false,
   "title_cell": "Table of Contents",
   "title_sidebar": "Contents",
   "toc_cell": false,
   "toc_position": {},
   "toc_section_display": true,
   "toc_window_display": false
  }
 },
 "nbformat": 4,
 "nbformat_minor": 4
}
